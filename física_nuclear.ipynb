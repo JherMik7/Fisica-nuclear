{
 "cells": [
  {
   "cell_type": "code",
   "execution_count": 1,
   "metadata": {},
   "outputs": [],
   "source": [
    "import pandas as pd\n",
    "import plotly.graph_objects as go"
   ]
  },
  {
   "cell_type": "markdown",
   "metadata": {},
   "source": [
    "Cálculo de la Energía de ligadura $\\Delta W$"
   ]
  },
  {
   "cell_type": "code",
   "execution_count": 1,
   "metadata": {},
   "outputs": [],
   "source": [
    "def Energia_ligadura(A, Z, Masa_atomica): # en MeV\n",
    "    # definimos las constantes\n",
    "    masa_proton = 1.007825 # masa de un protón  en uma\n",
    "    masa_neutron = 1.008665 # masa de un netrón en uma\n",
    "    # Fórmula de la energía de ligadura\n",
    "    energia = (Z*masa_proton + (A-Z)*masa_neutron - Masa_atomica)*931.5 # energía de ligadura en uma\n",
    "    # redondeamos el resultado a 6 decimales\n",
    "    energia_redondeada = round(energia, 6)\n",
    "    # retornamos el resultado\n",
    "    return energia_redondeada\n"
   ]
  },
  {
   "cell_type": "code",
   "execution_count": 17,
   "metadata": {},
   "outputs": [
    {
     "data": {
      "text/plain": [
       "255.242178"
      ]
     },
     "execution_count": 17,
     "metadata": {},
     "output_type": "execute_result"
    }
   ],
   "source": [
    "oxigeno16 = Energia_ligadura(16, 8, 15.994914)\n",
    "2*oxigeno16"
   ]
  },
  {
   "cell_type": "code",
   "execution_count": 18,
   "metadata": {},
   "outputs": [
    {
     "data": {
      "text/plain": [
       "271.782824"
      ]
     },
     "execution_count": 18,
     "metadata": {},
     "output_type": "execute_result"
    }
   ],
   "source": [
    "azufre32 = Energia_ligadura(32, 16, 31.972071)\n",
    "azufre32"
   ]
  },
  {
   "cell_type": "code",
   "execution_count": 19,
   "metadata": {},
   "outputs": [
    {
     "data": {
      "text/plain": [
       "16.54064600000001"
      ]
     },
     "execution_count": 19,
     "metadata": {},
     "output_type": "execute_result"
    }
   ],
   "source": [
    "azufre32-2*oxigeno16"
   ]
  },
  {
   "cell_type": "code",
   "execution_count": 13,
   "metadata": {},
   "outputs": [
    {
     "data": {
      "text/plain": [
       "226.361952"
      ]
     },
     "execution_count": 13,
     "metadata": {},
     "output_type": "execute_result"
    }
   ],
   "source": [
    "helio4 = Energia_ligadura(4,2, 4.002604)\n",
    "8*helio4"
   ]
  },
  {
   "cell_type": "code",
   "execution_count": 15,
   "metadata": {},
   "outputs": [
    {
     "data": {
      "text/plain": [
       "271.782824"
      ]
     },
     "execution_count": 15,
     "metadata": {},
     "output_type": "execute_result"
    }
   ],
   "source": [
    "azufre32 = Energia_ligadura(32,16,31.972071)\n",
    "azufre32"
   ]
  },
  {
   "cell_type": "code",
   "execution_count": 16,
   "metadata": {},
   "outputs": [
    {
     "data": {
      "text/plain": [
       "45.420872"
      ]
     },
     "execution_count": 16,
     "metadata": {},
     "output_type": "execute_result"
    }
   ],
   "source": [
    "azufre32-8*helio4"
   ]
  },
  {
   "cell_type": "code",
   "execution_count": 21,
   "metadata": {},
   "outputs": [
    {
     "data": {
      "text/plain": [
       "1805.980091"
      ]
     },
     "execution_count": 21,
     "metadata": {},
     "output_type": "execute_result"
    }
   ],
   "source": [
    "Th = Energia_ligadura(234, 90, 234.043599)\n",
    "Th+helio4"
   ]
  },
  {
   "cell_type": "code",
   "execution_count": 22,
   "metadata": {},
   "outputs": [
    {
     "data": {
      "text/plain": [
       "1801.711026"
      ]
     },
     "execution_count": 22,
     "metadata": {},
     "output_type": "execute_result"
    }
   ],
   "source": [
    "uranio = Energia_ligadura(238,92,238.050786)\n",
    "uranio"
   ]
  },
  {
   "cell_type": "code",
   "execution_count": 23,
   "metadata": {},
   "outputs": [
    {
     "data": {
      "text/plain": [
       "-4.269064999999955"
      ]
     },
     "execution_count": 23,
     "metadata": {},
     "output_type": "execute_result"
    }
   ],
   "source": [
    "uranio-(Th+helio4)"
   ]
  },
  {
   "cell_type": "code",
   "execution_count": 2,
   "metadata": {},
   "outputs": [
    {
     "data": {
      "text/plain": [
       "105.286514"
      ]
     },
     "execution_count": 2,
     "metadata": {},
     "output_type": "execute_result"
    }
   ],
   "source": [
    "carbono = Energia_ligadura(14,6,14.003241)\n",
    "carbono"
   ]
  },
  {
   "cell_type": "code",
   "execution_count": 3,
   "metadata": {},
   "outputs": [
    {
     "data": {
      "text/plain": [
       "98.733411"
      ]
     },
     "execution_count": 3,
     "metadata": {},
     "output_type": "execute_result"
    }
   ],
   "source": [
    "oxigeno = Energia_ligadura(14, 8, 14.008596)\n",
    "oxigeno"
   ]
  },
  {
   "cell_type": "code",
   "execution_count": 27,
   "metadata": {},
   "outputs": [
    {
     "data": {
      "text/plain": [
       "6.553102500001771"
      ]
     },
     "execution_count": 27,
     "metadata": {},
     "output_type": "execute_result"
    }
   ],
   "source": [
    "resta = carbono-oxigeno\n",
    "resta"
   ]
  },
  {
   "cell_type": "code",
   "execution_count": 29,
   "metadata": {},
   "outputs": [
    {
     "data": {
      "text/plain": [
       "115.493890499998"
      ]
     },
     "execution_count": 29,
     "metadata": {},
     "output_type": "execute_result"
    }
   ],
   "source": [
    "nitrogeno15 = Energia_ligadura(15, 7, 15.000108 )\n",
    "nitrogeno15"
   ]
  },
  {
   "cell_type": "code",
   "execution_count": 30,
   "metadata": {},
   "outputs": [
    {
     "data": {
      "text/plain": [
       "111.95698500000084"
      ]
     },
     "execution_count": 30,
     "metadata": {},
     "output_type": "execute_result"
    }
   ],
   "source": [
    "oxigeno15 = Energia_ligadura(15,8, 15.003065)\n",
    "oxigeno15"
   ]
  },
  {
   "cell_type": "code",
   "execution_count": 32,
   "metadata": {},
   "outputs": [
    {
     "data": {
      "text/plain": [
       "3.536905499997161"
      ]
     },
     "execution_count": 32,
     "metadata": {},
     "output_type": "execute_result"
    }
   ],
   "source": [
    "resta2= nitrogeno15-oxigeno15\n",
    "resta2"
   ]
  },
  {
   "cell_type": "code",
   "execution_count": 33,
   "metadata": {},
   "outputs": [
    {
     "data": {
      "text/plain": [
       "193.5256454999975"
      ]
     },
     "execution_count": 33,
     "metadata": {},
     "output_type": "execute_result"
    }
   ],
   "source": [
    "sodio = Energia_ligadura(24, 11, 23.990963)\n",
    "sodio"
   ]
  },
  {
   "cell_type": "code",
   "execution_count": 34,
   "metadata": {},
   "outputs": [
    {
     "data": {
      "text/plain": [
       "183.59212950000224"
      ]
     },
     "execution_count": 34,
     "metadata": {},
     "output_type": "execute_result"
    }
   ],
   "source": [
    "aluminio = Energia_ligadura(24,13, 23.999947)\n",
    "aluminio"
   ]
  },
  {
   "cell_type": "code",
   "execution_count": 35,
   "metadata": {},
   "outputs": [
    {
     "data": {
      "text/plain": [
       "9.933515999995251"
      ]
     },
     "execution_count": 35,
     "metadata": {},
     "output_type": "execute_result"
    }
   ],
   "source": [
    "resta3= sodio-aluminio\n",
    "resta3"
   ]
  },
  {
   "cell_type": "markdown",
   "metadata": {},
   "source": [
    "aparte, no está demostrado que sean estables"
   ]
  },
  {
   "cell_type": "code",
   "execution_count": 36,
   "metadata": {},
   "outputs": [
    {
     "data": {
      "text/plain": [
       "111.42603000000109"
      ]
     },
     "execution_count": 36,
     "metadata": {},
     "output_type": "execute_result"
    }
   ],
   "source": [
    "fluor = Energia_ligadura(16,9, 16.011460)\n",
    "fluor"
   ]
  },
  {
   "cell_type": "code",
   "execution_count": 37,
   "metadata": {},
   "outputs": [
    {
     "data": {
      "text/plain": [
       "117.98285849999677"
      ]
     },
     "execution_count": 37,
     "metadata": {},
     "output_type": "execute_result"
    }
   ],
   "source": [
    "nitrogeno = Energia_ligadura(16, 7, 16.006101)\n",
    "nitrogeno"
   ]
  },
  {
   "cell_type": "code",
   "execution_count": 39,
   "metadata": {},
   "outputs": [
    {
     "data": {
      "text/plain": [
       "6.5568284999956745"
      ]
     },
     "execution_count": 39,
     "metadata": {},
     "output_type": "execute_result"
    }
   ],
   "source": [
    "resta_fluornitrogeno= nitrogeno-fluor\n",
    "resta_fluornitrogeno"
   ]
  },
  {
   "cell_type": "code",
   "execution_count": 42,
   "metadata": {},
   "outputs": [
    {
     "data": {
      "text/plain": [
       "219.3598664999997"
      ]
     },
     "execution_count": 42,
     "metadata": {},
     "output_type": "execute_result"
    }
   ],
   "source": [
    "silicio = Energia_ligadura(27,14, 26.986704)\n",
    "silicio "
   ]
  },
  {
   "cell_type": "code",
   "execution_count": 44,
   "metadata": {},
   "outputs": [
    {
     "data": {
      "text/plain": [
       "224.95445549999903"
      ]
     },
     "execution_count": 44,
     "metadata": {},
     "output_type": "execute_result"
    }
   ],
   "source": [
    "aluminio=Energia_ligadura(27, 13, 26.981538)\n",
    "aluminio"
   ]
  },
  {
   "cell_type": "code",
   "execution_count": 45,
   "metadata": {},
   "outputs": [
    {
     "data": {
      "text/plain": [
       "5.594588999999331"
      ]
     },
     "execution_count": 45,
     "metadata": {},
     "output_type": "execute_result"
    }
   ],
   "source": [
    "resta_silicio_alumio = aluminio-silicio\n",
    "resta_silicio_alumio"
   ]
  },
  {
   "cell_type": "markdown",
   "metadata": {},
   "source": [
    "Para graficar la energía de ligadura  $\\varepsilon$ por nucleón-Superificie de energía, primero importamos los datos:"
   ]
  },
  {
   "cell_type": "code",
   "execution_count": 3,
   "metadata": {},
   "outputs": [],
   "source": [
    "import matplotlib.pyplot as plt\n",
    "from mpl_toolkits.mplot3d import Axes3D\n",
    "# Leer el archivo CSV\n",
    "df = pd.read_csv(\"datos.csv\")"
   ]
  },
  {
   "cell_type": "markdown",
   "metadata": {},
   "source": [
    "agregamos una columna correspondiente al numero de masa"
   ]
  },
  {
   "cell_type": "code",
   "execution_count": 4,
   "metadata": {},
   "outputs": [
    {
     "data": {
      "text/html": [
       "<div>\n",
       "<style scoped>\n",
       "    .dataframe tbody tr th:only-of-type {\n",
       "        vertical-align: middle;\n",
       "    }\n",
       "\n",
       "    .dataframe tbody tr th {\n",
       "        vertical-align: top;\n",
       "    }\n",
       "\n",
       "    .dataframe thead th {\n",
       "        text-align: right;\n",
       "    }\n",
       "</style>\n",
       "<table border=\"1\" class=\"dataframe\">\n",
       "  <thead>\n",
       "    <tr style=\"text-align: right;\">\n",
       "      <th></th>\n",
       "      <th>n</th>\n",
       "      <th>z</th>\n",
       "      <th>bindingEnergy(keV)</th>\n",
       "      <th>Masa_atomica</th>\n",
       "    </tr>\n",
       "  </thead>\n",
       "  <tbody>\n",
       "    <tr>\n",
       "      <th>0</th>\n",
       "      <td>1</td>\n",
       "      <td>0</td>\n",
       "      <td>0.0000</td>\n",
       "      <td>1</td>\n",
       "    </tr>\n",
       "    <tr>\n",
       "      <th>1</th>\n",
       "      <td>1</td>\n",
       "      <td>1</td>\n",
       "      <td>1112.2831</td>\n",
       "      <td>2</td>\n",
       "    </tr>\n",
       "    <tr>\n",
       "      <th>2</th>\n",
       "      <td>2</td>\n",
       "      <td>1</td>\n",
       "      <td>2827.2654</td>\n",
       "      <td>3</td>\n",
       "    </tr>\n",
       "    <tr>\n",
       "      <th>3</th>\n",
       "      <td>3</td>\n",
       "      <td>1</td>\n",
       "      <td>1720.4491</td>\n",
       "      <td>4</td>\n",
       "    </tr>\n",
       "    <tr>\n",
       "      <th>4</th>\n",
       "      <td>4</td>\n",
       "      <td>1</td>\n",
       "      <td>1336.3592</td>\n",
       "      <td>5</td>\n",
       "    </tr>\n",
       "    <tr>\n",
       "      <th>...</th>\n",
       "      <td>...</td>\n",
       "      <td>...</td>\n",
       "      <td>...</td>\n",
       "      <td>...</td>\n",
       "    </tr>\n",
       "    <tr>\n",
       "      <th>3551</th>\n",
       "      <td>176</td>\n",
       "      <td>117</td>\n",
       "      <td>7095.0000</td>\n",
       "      <td>293</td>\n",
       "    </tr>\n",
       "    <tr>\n",
       "      <th>3552</th>\n",
       "      <td>177</td>\n",
       "      <td>117</td>\n",
       "      <td>7092.0000</td>\n",
       "      <td>294</td>\n",
       "    </tr>\n",
       "    <tr>\n",
       "      <th>3553</th>\n",
       "      <td>175</td>\n",
       "      <td>118</td>\n",
       "      <td>7078.0000</td>\n",
       "      <td>293</td>\n",
       "    </tr>\n",
       "    <tr>\n",
       "      <th>3554</th>\n",
       "      <td>176</td>\n",
       "      <td>118</td>\n",
       "      <td>7079.0000</td>\n",
       "      <td>294</td>\n",
       "    </tr>\n",
       "    <tr>\n",
       "      <th>3555</th>\n",
       "      <td>177</td>\n",
       "      <td>118</td>\n",
       "      <td>7076.0000</td>\n",
       "      <td>295</td>\n",
       "    </tr>\n",
       "  </tbody>\n",
       "</table>\n",
       "<p>3556 rows × 4 columns</p>\n",
       "</div>"
      ],
      "text/plain": [
       "        n    z  bindingEnergy(keV)  Masa_atomica\n",
       "0       1    0              0.0000             1\n",
       "1       1    1           1112.2831             2\n",
       "2       2    1           2827.2654             3\n",
       "3       3    1           1720.4491             4\n",
       "4       4    1           1336.3592             5\n",
       "...   ...  ...                 ...           ...\n",
       "3551  176  117           7095.0000           293\n",
       "3552  177  117           7092.0000           294\n",
       "3553  175  118           7078.0000           293\n",
       "3554  176  118           7079.0000           294\n",
       "3555  177  118           7076.0000           295\n",
       "\n",
       "[3556 rows x 4 columns]"
      ]
     },
     "execution_count": 4,
     "metadata": {},
     "output_type": "execute_result"
    }
   ],
   "source": [
    "# Calcular la masa atómica (Z+N) y añadirla como nueva columna\n",
    "df['Masa_atomica'] = df['n'] + df['z']\n",
    "df"
   ]
  },
  {
   "cell_type": "markdown",
   "metadata": {},
   "source": [
    "Con esto primero hagamos una gráfica 2-D de la energía de ligadura por nucleón $\\varepsilon$ vs Número atómico para tres elementos:"
   ]
  },
  {
   "cell_type": "code",
   "execution_count": 5,
   "metadata": {},
   "outputs": [
    {
     "data": {
      "text/html": [
       "<div>\n",
       "<style scoped>\n",
       "    .dataframe tbody tr th:only-of-type {\n",
       "        vertical-align: middle;\n",
       "    }\n",
       "\n",
       "    .dataframe tbody tr th {\n",
       "        vertical-align: top;\n",
       "    }\n",
       "\n",
       "    .dataframe thead th {\n",
       "        text-align: right;\n",
       "    }\n",
       "</style>\n",
       "<table border=\"1\" class=\"dataframe\">\n",
       "  <thead>\n",
       "    <tr style=\"text-align: right;\">\n",
       "      <th></th>\n",
       "      <th>n</th>\n",
       "      <th>z</th>\n",
       "      <th>bindingEnergy(keV)</th>\n",
       "      <th>Masa_atomica</th>\n",
       "    </tr>\n",
       "  </thead>\n",
       "  <tbody>\n",
       "    <tr>\n",
       "      <th>7</th>\n",
       "      <td>1</td>\n",
       "      <td>2</td>\n",
       "      <td>2572.68044</td>\n",
       "      <td>3</td>\n",
       "    </tr>\n",
       "    <tr>\n",
       "      <th>8</th>\n",
       "      <td>2</td>\n",
       "      <td>2</td>\n",
       "      <td>7073.91560</td>\n",
       "      <td>4</td>\n",
       "    </tr>\n",
       "    <tr>\n",
       "      <th>9</th>\n",
       "      <td>3</td>\n",
       "      <td>2</td>\n",
       "      <td>5512.13250</td>\n",
       "      <td>5</td>\n",
       "    </tr>\n",
       "    <tr>\n",
       "      <th>10</th>\n",
       "      <td>4</td>\n",
       "      <td>2</td>\n",
       "      <td>4878.51990</td>\n",
       "      <td>6</td>\n",
       "    </tr>\n",
       "    <tr>\n",
       "      <th>11</th>\n",
       "      <td>5</td>\n",
       "      <td>2</td>\n",
       "      <td>4123.05780</td>\n",
       "      <td>7</td>\n",
       "    </tr>\n",
       "    <tr>\n",
       "      <th>12</th>\n",
       "      <td>6</td>\n",
       "      <td>2</td>\n",
       "      <td>3924.52100</td>\n",
       "      <td>8</td>\n",
       "    </tr>\n",
       "    <tr>\n",
       "      <th>13</th>\n",
       "      <td>7</td>\n",
       "      <td>2</td>\n",
       "      <td>3349.03800</td>\n",
       "      <td>9</td>\n",
       "    </tr>\n",
       "    <tr>\n",
       "      <th>14</th>\n",
       "      <td>8</td>\n",
       "      <td>2</td>\n",
       "      <td>2995.13400</td>\n",
       "      <td>10</td>\n",
       "    </tr>\n",
       "    <tr>\n",
       "      <th>15</th>\n",
       "      <td>1</td>\n",
       "      <td>3</td>\n",
       "      <td>1153.76030</td>\n",
       "      <td>4</td>\n",
       "    </tr>\n",
       "    <tr>\n",
       "      <th>16</th>\n",
       "      <td>2</td>\n",
       "      <td>3</td>\n",
       "      <td>5266.13250</td>\n",
       "      <td>5</td>\n",
       "    </tr>\n",
       "    <tr>\n",
       "      <th>17</th>\n",
       "      <td>3</td>\n",
       "      <td>3</td>\n",
       "      <td>5332.33120</td>\n",
       "      <td>6</td>\n",
       "    </tr>\n",
       "    <tr>\n",
       "      <th>18</th>\n",
       "      <td>4</td>\n",
       "      <td>3</td>\n",
       "      <td>5606.44010</td>\n",
       "      <td>7</td>\n",
       "    </tr>\n",
       "    <tr>\n",
       "      <th>19</th>\n",
       "      <td>5</td>\n",
       "      <td>3</td>\n",
       "      <td>5159.71240</td>\n",
       "      <td>8</td>\n",
       "    </tr>\n",
       "    <tr>\n",
       "      <th>20</th>\n",
       "      <td>6</td>\n",
       "      <td>3</td>\n",
       "      <td>5037.76850</td>\n",
       "      <td>9</td>\n",
       "    </tr>\n",
       "    <tr>\n",
       "      <th>21</th>\n",
       "      <td>7</td>\n",
       "      <td>3</td>\n",
       "      <td>4531.35120</td>\n",
       "      <td>10</td>\n",
       "    </tr>\n",
       "    <tr>\n",
       "      <th>22</th>\n",
       "      <td>8</td>\n",
       "      <td>3</td>\n",
       "      <td>4155.38170</td>\n",
       "      <td>11</td>\n",
       "    </tr>\n",
       "    <tr>\n",
       "      <th>23</th>\n",
       "      <td>9</td>\n",
       "      <td>3</td>\n",
       "      <td>3791.59990</td>\n",
       "      <td>12</td>\n",
       "    </tr>\n",
       "    <tr>\n",
       "      <th>24</th>\n",
       "      <td>10</td>\n",
       "      <td>3</td>\n",
       "      <td>3507.63070</td>\n",
       "      <td>13</td>\n",
       "    </tr>\n",
       "    <tr>\n",
       "      <th>53</th>\n",
       "      <td>2</td>\n",
       "      <td>6</td>\n",
       "      <td>3101.52420</td>\n",
       "      <td>8</td>\n",
       "    </tr>\n",
       "    <tr>\n",
       "      <th>54</th>\n",
       "      <td>3</td>\n",
       "      <td>6</td>\n",
       "      <td>4337.42330</td>\n",
       "      <td>9</td>\n",
       "    </tr>\n",
       "    <tr>\n",
       "      <th>55</th>\n",
       "      <td>4</td>\n",
       "      <td>6</td>\n",
       "      <td>6032.04260</td>\n",
       "      <td>10</td>\n",
       "    </tr>\n",
       "    <tr>\n",
       "      <th>56</th>\n",
       "      <td>5</td>\n",
       "      <td>6</td>\n",
       "      <td>6676.45630</td>\n",
       "      <td>11</td>\n",
       "    </tr>\n",
       "    <tr>\n",
       "      <th>57</th>\n",
       "      <td>6</td>\n",
       "      <td>6</td>\n",
       "      <td>7680.14460</td>\n",
       "      <td>12</td>\n",
       "    </tr>\n",
       "    <tr>\n",
       "      <th>58</th>\n",
       "      <td>7</td>\n",
       "      <td>6</td>\n",
       "      <td>7469.84950</td>\n",
       "      <td>13</td>\n",
       "    </tr>\n",
       "    <tr>\n",
       "      <th>59</th>\n",
       "      <td>8</td>\n",
       "      <td>6</td>\n",
       "      <td>7520.31980</td>\n",
       "      <td>14</td>\n",
       "    </tr>\n",
       "    <tr>\n",
       "      <th>60</th>\n",
       "      <td>9</td>\n",
       "      <td>6</td>\n",
       "      <td>7100.16960</td>\n",
       "      <td>15</td>\n",
       "    </tr>\n",
       "    <tr>\n",
       "      <th>61</th>\n",
       "      <td>10</td>\n",
       "      <td>6</td>\n",
       "      <td>6922.05460</td>\n",
       "      <td>16</td>\n",
       "    </tr>\n",
       "    <tr>\n",
       "      <th>62</th>\n",
       "      <td>11</td>\n",
       "      <td>6</td>\n",
       "      <td>6558.02620</td>\n",
       "      <td>17</td>\n",
       "    </tr>\n",
       "    <tr>\n",
       "      <th>63</th>\n",
       "      <td>12</td>\n",
       "      <td>6</td>\n",
       "      <td>6426.13210</td>\n",
       "      <td>18</td>\n",
       "    </tr>\n",
       "    <tr>\n",
       "      <th>64</th>\n",
       "      <td>13</td>\n",
       "      <td>6</td>\n",
       "      <td>6118.27400</td>\n",
       "      <td>19</td>\n",
       "    </tr>\n",
       "    <tr>\n",
       "      <th>65</th>\n",
       "      <td>14</td>\n",
       "      <td>6</td>\n",
       "      <td>5961.43560</td>\n",
       "      <td>20</td>\n",
       "    </tr>\n",
       "    <tr>\n",
       "      <th>66</th>\n",
       "      <td>15</td>\n",
       "      <td>6</td>\n",
       "      <td>5674.00000</td>\n",
       "      <td>21</td>\n",
       "    </tr>\n",
       "    <tr>\n",
       "      <th>67</th>\n",
       "      <td>16</td>\n",
       "      <td>6</td>\n",
       "      <td>5421.07780</td>\n",
       "      <td>22</td>\n",
       "    </tr>\n",
       "    <tr>\n",
       "      <th>68</th>\n",
       "      <td>17</td>\n",
       "      <td>6</td>\n",
       "      <td>5077.00000</td>\n",
       "      <td>23</td>\n",
       "    </tr>\n",
       "  </tbody>\n",
       "</table>\n",
       "</div>"
      ],
      "text/plain": [
       "     n  z  bindingEnergy(keV)  Masa_atomica\n",
       "7    1  2          2572.68044             3\n",
       "8    2  2          7073.91560             4\n",
       "9    3  2          5512.13250             5\n",
       "10   4  2          4878.51990             6\n",
       "11   5  2          4123.05780             7\n",
       "12   6  2          3924.52100             8\n",
       "13   7  2          3349.03800             9\n",
       "14   8  2          2995.13400            10\n",
       "15   1  3          1153.76030             4\n",
       "16   2  3          5266.13250             5\n",
       "17   3  3          5332.33120             6\n",
       "18   4  3          5606.44010             7\n",
       "19   5  3          5159.71240             8\n",
       "20   6  3          5037.76850             9\n",
       "21   7  3          4531.35120            10\n",
       "22   8  3          4155.38170            11\n",
       "23   9  3          3791.59990            12\n",
       "24  10  3          3507.63070            13\n",
       "53   2  6          3101.52420             8\n",
       "54   3  6          4337.42330             9\n",
       "55   4  6          6032.04260            10\n",
       "56   5  6          6676.45630            11\n",
       "57   6  6          7680.14460            12\n",
       "58   7  6          7469.84950            13\n",
       "59   8  6          7520.31980            14\n",
       "60   9  6          7100.16960            15\n",
       "61  10  6          6922.05460            16\n",
       "62  11  6          6558.02620            17\n",
       "63  12  6          6426.13210            18\n",
       "64  13  6          6118.27400            19\n",
       "65  14  6          5961.43560            20\n",
       "66  15  6          5674.00000            21\n",
       "67  16  6          5421.07780            22\n",
       "68  17  6          5077.00000            23"
      ]
     },
     "execution_count": 5,
     "metadata": {},
     "output_type": "execute_result"
    }
   ],
   "source": [
    "# Filtramos los datos para Helio (Z=2), Litio (Z=3) y Carbono (Z=6)\n",
    "df_subset = df[df['z'].isin([2, 3, 6])]\n",
    "df_subset"
   ]
  },
  {
   "cell_type": "code",
   "execution_count": 6,
   "metadata": {},
   "outputs": [
    {
     "data": {
      "application/vnd.plotly.v1+json": {
       "config": {
        "plotlyServerURL": "https://plot.ly"
       },
       "data": [
        {
         "mode": "lines+markers",
         "name": "He",
         "type": "scatter",
         "x": [
          3,
          4,
          5,
          6,
          7,
          8,
          9,
          10
         ],
         "y": [
          2572.68044,
          7073.9156,
          5512.1325,
          4878.5199,
          4123.0578,
          3924.521,
          3349.038,
          2995.134
         ]
        },
        {
         "mode": "lines+markers",
         "name": "Li",
         "type": "scatter",
         "x": [
          4,
          5,
          6,
          7,
          8,
          9,
          10,
          11,
          12,
          13
         ],
         "y": [
          1153.7603,
          5266.1325,
          5332.3312,
          5606.4401,
          5159.7124,
          5037.7685,
          4531.3512,
          4155.3817,
          3791.5999,
          3507.6307
         ]
        },
        {
         "mode": "lines+markers",
         "name": "C",
         "type": "scatter",
         "x": [
          8,
          9,
          10,
          11,
          12,
          13,
          14,
          15,
          16,
          17,
          18,
          19,
          20,
          21,
          22,
          23
         ],
         "y": [
          3101.5242,
          4337.4233,
          6032.0426,
          6676.4563,
          7680.1446,
          7469.8495,
          7520.3198,
          7100.1696,
          6922.0546,
          6558.0262,
          6426.1321,
          6118.274,
          5961.4356,
          5674,
          5421.0778,
          5077
         ]
        }
       ],
       "layout": {
        "template": {
         "data": {
          "bar": [
           {
            "error_x": {
             "color": "#2a3f5f"
            },
            "error_y": {
             "color": "#2a3f5f"
            },
            "marker": {
             "line": {
              "color": "#E5ECF6",
              "width": 0.5
             },
             "pattern": {
              "fillmode": "overlay",
              "size": 10,
              "solidity": 0.2
             }
            },
            "type": "bar"
           }
          ],
          "barpolar": [
           {
            "marker": {
             "line": {
              "color": "#E5ECF6",
              "width": 0.5
             },
             "pattern": {
              "fillmode": "overlay",
              "size": 10,
              "solidity": 0.2
             }
            },
            "type": "barpolar"
           }
          ],
          "carpet": [
           {
            "aaxis": {
             "endlinecolor": "#2a3f5f",
             "gridcolor": "white",
             "linecolor": "white",
             "minorgridcolor": "white",
             "startlinecolor": "#2a3f5f"
            },
            "baxis": {
             "endlinecolor": "#2a3f5f",
             "gridcolor": "white",
             "linecolor": "white",
             "minorgridcolor": "white",
             "startlinecolor": "#2a3f5f"
            },
            "type": "carpet"
           }
          ],
          "choropleth": [
           {
            "colorbar": {
             "outlinewidth": 0,
             "ticks": ""
            },
            "type": "choropleth"
           }
          ],
          "contour": [
           {
            "colorbar": {
             "outlinewidth": 0,
             "ticks": ""
            },
            "colorscale": [
             [
              0,
              "#0d0887"
             ],
             [
              0.1111111111111111,
              "#46039f"
             ],
             [
              0.2222222222222222,
              "#7201a8"
             ],
             [
              0.3333333333333333,
              "#9c179e"
             ],
             [
              0.4444444444444444,
              "#bd3786"
             ],
             [
              0.5555555555555556,
              "#d8576b"
             ],
             [
              0.6666666666666666,
              "#ed7953"
             ],
             [
              0.7777777777777778,
              "#fb9f3a"
             ],
             [
              0.8888888888888888,
              "#fdca26"
             ],
             [
              1,
              "#f0f921"
             ]
            ],
            "type": "contour"
           }
          ],
          "contourcarpet": [
           {
            "colorbar": {
             "outlinewidth": 0,
             "ticks": ""
            },
            "type": "contourcarpet"
           }
          ],
          "heatmap": [
           {
            "colorbar": {
             "outlinewidth": 0,
             "ticks": ""
            },
            "colorscale": [
             [
              0,
              "#0d0887"
             ],
             [
              0.1111111111111111,
              "#46039f"
             ],
             [
              0.2222222222222222,
              "#7201a8"
             ],
             [
              0.3333333333333333,
              "#9c179e"
             ],
             [
              0.4444444444444444,
              "#bd3786"
             ],
             [
              0.5555555555555556,
              "#d8576b"
             ],
             [
              0.6666666666666666,
              "#ed7953"
             ],
             [
              0.7777777777777778,
              "#fb9f3a"
             ],
             [
              0.8888888888888888,
              "#fdca26"
             ],
             [
              1,
              "#f0f921"
             ]
            ],
            "type": "heatmap"
           }
          ],
          "heatmapgl": [
           {
            "colorbar": {
             "outlinewidth": 0,
             "ticks": ""
            },
            "colorscale": [
             [
              0,
              "#0d0887"
             ],
             [
              0.1111111111111111,
              "#46039f"
             ],
             [
              0.2222222222222222,
              "#7201a8"
             ],
             [
              0.3333333333333333,
              "#9c179e"
             ],
             [
              0.4444444444444444,
              "#bd3786"
             ],
             [
              0.5555555555555556,
              "#d8576b"
             ],
             [
              0.6666666666666666,
              "#ed7953"
             ],
             [
              0.7777777777777778,
              "#fb9f3a"
             ],
             [
              0.8888888888888888,
              "#fdca26"
             ],
             [
              1,
              "#f0f921"
             ]
            ],
            "type": "heatmapgl"
           }
          ],
          "histogram": [
           {
            "marker": {
             "pattern": {
              "fillmode": "overlay",
              "size": 10,
              "solidity": 0.2
             }
            },
            "type": "histogram"
           }
          ],
          "histogram2d": [
           {
            "colorbar": {
             "outlinewidth": 0,
             "ticks": ""
            },
            "colorscale": [
             [
              0,
              "#0d0887"
             ],
             [
              0.1111111111111111,
              "#46039f"
             ],
             [
              0.2222222222222222,
              "#7201a8"
             ],
             [
              0.3333333333333333,
              "#9c179e"
             ],
             [
              0.4444444444444444,
              "#bd3786"
             ],
             [
              0.5555555555555556,
              "#d8576b"
             ],
             [
              0.6666666666666666,
              "#ed7953"
             ],
             [
              0.7777777777777778,
              "#fb9f3a"
             ],
             [
              0.8888888888888888,
              "#fdca26"
             ],
             [
              1,
              "#f0f921"
             ]
            ],
            "type": "histogram2d"
           }
          ],
          "histogram2dcontour": [
           {
            "colorbar": {
             "outlinewidth": 0,
             "ticks": ""
            },
            "colorscale": [
             [
              0,
              "#0d0887"
             ],
             [
              0.1111111111111111,
              "#46039f"
             ],
             [
              0.2222222222222222,
              "#7201a8"
             ],
             [
              0.3333333333333333,
              "#9c179e"
             ],
             [
              0.4444444444444444,
              "#bd3786"
             ],
             [
              0.5555555555555556,
              "#d8576b"
             ],
             [
              0.6666666666666666,
              "#ed7953"
             ],
             [
              0.7777777777777778,
              "#fb9f3a"
             ],
             [
              0.8888888888888888,
              "#fdca26"
             ],
             [
              1,
              "#f0f921"
             ]
            ],
            "type": "histogram2dcontour"
           }
          ],
          "mesh3d": [
           {
            "colorbar": {
             "outlinewidth": 0,
             "ticks": ""
            },
            "type": "mesh3d"
           }
          ],
          "parcoords": [
           {
            "line": {
             "colorbar": {
              "outlinewidth": 0,
              "ticks": ""
             }
            },
            "type": "parcoords"
           }
          ],
          "pie": [
           {
            "automargin": true,
            "type": "pie"
           }
          ],
          "scatter": [
           {
            "fillpattern": {
             "fillmode": "overlay",
             "size": 10,
             "solidity": 0.2
            },
            "type": "scatter"
           }
          ],
          "scatter3d": [
           {
            "line": {
             "colorbar": {
              "outlinewidth": 0,
              "ticks": ""
             }
            },
            "marker": {
             "colorbar": {
              "outlinewidth": 0,
              "ticks": ""
             }
            },
            "type": "scatter3d"
           }
          ],
          "scattercarpet": [
           {
            "marker": {
             "colorbar": {
              "outlinewidth": 0,
              "ticks": ""
             }
            },
            "type": "scattercarpet"
           }
          ],
          "scattergeo": [
           {
            "marker": {
             "colorbar": {
              "outlinewidth": 0,
              "ticks": ""
             }
            },
            "type": "scattergeo"
           }
          ],
          "scattergl": [
           {
            "marker": {
             "colorbar": {
              "outlinewidth": 0,
              "ticks": ""
             }
            },
            "type": "scattergl"
           }
          ],
          "scattermapbox": [
           {
            "marker": {
             "colorbar": {
              "outlinewidth": 0,
              "ticks": ""
             }
            },
            "type": "scattermapbox"
           }
          ],
          "scatterpolar": [
           {
            "marker": {
             "colorbar": {
              "outlinewidth": 0,
              "ticks": ""
             }
            },
            "type": "scatterpolar"
           }
          ],
          "scatterpolargl": [
           {
            "marker": {
             "colorbar": {
              "outlinewidth": 0,
              "ticks": ""
             }
            },
            "type": "scatterpolargl"
           }
          ],
          "scatterternary": [
           {
            "marker": {
             "colorbar": {
              "outlinewidth": 0,
              "ticks": ""
             }
            },
            "type": "scatterternary"
           }
          ],
          "surface": [
           {
            "colorbar": {
             "outlinewidth": 0,
             "ticks": ""
            },
            "colorscale": [
             [
              0,
              "#0d0887"
             ],
             [
              0.1111111111111111,
              "#46039f"
             ],
             [
              0.2222222222222222,
              "#7201a8"
             ],
             [
              0.3333333333333333,
              "#9c179e"
             ],
             [
              0.4444444444444444,
              "#bd3786"
             ],
             [
              0.5555555555555556,
              "#d8576b"
             ],
             [
              0.6666666666666666,
              "#ed7953"
             ],
             [
              0.7777777777777778,
              "#fb9f3a"
             ],
             [
              0.8888888888888888,
              "#fdca26"
             ],
             [
              1,
              "#f0f921"
             ]
            ],
            "type": "surface"
           }
          ],
          "table": [
           {
            "cells": {
             "fill": {
              "color": "#EBF0F8"
             },
             "line": {
              "color": "white"
             }
            },
            "header": {
             "fill": {
              "color": "#C8D4E3"
             },
             "line": {
              "color": "white"
             }
            },
            "type": "table"
           }
          ]
         },
         "layout": {
          "annotationdefaults": {
           "arrowcolor": "#2a3f5f",
           "arrowhead": 0,
           "arrowwidth": 1
          },
          "autotypenumbers": "strict",
          "coloraxis": {
           "colorbar": {
            "outlinewidth": 0,
            "ticks": ""
           }
          },
          "colorscale": {
           "diverging": [
            [
             0,
             "#8e0152"
            ],
            [
             0.1,
             "#c51b7d"
            ],
            [
             0.2,
             "#de77ae"
            ],
            [
             0.3,
             "#f1b6da"
            ],
            [
             0.4,
             "#fde0ef"
            ],
            [
             0.5,
             "#f7f7f7"
            ],
            [
             0.6,
             "#e6f5d0"
            ],
            [
             0.7,
             "#b8e186"
            ],
            [
             0.8,
             "#7fbc41"
            ],
            [
             0.9,
             "#4d9221"
            ],
            [
             1,
             "#276419"
            ]
           ],
           "sequential": [
            [
             0,
             "#0d0887"
            ],
            [
             0.1111111111111111,
             "#46039f"
            ],
            [
             0.2222222222222222,
             "#7201a8"
            ],
            [
             0.3333333333333333,
             "#9c179e"
            ],
            [
             0.4444444444444444,
             "#bd3786"
            ],
            [
             0.5555555555555556,
             "#d8576b"
            ],
            [
             0.6666666666666666,
             "#ed7953"
            ],
            [
             0.7777777777777778,
             "#fb9f3a"
            ],
            [
             0.8888888888888888,
             "#fdca26"
            ],
            [
             1,
             "#f0f921"
            ]
           ],
           "sequentialminus": [
            [
             0,
             "#0d0887"
            ],
            [
             0.1111111111111111,
             "#46039f"
            ],
            [
             0.2222222222222222,
             "#7201a8"
            ],
            [
             0.3333333333333333,
             "#9c179e"
            ],
            [
             0.4444444444444444,
             "#bd3786"
            ],
            [
             0.5555555555555556,
             "#d8576b"
            ],
            [
             0.6666666666666666,
             "#ed7953"
            ],
            [
             0.7777777777777778,
             "#fb9f3a"
            ],
            [
             0.8888888888888888,
             "#fdca26"
            ],
            [
             1,
             "#f0f921"
            ]
           ]
          },
          "colorway": [
           "#636efa",
           "#EF553B",
           "#00cc96",
           "#ab63fa",
           "#FFA15A",
           "#19d3f3",
           "#FF6692",
           "#B6E880",
           "#FF97FF",
           "#FECB52"
          ],
          "font": {
           "color": "#2a3f5f"
          },
          "geo": {
           "bgcolor": "white",
           "lakecolor": "white",
           "landcolor": "#E5ECF6",
           "showlakes": true,
           "showland": true,
           "subunitcolor": "white"
          },
          "hoverlabel": {
           "align": "left"
          },
          "hovermode": "closest",
          "mapbox": {
           "style": "light"
          },
          "paper_bgcolor": "white",
          "plot_bgcolor": "#E5ECF6",
          "polar": {
           "angularaxis": {
            "gridcolor": "white",
            "linecolor": "white",
            "ticks": ""
           },
           "bgcolor": "#E5ECF6",
           "radialaxis": {
            "gridcolor": "white",
            "linecolor": "white",
            "ticks": ""
           }
          },
          "scene": {
           "xaxis": {
            "backgroundcolor": "#E5ECF6",
            "gridcolor": "white",
            "gridwidth": 2,
            "linecolor": "white",
            "showbackground": true,
            "ticks": "",
            "zerolinecolor": "white"
           },
           "yaxis": {
            "backgroundcolor": "#E5ECF6",
            "gridcolor": "white",
            "gridwidth": 2,
            "linecolor": "white",
            "showbackground": true,
            "ticks": "",
            "zerolinecolor": "white"
           },
           "zaxis": {
            "backgroundcolor": "#E5ECF6",
            "gridcolor": "white",
            "gridwidth": 2,
            "linecolor": "white",
            "showbackground": true,
            "ticks": "",
            "zerolinecolor": "white"
           }
          },
          "shapedefaults": {
           "line": {
            "color": "#2a3f5f"
           }
          },
          "ternary": {
           "aaxis": {
            "gridcolor": "white",
            "linecolor": "white",
            "ticks": ""
           },
           "baxis": {
            "gridcolor": "white",
            "linecolor": "white",
            "ticks": ""
           },
           "bgcolor": "#E5ECF6",
           "caxis": {
            "gridcolor": "white",
            "linecolor": "white",
            "ticks": ""
           }
          },
          "title": {
           "x": 0.05
          },
          "xaxis": {
           "automargin": true,
           "gridcolor": "white",
           "linecolor": "white",
           "ticks": "",
           "title": {
            "standoff": 15
           },
           "zerolinecolor": "white",
           "zerolinewidth": 2
          },
          "yaxis": {
           "automargin": true,
           "gridcolor": "white",
           "linecolor": "white",
           "ticks": "",
           "title": {
            "standoff": 15
           },
           "zerolinecolor": "white",
           "zerolinewidth": 2
          }
         }
        },
        "title": {
         "text": "Energía de Ligadura vs Masa Atómica"
        },
        "xaxis": {
         "title": {
          "text": "Masa Atómica (A)"
         }
        },
        "yaxis": {
         "title": {
          "text": "$\\epsilon$ (keV)"
         }
        }
       }
      }
     },
     "metadata": {},
     "output_type": "display_data"
    }
   ],
   "source": [
    "# Creamos un diccionario para mapear Z a símbolos de elementos\n",
    "z_to_symbol = {2: 'He', 3: 'Li', 6: 'C'}\n",
    "\n",
    "# Obtenemos los elementos únicos en df_subset\n",
    "elementos = df_subset['z'].unique()\n",
    "# Crear la figura\n",
    "fig = go.Figure()\n",
    "\n",
    "# Iterar sobre los elementos y agregar las curvas\n",
    "for elemento in elementos:\n",
    "    df_elemento = df_subset[df_subset['z'] == elemento]\n",
    "    fig.add_trace(go.Scatter(x=df_elemento['Masa_atomica'], y=df_elemento['bindingEnergy(keV)'], mode='lines+markers', name=f'{z_to_symbol[elemento]}'))\n",
    "\n",
    "# Personalizar el diseño\n",
    "fig.update_layout(xaxis_title='Masa Atómica (A)', yaxis_title='$\\epsilon$ (keV)', title='Energía de Ligadura vs Masa Atómica')\n",
    "\n",
    "# Mostrar la gráfica\n",
    "fig.show()"
   ]
  },
  {
   "cell_type": "markdown",
   "metadata": {},
   "source": [
    "Podemos seguir el mismo procedimiento para los 10 primeros elementos de la tabla periódica:"
   ]
  },
  {
   "cell_type": "code",
   "execution_count": 7,
   "metadata": {},
   "outputs": [
    {
     "data": {
      "application/vnd.plotly.v1+json": {
       "config": {
        "plotlyServerURL": "https://plot.ly"
       },
       "data": [
        {
         "line": {
          "width": 2
         },
         "marker": {
          "color": [
           1112.2831,
           2827.2654,
           1720.4491,
           1336.3592,
           961.6395,
           940
          ],
          "colorscale": [
           [
            0,
            "#440154"
           ],
           [
            0.1111111111111111,
            "#482878"
           ],
           [
            0.2222222222222222,
            "#3e4989"
           ],
           [
            0.3333333333333333,
            "#31688e"
           ],
           [
            0.4444444444444444,
            "#26828e"
           ],
           [
            0.5555555555555556,
            "#1f9e89"
           ],
           [
            0.6666666666666666,
            "#35b779"
           ],
           [
            0.7777777777777778,
            "#6ece58"
           ],
           [
            0.8888888888888888,
            "#b5de2b"
           ],
           [
            1,
            "#fde725"
           ]
          ],
          "opacity": 0.8,
          "size": 6
         },
         "mode": "lines+markers",
         "name": "H",
         "text": [
          "A: 2",
          "A: 3",
          "A: 4",
          "A: 5",
          "A: 6",
          "A: 7"
         ],
         "type": "scatter3d",
         "x": [
          2,
          3,
          4,
          5,
          6,
          7
         ],
         "y": [
          1,
          1,
          1,
          1,
          1,
          1
         ],
         "z": [
          1112.2831,
          2827.2654,
          1720.4491,
          1336.3592,
          961.6395,
          940
         ]
        },
        {
         "line": {
          "width": 2
         },
         "marker": {
          "color": [
           2572.68044,
           7073.9156,
           5512.1325,
           4878.5199,
           4123.0578,
           3924.521,
           3349.038,
           2995.134
          ],
          "colorscale": [
           [
            0,
            "#440154"
           ],
           [
            0.1111111111111111,
            "#482878"
           ],
           [
            0.2222222222222222,
            "#3e4989"
           ],
           [
            0.3333333333333333,
            "#31688e"
           ],
           [
            0.4444444444444444,
            "#26828e"
           ],
           [
            0.5555555555555556,
            "#1f9e89"
           ],
           [
            0.6666666666666666,
            "#35b779"
           ],
           [
            0.7777777777777778,
            "#6ece58"
           ],
           [
            0.8888888888888888,
            "#b5de2b"
           ],
           [
            1,
            "#fde725"
           ]
          ],
          "opacity": 0.8,
          "size": 6
         },
         "mode": "lines+markers",
         "name": "He",
         "text": [
          "A: 3",
          "A: 4",
          "A: 5",
          "A: 6",
          "A: 7",
          "A: 8",
          "A: 9",
          "A: 10"
         ],
         "type": "scatter3d",
         "x": [
          3,
          4,
          5,
          6,
          7,
          8,
          9,
          10
         ],
         "y": [
          2,
          2,
          2,
          2,
          2,
          2,
          2,
          2
         ],
         "z": [
          2572.68044,
          7073.9156,
          5512.1325,
          4878.5199,
          4123.0578,
          3924.521,
          3349.038,
          2995.134
         ]
        },
        {
         "line": {
          "width": 2
         },
         "marker": {
          "color": [
           1153.7603,
           5266.1325,
           5332.3312,
           5606.4401,
           5159.7124,
           5037.7685,
           4531.3512,
           4155.3817,
           3791.5999,
           3507.6307
          ],
          "colorscale": [
           [
            0,
            "#440154"
           ],
           [
            0.1111111111111111,
            "#482878"
           ],
           [
            0.2222222222222222,
            "#3e4989"
           ],
           [
            0.3333333333333333,
            "#31688e"
           ],
           [
            0.4444444444444444,
            "#26828e"
           ],
           [
            0.5555555555555556,
            "#1f9e89"
           ],
           [
            0.6666666666666666,
            "#35b779"
           ],
           [
            0.7777777777777778,
            "#6ece58"
           ],
           [
            0.8888888888888888,
            "#b5de2b"
           ],
           [
            1,
            "#fde725"
           ]
          ],
          "opacity": 0.8,
          "size": 6
         },
         "mode": "lines+markers",
         "name": "Li",
         "text": [
          "A: 4",
          "A: 5",
          "A: 6",
          "A: 7",
          "A: 8",
          "A: 9",
          "A: 10",
          "A: 11",
          "A: 12",
          "A: 13"
         ],
         "type": "scatter3d",
         "x": [
          4,
          5,
          6,
          7,
          8,
          9,
          10,
          11,
          12,
          13
         ],
         "y": [
          3,
          3,
          3,
          3,
          3,
          3,
          3,
          3,
          3,
          3
         ],
         "z": [
          1153.7603,
          5266.1325,
          5332.3312,
          5606.4401,
          5159.7124,
          5037.7685,
          4531.3512,
          4155.3817,
          3791.5999,
          3507.6307
         ]
        },
        {
         "line": {
          "width": 2
         },
         "marker": {
          "color": [
           18,
           4487.2478,
           5371.5487,
           7062.4356,
           6462.6693,
           6497.6306,
           5952.5402,
           5720.7223,
           5241.4359,
           4993.8973,
           4540.9708,
           4285.2851
          ],
          "colorscale": [
           [
            0,
            "#440154"
           ],
           [
            0.1111111111111111,
            "#482878"
           ],
           [
            0.2222222222222222,
            "#3e4989"
           ],
           [
            0.3333333333333333,
            "#31688e"
           ],
           [
            0.4444444444444444,
            "#26828e"
           ],
           [
            0.5555555555555556,
            "#1f9e89"
           ],
           [
            0.6666666666666666,
            "#35b779"
           ],
           [
            0.7777777777777778,
            "#6ece58"
           ],
           [
            0.8888888888888888,
            "#b5de2b"
           ],
           [
            1,
            "#fde725"
           ]
          ],
          "opacity": 0.8,
          "size": 6
         },
         "mode": "lines+markers",
         "name": "Be",
         "text": [
          "A: 5",
          "A: 6",
          "A: 7",
          "A: 8",
          "A: 9",
          "A: 10",
          "A: 11",
          "A: 12",
          "A: 13",
          "A: 14",
          "A: 15",
          "A: 16"
         ],
         "type": "scatter3d",
         "x": [
          5,
          6,
          7,
          8,
          9,
          10,
          11,
          12,
          13,
          14,
          15,
          16
         ],
         "y": [
          4,
          4,
          4,
          4,
          4,
          4,
          4,
          4,
          4,
          4,
          4,
          4
         ],
         "z": [
          18,
          4487.2478,
          5371.5487,
          7062.4356,
          6462.6693,
          6497.6306,
          5952.5402,
          5720.7223,
          5241.4359,
          4993.8973,
          4540.9708,
          4285.2851
         ]
        },
        {
         "line": {
          "width": 2
         },
         "marker": {
          "color": [
           -467,
           3558.7055,
           4717.1551,
           6257.0713,
           6475.0835,
           6927.7323,
           6631.2237,
           6496.4194,
           6101.6451,
           5880.0438,
           5507.3535,
           5269.6677,
           4976.6306,
           4719.6346,
           4405.6529,
           4152.5265
          ],
          "colorscale": [
           [
            0,
            "#440154"
           ],
           [
            0.1111111111111111,
            "#482878"
           ],
           [
            0.2222222222222222,
            "#3e4989"
           ],
           [
            0.3333333333333333,
            "#31688e"
           ],
           [
            0.4444444444444444,
            "#26828e"
           ],
           [
            0.5555555555555556,
            "#1f9e89"
           ],
           [
            0.6666666666666666,
            "#35b779"
           ],
           [
            0.7777777777777778,
            "#6ece58"
           ],
           [
            0.8888888888888888,
            "#b5de2b"
           ],
           [
            1,
            "#fde725"
           ]
          ],
          "opacity": 0.8,
          "size": 6
         },
         "mode": "lines+markers",
         "name": "B",
         "text": [
          "A: 6",
          "A: 7",
          "A: 8",
          "A: 9",
          "A: 10",
          "A: 11",
          "A: 12",
          "A: 13",
          "A: 14",
          "A: 15",
          "A: 16",
          "A: 17",
          "A: 18",
          "A: 19",
          "A: 20",
          "A: 21"
         ],
         "type": "scatter3d",
         "x": [
          6,
          7,
          8,
          9,
          10,
          11,
          12,
          13,
          14,
          15,
          16,
          17,
          18,
          19,
          20,
          21
         ],
         "y": [
          5,
          5,
          5,
          5,
          5,
          5,
          5,
          5,
          5,
          5,
          5,
          5,
          5,
          5,
          5,
          5
         ],
         "z": [
          -467,
          3558.7055,
          4717.1551,
          6257.0713,
          6475.0835,
          6927.7323,
          6631.2237,
          6496.4194,
          6101.6451,
          5880.0438,
          5507.3535,
          5269.6677,
          4976.6306,
          4719.6346,
          4405.6529,
          4152.5265
         ]
        },
        {
         "line": {
          "width": 2
         },
         "marker": {
          "color": [
           3101.5242,
           4337.4233,
           6032.0426,
           6676.4563,
           7680.1446,
           7469.8495,
           7520.3198,
           7100.1696,
           6922.0546,
           6558.0262,
           6426.1321,
           6118.274,
           5961.4356,
           5674,
           5421.0778,
           5077
          ],
          "colorscale": [
           [
            0,
            "#440154"
           ],
           [
            0.1111111111111111,
            "#482878"
           ],
           [
            0.2222222222222222,
            "#3e4989"
           ],
           [
            0.3333333333333333,
            "#31688e"
           ],
           [
            0.4444444444444444,
            "#26828e"
           ],
           [
            0.5555555555555556,
            "#1f9e89"
           ],
           [
            0.6666666666666666,
            "#35b779"
           ],
           [
            0.7777777777777778,
            "#6ece58"
           ],
           [
            0.8888888888888888,
            "#b5de2b"
           ],
           [
            1,
            "#fde725"
           ]
          ],
          "opacity": 0.8,
          "size": 6
         },
         "mode": "lines+markers",
         "name": "C",
         "text": [
          "A: 8",
          "A: 9",
          "A: 10",
          "A: 11",
          "A: 12",
          "A: 13",
          "A: 14",
          "A: 15",
          "A: 16",
          "A: 17",
          "A: 18",
          "A: 19",
          "A: 20",
          "A: 21",
          "A: 22",
          "A: 23"
         ],
         "type": "scatter3d",
         "x": [
          8,
          9,
          10,
          11,
          12,
          13,
          14,
          15,
          16,
          17,
          18,
          19,
          20,
          21,
          22,
          23
         ],
         "y": [
          6,
          6,
          6,
          6,
          6,
          6,
          6,
          6,
          6,
          6,
          6,
          6,
          6,
          6,
          6,
          6
         ],
         "z": [
          3101.5242,
          4337.4233,
          6032.0426,
          6676.4563,
          7680.1446,
          7469.8495,
          7520.3198,
          7100.1696,
          6922.0546,
          6558.0262,
          6426.1321,
          6118.274,
          5961.4356,
          5674,
          5421.0778,
          5077
         ]
        },
        {
         "line": {
          "width": 2
         },
         "marker": {
          "color": [
           3643.6724,
           5358.4023,
           6170.11,
           7238.8634,
           7475.6148,
           7699.4603,
           7373.7971,
           7286.2294,
           7038.5627,
           6948.5452,
           6709.1717,
           6609.0159,
           6378.5347,
           6236.6721,
           5887,
           5613
          ],
          "colorscale": [
           [
            0,
            "#440154"
           ],
           [
            0.1111111111111111,
            "#482878"
           ],
           [
            0.2222222222222222,
            "#3e4989"
           ],
           [
            0.3333333333333333,
            "#31688e"
           ],
           [
            0.4444444444444444,
            "#26828e"
           ],
           [
            0.5555555555555556,
            "#1f9e89"
           ],
           [
            0.6666666666666666,
            "#35b779"
           ],
           [
            0.7777777777777778,
            "#6ece58"
           ],
           [
            0.8888888888888888,
            "#b5de2b"
           ],
           [
            1,
            "#fde725"
           ]
          ],
          "opacity": 0.8,
          "size": 6
         },
         "mode": "lines+markers",
         "name": "N",
         "text": [
          "A: 10",
          "A: 11",
          "A: 12",
          "A: 13",
          "A: 14",
          "A: 15",
          "A: 16",
          "A: 17",
          "A: 18",
          "A: 19",
          "A: 20",
          "A: 21",
          "A: 22",
          "A: 23",
          "A: 24",
          "A: 25"
         ],
         "type": "scatter3d",
         "x": [
          10,
          11,
          12,
          13,
          14,
          15,
          16,
          17,
          18,
          19,
          20,
          21,
          22,
          23,
          24,
          25
         ],
         "y": [
          7,
          7,
          7,
          7,
          7,
          7,
          7,
          7,
          7,
          7,
          7,
          7,
          7,
          7,
          7,
          7
         ],
         "z": [
          3643.6724,
          5358.4023,
          6170.11,
          7238.8634,
          7475.6148,
          7699.4603,
          7373.7971,
          7286.2294,
          7038.5627,
          6948.5452,
          6709.1717,
          6609.0159,
          6378.5347,
          6236.6721,
          5887,
          5613
         ]
        },
        {
         "line": {
          "width": 2
         },
         "marker": {
          "color": [
           3162.4372,
           4881.9755,
           5811.7636,
           7052.2783,
           7463.6915,
           7976.2072,
           7750.7291,
           7767.0981,
           7566.4952,
           7568.5707,
           7389.3747,
           7364.8722,
           7163.4856,
           7039.6855,
           6727.8058,
           6497.479,
           6185,
           5988
          ],
          "colorscale": [
           [
            0,
            "#440154"
           ],
           [
            0.1111111111111111,
            "#482878"
           ],
           [
            0.2222222222222222,
            "#3e4989"
           ],
           [
            0.3333333333333333,
            "#31688e"
           ],
           [
            0.4444444444444444,
            "#26828e"
           ],
           [
            0.5555555555555556,
            "#1f9e89"
           ],
           [
            0.6666666666666666,
            "#35b779"
           ],
           [
            0.7777777777777778,
            "#6ece58"
           ],
           [
            0.8888888888888888,
            "#b5de2b"
           ],
           [
            1,
            "#fde725"
           ]
          ],
          "opacity": 0.8,
          "size": 6
         },
         "mode": "lines+markers",
         "name": "O",
         "text": [
          "A: 11",
          "A: 12",
          "A: 13",
          "A: 14",
          "A: 15",
          "A: 16",
          "A: 17",
          "A: 18",
          "A: 19",
          "A: 20",
          "A: 21",
          "A: 22",
          "A: 23",
          "A: 24",
          "A: 25",
          "A: 26",
          "A: 27",
          "A: 28"
         ],
         "type": "scatter3d",
         "x": [
          11,
          12,
          13,
          14,
          15,
          16,
          17,
          18,
          19,
          20,
          21,
          22,
          23,
          24,
          25,
          26,
          27,
          28
         ],
         "y": [
          8,
          8,
          8,
          8,
          8,
          8,
          8,
          8,
          8,
          8,
          8,
          8,
          8,
          8,
          8,
          8,
          8,
          8
         ],
         "z": [
          3162.4372,
          4881.9755,
          5811.7636,
          7052.2783,
          7463.6915,
          7976.2072,
          7750.7291,
          7767.0981,
          7566.4952,
          7568.5707,
          7389.3747,
          7364.8722,
          7163.4856,
          7039.6855,
          6727.8058,
          6497.479,
          6185,
          5988
         ]
        },
        {
         "line": {
          "width": 2
         },
         "marker": {
          "color": [
           4297,
           5285.2091,
           6497.4597,
           6964.049,
           7542.3284,
           7631.6383,
           7779.0192,
           7720.1351,
           7738.2934,
           7624.2954,
           7622.3447,
           7463.5831,
           7336.3065,
           7082.2497,
           6879.6662,
           6626.8567,
           6444.0314,
           6205,
           6011
          ],
          "colorscale": [
           [
            0,
            "#440154"
           ],
           [
            0.1111111111111111,
            "#482878"
           ],
           [
            0.2222222222222222,
            "#3e4989"
           ],
           [
            0.3333333333333333,
            "#31688e"
           ],
           [
            0.4444444444444444,
            "#26828e"
           ],
           [
            0.5555555555555556,
            "#1f9e89"
           ],
           [
            0.6666666666666666,
            "#35b779"
           ],
           [
            0.7777777777777778,
            "#6ece58"
           ],
           [
            0.8888888888888888,
            "#b5de2b"
           ],
           [
            1,
            "#fde725"
           ]
          ],
          "opacity": 0.8,
          "size": 6
         },
         "mode": "lines+markers",
         "name": "F",
         "text": [
          "A: 13",
          "A: 14",
          "A: 15",
          "A: 16",
          "A: 17",
          "A: 18",
          "A: 19",
          "A: 20",
          "A: 21",
          "A: 22",
          "A: 23",
          "A: 24",
          "A: 25",
          "A: 26",
          "A: 27",
          "A: 28",
          "A: 29",
          "A: 30",
          "A: 31"
         ],
         "type": "scatter3d",
         "x": [
          13,
          14,
          15,
          16,
          17,
          18,
          19,
          20,
          21,
          22,
          23,
          24,
          25,
          26,
          27,
          28,
          29,
          30,
          31
         ],
         "y": [
          9,
          9,
          9,
          9,
          9,
          9,
          9,
          9,
          9,
          9,
          9,
          9,
          9,
          9,
          9,
          9,
          9,
          9,
          9
         ],
         "z": [
          4297,
          5285.2091,
          6497.4597,
          6964.049,
          7542.3284,
          7631.6383,
          7779.0192,
          7720.1351,
          7738.2934,
          7624.2954,
          7622.3447,
          7463.5831,
          7336.3065,
          7082.2497,
          6879.6662,
          6626.8567,
          6444.0314,
          6205,
          6011
         ]
        },
        {
         "line": {
          "width": 2
         },
         "marker": {
          "color": [
           4868.7285,
           6083.1777,
           6640.4991,
           7341.2577,
           7567.3431,
           8032.2412,
           7971.7136,
           8080.4656,
           7955.2561,
           7993.3252,
           7839.7994,
           7751.911,
           7520.4151,
           7388.3463,
           7167.0673,
           7034.5317,
           6813.0902,
           6671,
           6436,
           6287
          ],
          "colorscale": [
           [
            0,
            "#440154"
           ],
           [
            0.1111111111111111,
            "#482878"
           ],
           [
            0.2222222222222222,
            "#3e4989"
           ],
           [
            0.3333333333333333,
            "#31688e"
           ],
           [
            0.4444444444444444,
            "#26828e"
           ],
           [
            0.5555555555555556,
            "#1f9e89"
           ],
           [
            0.6666666666666666,
            "#35b779"
           ],
           [
            0.7777777777777778,
            "#6ece58"
           ],
           [
            0.8888888888888888,
            "#b5de2b"
           ],
           [
            1,
            "#fde725"
           ]
          ],
          "opacity": 0.8,
          "size": 6
         },
         "mode": "lines+markers",
         "name": "Ne",
         "text": [
          "A: 15",
          "A: 16",
          "A: 17",
          "A: 18",
          "A: 19",
          "A: 20",
          "A: 21",
          "A: 22",
          "A: 23",
          "A: 24",
          "A: 25",
          "A: 26",
          "A: 27",
          "A: 28",
          "A: 29",
          "A: 30",
          "A: 31",
          "A: 32",
          "A: 33",
          "A: 34"
         ],
         "type": "scatter3d",
         "x": [
          15,
          16,
          17,
          18,
          19,
          20,
          21,
          22,
          23,
          24,
          25,
          26,
          27,
          28,
          29,
          30,
          31,
          32,
          33,
          34
         ],
         "y": [
          10,
          10,
          10,
          10,
          10,
          10,
          10,
          10,
          10,
          10,
          10,
          10,
          10,
          10,
          10,
          10,
          10,
          10,
          10,
          10
         ],
         "z": [
          4868.7285,
          6083.1777,
          6640.4991,
          7341.2577,
          7567.3431,
          8032.2412,
          7971.7136,
          8080.4656,
          7955.2561,
          7993.3252,
          7839.7994,
          7751.911,
          7520.4151,
          7388.3463,
          7167.0673,
          7034.5317,
          6813.0902,
          6671,
          6436,
          6287
         ]
        }
       ],
       "layout": {
        "height": 900,
        "legend": {
         "title": {
          "text": "Elemento Químico"
         }
        },
        "scene": {
         "xaxis": {
          "title": {
           "text": "Masa Atómica (A)"
          }
         },
         "yaxis": {
          "title": {
           "text": "Número Atómico (Z)"
          }
         },
         "zaxis": {
          "title": {
           "text": "$\\epsilon$ (keV)"
          }
         }
        },
        "template": {
         "data": {
          "bar": [
           {
            "error_x": {
             "color": "#2a3f5f"
            },
            "error_y": {
             "color": "#2a3f5f"
            },
            "marker": {
             "line": {
              "color": "#E5ECF6",
              "width": 0.5
             },
             "pattern": {
              "fillmode": "overlay",
              "size": 10,
              "solidity": 0.2
             }
            },
            "type": "bar"
           }
          ],
          "barpolar": [
           {
            "marker": {
             "line": {
              "color": "#E5ECF6",
              "width": 0.5
             },
             "pattern": {
              "fillmode": "overlay",
              "size": 10,
              "solidity": 0.2
             }
            },
            "type": "barpolar"
           }
          ],
          "carpet": [
           {
            "aaxis": {
             "endlinecolor": "#2a3f5f",
             "gridcolor": "white",
             "linecolor": "white",
             "minorgridcolor": "white",
             "startlinecolor": "#2a3f5f"
            },
            "baxis": {
             "endlinecolor": "#2a3f5f",
             "gridcolor": "white",
             "linecolor": "white",
             "minorgridcolor": "white",
             "startlinecolor": "#2a3f5f"
            },
            "type": "carpet"
           }
          ],
          "choropleth": [
           {
            "colorbar": {
             "outlinewidth": 0,
             "ticks": ""
            },
            "type": "choropleth"
           }
          ],
          "contour": [
           {
            "colorbar": {
             "outlinewidth": 0,
             "ticks": ""
            },
            "colorscale": [
             [
              0,
              "#0d0887"
             ],
             [
              0.1111111111111111,
              "#46039f"
             ],
             [
              0.2222222222222222,
              "#7201a8"
             ],
             [
              0.3333333333333333,
              "#9c179e"
             ],
             [
              0.4444444444444444,
              "#bd3786"
             ],
             [
              0.5555555555555556,
              "#d8576b"
             ],
             [
              0.6666666666666666,
              "#ed7953"
             ],
             [
              0.7777777777777778,
              "#fb9f3a"
             ],
             [
              0.8888888888888888,
              "#fdca26"
             ],
             [
              1,
              "#f0f921"
             ]
            ],
            "type": "contour"
           }
          ],
          "contourcarpet": [
           {
            "colorbar": {
             "outlinewidth": 0,
             "ticks": ""
            },
            "type": "contourcarpet"
           }
          ],
          "heatmap": [
           {
            "colorbar": {
             "outlinewidth": 0,
             "ticks": ""
            },
            "colorscale": [
             [
              0,
              "#0d0887"
             ],
             [
              0.1111111111111111,
              "#46039f"
             ],
             [
              0.2222222222222222,
              "#7201a8"
             ],
             [
              0.3333333333333333,
              "#9c179e"
             ],
             [
              0.4444444444444444,
              "#bd3786"
             ],
             [
              0.5555555555555556,
              "#d8576b"
             ],
             [
              0.6666666666666666,
              "#ed7953"
             ],
             [
              0.7777777777777778,
              "#fb9f3a"
             ],
             [
              0.8888888888888888,
              "#fdca26"
             ],
             [
              1,
              "#f0f921"
             ]
            ],
            "type": "heatmap"
           }
          ],
          "heatmapgl": [
           {
            "colorbar": {
             "outlinewidth": 0,
             "ticks": ""
            },
            "colorscale": [
             [
              0,
              "#0d0887"
             ],
             [
              0.1111111111111111,
              "#46039f"
             ],
             [
              0.2222222222222222,
              "#7201a8"
             ],
             [
              0.3333333333333333,
              "#9c179e"
             ],
             [
              0.4444444444444444,
              "#bd3786"
             ],
             [
              0.5555555555555556,
              "#d8576b"
             ],
             [
              0.6666666666666666,
              "#ed7953"
             ],
             [
              0.7777777777777778,
              "#fb9f3a"
             ],
             [
              0.8888888888888888,
              "#fdca26"
             ],
             [
              1,
              "#f0f921"
             ]
            ],
            "type": "heatmapgl"
           }
          ],
          "histogram": [
           {
            "marker": {
             "pattern": {
              "fillmode": "overlay",
              "size": 10,
              "solidity": 0.2
             }
            },
            "type": "histogram"
           }
          ],
          "histogram2d": [
           {
            "colorbar": {
             "outlinewidth": 0,
             "ticks": ""
            },
            "colorscale": [
             [
              0,
              "#0d0887"
             ],
             [
              0.1111111111111111,
              "#46039f"
             ],
             [
              0.2222222222222222,
              "#7201a8"
             ],
             [
              0.3333333333333333,
              "#9c179e"
             ],
             [
              0.4444444444444444,
              "#bd3786"
             ],
             [
              0.5555555555555556,
              "#d8576b"
             ],
             [
              0.6666666666666666,
              "#ed7953"
             ],
             [
              0.7777777777777778,
              "#fb9f3a"
             ],
             [
              0.8888888888888888,
              "#fdca26"
             ],
             [
              1,
              "#f0f921"
             ]
            ],
            "type": "histogram2d"
           }
          ],
          "histogram2dcontour": [
           {
            "colorbar": {
             "outlinewidth": 0,
             "ticks": ""
            },
            "colorscale": [
             [
              0,
              "#0d0887"
             ],
             [
              0.1111111111111111,
              "#46039f"
             ],
             [
              0.2222222222222222,
              "#7201a8"
             ],
             [
              0.3333333333333333,
              "#9c179e"
             ],
             [
              0.4444444444444444,
              "#bd3786"
             ],
             [
              0.5555555555555556,
              "#d8576b"
             ],
             [
              0.6666666666666666,
              "#ed7953"
             ],
             [
              0.7777777777777778,
              "#fb9f3a"
             ],
             [
              0.8888888888888888,
              "#fdca26"
             ],
             [
              1,
              "#f0f921"
             ]
            ],
            "type": "histogram2dcontour"
           }
          ],
          "mesh3d": [
           {
            "colorbar": {
             "outlinewidth": 0,
             "ticks": ""
            },
            "type": "mesh3d"
           }
          ],
          "parcoords": [
           {
            "line": {
             "colorbar": {
              "outlinewidth": 0,
              "ticks": ""
             }
            },
            "type": "parcoords"
           }
          ],
          "pie": [
           {
            "automargin": true,
            "type": "pie"
           }
          ],
          "scatter": [
           {
            "fillpattern": {
             "fillmode": "overlay",
             "size": 10,
             "solidity": 0.2
            },
            "type": "scatter"
           }
          ],
          "scatter3d": [
           {
            "line": {
             "colorbar": {
              "outlinewidth": 0,
              "ticks": ""
             }
            },
            "marker": {
             "colorbar": {
              "outlinewidth": 0,
              "ticks": ""
             }
            },
            "type": "scatter3d"
           }
          ],
          "scattercarpet": [
           {
            "marker": {
             "colorbar": {
              "outlinewidth": 0,
              "ticks": ""
             }
            },
            "type": "scattercarpet"
           }
          ],
          "scattergeo": [
           {
            "marker": {
             "colorbar": {
              "outlinewidth": 0,
              "ticks": ""
             }
            },
            "type": "scattergeo"
           }
          ],
          "scattergl": [
           {
            "marker": {
             "colorbar": {
              "outlinewidth": 0,
              "ticks": ""
             }
            },
            "type": "scattergl"
           }
          ],
          "scattermapbox": [
           {
            "marker": {
             "colorbar": {
              "outlinewidth": 0,
              "ticks": ""
             }
            },
            "type": "scattermapbox"
           }
          ],
          "scatterpolar": [
           {
            "marker": {
             "colorbar": {
              "outlinewidth": 0,
              "ticks": ""
             }
            },
            "type": "scatterpolar"
           }
          ],
          "scatterpolargl": [
           {
            "marker": {
             "colorbar": {
              "outlinewidth": 0,
              "ticks": ""
             }
            },
            "type": "scatterpolargl"
           }
          ],
          "scatterternary": [
           {
            "marker": {
             "colorbar": {
              "outlinewidth": 0,
              "ticks": ""
             }
            },
            "type": "scatterternary"
           }
          ],
          "surface": [
           {
            "colorbar": {
             "outlinewidth": 0,
             "ticks": ""
            },
            "colorscale": [
             [
              0,
              "#0d0887"
             ],
             [
              0.1111111111111111,
              "#46039f"
             ],
             [
              0.2222222222222222,
              "#7201a8"
             ],
             [
              0.3333333333333333,
              "#9c179e"
             ],
             [
              0.4444444444444444,
              "#bd3786"
             ],
             [
              0.5555555555555556,
              "#d8576b"
             ],
             [
              0.6666666666666666,
              "#ed7953"
             ],
             [
              0.7777777777777778,
              "#fb9f3a"
             ],
             [
              0.8888888888888888,
              "#fdca26"
             ],
             [
              1,
              "#f0f921"
             ]
            ],
            "type": "surface"
           }
          ],
          "table": [
           {
            "cells": {
             "fill": {
              "color": "#EBF0F8"
             },
             "line": {
              "color": "white"
             }
            },
            "header": {
             "fill": {
              "color": "#C8D4E3"
             },
             "line": {
              "color": "white"
             }
            },
            "type": "table"
           }
          ]
         },
         "layout": {
          "annotationdefaults": {
           "arrowcolor": "#2a3f5f",
           "arrowhead": 0,
           "arrowwidth": 1
          },
          "autotypenumbers": "strict",
          "coloraxis": {
           "colorbar": {
            "outlinewidth": 0,
            "ticks": ""
           }
          },
          "colorscale": {
           "diverging": [
            [
             0,
             "#8e0152"
            ],
            [
             0.1,
             "#c51b7d"
            ],
            [
             0.2,
             "#de77ae"
            ],
            [
             0.3,
             "#f1b6da"
            ],
            [
             0.4,
             "#fde0ef"
            ],
            [
             0.5,
             "#f7f7f7"
            ],
            [
             0.6,
             "#e6f5d0"
            ],
            [
             0.7,
             "#b8e186"
            ],
            [
             0.8,
             "#7fbc41"
            ],
            [
             0.9,
             "#4d9221"
            ],
            [
             1,
             "#276419"
            ]
           ],
           "sequential": [
            [
             0,
             "#0d0887"
            ],
            [
             0.1111111111111111,
             "#46039f"
            ],
            [
             0.2222222222222222,
             "#7201a8"
            ],
            [
             0.3333333333333333,
             "#9c179e"
            ],
            [
             0.4444444444444444,
             "#bd3786"
            ],
            [
             0.5555555555555556,
             "#d8576b"
            ],
            [
             0.6666666666666666,
             "#ed7953"
            ],
            [
             0.7777777777777778,
             "#fb9f3a"
            ],
            [
             0.8888888888888888,
             "#fdca26"
            ],
            [
             1,
             "#f0f921"
            ]
           ],
           "sequentialminus": [
            [
             0,
             "#0d0887"
            ],
            [
             0.1111111111111111,
             "#46039f"
            ],
            [
             0.2222222222222222,
             "#7201a8"
            ],
            [
             0.3333333333333333,
             "#9c179e"
            ],
            [
             0.4444444444444444,
             "#bd3786"
            ],
            [
             0.5555555555555556,
             "#d8576b"
            ],
            [
             0.6666666666666666,
             "#ed7953"
            ],
            [
             0.7777777777777778,
             "#fb9f3a"
            ],
            [
             0.8888888888888888,
             "#fdca26"
            ],
            [
             1,
             "#f0f921"
            ]
           ]
          },
          "colorway": [
           "#636efa",
           "#EF553B",
           "#00cc96",
           "#ab63fa",
           "#FFA15A",
           "#19d3f3",
           "#FF6692",
           "#B6E880",
           "#FF97FF",
           "#FECB52"
          ],
          "font": {
           "color": "#2a3f5f"
          },
          "geo": {
           "bgcolor": "white",
           "lakecolor": "white",
           "landcolor": "#E5ECF6",
           "showlakes": true,
           "showland": true,
           "subunitcolor": "white"
          },
          "hoverlabel": {
           "align": "left"
          },
          "hovermode": "closest",
          "mapbox": {
           "style": "light"
          },
          "paper_bgcolor": "white",
          "plot_bgcolor": "#E5ECF6",
          "polar": {
           "angularaxis": {
            "gridcolor": "white",
            "linecolor": "white",
            "ticks": ""
           },
           "bgcolor": "#E5ECF6",
           "radialaxis": {
            "gridcolor": "white",
            "linecolor": "white",
            "ticks": ""
           }
          },
          "scene": {
           "xaxis": {
            "backgroundcolor": "#E5ECF6",
            "gridcolor": "white",
            "gridwidth": 2,
            "linecolor": "white",
            "showbackground": true,
            "ticks": "",
            "zerolinecolor": "white"
           },
           "yaxis": {
            "backgroundcolor": "#E5ECF6",
            "gridcolor": "white",
            "gridwidth": 2,
            "linecolor": "white",
            "showbackground": true,
            "ticks": "",
            "zerolinecolor": "white"
           },
           "zaxis": {
            "backgroundcolor": "#E5ECF6",
            "gridcolor": "white",
            "gridwidth": 2,
            "linecolor": "white",
            "showbackground": true,
            "ticks": "",
            "zerolinecolor": "white"
           }
          },
          "shapedefaults": {
           "line": {
            "color": "#2a3f5f"
           }
          },
          "ternary": {
           "aaxis": {
            "gridcolor": "white",
            "linecolor": "white",
            "ticks": ""
           },
           "baxis": {
            "gridcolor": "white",
            "linecolor": "white",
            "ticks": ""
           },
           "bgcolor": "#E5ECF6",
           "caxis": {
            "gridcolor": "white",
            "linecolor": "white",
            "ticks": ""
           }
          },
          "title": {
           "x": 0.05
          },
          "xaxis": {
           "automargin": true,
           "gridcolor": "white",
           "linecolor": "white",
           "ticks": "",
           "title": {
            "standoff": 15
           },
           "zerolinecolor": "white",
           "zerolinewidth": 2
          },
          "yaxis": {
           "automargin": true,
           "gridcolor": "white",
           "linecolor": "white",
           "ticks": "",
           "title": {
            "standoff": 15
           },
           "zerolinecolor": "white",
           "zerolinewidth": 2
          }
         }
        },
        "title": {
         "text": "Energía de Ligadura vs Masa Atómica y Número Atómico (Z)"
        },
        "width": 900
       }
      }
     },
     "metadata": {},
     "output_type": "display_data"
    }
   ],
   "source": [
    "# Filtrar los datos para Helio (z=1,2,...,10)\n",
    "df_subset = df[df['z'].isin([1, 2, 3, 4, 5, 6, 7, 8, 9, 10])]\n",
    "\n",
    "# Crear un diccionario para mapear Z a símbolos de elementos\n",
    "z_to_symbol = {1: 'H',2: 'He', 3: 'Li', 4:'Be', 5:'B',6: 'C', 7:'N', 8:'O', 9:'F', 10:'Ne'}\n",
    "\n",
    "# Obtener los elementos únicos en df_subset\n",
    "elementos = df_subset['z'].unique()\n",
    "\n",
    "# Crear la figura 3D con un tamaño más grande\n",
    "fig = go.Figure()\n",
    "\n",
    "# Iterar sobre los elementos y agregar las curvas\n",
    "for elemento in elementos:\n",
    "    df_elemento = df_subset[df_subset['z'] == elemento]\n",
    "    # Agregar puntos y líneas\n",
    "    fig.add_trace(go.Scatter3d(\n",
    "        x=df_elemento['Masa_atomica'],\n",
    "        y=df_elemento['z'],\n",
    "        z=df_elemento['bindingEnergy(keV)'],\n",
    "        mode='lines+markers',\n",
    "        name=f'{z_to_symbol[elemento]}',\n",
    "        marker=dict(\n",
    "            size=6,\n",
    "            color=df_elemento['bindingEnergy(keV)'],\n",
    "            colorscale='Viridis',\n",
    "            opacity=0.8\n",
    "        ),\n",
    "        line=dict(width=2),\n",
    "        text=[f\"A: {a}\" for a in df_elemento['Masa_atomica']],\n",
    "    ))\n",
    "\n",
    "# Personalizar el diseño y ajustar el tamaño\n",
    "fig.update_layout(\n",
    "    scene=dict(\n",
    "        xaxis_title='Masa Atómica (A)',\n",
    "        yaxis_title='Número Atómico (Z)',\n",
    "        zaxis_title='$\\epsilon$ (keV)'\n",
    "    ),\n",
    "    title='Energía de Ligadura vs Masa Atómica y Número Atómico (Z)',\n",
    "    legend=dict(title='Elemento Químico'),\n",
    "    width=900,  # Ancho de la figura\n",
    "    height=900  # Alto de la figura\n",
    ")\n",
    "\n",
    "# Mostrar la gráfica interactiva\n",
    "fig.show()\n"
   ]
  },
  {
   "cell_type": "code",
   "execution_count": 8,
   "metadata": {},
   "outputs": [
    {
     "data": {
      "application/vnd.plotly.v1+json": {
       "config": {
        "plotlyServerURL": "https://plot.ly"
       },
       "data": [
        {
         "line": {
          "width": 2
         },
         "marker": {
          "color": [
           1112.2831,
           2827.2654,
           1720.4491,
           1336.3592,
           961.6395,
           940
          ],
          "colorscale": [
           [
            0,
            "#440154"
           ],
           [
            0.1111111111111111,
            "#482878"
           ],
           [
            0.2222222222222222,
            "#3e4989"
           ],
           [
            0.3333333333333333,
            "#31688e"
           ],
           [
            0.4444444444444444,
            "#26828e"
           ],
           [
            0.5555555555555556,
            "#1f9e89"
           ],
           [
            0.6666666666666666,
            "#35b779"
           ],
           [
            0.7777777777777778,
            "#6ece58"
           ],
           [
            0.8888888888888888,
            "#b5de2b"
           ],
           [
            1,
            "#fde725"
           ]
          ],
          "opacity": 0.8,
          "size": 6
         },
         "mode": "lines+markers",
         "name": "H",
         "text": [
          "A: 2",
          "A: 3",
          "A: 4",
          "A: 5",
          "A: 6",
          "A: 7"
         ],
         "type": "scatter3d",
         "x": [
          2,
          3,
          4,
          5,
          6,
          7
         ],
         "y": [
          1,
          1,
          1,
          1,
          1,
          1
         ],
         "z": [
          1112.2831,
          2827.2654,
          1720.4491,
          1336.3592,
          961.6395,
          940
         ]
        },
        {
         "line": {
          "width": 2
         },
         "marker": {
          "color": [
           2572.68044,
           7073.9156,
           5512.1325,
           4878.5199,
           4123.0578,
           3924.521,
           3349.038,
           2995.134
          ],
          "colorscale": [
           [
            0,
            "#440154"
           ],
           [
            0.1111111111111111,
            "#482878"
           ],
           [
            0.2222222222222222,
            "#3e4989"
           ],
           [
            0.3333333333333333,
            "#31688e"
           ],
           [
            0.4444444444444444,
            "#26828e"
           ],
           [
            0.5555555555555556,
            "#1f9e89"
           ],
           [
            0.6666666666666666,
            "#35b779"
           ],
           [
            0.7777777777777778,
            "#6ece58"
           ],
           [
            0.8888888888888888,
            "#b5de2b"
           ],
           [
            1,
            "#fde725"
           ]
          ],
          "opacity": 0.8,
          "size": 6
         },
         "mode": "lines+markers",
         "name": "He",
         "text": [
          "A: 3",
          "A: 4",
          "A: 5",
          "A: 6",
          "A: 7",
          "A: 8",
          "A: 9",
          "A: 10"
         ],
         "type": "scatter3d",
         "x": [
          3,
          4,
          5,
          6,
          7,
          8,
          9,
          10
         ],
         "y": [
          2,
          2,
          2,
          2,
          2,
          2,
          2,
          2
         ],
         "z": [
          2572.68044,
          7073.9156,
          5512.1325,
          4878.5199,
          4123.0578,
          3924.521,
          3349.038,
          2995.134
         ]
        },
        {
         "line": {
          "width": 2
         },
         "marker": {
          "color": [
           1153.7603,
           5266.1325,
           5332.3312,
           5606.4401,
           5159.7124,
           5037.7685,
           4531.3512,
           4155.3817,
           3791.5999,
           3507.6307
          ],
          "colorscale": [
           [
            0,
            "#440154"
           ],
           [
            0.1111111111111111,
            "#482878"
           ],
           [
            0.2222222222222222,
            "#3e4989"
           ],
           [
            0.3333333333333333,
            "#31688e"
           ],
           [
            0.4444444444444444,
            "#26828e"
           ],
           [
            0.5555555555555556,
            "#1f9e89"
           ],
           [
            0.6666666666666666,
            "#35b779"
           ],
           [
            0.7777777777777778,
            "#6ece58"
           ],
           [
            0.8888888888888888,
            "#b5de2b"
           ],
           [
            1,
            "#fde725"
           ]
          ],
          "opacity": 0.8,
          "size": 6
         },
         "mode": "lines+markers",
         "name": "Li",
         "text": [
          "A: 4",
          "A: 5",
          "A: 6",
          "A: 7",
          "A: 8",
          "A: 9",
          "A: 10",
          "A: 11",
          "A: 12",
          "A: 13"
         ],
         "type": "scatter3d",
         "x": [
          4,
          5,
          6,
          7,
          8,
          9,
          10,
          11,
          12,
          13
         ],
         "y": [
          3,
          3,
          3,
          3,
          3,
          3,
          3,
          3,
          3,
          3
         ],
         "z": [
          1153.7603,
          5266.1325,
          5332.3312,
          5606.4401,
          5159.7124,
          5037.7685,
          4531.3512,
          4155.3817,
          3791.5999,
          3507.6307
         ]
        },
        {
         "line": {
          "width": 2
         },
         "marker": {
          "color": [
           18,
           4487.2478,
           5371.5487,
           7062.4356,
           6462.6693,
           6497.6306,
           5952.5402,
           5720.7223,
           5241.4359,
           4993.8973,
           4540.9708,
           4285.2851
          ],
          "colorscale": [
           [
            0,
            "#440154"
           ],
           [
            0.1111111111111111,
            "#482878"
           ],
           [
            0.2222222222222222,
            "#3e4989"
           ],
           [
            0.3333333333333333,
            "#31688e"
           ],
           [
            0.4444444444444444,
            "#26828e"
           ],
           [
            0.5555555555555556,
            "#1f9e89"
           ],
           [
            0.6666666666666666,
            "#35b779"
           ],
           [
            0.7777777777777778,
            "#6ece58"
           ],
           [
            0.8888888888888888,
            "#b5de2b"
           ],
           [
            1,
            "#fde725"
           ]
          ],
          "opacity": 0.8,
          "size": 6
         },
         "mode": "lines+markers",
         "name": "Be",
         "text": [
          "A: 5",
          "A: 6",
          "A: 7",
          "A: 8",
          "A: 9",
          "A: 10",
          "A: 11",
          "A: 12",
          "A: 13",
          "A: 14",
          "A: 15",
          "A: 16"
         ],
         "type": "scatter3d",
         "x": [
          5,
          6,
          7,
          8,
          9,
          10,
          11,
          12,
          13,
          14,
          15,
          16
         ],
         "y": [
          4,
          4,
          4,
          4,
          4,
          4,
          4,
          4,
          4,
          4,
          4,
          4
         ],
         "z": [
          18,
          4487.2478,
          5371.5487,
          7062.4356,
          6462.6693,
          6497.6306,
          5952.5402,
          5720.7223,
          5241.4359,
          4993.8973,
          4540.9708,
          4285.2851
         ]
        },
        {
         "line": {
          "width": 2
         },
         "marker": {
          "color": [
           -467,
           3558.7055,
           4717.1551,
           6257.0713,
           6475.0835,
           6927.7323,
           6631.2237,
           6496.4194,
           6101.6451,
           5880.0438,
           5507.3535,
           5269.6677,
           4976.6306,
           4719.6346,
           4405.6529,
           4152.5265
          ],
          "colorscale": [
           [
            0,
            "#440154"
           ],
           [
            0.1111111111111111,
            "#482878"
           ],
           [
            0.2222222222222222,
            "#3e4989"
           ],
           [
            0.3333333333333333,
            "#31688e"
           ],
           [
            0.4444444444444444,
            "#26828e"
           ],
           [
            0.5555555555555556,
            "#1f9e89"
           ],
           [
            0.6666666666666666,
            "#35b779"
           ],
           [
            0.7777777777777778,
            "#6ece58"
           ],
           [
            0.8888888888888888,
            "#b5de2b"
           ],
           [
            1,
            "#fde725"
           ]
          ],
          "opacity": 0.8,
          "size": 6
         },
         "mode": "lines+markers",
         "name": "B",
         "text": [
          "A: 6",
          "A: 7",
          "A: 8",
          "A: 9",
          "A: 10",
          "A: 11",
          "A: 12",
          "A: 13",
          "A: 14",
          "A: 15",
          "A: 16",
          "A: 17",
          "A: 18",
          "A: 19",
          "A: 20",
          "A: 21"
         ],
         "type": "scatter3d",
         "x": [
          6,
          7,
          8,
          9,
          10,
          11,
          12,
          13,
          14,
          15,
          16,
          17,
          18,
          19,
          20,
          21
         ],
         "y": [
          5,
          5,
          5,
          5,
          5,
          5,
          5,
          5,
          5,
          5,
          5,
          5,
          5,
          5,
          5,
          5
         ],
         "z": [
          -467,
          3558.7055,
          4717.1551,
          6257.0713,
          6475.0835,
          6927.7323,
          6631.2237,
          6496.4194,
          6101.6451,
          5880.0438,
          5507.3535,
          5269.6677,
          4976.6306,
          4719.6346,
          4405.6529,
          4152.5265
         ]
        },
        {
         "line": {
          "width": 2
         },
         "marker": {
          "color": [
           3101.5242,
           4337.4233,
           6032.0426,
           6676.4563,
           7680.1446,
           7469.8495,
           7520.3198,
           7100.1696,
           6922.0546,
           6558.0262,
           6426.1321,
           6118.274,
           5961.4356,
           5674,
           5421.0778,
           5077
          ],
          "colorscale": [
           [
            0,
            "#440154"
           ],
           [
            0.1111111111111111,
            "#482878"
           ],
           [
            0.2222222222222222,
            "#3e4989"
           ],
           [
            0.3333333333333333,
            "#31688e"
           ],
           [
            0.4444444444444444,
            "#26828e"
           ],
           [
            0.5555555555555556,
            "#1f9e89"
           ],
           [
            0.6666666666666666,
            "#35b779"
           ],
           [
            0.7777777777777778,
            "#6ece58"
           ],
           [
            0.8888888888888888,
            "#b5de2b"
           ],
           [
            1,
            "#fde725"
           ]
          ],
          "opacity": 0.8,
          "size": 6
         },
         "mode": "lines+markers",
         "name": "C",
         "text": [
          "A: 8",
          "A: 9",
          "A: 10",
          "A: 11",
          "A: 12",
          "A: 13",
          "A: 14",
          "A: 15",
          "A: 16",
          "A: 17",
          "A: 18",
          "A: 19",
          "A: 20",
          "A: 21",
          "A: 22",
          "A: 23"
         ],
         "type": "scatter3d",
         "x": [
          8,
          9,
          10,
          11,
          12,
          13,
          14,
          15,
          16,
          17,
          18,
          19,
          20,
          21,
          22,
          23
         ],
         "y": [
          6,
          6,
          6,
          6,
          6,
          6,
          6,
          6,
          6,
          6,
          6,
          6,
          6,
          6,
          6,
          6
         ],
         "z": [
          3101.5242,
          4337.4233,
          6032.0426,
          6676.4563,
          7680.1446,
          7469.8495,
          7520.3198,
          7100.1696,
          6922.0546,
          6558.0262,
          6426.1321,
          6118.274,
          5961.4356,
          5674,
          5421.0778,
          5077
         ]
        },
        {
         "line": {
          "width": 2
         },
         "marker": {
          "color": [
           3643.6724,
           5358.4023,
           6170.11,
           7238.8634,
           7475.6148,
           7699.4603,
           7373.7971,
           7286.2294,
           7038.5627,
           6948.5452,
           6709.1717,
           6609.0159,
           6378.5347,
           6236.6721,
           5887,
           5613
          ],
          "colorscale": [
           [
            0,
            "#440154"
           ],
           [
            0.1111111111111111,
            "#482878"
           ],
           [
            0.2222222222222222,
            "#3e4989"
           ],
           [
            0.3333333333333333,
            "#31688e"
           ],
           [
            0.4444444444444444,
            "#26828e"
           ],
           [
            0.5555555555555556,
            "#1f9e89"
           ],
           [
            0.6666666666666666,
            "#35b779"
           ],
           [
            0.7777777777777778,
            "#6ece58"
           ],
           [
            0.8888888888888888,
            "#b5de2b"
           ],
           [
            1,
            "#fde725"
           ]
          ],
          "opacity": 0.8,
          "size": 6
         },
         "mode": "lines+markers",
         "name": "N",
         "text": [
          "A: 10",
          "A: 11",
          "A: 12",
          "A: 13",
          "A: 14",
          "A: 15",
          "A: 16",
          "A: 17",
          "A: 18",
          "A: 19",
          "A: 20",
          "A: 21",
          "A: 22",
          "A: 23",
          "A: 24",
          "A: 25"
         ],
         "type": "scatter3d",
         "x": [
          10,
          11,
          12,
          13,
          14,
          15,
          16,
          17,
          18,
          19,
          20,
          21,
          22,
          23,
          24,
          25
         ],
         "y": [
          7,
          7,
          7,
          7,
          7,
          7,
          7,
          7,
          7,
          7,
          7,
          7,
          7,
          7,
          7,
          7
         ],
         "z": [
          3643.6724,
          5358.4023,
          6170.11,
          7238.8634,
          7475.6148,
          7699.4603,
          7373.7971,
          7286.2294,
          7038.5627,
          6948.5452,
          6709.1717,
          6609.0159,
          6378.5347,
          6236.6721,
          5887,
          5613
         ]
        },
        {
         "line": {
          "width": 2
         },
         "marker": {
          "color": [
           3162.4372,
           4881.9755,
           5811.7636,
           7052.2783,
           7463.6915,
           7976.2072,
           7750.7291,
           7767.0981,
           7566.4952,
           7568.5707,
           7389.3747,
           7364.8722,
           7163.4856,
           7039.6855,
           6727.8058,
           6497.479,
           6185,
           5988
          ],
          "colorscale": [
           [
            0,
            "#440154"
           ],
           [
            0.1111111111111111,
            "#482878"
           ],
           [
            0.2222222222222222,
            "#3e4989"
           ],
           [
            0.3333333333333333,
            "#31688e"
           ],
           [
            0.4444444444444444,
            "#26828e"
           ],
           [
            0.5555555555555556,
            "#1f9e89"
           ],
           [
            0.6666666666666666,
            "#35b779"
           ],
           [
            0.7777777777777778,
            "#6ece58"
           ],
           [
            0.8888888888888888,
            "#b5de2b"
           ],
           [
            1,
            "#fde725"
           ]
          ],
          "opacity": 0.8,
          "size": 6
         },
         "mode": "lines+markers",
         "name": "O",
         "text": [
          "A: 11",
          "A: 12",
          "A: 13",
          "A: 14",
          "A: 15",
          "A: 16",
          "A: 17",
          "A: 18",
          "A: 19",
          "A: 20",
          "A: 21",
          "A: 22",
          "A: 23",
          "A: 24",
          "A: 25",
          "A: 26",
          "A: 27",
          "A: 28"
         ],
         "type": "scatter3d",
         "x": [
          11,
          12,
          13,
          14,
          15,
          16,
          17,
          18,
          19,
          20,
          21,
          22,
          23,
          24,
          25,
          26,
          27,
          28
         ],
         "y": [
          8,
          8,
          8,
          8,
          8,
          8,
          8,
          8,
          8,
          8,
          8,
          8,
          8,
          8,
          8,
          8,
          8,
          8
         ],
         "z": [
          3162.4372,
          4881.9755,
          5811.7636,
          7052.2783,
          7463.6915,
          7976.2072,
          7750.7291,
          7767.0981,
          7566.4952,
          7568.5707,
          7389.3747,
          7364.8722,
          7163.4856,
          7039.6855,
          6727.8058,
          6497.479,
          6185,
          5988
         ]
        },
        {
         "line": {
          "width": 2
         },
         "marker": {
          "color": [
           4297,
           5285.2091,
           6497.4597,
           6964.049,
           7542.3284,
           7631.6383,
           7779.0192,
           7720.1351,
           7738.2934,
           7624.2954,
           7622.3447,
           7463.5831,
           7336.3065,
           7082.2497,
           6879.6662,
           6626.8567,
           6444.0314,
           6205,
           6011
          ],
          "colorscale": [
           [
            0,
            "#440154"
           ],
           [
            0.1111111111111111,
            "#482878"
           ],
           [
            0.2222222222222222,
            "#3e4989"
           ],
           [
            0.3333333333333333,
            "#31688e"
           ],
           [
            0.4444444444444444,
            "#26828e"
           ],
           [
            0.5555555555555556,
            "#1f9e89"
           ],
           [
            0.6666666666666666,
            "#35b779"
           ],
           [
            0.7777777777777778,
            "#6ece58"
           ],
           [
            0.8888888888888888,
            "#b5de2b"
           ],
           [
            1,
            "#fde725"
           ]
          ],
          "opacity": 0.8,
          "size": 6
         },
         "mode": "lines+markers",
         "name": "F",
         "text": [
          "A: 13",
          "A: 14",
          "A: 15",
          "A: 16",
          "A: 17",
          "A: 18",
          "A: 19",
          "A: 20",
          "A: 21",
          "A: 22",
          "A: 23",
          "A: 24",
          "A: 25",
          "A: 26",
          "A: 27",
          "A: 28",
          "A: 29",
          "A: 30",
          "A: 31"
         ],
         "type": "scatter3d",
         "x": [
          13,
          14,
          15,
          16,
          17,
          18,
          19,
          20,
          21,
          22,
          23,
          24,
          25,
          26,
          27,
          28,
          29,
          30,
          31
         ],
         "y": [
          9,
          9,
          9,
          9,
          9,
          9,
          9,
          9,
          9,
          9,
          9,
          9,
          9,
          9,
          9,
          9,
          9,
          9,
          9
         ],
         "z": [
          4297,
          5285.2091,
          6497.4597,
          6964.049,
          7542.3284,
          7631.6383,
          7779.0192,
          7720.1351,
          7738.2934,
          7624.2954,
          7622.3447,
          7463.5831,
          7336.3065,
          7082.2497,
          6879.6662,
          6626.8567,
          6444.0314,
          6205,
          6011
         ]
        },
        {
         "line": {
          "width": 2
         },
         "marker": {
          "color": [
           4868.7285,
           6083.1777,
           6640.4991,
           7341.2577,
           7567.3431,
           8032.2412,
           7971.7136,
           8080.4656,
           7955.2561,
           7993.3252,
           7839.7994,
           7751.911,
           7520.4151,
           7388.3463,
           7167.0673,
           7034.5317,
           6813.0902,
           6671,
           6436,
           6287
          ],
          "colorscale": [
           [
            0,
            "#440154"
           ],
           [
            0.1111111111111111,
            "#482878"
           ],
           [
            0.2222222222222222,
            "#3e4989"
           ],
           [
            0.3333333333333333,
            "#31688e"
           ],
           [
            0.4444444444444444,
            "#26828e"
           ],
           [
            0.5555555555555556,
            "#1f9e89"
           ],
           [
            0.6666666666666666,
            "#35b779"
           ],
           [
            0.7777777777777778,
            "#6ece58"
           ],
           [
            0.8888888888888888,
            "#b5de2b"
           ],
           [
            1,
            "#fde725"
           ]
          ],
          "opacity": 0.8,
          "size": 6
         },
         "mode": "lines+markers",
         "name": "Ne",
         "text": [
          "A: 15",
          "A: 16",
          "A: 17",
          "A: 18",
          "A: 19",
          "A: 20",
          "A: 21",
          "A: 22",
          "A: 23",
          "A: 24",
          "A: 25",
          "A: 26",
          "A: 27",
          "A: 28",
          "A: 29",
          "A: 30",
          "A: 31",
          "A: 32",
          "A: 33",
          "A: 34"
         ],
         "type": "scatter3d",
         "x": [
          15,
          16,
          17,
          18,
          19,
          20,
          21,
          22,
          23,
          24,
          25,
          26,
          27,
          28,
          29,
          30,
          31,
          32,
          33,
          34
         ],
         "y": [
          10,
          10,
          10,
          10,
          10,
          10,
          10,
          10,
          10,
          10,
          10,
          10,
          10,
          10,
          10,
          10,
          10,
          10,
          10,
          10
         ],
         "z": [
          4868.7285,
          6083.1777,
          6640.4991,
          7341.2577,
          7567.3431,
          8032.2412,
          7971.7136,
          8080.4656,
          7955.2561,
          7993.3252,
          7839.7994,
          7751.911,
          7520.4151,
          7388.3463,
          7167.0673,
          7034.5317,
          6813.0902,
          6671,
          6436,
          6287
         ]
        },
        {
         "hoverinfo": "text",
         "hovertext": [
          "Energía de Ligadura Máxima: 2827.2654 keV<br>Elemento: H",
          "Energía de Ligadura Máxima: 7073.9156 keV<br>Elemento: He",
          "Energía de Ligadura Máxima: 5606.4401 keV<br>Elemento: Li",
          "Energía de Ligadura Máxima: 7062.4356 keV<br>Elemento: Be",
          "Energía de Ligadura Máxima: 6927.7323 keV<br>Elemento: B",
          "Energía de Ligadura Máxima: 7680.1446 keV<br>Elemento: C",
          "Energía de Ligadura Máxima: 7699.4603 keV<br>Elemento: N",
          "Energía de Ligadura Máxima: 7976.2072 keV<br>Elemento: O",
          "Energía de Ligadura Máxima: 7779.0192 keV<br>Elemento: F",
          "Energía de Ligadura Máxima: 8080.4656 keV<br>Elemento: Ne"
         ],
         "marker": {
          "color": "red",
          "line": {
           "width": 2
          },
          "size": 10,
          "symbol": "circle"
         },
         "mode": "lines+markers",
         "name": "Máxima Energía de Ligadura",
         "type": "scatter3d",
         "x": [
          3,
          4,
          7,
          8,
          11,
          12,
          15,
          16,
          19,
          22
         ],
         "y": [
          1,
          2,
          3,
          4,
          5,
          6,
          7,
          8,
          9,
          10
         ],
         "z": [
          0,
          0,
          0,
          0,
          0,
          0,
          0,
          0,
          0,
          0
         ]
        }
       ],
       "layout": {
        "height": 900,
        "legend": {
         "title": {
          "text": "Elemento Químico"
         }
        },
        "scene": {
         "xaxis": {
          "title": {
           "text": "Masa Atómica (A)"
          }
         },
         "yaxis": {
          "title": {
           "text": "Número Atómico (Z)"
          }
         },
         "zaxis": {
          "title": {
           "text": "$\\epsilon$ (keV)"
          }
         }
        },
        "template": {
         "data": {
          "bar": [
           {
            "error_x": {
             "color": "#2a3f5f"
            },
            "error_y": {
             "color": "#2a3f5f"
            },
            "marker": {
             "line": {
              "color": "#E5ECF6",
              "width": 0.5
             },
             "pattern": {
              "fillmode": "overlay",
              "size": 10,
              "solidity": 0.2
             }
            },
            "type": "bar"
           }
          ],
          "barpolar": [
           {
            "marker": {
             "line": {
              "color": "#E5ECF6",
              "width": 0.5
             },
             "pattern": {
              "fillmode": "overlay",
              "size": 10,
              "solidity": 0.2
             }
            },
            "type": "barpolar"
           }
          ],
          "carpet": [
           {
            "aaxis": {
             "endlinecolor": "#2a3f5f",
             "gridcolor": "white",
             "linecolor": "white",
             "minorgridcolor": "white",
             "startlinecolor": "#2a3f5f"
            },
            "baxis": {
             "endlinecolor": "#2a3f5f",
             "gridcolor": "white",
             "linecolor": "white",
             "minorgridcolor": "white",
             "startlinecolor": "#2a3f5f"
            },
            "type": "carpet"
           }
          ],
          "choropleth": [
           {
            "colorbar": {
             "outlinewidth": 0,
             "ticks": ""
            },
            "type": "choropleth"
           }
          ],
          "contour": [
           {
            "colorbar": {
             "outlinewidth": 0,
             "ticks": ""
            },
            "colorscale": [
             [
              0,
              "#0d0887"
             ],
             [
              0.1111111111111111,
              "#46039f"
             ],
             [
              0.2222222222222222,
              "#7201a8"
             ],
             [
              0.3333333333333333,
              "#9c179e"
             ],
             [
              0.4444444444444444,
              "#bd3786"
             ],
             [
              0.5555555555555556,
              "#d8576b"
             ],
             [
              0.6666666666666666,
              "#ed7953"
             ],
             [
              0.7777777777777778,
              "#fb9f3a"
             ],
             [
              0.8888888888888888,
              "#fdca26"
             ],
             [
              1,
              "#f0f921"
             ]
            ],
            "type": "contour"
           }
          ],
          "contourcarpet": [
           {
            "colorbar": {
             "outlinewidth": 0,
             "ticks": ""
            },
            "type": "contourcarpet"
           }
          ],
          "heatmap": [
           {
            "colorbar": {
             "outlinewidth": 0,
             "ticks": ""
            },
            "colorscale": [
             [
              0,
              "#0d0887"
             ],
             [
              0.1111111111111111,
              "#46039f"
             ],
             [
              0.2222222222222222,
              "#7201a8"
             ],
             [
              0.3333333333333333,
              "#9c179e"
             ],
             [
              0.4444444444444444,
              "#bd3786"
             ],
             [
              0.5555555555555556,
              "#d8576b"
             ],
             [
              0.6666666666666666,
              "#ed7953"
             ],
             [
              0.7777777777777778,
              "#fb9f3a"
             ],
             [
              0.8888888888888888,
              "#fdca26"
             ],
             [
              1,
              "#f0f921"
             ]
            ],
            "type": "heatmap"
           }
          ],
          "heatmapgl": [
           {
            "colorbar": {
             "outlinewidth": 0,
             "ticks": ""
            },
            "colorscale": [
             [
              0,
              "#0d0887"
             ],
             [
              0.1111111111111111,
              "#46039f"
             ],
             [
              0.2222222222222222,
              "#7201a8"
             ],
             [
              0.3333333333333333,
              "#9c179e"
             ],
             [
              0.4444444444444444,
              "#bd3786"
             ],
             [
              0.5555555555555556,
              "#d8576b"
             ],
             [
              0.6666666666666666,
              "#ed7953"
             ],
             [
              0.7777777777777778,
              "#fb9f3a"
             ],
             [
              0.8888888888888888,
              "#fdca26"
             ],
             [
              1,
              "#f0f921"
             ]
            ],
            "type": "heatmapgl"
           }
          ],
          "histogram": [
           {
            "marker": {
             "pattern": {
              "fillmode": "overlay",
              "size": 10,
              "solidity": 0.2
             }
            },
            "type": "histogram"
           }
          ],
          "histogram2d": [
           {
            "colorbar": {
             "outlinewidth": 0,
             "ticks": ""
            },
            "colorscale": [
             [
              0,
              "#0d0887"
             ],
             [
              0.1111111111111111,
              "#46039f"
             ],
             [
              0.2222222222222222,
              "#7201a8"
             ],
             [
              0.3333333333333333,
              "#9c179e"
             ],
             [
              0.4444444444444444,
              "#bd3786"
             ],
             [
              0.5555555555555556,
              "#d8576b"
             ],
             [
              0.6666666666666666,
              "#ed7953"
             ],
             [
              0.7777777777777778,
              "#fb9f3a"
             ],
             [
              0.8888888888888888,
              "#fdca26"
             ],
             [
              1,
              "#f0f921"
             ]
            ],
            "type": "histogram2d"
           }
          ],
          "histogram2dcontour": [
           {
            "colorbar": {
             "outlinewidth": 0,
             "ticks": ""
            },
            "colorscale": [
             [
              0,
              "#0d0887"
             ],
             [
              0.1111111111111111,
              "#46039f"
             ],
             [
              0.2222222222222222,
              "#7201a8"
             ],
             [
              0.3333333333333333,
              "#9c179e"
             ],
             [
              0.4444444444444444,
              "#bd3786"
             ],
             [
              0.5555555555555556,
              "#d8576b"
             ],
             [
              0.6666666666666666,
              "#ed7953"
             ],
             [
              0.7777777777777778,
              "#fb9f3a"
             ],
             [
              0.8888888888888888,
              "#fdca26"
             ],
             [
              1,
              "#f0f921"
             ]
            ],
            "type": "histogram2dcontour"
           }
          ],
          "mesh3d": [
           {
            "colorbar": {
             "outlinewidth": 0,
             "ticks": ""
            },
            "type": "mesh3d"
           }
          ],
          "parcoords": [
           {
            "line": {
             "colorbar": {
              "outlinewidth": 0,
              "ticks": ""
             }
            },
            "type": "parcoords"
           }
          ],
          "pie": [
           {
            "automargin": true,
            "type": "pie"
           }
          ],
          "scatter": [
           {
            "fillpattern": {
             "fillmode": "overlay",
             "size": 10,
             "solidity": 0.2
            },
            "type": "scatter"
           }
          ],
          "scatter3d": [
           {
            "line": {
             "colorbar": {
              "outlinewidth": 0,
              "ticks": ""
             }
            },
            "marker": {
             "colorbar": {
              "outlinewidth": 0,
              "ticks": ""
             }
            },
            "type": "scatter3d"
           }
          ],
          "scattercarpet": [
           {
            "marker": {
             "colorbar": {
              "outlinewidth": 0,
              "ticks": ""
             }
            },
            "type": "scattercarpet"
           }
          ],
          "scattergeo": [
           {
            "marker": {
             "colorbar": {
              "outlinewidth": 0,
              "ticks": ""
             }
            },
            "type": "scattergeo"
           }
          ],
          "scattergl": [
           {
            "marker": {
             "colorbar": {
              "outlinewidth": 0,
              "ticks": ""
             }
            },
            "type": "scattergl"
           }
          ],
          "scattermapbox": [
           {
            "marker": {
             "colorbar": {
              "outlinewidth": 0,
              "ticks": ""
             }
            },
            "type": "scattermapbox"
           }
          ],
          "scatterpolar": [
           {
            "marker": {
             "colorbar": {
              "outlinewidth": 0,
              "ticks": ""
             }
            },
            "type": "scatterpolar"
           }
          ],
          "scatterpolargl": [
           {
            "marker": {
             "colorbar": {
              "outlinewidth": 0,
              "ticks": ""
             }
            },
            "type": "scatterpolargl"
           }
          ],
          "scatterternary": [
           {
            "marker": {
             "colorbar": {
              "outlinewidth": 0,
              "ticks": ""
             }
            },
            "type": "scatterternary"
           }
          ],
          "surface": [
           {
            "colorbar": {
             "outlinewidth": 0,
             "ticks": ""
            },
            "colorscale": [
             [
              0,
              "#0d0887"
             ],
             [
              0.1111111111111111,
              "#46039f"
             ],
             [
              0.2222222222222222,
              "#7201a8"
             ],
             [
              0.3333333333333333,
              "#9c179e"
             ],
             [
              0.4444444444444444,
              "#bd3786"
             ],
             [
              0.5555555555555556,
              "#d8576b"
             ],
             [
              0.6666666666666666,
              "#ed7953"
             ],
             [
              0.7777777777777778,
              "#fb9f3a"
             ],
             [
              0.8888888888888888,
              "#fdca26"
             ],
             [
              1,
              "#f0f921"
             ]
            ],
            "type": "surface"
           }
          ],
          "table": [
           {
            "cells": {
             "fill": {
              "color": "#EBF0F8"
             },
             "line": {
              "color": "white"
             }
            },
            "header": {
             "fill": {
              "color": "#C8D4E3"
             },
             "line": {
              "color": "white"
             }
            },
            "type": "table"
           }
          ]
         },
         "layout": {
          "annotationdefaults": {
           "arrowcolor": "#2a3f5f",
           "arrowhead": 0,
           "arrowwidth": 1
          },
          "autotypenumbers": "strict",
          "coloraxis": {
           "colorbar": {
            "outlinewidth": 0,
            "ticks": ""
           }
          },
          "colorscale": {
           "diverging": [
            [
             0,
             "#8e0152"
            ],
            [
             0.1,
             "#c51b7d"
            ],
            [
             0.2,
             "#de77ae"
            ],
            [
             0.3,
             "#f1b6da"
            ],
            [
             0.4,
             "#fde0ef"
            ],
            [
             0.5,
             "#f7f7f7"
            ],
            [
             0.6,
             "#e6f5d0"
            ],
            [
             0.7,
             "#b8e186"
            ],
            [
             0.8,
             "#7fbc41"
            ],
            [
             0.9,
             "#4d9221"
            ],
            [
             1,
             "#276419"
            ]
           ],
           "sequential": [
            [
             0,
             "#0d0887"
            ],
            [
             0.1111111111111111,
             "#46039f"
            ],
            [
             0.2222222222222222,
             "#7201a8"
            ],
            [
             0.3333333333333333,
             "#9c179e"
            ],
            [
             0.4444444444444444,
             "#bd3786"
            ],
            [
             0.5555555555555556,
             "#d8576b"
            ],
            [
             0.6666666666666666,
             "#ed7953"
            ],
            [
             0.7777777777777778,
             "#fb9f3a"
            ],
            [
             0.8888888888888888,
             "#fdca26"
            ],
            [
             1,
             "#f0f921"
            ]
           ],
           "sequentialminus": [
            [
             0,
             "#0d0887"
            ],
            [
             0.1111111111111111,
             "#46039f"
            ],
            [
             0.2222222222222222,
             "#7201a8"
            ],
            [
             0.3333333333333333,
             "#9c179e"
            ],
            [
             0.4444444444444444,
             "#bd3786"
            ],
            [
             0.5555555555555556,
             "#d8576b"
            ],
            [
             0.6666666666666666,
             "#ed7953"
            ],
            [
             0.7777777777777778,
             "#fb9f3a"
            ],
            [
             0.8888888888888888,
             "#fdca26"
            ],
            [
             1,
             "#f0f921"
            ]
           ]
          },
          "colorway": [
           "#636efa",
           "#EF553B",
           "#00cc96",
           "#ab63fa",
           "#FFA15A",
           "#19d3f3",
           "#FF6692",
           "#B6E880",
           "#FF97FF",
           "#FECB52"
          ],
          "font": {
           "color": "#2a3f5f"
          },
          "geo": {
           "bgcolor": "white",
           "lakecolor": "white",
           "landcolor": "#E5ECF6",
           "showlakes": true,
           "showland": true,
           "subunitcolor": "white"
          },
          "hoverlabel": {
           "align": "left"
          },
          "hovermode": "closest",
          "mapbox": {
           "style": "light"
          },
          "paper_bgcolor": "white",
          "plot_bgcolor": "#E5ECF6",
          "polar": {
           "angularaxis": {
            "gridcolor": "white",
            "linecolor": "white",
            "ticks": ""
           },
           "bgcolor": "#E5ECF6",
           "radialaxis": {
            "gridcolor": "white",
            "linecolor": "white",
            "ticks": ""
           }
          },
          "scene": {
           "xaxis": {
            "backgroundcolor": "#E5ECF6",
            "gridcolor": "white",
            "gridwidth": 2,
            "linecolor": "white",
            "showbackground": true,
            "ticks": "",
            "zerolinecolor": "white"
           },
           "yaxis": {
            "backgroundcolor": "#E5ECF6",
            "gridcolor": "white",
            "gridwidth": 2,
            "linecolor": "white",
            "showbackground": true,
            "ticks": "",
            "zerolinecolor": "white"
           },
           "zaxis": {
            "backgroundcolor": "#E5ECF6",
            "gridcolor": "white",
            "gridwidth": 2,
            "linecolor": "white",
            "showbackground": true,
            "ticks": "",
            "zerolinecolor": "white"
           }
          },
          "shapedefaults": {
           "line": {
            "color": "#2a3f5f"
           }
          },
          "ternary": {
           "aaxis": {
            "gridcolor": "white",
            "linecolor": "white",
            "ticks": ""
           },
           "baxis": {
            "gridcolor": "white",
            "linecolor": "white",
            "ticks": ""
           },
           "bgcolor": "#E5ECF6",
           "caxis": {
            "gridcolor": "white",
            "linecolor": "white",
            "ticks": ""
           }
          },
          "title": {
           "x": 0.05
          },
          "xaxis": {
           "automargin": true,
           "gridcolor": "white",
           "linecolor": "white",
           "ticks": "",
           "title": {
            "standoff": 15
           },
           "zerolinecolor": "white",
           "zerolinewidth": 2
          },
          "yaxis": {
           "automargin": true,
           "gridcolor": "white",
           "linecolor": "white",
           "ticks": "",
           "title": {
            "standoff": 15
           },
           "zerolinecolor": "white",
           "zerolinewidth": 2
          }
         }
        },
        "title": {
         "text": "Energía de Ligadura vs Masa Atómica y Número Atómico (Z)"
        },
        "width": 900
       }
      }
     },
     "metadata": {},
     "output_type": "display_data"
    }
   ],
   "source": [
    "\n",
    "# Filtrar los datos para Helio (z=1,2,...,10)\n",
    "df_subset = df[df['z'].isin([1, 2, 3, 4, 5, 6, 7, 8, 9, 10])]\n",
    "\n",
    "# Crear un diccionario para mapear Z a símbolos de elementos\n",
    "z_to_symbol = {1: 'H',2: 'He', 3: 'Li', 4:'Be', 5:'B',6: 'C', 7:'N', 8:'O', 9:'F', 10:'Ne'}\n",
    "\n",
    "# Obtener los elementos únicos en df_subset\n",
    "elementos = df_subset['z'].unique()\n",
    "\n",
    "# Crear la figura 3D con un tamaño más grande\n",
    "fig = go.Figure()\n",
    "\n",
    "# Crear una lista para almacenar las coordenadas de masa (A) y número atómico (Z) de máxima energía de ligadura\n",
    "max_energy_coordinates = []\n",
    "\n",
    "# Iterar sobre los elementos y agregar las curvas\n",
    "for elemento in elementos:\n",
    "    df_elemento = df_subset[df_subset['z'] == elemento]\n",
    "    # Encontrar el índice del máximo valor de energía de ligadura\n",
    "    idx_max_energy = df_elemento['bindingEnergy(keV)'].idxmax()\n",
    "    # Obtener las coordenadas de masa (A) y Z correspondientes al máximo\n",
    "    max_A = df_elemento.loc[idx_max_energy, 'Masa_atomica']\n",
    "    max_Z = df_elemento.loc[idx_max_energy, 'z']\n",
    "    # Agregar las coordenadas a la lista\n",
    "    max_energy_coordinates.append((max_A, max_Z))\n",
    "\n",
    "    # Agregar puntos y líneas\n",
    "    fig.add_trace(go.Scatter3d(\n",
    "        x=df_elemento['Masa_atomica'],\n",
    "        y=df_elemento['z'],\n",
    "        z=df_elemento['bindingEnergy(keV)'],\n",
    "        mode='lines+markers',\n",
    "        name=f'{z_to_symbol[elemento]}',\n",
    "        marker=dict(\n",
    "            size=6,\n",
    "            color=df_elemento['bindingEnergy(keV)'],\n",
    "            colorscale='Viridis',\n",
    "            opacity=0.8\n",
    "        ),\n",
    "        line=dict(width=2),\n",
    "        text=[f\"A: {a}\" for a in df_elemento['Masa_atomica']],\n",
    "    ))\n",
    "\n",
    "# Convertir la lista en un DataFrame para visualización\n",
    "df_max_energy = pd.DataFrame(max_energy_coordinates, columns=['Masa_atomica', 'z'])\n",
    "\n",
    "# Agregar los puntos correspondientes a las coordenadas de máxima energía\n",
    "fig.add_trace(go.Scatter3d(\n",
    "    x=df_max_energy['Masa_atomica'],\n",
    "    y=df_max_energy['z'],\n",
    "    z=[0 for _ in max_energy_coordinates],  # Establecer eje z a cero para todos los puntos\n",
    "    mode='lines+markers',\n",
    "    name='Máxima Energía de Ligadura',\n",
    "    hovertext=[f'Energía de Ligadura Máxima: {df.loc[(df[\"Masa_atomica\"] == A) & (df[\"z\"] == Z), \"bindingEnergy(keV)\"].values[0]} keV<br>Elemento: {z_to_symbol[Z]}' for A, Z in max_energy_coordinates],  # Agregar texto al pasar el mouse\n",
    "    hoverinfo='text',  # Mostrar solo el texto personalizado\n",
    "    marker=dict(\n",
    "        size=10,\n",
    "        color='red',\n",
    "        symbol='circle',\n",
    "        line=dict(width=2),\n",
    "    ),\n",
    "))\n",
    "\n",
    "# Personalizar el diseño y ajustar el tamaño\n",
    "fig.update_layout(\n",
    "    scene=dict(\n",
    "        xaxis_title='Masa Atómica (A)',\n",
    "        yaxis_title='Número Atómico (Z)',\n",
    "        zaxis_title='$\\epsilon$ (keV)'\n",
    "    ),\n",
    "    title='Energía de Ligadura vs Masa Atómica y Número Atómico (Z)',\n",
    "    legend=dict(title='Elemento Químico'),\n",
    "    width=900,  # Ancho de la figura\n",
    "    height=900  # Alto de la figura\n",
    ")\n",
    "\n",
    "# Mostrar la gráfica interactiva\n",
    "fig.show()\n",
    "\n"
   ]
  },
  {
   "cell_type": "markdown",
   "metadata": {},
   "source": [
    "ahora para los 30 primeros elementos:"
   ]
  },
  {
   "cell_type": "code",
   "execution_count": 9,
   "metadata": {},
   "outputs": [
    {
     "data": {
      "application/vnd.plotly.v1+json": {
       "config": {
        "plotlyServerURL": "https://plot.ly"
       },
       "data": [
        {
         "line": {
          "width": 2
         },
         "marker": {
          "color": [
           1112.2831,
           2827.2654,
           1720.4491,
           1336.3592,
           961.6395,
           940
          ],
          "colorscale": [
           [
            0,
            "#440154"
           ],
           [
            0.1111111111111111,
            "#482878"
           ],
           [
            0.2222222222222222,
            "#3e4989"
           ],
           [
            0.3333333333333333,
            "#31688e"
           ],
           [
            0.4444444444444444,
            "#26828e"
           ],
           [
            0.5555555555555556,
            "#1f9e89"
           ],
           [
            0.6666666666666666,
            "#35b779"
           ],
           [
            0.7777777777777778,
            "#6ece58"
           ],
           [
            0.8888888888888888,
            "#b5de2b"
           ],
           [
            1,
            "#fde725"
           ]
          ],
          "opacity": 0.8,
          "size": 6
         },
         "mode": "lines+markers",
         "name": "H",
         "text": [
          "A: 2",
          "A: 3",
          "A: 4",
          "A: 5",
          "A: 6",
          "A: 7"
         ],
         "type": "scatter3d",
         "x": [
          2,
          3,
          4,
          5,
          6,
          7
         ],
         "y": [
          1,
          1,
          1,
          1,
          1,
          1
         ],
         "z": [
          1112.2831,
          2827.2654,
          1720.4491,
          1336.3592,
          961.6395,
          940
         ]
        },
        {
         "line": {
          "width": 2
         },
         "marker": {
          "color": [
           2572.68044,
           7073.9156,
           5512.1325,
           4878.5199,
           4123.0578,
           3924.521,
           3349.038,
           2995.134
          ],
          "colorscale": [
           [
            0,
            "#440154"
           ],
           [
            0.1111111111111111,
            "#482878"
           ],
           [
            0.2222222222222222,
            "#3e4989"
           ],
           [
            0.3333333333333333,
            "#31688e"
           ],
           [
            0.4444444444444444,
            "#26828e"
           ],
           [
            0.5555555555555556,
            "#1f9e89"
           ],
           [
            0.6666666666666666,
            "#35b779"
           ],
           [
            0.7777777777777778,
            "#6ece58"
           ],
           [
            0.8888888888888888,
            "#b5de2b"
           ],
           [
            1,
            "#fde725"
           ]
          ],
          "opacity": 0.8,
          "size": 6
         },
         "mode": "lines+markers",
         "name": "He",
         "text": [
          "A: 3",
          "A: 4",
          "A: 5",
          "A: 6",
          "A: 7",
          "A: 8",
          "A: 9",
          "A: 10"
         ],
         "type": "scatter3d",
         "x": [
          3,
          4,
          5,
          6,
          7,
          8,
          9,
          10
         ],
         "y": [
          2,
          2,
          2,
          2,
          2,
          2,
          2,
          2
         ],
         "z": [
          2572.68044,
          7073.9156,
          5512.1325,
          4878.5199,
          4123.0578,
          3924.521,
          3349.038,
          2995.134
         ]
        },
        {
         "line": {
          "width": 2
         },
         "marker": {
          "color": [
           1153.7603,
           5266.1325,
           5332.3312,
           5606.4401,
           5159.7124,
           5037.7685,
           4531.3512,
           4155.3817,
           3791.5999,
           3507.6307
          ],
          "colorscale": [
           [
            0,
            "#440154"
           ],
           [
            0.1111111111111111,
            "#482878"
           ],
           [
            0.2222222222222222,
            "#3e4989"
           ],
           [
            0.3333333333333333,
            "#31688e"
           ],
           [
            0.4444444444444444,
            "#26828e"
           ],
           [
            0.5555555555555556,
            "#1f9e89"
           ],
           [
            0.6666666666666666,
            "#35b779"
           ],
           [
            0.7777777777777778,
            "#6ece58"
           ],
           [
            0.8888888888888888,
            "#b5de2b"
           ],
           [
            1,
            "#fde725"
           ]
          ],
          "opacity": 0.8,
          "size": 6
         },
         "mode": "lines+markers",
         "name": "Li",
         "text": [
          "A: 4",
          "A: 5",
          "A: 6",
          "A: 7",
          "A: 8",
          "A: 9",
          "A: 10",
          "A: 11",
          "A: 12",
          "A: 13"
         ],
         "type": "scatter3d",
         "x": [
          4,
          5,
          6,
          7,
          8,
          9,
          10,
          11,
          12,
          13
         ],
         "y": [
          3,
          3,
          3,
          3,
          3,
          3,
          3,
          3,
          3,
          3
         ],
         "z": [
          1153.7603,
          5266.1325,
          5332.3312,
          5606.4401,
          5159.7124,
          5037.7685,
          4531.3512,
          4155.3817,
          3791.5999,
          3507.6307
         ]
        },
        {
         "line": {
          "width": 2
         },
         "marker": {
          "color": [
           18,
           4487.2478,
           5371.5487,
           7062.4356,
           6462.6693,
           6497.6306,
           5952.5402,
           5720.7223,
           5241.4359,
           4993.8973,
           4540.9708,
           4285.2851
          ],
          "colorscale": [
           [
            0,
            "#440154"
           ],
           [
            0.1111111111111111,
            "#482878"
           ],
           [
            0.2222222222222222,
            "#3e4989"
           ],
           [
            0.3333333333333333,
            "#31688e"
           ],
           [
            0.4444444444444444,
            "#26828e"
           ],
           [
            0.5555555555555556,
            "#1f9e89"
           ],
           [
            0.6666666666666666,
            "#35b779"
           ],
           [
            0.7777777777777778,
            "#6ece58"
           ],
           [
            0.8888888888888888,
            "#b5de2b"
           ],
           [
            1,
            "#fde725"
           ]
          ],
          "opacity": 0.8,
          "size": 6
         },
         "mode": "lines+markers",
         "name": "Be",
         "text": [
          "A: 5",
          "A: 6",
          "A: 7",
          "A: 8",
          "A: 9",
          "A: 10",
          "A: 11",
          "A: 12",
          "A: 13",
          "A: 14",
          "A: 15",
          "A: 16"
         ],
         "type": "scatter3d",
         "x": [
          5,
          6,
          7,
          8,
          9,
          10,
          11,
          12,
          13,
          14,
          15,
          16
         ],
         "y": [
          4,
          4,
          4,
          4,
          4,
          4,
          4,
          4,
          4,
          4,
          4,
          4
         ],
         "z": [
          18,
          4487.2478,
          5371.5487,
          7062.4356,
          6462.6693,
          6497.6306,
          5952.5402,
          5720.7223,
          5241.4359,
          4993.8973,
          4540.9708,
          4285.2851
         ]
        },
        {
         "line": {
          "width": 2
         },
         "marker": {
          "color": [
           -467,
           3558.7055,
           4717.1551,
           6257.0713,
           6475.0835,
           6927.7323,
           6631.2237,
           6496.4194,
           6101.6451,
           5880.0438,
           5507.3535,
           5269.6677,
           4976.6306,
           4719.6346,
           4405.6529,
           4152.5265
          ],
          "colorscale": [
           [
            0,
            "#440154"
           ],
           [
            0.1111111111111111,
            "#482878"
           ],
           [
            0.2222222222222222,
            "#3e4989"
           ],
           [
            0.3333333333333333,
            "#31688e"
           ],
           [
            0.4444444444444444,
            "#26828e"
           ],
           [
            0.5555555555555556,
            "#1f9e89"
           ],
           [
            0.6666666666666666,
            "#35b779"
           ],
           [
            0.7777777777777778,
            "#6ece58"
           ],
           [
            0.8888888888888888,
            "#b5de2b"
           ],
           [
            1,
            "#fde725"
           ]
          ],
          "opacity": 0.8,
          "size": 6
         },
         "mode": "lines+markers",
         "name": "B",
         "text": [
          "A: 6",
          "A: 7",
          "A: 8",
          "A: 9",
          "A: 10",
          "A: 11",
          "A: 12",
          "A: 13",
          "A: 14",
          "A: 15",
          "A: 16",
          "A: 17",
          "A: 18",
          "A: 19",
          "A: 20",
          "A: 21"
         ],
         "type": "scatter3d",
         "x": [
          6,
          7,
          8,
          9,
          10,
          11,
          12,
          13,
          14,
          15,
          16,
          17,
          18,
          19,
          20,
          21
         ],
         "y": [
          5,
          5,
          5,
          5,
          5,
          5,
          5,
          5,
          5,
          5,
          5,
          5,
          5,
          5,
          5,
          5
         ],
         "z": [
          -467,
          3558.7055,
          4717.1551,
          6257.0713,
          6475.0835,
          6927.7323,
          6631.2237,
          6496.4194,
          6101.6451,
          5880.0438,
          5507.3535,
          5269.6677,
          4976.6306,
          4719.6346,
          4405.6529,
          4152.5265
         ]
        },
        {
         "line": {
          "width": 2
         },
         "marker": {
          "color": [
           3101.5242,
           4337.4233,
           6032.0426,
           6676.4563,
           7680.1446,
           7469.8495,
           7520.3198,
           7100.1696,
           6922.0546,
           6558.0262,
           6426.1321,
           6118.274,
           5961.4356,
           5674,
           5421.0778,
           5077
          ],
          "colorscale": [
           [
            0,
            "#440154"
           ],
           [
            0.1111111111111111,
            "#482878"
           ],
           [
            0.2222222222222222,
            "#3e4989"
           ],
           [
            0.3333333333333333,
            "#31688e"
           ],
           [
            0.4444444444444444,
            "#26828e"
           ],
           [
            0.5555555555555556,
            "#1f9e89"
           ],
           [
            0.6666666666666666,
            "#35b779"
           ],
           [
            0.7777777777777778,
            "#6ece58"
           ],
           [
            0.8888888888888888,
            "#b5de2b"
           ],
           [
            1,
            "#fde725"
           ]
          ],
          "opacity": 0.8,
          "size": 6
         },
         "mode": "lines+markers",
         "name": "C",
         "text": [
          "A: 8",
          "A: 9",
          "A: 10",
          "A: 11",
          "A: 12",
          "A: 13",
          "A: 14",
          "A: 15",
          "A: 16",
          "A: 17",
          "A: 18",
          "A: 19",
          "A: 20",
          "A: 21",
          "A: 22",
          "A: 23"
         ],
         "type": "scatter3d",
         "x": [
          8,
          9,
          10,
          11,
          12,
          13,
          14,
          15,
          16,
          17,
          18,
          19,
          20,
          21,
          22,
          23
         ],
         "y": [
          6,
          6,
          6,
          6,
          6,
          6,
          6,
          6,
          6,
          6,
          6,
          6,
          6,
          6,
          6,
          6
         ],
         "z": [
          3101.5242,
          4337.4233,
          6032.0426,
          6676.4563,
          7680.1446,
          7469.8495,
          7520.3198,
          7100.1696,
          6922.0546,
          6558.0262,
          6426.1321,
          6118.274,
          5961.4356,
          5674,
          5421.0778,
          5077
         ]
        },
        {
         "line": {
          "width": 2
         },
         "marker": {
          "color": [
           3643.6724,
           5358.4023,
           6170.11,
           7238.8634,
           7475.6148,
           7699.4603,
           7373.7971,
           7286.2294,
           7038.5627,
           6948.5452,
           6709.1717,
           6609.0159,
           6378.5347,
           6236.6721,
           5887,
           5613
          ],
          "colorscale": [
           [
            0,
            "#440154"
           ],
           [
            0.1111111111111111,
            "#482878"
           ],
           [
            0.2222222222222222,
            "#3e4989"
           ],
           [
            0.3333333333333333,
            "#31688e"
           ],
           [
            0.4444444444444444,
            "#26828e"
           ],
           [
            0.5555555555555556,
            "#1f9e89"
           ],
           [
            0.6666666666666666,
            "#35b779"
           ],
           [
            0.7777777777777778,
            "#6ece58"
           ],
           [
            0.8888888888888888,
            "#b5de2b"
           ],
           [
            1,
            "#fde725"
           ]
          ],
          "opacity": 0.8,
          "size": 6
         },
         "mode": "lines+markers",
         "name": "N",
         "text": [
          "A: 10",
          "A: 11",
          "A: 12",
          "A: 13",
          "A: 14",
          "A: 15",
          "A: 16",
          "A: 17",
          "A: 18",
          "A: 19",
          "A: 20",
          "A: 21",
          "A: 22",
          "A: 23",
          "A: 24",
          "A: 25"
         ],
         "type": "scatter3d",
         "x": [
          10,
          11,
          12,
          13,
          14,
          15,
          16,
          17,
          18,
          19,
          20,
          21,
          22,
          23,
          24,
          25
         ],
         "y": [
          7,
          7,
          7,
          7,
          7,
          7,
          7,
          7,
          7,
          7,
          7,
          7,
          7,
          7,
          7,
          7
         ],
         "z": [
          3643.6724,
          5358.4023,
          6170.11,
          7238.8634,
          7475.6148,
          7699.4603,
          7373.7971,
          7286.2294,
          7038.5627,
          6948.5452,
          6709.1717,
          6609.0159,
          6378.5347,
          6236.6721,
          5887,
          5613
         ]
        },
        {
         "line": {
          "width": 2
         },
         "marker": {
          "color": [
           3162.4372,
           4881.9755,
           5811.7636,
           7052.2783,
           7463.6915,
           7976.2072,
           7750.7291,
           7767.0981,
           7566.4952,
           7568.5707,
           7389.3747,
           7364.8722,
           7163.4856,
           7039.6855,
           6727.8058,
           6497.479,
           6185,
           5988
          ],
          "colorscale": [
           [
            0,
            "#440154"
           ],
           [
            0.1111111111111111,
            "#482878"
           ],
           [
            0.2222222222222222,
            "#3e4989"
           ],
           [
            0.3333333333333333,
            "#31688e"
           ],
           [
            0.4444444444444444,
            "#26828e"
           ],
           [
            0.5555555555555556,
            "#1f9e89"
           ],
           [
            0.6666666666666666,
            "#35b779"
           ],
           [
            0.7777777777777778,
            "#6ece58"
           ],
           [
            0.8888888888888888,
            "#b5de2b"
           ],
           [
            1,
            "#fde725"
           ]
          ],
          "opacity": 0.8,
          "size": 6
         },
         "mode": "lines+markers",
         "name": "O",
         "text": [
          "A: 11",
          "A: 12",
          "A: 13",
          "A: 14",
          "A: 15",
          "A: 16",
          "A: 17",
          "A: 18",
          "A: 19",
          "A: 20",
          "A: 21",
          "A: 22",
          "A: 23",
          "A: 24",
          "A: 25",
          "A: 26",
          "A: 27",
          "A: 28"
         ],
         "type": "scatter3d",
         "x": [
          11,
          12,
          13,
          14,
          15,
          16,
          17,
          18,
          19,
          20,
          21,
          22,
          23,
          24,
          25,
          26,
          27,
          28
         ],
         "y": [
          8,
          8,
          8,
          8,
          8,
          8,
          8,
          8,
          8,
          8,
          8,
          8,
          8,
          8,
          8,
          8,
          8,
          8
         ],
         "z": [
          3162.4372,
          4881.9755,
          5811.7636,
          7052.2783,
          7463.6915,
          7976.2072,
          7750.7291,
          7767.0981,
          7566.4952,
          7568.5707,
          7389.3747,
          7364.8722,
          7163.4856,
          7039.6855,
          6727.8058,
          6497.479,
          6185,
          5988
         ]
        },
        {
         "line": {
          "width": 2
         },
         "marker": {
          "color": [
           4297,
           5285.2091,
           6497.4597,
           6964.049,
           7542.3284,
           7631.6383,
           7779.0192,
           7720.1351,
           7738.2934,
           7624.2954,
           7622.3447,
           7463.5831,
           7336.3065,
           7082.2497,
           6879.6662,
           6626.8567,
           6444.0314,
           6205,
           6011
          ],
          "colorscale": [
           [
            0,
            "#440154"
           ],
           [
            0.1111111111111111,
            "#482878"
           ],
           [
            0.2222222222222222,
            "#3e4989"
           ],
           [
            0.3333333333333333,
            "#31688e"
           ],
           [
            0.4444444444444444,
            "#26828e"
           ],
           [
            0.5555555555555556,
            "#1f9e89"
           ],
           [
            0.6666666666666666,
            "#35b779"
           ],
           [
            0.7777777777777778,
            "#6ece58"
           ],
           [
            0.8888888888888888,
            "#b5de2b"
           ],
           [
            1,
            "#fde725"
           ]
          ],
          "opacity": 0.8,
          "size": 6
         },
         "mode": "lines+markers",
         "name": "F",
         "text": [
          "A: 13",
          "A: 14",
          "A: 15",
          "A: 16",
          "A: 17",
          "A: 18",
          "A: 19",
          "A: 20",
          "A: 21",
          "A: 22",
          "A: 23",
          "A: 24",
          "A: 25",
          "A: 26",
          "A: 27",
          "A: 28",
          "A: 29",
          "A: 30",
          "A: 31"
         ],
         "type": "scatter3d",
         "x": [
          13,
          14,
          15,
          16,
          17,
          18,
          19,
          20,
          21,
          22,
          23,
          24,
          25,
          26,
          27,
          28,
          29,
          30,
          31
         ],
         "y": [
          9,
          9,
          9,
          9,
          9,
          9,
          9,
          9,
          9,
          9,
          9,
          9,
          9,
          9,
          9,
          9,
          9,
          9,
          9
         ],
         "z": [
          4297,
          5285.2091,
          6497.4597,
          6964.049,
          7542.3284,
          7631.6383,
          7779.0192,
          7720.1351,
          7738.2934,
          7624.2954,
          7622.3447,
          7463.5831,
          7336.3065,
          7082.2497,
          6879.6662,
          6626.8567,
          6444.0314,
          6205,
          6011
         ]
        },
        {
         "line": {
          "width": 2
         },
         "marker": {
          "color": [
           4868.7285,
           6083.1777,
           6640.4991,
           7341.2577,
           7567.3431,
           8032.2412,
           7971.7136,
           8080.4656,
           7955.2561,
           7993.3252,
           7839.7994,
           7751.911,
           7520.4151,
           7388.3463,
           7167.0673,
           7034.5317,
           6813.0902,
           6671,
           6436,
           6287
          ],
          "colorscale": [
           [
            0,
            "#440154"
           ],
           [
            0.1111111111111111,
            "#482878"
           ],
           [
            0.2222222222222222,
            "#3e4989"
           ],
           [
            0.3333333333333333,
            "#31688e"
           ],
           [
            0.4444444444444444,
            "#26828e"
           ],
           [
            0.5555555555555556,
            "#1f9e89"
           ],
           [
            0.6666666666666666,
            "#35b779"
           ],
           [
            0.7777777777777778,
            "#6ece58"
           ],
           [
            0.8888888888888888,
            "#b5de2b"
           ],
           [
            1,
            "#fde725"
           ]
          ],
          "opacity": 0.8,
          "size": 6
         },
         "mode": "lines+markers",
         "name": "Ne",
         "text": [
          "A: 15",
          "A: 16",
          "A: 17",
          "A: 18",
          "A: 19",
          "A: 20",
          "A: 21",
          "A: 22",
          "A: 23",
          "A: 24",
          "A: 25",
          "A: 26",
          "A: 27",
          "A: 28",
          "A: 29",
          "A: 30",
          "A: 31",
          "A: 32",
          "A: 33",
          "A: 34"
         ],
         "type": "scatter3d",
         "x": [
          15,
          16,
          17,
          18,
          19,
          20,
          21,
          22,
          23,
          24,
          25,
          26,
          27,
          28,
          29,
          30,
          31,
          32,
          33,
          34
         ],
         "y": [
          10,
          10,
          10,
          10,
          10,
          10,
          10,
          10,
          10,
          10,
          10,
          10,
          10,
          10,
          10,
          10,
          10,
          10,
          10,
          10
         ],
         "z": [
          4868.7285,
          6083.1777,
          6640.4991,
          7341.2577,
          7567.3431,
          8032.2412,
          7971.7136,
          8080.4656,
          7955.2561,
          7993.3252,
          7839.7994,
          7751.911,
          7520.4151,
          7388.3463,
          7167.0673,
          7034.5317,
          6813.0902,
          6671,
          6436,
          6287
         ]
        },
        {
         "line": {
          "width": 2
         },
         "marker": {
          "color": [
           5522.7653,
           6202.2176,
           6937.8864,
           7298.5028,
           7765.5581,
           7915.6624,
           8111.4936,
           8063.4882,
           8101.3979,
           8004.2013,
           7956.9467,
           7799.2644,
           7682.1522,
           7501.9685,
           7398.6778,
           7219.8815,
           7089.9262,
           6886.4377,
           6745,
           6557,
           6403,
           6216,
           6056
          ],
          "colorscale": [
           [
            0,
            "#440154"
           ],
           [
            0.1111111111111111,
            "#482878"
           ],
           [
            0.2222222222222222,
            "#3e4989"
           ],
           [
            0.3333333333333333,
            "#31688e"
           ],
           [
            0.4444444444444444,
            "#26828e"
           ],
           [
            0.5555555555555556,
            "#1f9e89"
           ],
           [
            0.6666666666666666,
            "#35b779"
           ],
           [
            0.7777777777777778,
            "#6ece58"
           ],
           [
            0.8888888888888888,
            "#b5de2b"
           ],
           [
            1,
            "#fde725"
           ]
          ],
          "opacity": 0.8,
          "size": 6
         },
         "mode": "lines+markers",
         "name": "Na",
         "text": [
          "A: 17",
          "A: 18",
          "A: 19",
          "A: 20",
          "A: 21",
          "A: 22",
          "A: 23",
          "A: 24",
          "A: 25",
          "A: 26",
          "A: 27",
          "A: 28",
          "A: 29",
          "A: 30",
          "A: 31",
          "A: 32",
          "A: 33",
          "A: 34",
          "A: 35",
          "A: 36",
          "A: 37",
          "A: 38",
          "A: 39"
         ],
         "type": "scatter3d",
         "x": [
          17,
          18,
          19,
          20,
          21,
          22,
          23,
          24,
          25,
          26,
          27,
          28,
          29,
          30,
          31,
          32,
          33,
          34,
          35,
          36,
          37,
          38,
          39
         ],
         "y": [
          11,
          11,
          11,
          11,
          11,
          11,
          11,
          11,
          11,
          11,
          11,
          11,
          11,
          11,
          11,
          11,
          11,
          11,
          11,
          11,
          11,
          11,
          11
         ],
         "z": [
          5522.7653,
          6202.2176,
          6937.8864,
          7298.5028,
          7765.5581,
          7915.6624,
          8111.4936,
          8063.4882,
          8101.3979,
          8004.2013,
          7956.9467,
          7799.2644,
          7682.1522,
          7501.9685,
          7398.6778,
          7219.8815,
          7089.9262,
          6886.4377,
          6745,
          6557,
          6403,
          6216,
          6056
         ]
        },
        {
         "line": {
          "width": 2
         },
         "marker": {
          "color": [
           5901.4992,
           6728.0252,
           7105.0317,
           7662.7645,
           7901.1229,
           8260.7103,
           8223.5028,
           8333.8711,
           8263.8525,
           8272.4531,
           8113.5317,
           8054.425,
           7869.1886,
           7803.8411,
           7636.4382,
           7550.3919,
           7356.2338,
           7244.4202,
           7055.1115,
           6928,
           6734,
           6598,
           6425
          ],
          "colorscale": [
           [
            0,
            "#440154"
           ],
           [
            0.1111111111111111,
            "#482878"
           ],
           [
            0.2222222222222222,
            "#3e4989"
           ],
           [
            0.3333333333333333,
            "#31688e"
           ],
           [
            0.4444444444444444,
            "#26828e"
           ],
           [
            0.5555555555555556,
            "#1f9e89"
           ],
           [
            0.6666666666666666,
            "#35b779"
           ],
           [
            0.7777777777777778,
            "#6ece58"
           ],
           [
            0.8888888888888888,
            "#b5de2b"
           ],
           [
            1,
            "#fde725"
           ]
          ],
          "opacity": 0.8,
          "size": 6
         },
         "mode": "lines+markers",
         "name": "Mg",
         "text": [
          "A: 19",
          "A: 20",
          "A: 21",
          "A: 22",
          "A: 23",
          "A: 24",
          "A: 25",
          "A: 26",
          "A: 27",
          "A: 28",
          "A: 29",
          "A: 30",
          "A: 31",
          "A: 32",
          "A: 33",
          "A: 34",
          "A: 35",
          "A: 36",
          "A: 37",
          "A: 38",
          "A: 39",
          "A: 40",
          "A: 41"
         ],
         "type": "scatter3d",
         "x": [
          19,
          20,
          21,
          22,
          23,
          24,
          25,
          26,
          27,
          28,
          29,
          30,
          31,
          32,
          33,
          34,
          35,
          36,
          37,
          38,
          39,
          40,
          41
         ],
         "y": [
          12,
          12,
          12,
          12,
          12,
          12,
          12,
          12,
          12,
          12,
          12,
          12,
          12,
          12,
          12,
          12,
          12,
          12,
          12,
          12,
          12,
          12,
          12
         ],
         "z": [
          5901.4992,
          6728.0252,
          7105.0317,
          7662.7645,
          7901.1229,
          8260.7103,
          8223.5028,
          8333.8711,
          8263.8525,
          8272.4531,
          8113.5317,
          8054.425,
          7869.1886,
          7803.8411,
          7636.4382,
          7550.3919,
          7356.2338,
          7244.4202,
          7055.1115,
          6928,
          6734,
          6598,
          6425
         ]
        },
        {
         "line": {
          "width": 2
         },
         "marker": {
          "color": [
           6297,
           6782,
           7335.7275,
           7649.5806,
           8021.1366,
           8149.7653,
           8331.5533,
           8309.8969,
           8348.4647,
           8261.1049,
           8225.518,
           8100.3449,
           8020.6172,
           7860.3506,
           7787.1243,
           7623.5154,
           7531.316,
           7370,
           7260,
           7097,
           6980,
           6829,
           6712
          ],
          "colorscale": [
           [
            0,
            "#440154"
           ],
           [
            0.1111111111111111,
            "#482878"
           ],
           [
            0.2222222222222222,
            "#3e4989"
           ],
           [
            0.3333333333333333,
            "#31688e"
           ],
           [
            0.4444444444444444,
            "#26828e"
           ],
           [
            0.5555555555555556,
            "#1f9e89"
           ],
           [
            0.6666666666666666,
            "#35b779"
           ],
           [
            0.7777777777777778,
            "#6ece58"
           ],
           [
            0.8888888888888888,
            "#b5de2b"
           ],
           [
            1,
            "#fde725"
           ]
          ],
          "opacity": 0.8,
          "size": 6
         },
         "mode": "lines+markers",
         "name": "Al",
         "text": [
          "A: 21",
          "A: 22",
          "A: 23",
          "A: 24",
          "A: 25",
          "A: 26",
          "A: 27",
          "A: 28",
          "A: 29",
          "A: 30",
          "A: 31",
          "A: 32",
          "A: 33",
          "A: 34",
          "A: 35",
          "A: 36",
          "A: 37",
          "A: 38",
          "A: 39",
          "A: 40",
          "A: 41",
          "A: 42",
          "A: 43"
         ],
         "type": "scatter3d",
         "x": [
          21,
          22,
          23,
          24,
          25,
          26,
          27,
          28,
          29,
          30,
          31,
          32,
          33,
          34,
          35,
          36,
          37,
          38,
          39,
          40,
          41,
          42,
          43
         ],
         "y": [
          13,
          13,
          13,
          13,
          13,
          13,
          13,
          13,
          13,
          13,
          13,
          13,
          13,
          13,
          13,
          13,
          13,
          13,
          13,
          13,
          13,
          13,
          13
         ],
         "z": [
          6297,
          6782,
          7335.7275,
          7649.5806,
          8021.1366,
          8149.7653,
          8331.5533,
          8309.8969,
          8348.4647,
          8261.1049,
          8225.518,
          8100.3449,
          8020.6172,
          7860.3506,
          7787.1243,
          7623.5154,
          7531.316,
          7370,
          7260,
          7097,
          6980,
          6829,
          6712
         ]
        },
        {
         "line": {
          "width": 2
         },
         "marker": {
          "color": [
           6044,
           6554,
           7167.2329,
           7480.1109,
           7924.7083,
           8124.342,
           8447.7445,
           8448.6361,
           8520.6549,
           8458.2916,
           8481.469,
           8361.0596,
           8337.1659,
           8169.5644,
           8112.5199,
           7952.9033,
           7892.8297,
           7730.9793,
           7655.8247,
           7482,
           7410,
           7251,
           7156,
           7004
          ],
          "colorscale": [
           [
            0,
            "#440154"
           ],
           [
            0.1111111111111111,
            "#482878"
           ],
           [
            0.2222222222222222,
            "#3e4989"
           ],
           [
            0.3333333333333333,
            "#31688e"
           ],
           [
            0.4444444444444444,
            "#26828e"
           ],
           [
            0.5555555555555556,
            "#1f9e89"
           ],
           [
            0.6666666666666666,
            "#35b779"
           ],
           [
            0.7777777777777778,
            "#6ece58"
           ],
           [
            0.8888888888888888,
            "#b5de2b"
           ],
           [
            1,
            "#fde725"
           ]
          ],
          "opacity": 0.8,
          "size": 6
         },
         "mode": "lines+markers",
         "name": "Si",
         "text": [
          "A: 22",
          "A: 23",
          "A: 24",
          "A: 25",
          "A: 26",
          "A: 27",
          "A: 28",
          "A: 29",
          "A: 30",
          "A: 31",
          "A: 32",
          "A: 33",
          "A: 34",
          "A: 35",
          "A: 36",
          "A: 37",
          "A: 38",
          "A: 39",
          "A: 40",
          "A: 41",
          "A: 42",
          "A: 43",
          "A: 44",
          "A: 45"
         ],
         "type": "scatter3d",
         "x": [
          22,
          23,
          24,
          25,
          26,
          27,
          28,
          29,
          30,
          31,
          32,
          33,
          34,
          35,
          36,
          37,
          38,
          39,
          40,
          41,
          42,
          43,
          44,
          45
         ],
         "y": [
          14,
          14,
          14,
          14,
          14,
          14,
          14,
          14,
          14,
          14,
          14,
          14,
          14,
          14,
          14,
          14,
          14,
          14,
          14,
          14,
          14,
          14,
          14,
          14
         ],
         "z": [
          6044,
          6554,
          7167.2329,
          7480.1109,
          7924.7083,
          8124.342,
          8447.7445,
          8448.6361,
          8520.6549,
          8458.2916,
          8481.469,
          8361.0596,
          8337.1659,
          8169.5644,
          8112.5199,
          7952.9033,
          7892.8297,
          7730.9793,
          7655.8247,
          7482,
          7410,
          7251,
          7156,
          7004
         ]
        },
        {
         "line": {
          "width": 2
         },
         "marker": {
          "color": [
           6165,
           6794,
           7198,
           7661.0894,
           7907.4842,
           8251.2368,
           8353.5064,
           8481.1677,
           8464.1203,
           8513.8073,
           8448.1856,
           8446.2496,
           8307.8692,
           8267.5561,
           8147.2749,
           8097.9701,
           7981.4177,
           7906.5513,
           7765.9122,
           7681,
           7552,
           7456,
           7320,
           7209
          ],
          "colorscale": [
           [
            0,
            "#440154"
           ],
           [
            0.1111111111111111,
            "#482878"
           ],
           [
            0.2222222222222222,
            "#3e4989"
           ],
           [
            0.3333333333333333,
            "#31688e"
           ],
           [
            0.4444444444444444,
            "#26828e"
           ],
           [
            0.5555555555555556,
            "#1f9e89"
           ],
           [
            0.6666666666666666,
            "#35b779"
           ],
           [
            0.7777777777777778,
            "#6ece58"
           ],
           [
            0.8888888888888888,
            "#b5de2b"
           ],
           [
            1,
            "#fde725"
           ]
          ],
          "opacity": 0.8,
          "size": 6
         },
         "mode": "lines+markers",
         "name": "P",
         "text": [
          "A: 24",
          "A: 25",
          "A: 26",
          "A: 27",
          "A: 28",
          "A: 29",
          "A: 30",
          "A: 31",
          "A: 32",
          "A: 33",
          "A: 34",
          "A: 35",
          "A: 36",
          "A: 37",
          "A: 38",
          "A: 39",
          "A: 40",
          "A: 41",
          "A: 42",
          "A: 43",
          "A: 44",
          "A: 45",
          "A: 46",
          "A: 47"
         ],
         "type": "scatter3d",
         "x": [
          24,
          25,
          26,
          27,
          28,
          29,
          30,
          31,
          32,
          33,
          34,
          35,
          36,
          37,
          38,
          39,
          40,
          41,
          42,
          43,
          44,
          45,
          46,
          47
         ],
         "y": [
          15,
          15,
          15,
          15,
          15,
          15,
          15,
          15,
          15,
          15,
          15,
          15,
          15,
          15,
          15,
          15,
          15,
          15,
          15,
          15,
          15,
          15,
          15,
          15
         ],
         "z": [
          6165,
          6794,
          7198,
          7661.0894,
          7907.4842,
          8251.2368,
          8353.5064,
          8481.1677,
          8464.1203,
          8513.8073,
          8448.1856,
          8446.2496,
          8307.8692,
          8267.5561,
          8147.2749,
          8097.9701,
          7981.4177,
          7906.5513,
          7765.9122,
          7681,
          7552,
          7456,
          7320,
          7209
         ]
        },
        {
         "line": {
          "width": 2
         },
         "marker": {
          "color": [
           6525,
           6960,
           7478.7911,
           7746.3826,
           8122.7081,
           8281.8013,
           8493.1301,
           8497.6304,
           8583.4986,
           8537.8511,
           8575.39,
           8459.9363,
           8448.7829,
           8344.2698,
           8329.3255,
           8229.6358,
           8193.2275,
           8063.8276,
           7996.0154,
           7867,
           7785,
           7652,
           7552,
           7400
          ],
          "colorscale": [
           [
            0,
            "#440154"
           ],
           [
            0.1111111111111111,
            "#482878"
           ],
           [
            0.2222222222222222,
            "#3e4989"
           ],
           [
            0.3333333333333333,
            "#31688e"
           ],
           [
            0.4444444444444444,
            "#26828e"
           ],
           [
            0.5555555555555556,
            "#1f9e89"
           ],
           [
            0.6666666666666666,
            "#35b779"
           ],
           [
            0.7777777777777778,
            "#6ece58"
           ],
           [
            0.8888888888888888,
            "#b5de2b"
           ],
           [
            1,
            "#fde725"
           ]
          ],
          "opacity": 0.8,
          "size": 6
         },
         "mode": "lines+markers",
         "name": "S",
         "text": [
          "A: 26",
          "A: 27",
          "A: 28",
          "A: 29",
          "A: 30",
          "A: 31",
          "A: 32",
          "A: 33",
          "A: 34",
          "A: 35",
          "A: 36",
          "A: 37",
          "A: 38",
          "A: 39",
          "A: 40",
          "A: 41",
          "A: 42",
          "A: 43",
          "A: 44",
          "A: 45",
          "A: 46",
          "A: 47",
          "A: 48",
          "A: 49"
         ],
         "type": "scatter3d",
         "x": [
          26,
          27,
          28,
          29,
          30,
          31,
          32,
          33,
          34,
          35,
          36,
          37,
          38,
          39,
          40,
          41,
          42,
          43,
          44,
          45,
          46,
          47,
          48,
          49
         ],
         "y": [
          16,
          16,
          16,
          16,
          16,
          16,
          16,
          16,
          16,
          16,
          16,
          16,
          16,
          16,
          16,
          16,
          16,
          16,
          16,
          16,
          16,
          16,
          16,
          16
         ],
         "z": [
          6525,
          6960,
          7478.7911,
          7746.3826,
          8122.7081,
          8281.8013,
          8493.1301,
          8497.6304,
          8583.4986,
          8537.8511,
          8575.39,
          8459.9363,
          8448.7829,
          8344.2698,
          8329.3255,
          8229.6358,
          8193.2275,
          8063.8276,
          7996.0154,
          7867,
          7785,
          7652,
          7552,
          7400
         ]
        },
        {
         "line": {
          "width": 2
         },
         "marker": {
          "color": [
           6587,
           7129,
           7472.1698,
           7869.2101,
           8072.4058,
           8304.7557,
           8398.9706,
           8520.279,
           8521.9322,
           8570.2816,
           8505.4817,
           8494.4032,
           8427.766,
           8412.9593,
           8345.8864,
           8323.8672,
           8234.4788,
           8181.5991,
           8080.7757,
           7992,
           7883,
           7785,
           7651,
           7530,
           7386
          ],
          "colorscale": [
           [
            0,
            "#440154"
           ],
           [
            0.1111111111111111,
            "#482878"
           ],
           [
            0.2222222222222222,
            "#3e4989"
           ],
           [
            0.3333333333333333,
            "#31688e"
           ],
           [
            0.4444444444444444,
            "#26828e"
           ],
           [
            0.5555555555555556,
            "#1f9e89"
           ],
           [
            0.6666666666666666,
            "#35b779"
           ],
           [
            0.7777777777777778,
            "#6ece58"
           ],
           [
            0.8888888888888888,
            "#b5de2b"
           ],
           [
            1,
            "#fde725"
           ]
          ],
          "opacity": 0.8,
          "size": 6
         },
         "mode": "lines+markers",
         "name": "Cl",
         "text": [
          "A: 28",
          "A: 29",
          "A: 30",
          "A: 31",
          "A: 32",
          "A: 33",
          "A: 34",
          "A: 35",
          "A: 36",
          "A: 37",
          "A: 38",
          "A: 39",
          "A: 40",
          "A: 41",
          "A: 42",
          "A: 43",
          "A: 44",
          "A: 45",
          "A: 46",
          "A: 47",
          "A: 48",
          "A: 49",
          "A: 50",
          "A: 51",
          "A: 52"
         ],
         "type": "scatter3d",
         "x": [
          28,
          29,
          30,
          31,
          32,
          33,
          34,
          35,
          36,
          37,
          38,
          39,
          40,
          41,
          42,
          43,
          44,
          45,
          46,
          47,
          48,
          49,
          50,
          51,
          52
         ],
         "y": [
          17,
          17,
          17,
          17,
          17,
          17,
          17,
          17,
          17,
          17,
          17,
          17,
          17,
          17,
          17,
          17,
          17,
          17,
          17,
          17,
          17,
          17,
          17,
          17,
          17
         ],
         "z": [
          6587,
          7129,
          7472.1698,
          7869.2101,
          8072.4058,
          8304.7557,
          8398.9706,
          8520.279,
          8521.9322,
          8570.2816,
          8505.4817,
          8494.4032,
          8427.766,
          8412.9593,
          8345.8864,
          8323.8672,
          8234.4788,
          8181.5991,
          8080.7757,
          7992,
          7883,
          7785,
          7651,
          7530,
          7386
         ]
        },
        {
         "line": {
          "width": 2
         },
         "marker": {
          "color": [
           6276,
           6866,
           7252,
           7700.0089,
           7928.9559,
           8197.6724,
           8327.4621,
           8519.9096,
           8527.1406,
           8614.2807,
           8562.5988,
           8595.2594,
           8534.3733,
           8555.6141,
           8488.2382,
           8493.8411,
           8419.9526,
           8412.3835,
           8311.425,
           8243.6656,
           8132,
           8054,
           7922,
           7827,
           7677,
           7578
          ],
          "colorscale": [
           [
            0,
            "#440154"
           ],
           [
            0.1111111111111111,
            "#482878"
           ],
           [
            0.2222222222222222,
            "#3e4989"
           ],
           [
            0.3333333333333333,
            "#31688e"
           ],
           [
            0.4444444444444444,
            "#26828e"
           ],
           [
            0.5555555555555556,
            "#1f9e89"
           ],
           [
            0.6666666666666666,
            "#35b779"
           ],
           [
            0.7777777777777778,
            "#6ece58"
           ],
           [
            0.8888888888888888,
            "#b5de2b"
           ],
           [
            1,
            "#fde725"
           ]
          ],
          "opacity": 0.8,
          "size": 6
         },
         "mode": "lines+markers",
         "name": "Ar",
         "text": [
          "A: 29",
          "A: 30",
          "A: 31",
          "A: 32",
          "A: 33",
          "A: 34",
          "A: 35",
          "A: 36",
          "A: 37",
          "A: 38",
          "A: 39",
          "A: 40",
          "A: 41",
          "A: 42",
          "A: 43",
          "A: 44",
          "A: 45",
          "A: 46",
          "A: 47",
          "A: 48",
          "A: 49",
          "A: 50",
          "A: 51",
          "A: 52",
          "A: 53",
          "A: 54"
         ],
         "type": "scatter3d",
         "x": [
          29,
          30,
          31,
          32,
          33,
          34,
          35,
          36,
          37,
          38,
          39,
          40,
          41,
          42,
          43,
          44,
          45,
          46,
          47,
          48,
          49,
          50,
          51,
          52,
          53,
          54
         ],
         "y": [
          18,
          18,
          18,
          18,
          18,
          18,
          18,
          18,
          18,
          18,
          18,
          18,
          18,
          18,
          18,
          18,
          18,
          18,
          18,
          18,
          18,
          18,
          18,
          18,
          18,
          18
         ],
         "z": [
          6276,
          6866,
          7252,
          7700.0089,
          7928.9559,
          8197.6724,
          8327.4621,
          8519.9096,
          8527.1406,
          8614.2807,
          8562.5988,
          8595.2594,
          8534.3733,
          8555.6141,
          8488.2382,
          8493.8411,
          8419.9526,
          8412.3835,
          8311.425,
          8243.6656,
          8132,
          8054,
          7922,
          7827,
          7677,
          7578
         ]
        },
        {
         "line": {
          "width": 2
         },
         "marker": {
          "color": [
           6487,
           6920,
           7392,
           7670,
           7965.8409,
           8142.2233,
           8339.848,
           8438.0593,
           8557.0258,
           8538.0907,
           8576.0731,
           8551.2571,
           8576.2204,
           8546.7023,
           8554.6747,
           8518.0428,
           8514.8795,
           8434.2324,
           8372.2753,
           8288.5833,
           8221.335,
           8115.0303,
           8022.8488,
           7891,
           7792,
           7663,
           7563,
           7437,
           7332
          ],
          "colorscale": [
           [
            0,
            "#440154"
           ],
           [
            0.1111111111111111,
            "#482878"
           ],
           [
            0.2222222222222222,
            "#3e4989"
           ],
           [
            0.3333333333333333,
            "#31688e"
           ],
           [
            0.4444444444444444,
            "#26828e"
           ],
           [
            0.5555555555555556,
            "#1f9e89"
           ],
           [
            0.6666666666666666,
            "#35b779"
           ],
           [
            0.7777777777777778,
            "#6ece58"
           ],
           [
            0.8888888888888888,
            "#b5de2b"
           ],
           [
            1,
            "#fde725"
           ]
          ],
          "opacity": 0.8,
          "size": 6
         },
         "mode": "lines+markers",
         "name": "K",
         "text": [
          "A: 31",
          "A: 32",
          "A: 33",
          "A: 34",
          "A: 35",
          "A: 36",
          "A: 37",
          "A: 38",
          "A: 39",
          "A: 40",
          "A: 41",
          "A: 42",
          "A: 43",
          "A: 44",
          "A: 45",
          "A: 46",
          "A: 47",
          "A: 48",
          "A: 49",
          "A: 50",
          "A: 51",
          "A: 52",
          "A: 53",
          "A: 54",
          "A: 55",
          "A: 56",
          "A: 57",
          "A: 58",
          "A: 59"
         ],
         "type": "scatter3d",
         "x": [
          31,
          32,
          33,
          34,
          35,
          36,
          37,
          38,
          39,
          40,
          41,
          42,
          43,
          44,
          45,
          46,
          47,
          48,
          49,
          50,
          51,
          52,
          53,
          54,
          55,
          56,
          57,
          58,
          59
         ],
         "y": [
          19,
          19,
          19,
          19,
          19,
          19,
          19,
          19,
          19,
          19,
          19,
          19,
          19,
          19,
          19,
          19,
          19,
          19,
          19,
          19,
          19,
          19,
          19,
          19,
          19,
          19,
          19,
          19,
          19
         ],
         "z": [
          6487,
          6920,
          7392,
          7670,
          7965.8409,
          8142.2233,
          8339.848,
          8438.0593,
          8557.0258,
          8538.0907,
          8576.0731,
          8551.2571,
          8576.2204,
          8546.7023,
          8554.6747,
          8518.0428,
          8514.8795,
          8434.2324,
          8372.2753,
          8288.5833,
          8221.335,
          8115.0303,
          8022.8488,
          7891,
          7792,
          7663,
          7563,
          7437,
          7332
         ]
        },
        {
         "line": {
          "width": 2
         },
         "marker": {
          "color": [
           6657,
           7173,
           7476,
           7815.8799,
           8003.4567,
           8240.0434,
           8369.6711,
           8551.3046,
           8546.7075,
           8616.5646,
           8600.6653,
           8658.1769,
           8630.5467,
           8668.9848,
           8639.3548,
           8666.6916,
           8594.85,
           8550.1639,
           8476.9135,
           8429.3821,
           8330.5778,
           8247.4967,
           8125.926,
           8033.1654,
           7912,
           7828,
           7708,
           7627,
           7503
          ],
          "colorscale": [
           [
            0,
            "#440154"
           ],
           [
            0.1111111111111111,
            "#482878"
           ],
           [
            0.2222222222222222,
            "#3e4989"
           ],
           [
            0.3333333333333333,
            "#31688e"
           ],
           [
            0.4444444444444444,
            "#26828e"
           ],
           [
            0.5555555555555556,
            "#1f9e89"
           ],
           [
            0.6666666666666666,
            "#35b779"
           ],
           [
            0.7777777777777778,
            "#6ece58"
           ],
           [
            0.8888888888888888,
            "#b5de2b"
           ],
           [
            1,
            "#fde725"
           ]
          ],
          "opacity": 0.8,
          "size": 6
         },
         "mode": "lines+markers",
         "name": "Ca",
         "text": [
          "A: 33",
          "A: 34",
          "A: 35",
          "A: 36",
          "A: 37",
          "A: 38",
          "A: 39",
          "A: 40",
          "A: 41",
          "A: 42",
          "A: 43",
          "A: 44",
          "A: 45",
          "A: 46",
          "A: 47",
          "A: 48",
          "A: 49",
          "A: 50",
          "A: 51",
          "A: 52",
          "A: 53",
          "A: 54",
          "A: 55",
          "A: 56",
          "A: 57",
          "A: 58",
          "A: 59",
          "A: 60",
          "A: 61"
         ],
         "type": "scatter3d",
         "x": [
          33,
          34,
          35,
          36,
          37,
          38,
          39,
          40,
          41,
          42,
          43,
          44,
          45,
          46,
          47,
          48,
          49,
          50,
          51,
          52,
          53,
          54,
          55,
          56,
          57,
          58,
          59,
          60,
          61
         ],
         "y": [
          20,
          20,
          20,
          20,
          20,
          20,
          20,
          20,
          20,
          20,
          20,
          20,
          20,
          20,
          20,
          20,
          20,
          20,
          20,
          20,
          20,
          20,
          20,
          20,
          20,
          20,
          20,
          20,
          20
         ],
         "z": [
          6657,
          7173,
          7476,
          7815.8799,
          8003.4567,
          8240.0434,
          8369.6711,
          8551.3046,
          8546.7075,
          8616.5646,
          8600.6653,
          8658.1769,
          8630.5467,
          8668.9848,
          8639.3548,
          8666.6916,
          8594.85,
          8550.1639,
          8476.9135,
          8429.3821,
          8330.5778,
          8247.4967,
          8125.926,
          8033.1654,
          7912,
          7828,
          7708,
          7627,
          7503
         ]
        },
        {
         "line": {
          "width": 2
         },
         "marker": {
          "color": [
           6828,
           7166,
           7525,
           7751,
           8013.4575,
           8173.6697,
           8369.1979,
           8444.9303,
           8530.8265,
           8557.3805,
           8618.941,
           8622.0215,
           8665.0958,
           8656.2097,
           8686.2805,
           8633.4747,
           8597.2213,
           8534.6695,
           8492.8325,
           8404.8115,
           8333.3694,
           8233.5781,
           8158.1666,
           8054.9436,
           7976.4073,
           7873,
           7794,
           7688,
           7603
          ],
          "colorscale": [
           [
            0,
            "#440154"
           ],
           [
            0.1111111111111111,
            "#482878"
           ],
           [
            0.2222222222222222,
            "#3e4989"
           ],
           [
            0.3333333333333333,
            "#31688e"
           ],
           [
            0.4444444444444444,
            "#26828e"
           ],
           [
            0.5555555555555556,
            "#1f9e89"
           ],
           [
            0.6666666666666666,
            "#35b779"
           ],
           [
            0.7777777777777778,
            "#6ece58"
           ],
           [
            0.8888888888888888,
            "#b5de2b"
           ],
           [
            1,
            "#fde725"
           ]
          ],
          "opacity": 0.8,
          "size": 6
         },
         "mode": "lines+markers",
         "name": "Sc",
         "text": [
          "A: 35",
          "A: 36",
          "A: 37",
          "A: 38",
          "A: 39",
          "A: 40",
          "A: 41",
          "A: 42",
          "A: 43",
          "A: 44",
          "A: 45",
          "A: 46",
          "A: 47",
          "A: 48",
          "A: 49",
          "A: 50",
          "A: 51",
          "A: 52",
          "A: 53",
          "A: 54",
          "A: 55",
          "A: 56",
          "A: 57",
          "A: 58",
          "A: 59",
          "A: 60",
          "A: 61",
          "A: 62",
          "A: 63"
         ],
         "type": "scatter3d",
         "x": [
          35,
          36,
          37,
          38,
          39,
          40,
          41,
          42,
          43,
          44,
          45,
          46,
          47,
          48,
          49,
          50,
          51,
          52,
          53,
          54,
          55,
          56,
          57,
          58,
          59,
          60,
          61,
          62,
          63
         ],
         "y": [
          21,
          21,
          21,
          21,
          21,
          21,
          21,
          21,
          21,
          21,
          21,
          21,
          21,
          21,
          21,
          21,
          21,
          21,
          21,
          21,
          21,
          21,
          21,
          21,
          21,
          21,
          21,
          21,
          21
         ],
         "z": [
          6828,
          7166,
          7525,
          7751,
          8013.4575,
          8173.6697,
          8369.1979,
          8444.9303,
          8530.8265,
          8557.3805,
          8618.941,
          8622.0215,
          8665.0958,
          8656.2097,
          8686.2805,
          8633.4747,
          8597.2213,
          8534.6695,
          8492.8325,
          8404.8115,
          8333.3694,
          8233.5781,
          8158.1666,
          8054.9436,
          7976.4073,
          7873,
          7794,
          7688,
          7603
         ]
        },
        {
         "line": {
          "width": 2
         },
         "marker": {
          "color": [
           6926,
           7319,
           7566,
           7865.8632,
           8034.3889,
           8259.24,
           8352.8054,
           8533.5215,
           8555.7321,
           8656.4623,
           8661.2325,
           8723.0122,
           8711.1625,
           8755.7227,
           8708.9912,
           8691.8193,
           8631.1256,
           8599.6917,
           8518.9696,
           8467.9495,
           8372.9008,
           8307.629,
           8218,
           8152.7858,
           8058,
           7990,
           7891,
           7826,
           7726
          ],
          "colorscale": [
           [
            0,
            "#440154"
           ],
           [
            0.1111111111111111,
            "#482878"
           ],
           [
            0.2222222222222222,
            "#3e4989"
           ],
           [
            0.3333333333333333,
            "#31688e"
           ],
           [
            0.4444444444444444,
            "#26828e"
           ],
           [
            0.5555555555555556,
            "#1f9e89"
           ],
           [
            0.6666666666666666,
            "#35b779"
           ],
           [
            0.7777777777777778,
            "#6ece58"
           ],
           [
            0.8888888888888888,
            "#b5de2b"
           ],
           [
            1,
            "#fde725"
           ]
          ],
          "opacity": 0.8,
          "size": 6
         },
         "mode": "lines+markers",
         "name": "Ti",
         "text": [
          "A: 37",
          "A: 38",
          "A: 39",
          "A: 40",
          "A: 41",
          "A: 42",
          "A: 43",
          "A: 44",
          "A: 45",
          "A: 46",
          "A: 47",
          "A: 48",
          "A: 49",
          "A: 50",
          "A: 51",
          "A: 52",
          "A: 53",
          "A: 54",
          "A: 55",
          "A: 56",
          "A: 57",
          "A: 58",
          "A: 59",
          "A: 60",
          "A: 61",
          "A: 62",
          "A: 63",
          "A: 64",
          "A: 65"
         ],
         "type": "scatter3d",
         "x": [
          37,
          38,
          39,
          40,
          41,
          42,
          43,
          44,
          45,
          46,
          47,
          48,
          49,
          50,
          51,
          52,
          53,
          54,
          55,
          56,
          57,
          58,
          59,
          60,
          61,
          62,
          63,
          64,
          65
         ],
         "y": [
          22,
          22,
          22,
          22,
          22,
          22,
          22,
          22,
          22,
          22,
          22,
          22,
          22,
          22,
          22,
          22,
          22,
          22,
          22,
          22,
          22,
          22,
          22,
          22,
          22,
          22,
          22,
          22,
          22
         ],
         "z": [
          6926,
          7319,
          7566,
          7865.8632,
          8034.3889,
          8259.24,
          8352.8054,
          8533.5215,
          8555.7321,
          8656.4623,
          8661.2325,
          8723.0122,
          8711.1625,
          8755.7227,
          8708.9912,
          8691.8193,
          8631.1256,
          8599.6917,
          8518.9696,
          8467.9495,
          8372.9008,
          8307.629,
          8218,
          8152.7858,
          8058,
          7990,
          7891,
          7826,
          7726
         ]
        },
        {
         "line": {
          "width": 2
         },
         "marker": {
          "color": [
           7031,
           7310,
           7625,
           7824,
           8069.5129,
           8203.4567,
           8380.0394,
           8486.1423,
           8582.2348,
           8623.0686,
           8682.9135,
           8695.9032,
           8742.0852,
           8714.569,
           8710.1425,
           8662.1382,
           8637.3391,
           8574.7006,
           8535.1967,
           8458.156,
           8403.8034,
           8322.8751,
           8271.0417,
           8187.7565,
           8130.7809,
           8045,
           7981,
           7894,
           7829
          ],
          "colorscale": [
           [
            0,
            "#440154"
           ],
           [
            0.1111111111111111,
            "#482878"
           ],
           [
            0.2222222222222222,
            "#3e4989"
           ],
           [
            0.3333333333333333,
            "#31688e"
           ],
           [
            0.4444444444444444,
            "#26828e"
           ],
           [
            0.5555555555555556,
            "#1f9e89"
           ],
           [
            0.6666666666666666,
            "#35b779"
           ],
           [
            0.7777777777777778,
            "#6ece58"
           ],
           [
            0.8888888888888888,
            "#b5de2b"
           ],
           [
            1,
            "#fde725"
           ]
          ],
          "opacity": 0.8,
          "size": 6
         },
         "mode": "lines+markers",
         "name": "V",
         "text": [
          "A: 39",
          "A: 40",
          "A: 41",
          "A: 42",
          "A: 43",
          "A: 44",
          "A: 45",
          "A: 46",
          "A: 47",
          "A: 48",
          "A: 49",
          "A: 50",
          "A: 51",
          "A: 52",
          "A: 53",
          "A: 54",
          "A: 55",
          "A: 56",
          "A: 57",
          "A: 58",
          "A: 59",
          "A: 60",
          "A: 61",
          "A: 62",
          "A: 63",
          "A: 64",
          "A: 65",
          "A: 66",
          "A: 67"
         ],
         "type": "scatter3d",
         "x": [
          39,
          40,
          41,
          42,
          43,
          44,
          45,
          46,
          47,
          48,
          49,
          50,
          51,
          52,
          53,
          54,
          55,
          56,
          57,
          58,
          59,
          60,
          61,
          62,
          63,
          64,
          65,
          66,
          67
         ],
         "y": [
          23,
          23,
          23,
          23,
          23,
          23,
          23,
          23,
          23,
          23,
          23,
          23,
          23,
          23,
          23,
          23,
          23,
          23,
          23,
          23,
          23,
          23,
          23,
          23,
          23,
          23,
          23,
          23,
          23
         ],
         "z": [
          7031,
          7310,
          7625,
          7824,
          8069.5129,
          8203.4567,
          8380.0394,
          8486.1423,
          8582.2348,
          8623.0686,
          8682.9135,
          8695.9032,
          8742.0852,
          8714.569,
          8710.1425,
          8662.1382,
          8637.3391,
          8574.7006,
          8535.1967,
          8458.156,
          8403.8034,
          8322.8751,
          8271.0417,
          8187.7565,
          8130.7809,
          8045,
          7981,
          7894,
          7829
         ]
        },
        {
         "line": {
          "width": 2
         },
         "marker": {
          "color": [
           7116,
           7456,
           7680,
           7949.6265,
           8087.7286,
           8303.8233,
           8407.2067,
           8572.2553,
           8613.2777,
           8701.0188,
           8711.9923,
           8775.9946,
           8760.2103,
           8777.9672,
           8731.9362,
           8723.2609,
           8663.3998,
           8643.9987,
           8568.5995,
           8540.1876,
           8460.1734,
           8427.3871,
           8347.5398,
           8303.5626,
           8218,
           8168,
           8079,
           8026,
           7939,
           7884
          ],
          "colorscale": [
           [
            0,
            "#440154"
           ],
           [
            0.1111111111111111,
            "#482878"
           ],
           [
            0.2222222222222222,
            "#3e4989"
           ],
           [
            0.3333333333333333,
            "#31688e"
           ],
           [
            0.4444444444444444,
            "#26828e"
           ],
           [
            0.5555555555555556,
            "#1f9e89"
           ],
           [
            0.6666666666666666,
            "#35b779"
           ],
           [
            0.7777777777777778,
            "#6ece58"
           ],
           [
            0.8888888888888888,
            "#b5de2b"
           ],
           [
            1,
            "#fde725"
           ]
          ],
          "opacity": 0.8,
          "size": 6
         },
         "mode": "lines+markers",
         "name": "Cr",
         "text": [
          "A: 41",
          "A: 42",
          "A: 43",
          "A: 44",
          "A: 45",
          "A: 46",
          "A: 47",
          "A: 48",
          "A: 49",
          "A: 50",
          "A: 51",
          "A: 52",
          "A: 53",
          "A: 54",
          "A: 55",
          "A: 56",
          "A: 57",
          "A: 58",
          "A: 59",
          "A: 60",
          "A: 61",
          "A: 62",
          "A: 63",
          "A: 64",
          "A: 65",
          "A: 66",
          "A: 67",
          "A: 68",
          "A: 69",
          "A: 70"
         ],
         "type": "scatter3d",
         "x": [
          41,
          42,
          43,
          44,
          45,
          46,
          47,
          48,
          49,
          50,
          51,
          52,
          53,
          54,
          55,
          56,
          57,
          58,
          59,
          60,
          61,
          62,
          63,
          64,
          65,
          66,
          67,
          68,
          69,
          70
         ],
         "y": [
          24,
          24,
          24,
          24,
          24,
          24,
          24,
          24,
          24,
          24,
          24,
          24,
          24,
          24,
          24,
          24,
          24,
          24,
          24,
          24,
          24,
          24,
          24,
          24,
          24,
          24,
          24,
          24,
          24,
          24
         ],
         "z": [
          7116,
          7456,
          7680,
          7949.6265,
          8087.7286,
          8303.8233,
          8407.2067,
          8572.2553,
          8613.2777,
          8701.0188,
          8711.9923,
          8775.9946,
          8760.2103,
          8777.9672,
          8731.9362,
          8723.2609,
          8663.3998,
          8643.9987,
          8568.5995,
          8540.1876,
          8460.1734,
          8427.3871,
          8347.5398,
          8303.5626,
          8218,
          8168,
          8079,
          8026,
          7939,
          7884
         ]
        },
        {
         "line": {
          "width": 2
         },
         "marker": {
          "color": [
           7213,
           7457,
           7747,
           7916.0805,
           8135.3117,
           8274.1924,
           8439.915,
           8532.6823,
           8633.7602,
           8670.4087,
           8734.1798,
           8737.9768,
           8765.0247,
           8738.3358,
           8736.7146,
           8696.6438,
           8680.9224,
           8628.1392,
           8598.9157,
           8538.5002,
           8505.102,
           8437.4175,
           8400.6822,
           8331.7986,
           8281,
           8209,
           8155,
           8084,
           8030,
           7955,
           7895
          ],
          "colorscale": [
           [
            0,
            "#440154"
           ],
           [
            0.1111111111111111,
            "#482878"
           ],
           [
            0.2222222222222222,
            "#3e4989"
           ],
           [
            0.3333333333333333,
            "#31688e"
           ],
           [
            0.4444444444444444,
            "#26828e"
           ],
           [
            0.5555555555555556,
            "#1f9e89"
           ],
           [
            0.6666666666666666,
            "#35b779"
           ],
           [
            0.7777777777777778,
            "#6ece58"
           ],
           [
            0.8888888888888888,
            "#b5de2b"
           ],
           [
            1,
            "#fde725"
           ]
          ],
          "opacity": 0.8,
          "size": 6
         },
         "mode": "lines+markers",
         "name": "Mn",
         "text": [
          "A: 43",
          "A: 44",
          "A: 45",
          "A: 46",
          "A: 47",
          "A: 48",
          "A: 49",
          "A: 50",
          "A: 51",
          "A: 52",
          "A: 53",
          "A: 54",
          "A: 55",
          "A: 56",
          "A: 57",
          "A: 58",
          "A: 59",
          "A: 60",
          "A: 61",
          "A: 62",
          "A: 63",
          "A: 64",
          "A: 65",
          "A: 66",
          "A: 67",
          "A: 68",
          "A: 69",
          "A: 70",
          "A: 71",
          "A: 72",
          "A: 73"
         ],
         "type": "scatter3d",
         "x": [
          43,
          44,
          45,
          46,
          47,
          48,
          49,
          50,
          51,
          52,
          53,
          54,
          55,
          56,
          57,
          58,
          59,
          60,
          61,
          62,
          63,
          64,
          65,
          66,
          67,
          68,
          69,
          70,
          71,
          72,
          73
         ],
         "y": [
          25,
          25,
          25,
          25,
          25,
          25,
          25,
          25,
          25,
          25,
          25,
          25,
          25,
          25,
          25,
          25,
          25,
          25,
          25,
          25,
          25,
          25,
          25,
          25,
          25,
          25,
          25,
          25,
          25,
          25,
          25
         ],
         "z": [
          7213,
          7457,
          7747,
          7916.0805,
          8135.3117,
          8274.1924,
          8439.915,
          8532.6823,
          8633.7602,
          8670.4087,
          8734.1798,
          8737.9768,
          8765.0247,
          8738.3358,
          8736.7146,
          8696.6438,
          8680.9224,
          8628.1392,
          8598.9157,
          8538.5002,
          8505.102,
          8437.4175,
          8400.6822,
          8331.7986,
          8281,
          8209,
          8155,
          8084,
          8030,
          7955,
          7895
         ]
        },
        {
         "line": {
          "width": 2
         },
         "marker": {
          "color": [
           7299,
           7603,
           7790,
           8022.7254,
           8161.3121,
           8354.0268,
           8460.4977,
           8609.6079,
           8648.7985,
           8736.3846,
           8746.5981,
           8790.3563,
           8770.2829,
           8792.2534,
           8754.7746,
           8755.8539,
           8703.7686,
           8692.8831,
           8631.5499,
           8612.3888,
           8546.347,
           8521.7245,
           8449.9359,
           8418,
           8345,
           8308,
           8235,
           8195,
           8121,
           8076,
           7996,
           7943
          ],
          "colorscale": [
           [
            0,
            "#440154"
           ],
           [
            0.1111111111111111,
            "#482878"
           ],
           [
            0.2222222222222222,
            "#3e4989"
           ],
           [
            0.3333333333333333,
            "#31688e"
           ],
           [
            0.4444444444444444,
            "#26828e"
           ],
           [
            0.5555555555555556,
            "#1f9e89"
           ],
           [
            0.6666666666666666,
            "#35b779"
           ],
           [
            0.7777777777777778,
            "#6ece58"
           ],
           [
            0.8888888888888888,
            "#b5de2b"
           ],
           [
            1,
            "#fde725"
           ]
          ],
          "opacity": 0.8,
          "size": 6
         },
         "mode": "lines+markers",
         "name": "Fe",
         "text": [
          "A: 45",
          "A: 46",
          "A: 47",
          "A: 48",
          "A: 49",
          "A: 50",
          "A: 51",
          "A: 52",
          "A: 53",
          "A: 54",
          "A: 55",
          "A: 56",
          "A: 57",
          "A: 58",
          "A: 59",
          "A: 60",
          "A: 61",
          "A: 62",
          "A: 63",
          "A: 64",
          "A: 65",
          "A: 66",
          "A: 67",
          "A: 68",
          "A: 69",
          "A: 70",
          "A: 71",
          "A: 72",
          "A: 73",
          "A: 74",
          "A: 75",
          "A: 76"
         ],
         "type": "scatter3d",
         "x": [
          45,
          46,
          47,
          48,
          49,
          50,
          51,
          52,
          53,
          54,
          55,
          56,
          57,
          58,
          59,
          60,
          61,
          62,
          63,
          64,
          65,
          66,
          67,
          68,
          69,
          70,
          71,
          72,
          73,
          74,
          75,
          76
         ],
         "y": [
          26,
          26,
          26,
          26,
          26,
          26,
          26,
          26,
          26,
          26,
          26,
          26,
          26,
          26,
          26,
          26,
          26,
          26,
          26,
          26,
          26,
          26,
          26,
          26,
          26,
          26,
          26,
          26,
          26,
          26,
          26,
          26
         ],
         "z": [
          7299,
          7603,
          7790,
          8022.7254,
          8161.3121,
          8354.0268,
          8460.4977,
          8609.6079,
          8648.7985,
          8736.3846,
          8746.5981,
          8790.3563,
          8770.2829,
          8792.2534,
          8754.7746,
          8755.8539,
          8703.7686,
          8692.8831,
          8631.5499,
          8612.3888,
          8546.347,
          8521.7245,
          8449.9359,
          8418,
          8345,
          8308,
          8235,
          8195,
          8121,
          8076,
          7996,
          7943
         ]
        },
        {
         "line": {
          "width": 2
         },
         "marker": {
          "color": [
           7396,
           7595,
           7840,
           8000.6387,
           8193.2549,
           8325.5606,
           8477.6578,
           8569.2199,
           8669.6204,
           8694.8386,
           8741.8845,
           8738.9719,
           8768.0379,
           8746.7692,
           8756.151,
           8721.3347,
           8717.7972,
           8675.5223,
           8656.8848,
           8605.9419,
           8581.7422,
           8520.1301,
           8495.4062,
           8434.198,
           8398.7344,
           8338,
           8302,
           8239,
           8197,
           8131,
           8082,
           7997
          ],
          "colorscale": [
           [
            0,
            "#440154"
           ],
           [
            0.1111111111111111,
            "#482878"
           ],
           [
            0.2222222222222222,
            "#3e4989"
           ],
           [
            0.3333333333333333,
            "#31688e"
           ],
           [
            0.4444444444444444,
            "#26828e"
           ],
           [
            0.5555555555555556,
            "#1f9e89"
           ],
           [
            0.6666666666666666,
            "#35b779"
           ],
           [
            0.7777777777777778,
            "#6ece58"
           ],
           [
            0.8888888888888888,
            "#b5de2b"
           ],
           [
            1,
            "#fde725"
           ]
          ],
          "opacity": 0.8,
          "size": 6
         },
         "mode": "lines+markers",
         "name": "Co",
         "text": [
          "A: 47",
          "A: 48",
          "A: 49",
          "A: 50",
          "A: 51",
          "A: 52",
          "A: 53",
          "A: 54",
          "A: 55",
          "A: 56",
          "A: 57",
          "A: 58",
          "A: 59",
          "A: 60",
          "A: 61",
          "A: 62",
          "A: 63",
          "A: 64",
          "A: 65",
          "A: 66",
          "A: 67",
          "A: 68",
          "A: 69",
          "A: 70",
          "A: 71",
          "A: 72",
          "A: 73",
          "A: 74",
          "A: 75",
          "A: 76",
          "A: 77",
          "A: 78"
         ],
         "type": "scatter3d",
         "x": [
          47,
          48,
          49,
          50,
          51,
          52,
          53,
          54,
          55,
          56,
          57,
          58,
          59,
          60,
          61,
          62,
          63,
          64,
          65,
          66,
          67,
          68,
          69,
          70,
          71,
          72,
          73,
          74,
          75,
          76,
          77,
          78
         ],
         "y": [
          27,
          27,
          27,
          27,
          27,
          27,
          27,
          27,
          27,
          27,
          27,
          27,
          27,
          27,
          27,
          27,
          27,
          27,
          27,
          27,
          27,
          27,
          27,
          27,
          27,
          27,
          27,
          27,
          27,
          27,
          27,
          27
         ],
         "z": [
          7396,
          7595,
          7840,
          8000.6387,
          8193.2549,
          8325.5606,
          8477.6578,
          8569.2199,
          8669.6204,
          8694.8386,
          8741.8845,
          8738.9719,
          8768.0379,
          8746.7692,
          8756.151,
          8721.3347,
          8717.7972,
          8675.5223,
          8656.8848,
          8605.9419,
          8581.7422,
          8520.1301,
          8495.4062,
          8434.198,
          8398.7344,
          8338,
          8302,
          8239,
          8197,
          8131,
          8082,
          7997
         ]
        },
        {
         "line": {
          "width": 2
         },
         "marker": {
          "color": [
           7236,
           7450,
           7702,
           7870,
           8083.8977,
           8217.0749,
           8393.0328,
           8497.3225,
           8642.7811,
           8670.9364,
           8732.0621,
           8736.5912,
           8780.7769,
           8765.0281,
           8794.5555,
           8763.4955,
           8777.4637,
           8736.2424,
           8739.5086,
           8695.7505,
           8682.4667,
           8623.0998,
           8604.2917,
           8543.1564,
           8520.2118,
           8457.6529,
           8433,
           8369,
           8338,
           8272,
           8238,
           8150,
           8088,
           8000,
           7935
          ],
          "colorscale": [
           [
            0,
            "#440154"
           ],
           [
            0.1111111111111111,
            "#482878"
           ],
           [
            0.2222222222222222,
            "#3e4989"
           ],
           [
            0.3333333333333333,
            "#31688e"
           ],
           [
            0.4444444444444444,
            "#26828e"
           ],
           [
            0.5555555555555556,
            "#1f9e89"
           ],
           [
            0.6666666666666666,
            "#35b779"
           ],
           [
            0.7777777777777778,
            "#6ece58"
           ],
           [
            0.8888888888888888,
            "#b5de2b"
           ],
           [
            1,
            "#fde725"
           ]
          ],
          "opacity": 0.8,
          "size": 6
         },
         "mode": "lines+markers",
         "name": "Ni",
         "text": [
          "A: 48",
          "A: 49",
          "A: 50",
          "A: 51",
          "A: 52",
          "A: 53",
          "A: 54",
          "A: 55",
          "A: 56",
          "A: 57",
          "A: 58",
          "A: 59",
          "A: 60",
          "A: 61",
          "A: 62",
          "A: 63",
          "A: 64",
          "A: 65",
          "A: 66",
          "A: 67",
          "A: 68",
          "A: 69",
          "A: 70",
          "A: 71",
          "A: 72",
          "A: 73",
          "A: 74",
          "A: 75",
          "A: 76",
          "A: 77",
          "A: 78",
          "A: 79",
          "A: 80",
          "A: 81",
          "A: 82"
         ],
         "type": "scatter3d",
         "x": [
          48,
          49,
          50,
          51,
          52,
          53,
          54,
          55,
          56,
          57,
          58,
          59,
          60,
          61,
          62,
          63,
          64,
          65,
          66,
          67,
          68,
          69,
          70,
          71,
          72,
          73,
          74,
          75,
          76,
          77,
          78,
          79,
          80,
          81,
          82
         ],
         "y": [
          28,
          28,
          28,
          28,
          28,
          28,
          28,
          28,
          28,
          28,
          28,
          28,
          28,
          28,
          28,
          28,
          28,
          28,
          28,
          28,
          28,
          28,
          28,
          28,
          28,
          28,
          28,
          28,
          28,
          28,
          28,
          28,
          28,
          28,
          28
         ],
         "z": [
          7236,
          7450,
          7702,
          7870,
          8083.8977,
          8217.0749,
          8393.0328,
          8497.3225,
          8642.7811,
          8670.9364,
          8732.0621,
          8736.5912,
          8780.7769,
          8765.0281,
          8794.5555,
          8763.4955,
          8777.4637,
          8736.2424,
          8739.5086,
          8695.7505,
          8682.4667,
          8623.0998,
          8604.2917,
          8543.1564,
          8520.2118,
          8457.6529,
          8433,
          8369,
          8338,
          8272,
          8238,
          8150,
          8088,
          8000,
          7935
         ]
        },
        {
         "line": {
          "width": 2
         },
         "marker": {
          "color": [
           7671,
           7891,
           8045,
           8233.997,
           8355.9907,
           8503.2646,
           8570.9696,
           8642.0027,
           8665.6047,
           8715.5148,
           8718.0839,
           8752.1404,
           8739.0736,
           8757.0967,
           8731.473,
           8737.4597,
           8701.8913,
           8695.2044,
           8646.8655,
           8635.0233,
           8586.5256,
           8568.5699,
           8521.5633,
           8495.0801,
           8443.6018,
           8411.2501,
           8354.6695,
           8320.938,
           8246,
           8185,
           8108,
           8044,
           7965
          ],
          "colorscale": [
           [
            0,
            "#440154"
           ],
           [
            0.1111111111111111,
            "#482878"
           ],
           [
            0.2222222222222222,
            "#3e4989"
           ],
           [
            0.3333333333333333,
            "#31688e"
           ],
           [
            0.4444444444444444,
            "#26828e"
           ],
           [
            0.5555555555555556,
            "#1f9e89"
           ],
           [
            0.6666666666666666,
            "#35b779"
           ],
           [
            0.7777777777777778,
            "#6ece58"
           ],
           [
            0.8888888888888888,
            "#b5de2b"
           ],
           [
            1,
            "#fde725"
           ]
          ],
          "opacity": 0.8,
          "size": 6
         },
         "mode": "lines+markers",
         "name": "Cu",
         "text": [
          "A: 52",
          "A: 53",
          "A: 54",
          "A: 55",
          "A: 56",
          "A: 57",
          "A: 58",
          "A: 59",
          "A: 60",
          "A: 61",
          "A: 62",
          "A: 63",
          "A: 64",
          "A: 65",
          "A: 66",
          "A: 67",
          "A: 68",
          "A: 69",
          "A: 70",
          "A: 71",
          "A: 72",
          "A: 73",
          "A: 74",
          "A: 75",
          "A: 76",
          "A: 77",
          "A: 78",
          "A: 79",
          "A: 80",
          "A: 81",
          "A: 82",
          "A: 83",
          "A: 84"
         ],
         "type": "scatter3d",
         "x": [
          52,
          53,
          54,
          55,
          56,
          57,
          58,
          59,
          60,
          61,
          62,
          63,
          64,
          65,
          66,
          67,
          68,
          69,
          70,
          71,
          72,
          73,
          74,
          75,
          76,
          77,
          78,
          79,
          80,
          81,
          82,
          83,
          84
         ],
         "y": [
          29,
          29,
          29,
          29,
          29,
          29,
          29,
          29,
          29,
          29,
          29,
          29,
          29,
          29,
          29,
          29,
          29,
          29,
          29,
          29,
          29,
          29,
          29,
          29,
          29,
          29,
          29,
          29,
          29,
          29,
          29,
          29,
          29
         ],
         "z": [
          7671,
          7891,
          8045,
          8233.997,
          8355.9907,
          8503.2646,
          8570.9696,
          8642.0027,
          8665.6047,
          8715.5148,
          8718.0839,
          8752.1404,
          8739.0736,
          8757.0967,
          8731.473,
          8737.4597,
          8701.8913,
          8695.2044,
          8646.8655,
          8635.0233,
          8586.5256,
          8568.5699,
          8521.5633,
          8495.0801,
          8443.6018,
          8411.2501,
          8354.6695,
          8320.938,
          8246,
          8185,
          8108,
          8044,
          7965
         ]
        },
        {
         "line": {
          "width": 2
         },
         "marker": {
          "color": [
           7742,
           7904,
           8106,
           8231,
           8395.9467,
           8473.7802,
           8583.0524,
           8610.3098,
           8679.3451,
           8686.2866,
           8735.9057,
           8724.266,
           8759.6335,
           8734.1534,
           8755.682,
           8722.7311,
           8729.8086,
           8689.0417,
           8691.8053,
           8648.3455,
           8642.7547,
           8592.4981,
           8582.2735,
           8530.0037,
           8507.38,
           8450.5825,
           8423.5457,
           8351.9262,
           8301.1175,
           8226,
           8171,
           8090,
           8032
          ],
          "colorscale": [
           [
            0,
            "#440154"
           ],
           [
            0.1111111111111111,
            "#482878"
           ],
           [
            0.2222222222222222,
            "#3e4989"
           ],
           [
            0.3333333333333333,
            "#31688e"
           ],
           [
            0.4444444444444444,
            "#26828e"
           ],
           [
            0.5555555555555556,
            "#1f9e89"
           ],
           [
            0.6666666666666666,
            "#35b779"
           ],
           [
            0.7777777777777778,
            "#6ece58"
           ],
           [
            0.8888888888888888,
            "#b5de2b"
           ],
           [
            1,
            "#fde725"
           ]
          ],
          "opacity": 0.8,
          "size": 6
         },
         "mode": "lines+markers",
         "name": "Zn",
         "text": [
          "A: 54",
          "A: 55",
          "A: 56",
          "A: 57",
          "A: 58",
          "A: 59",
          "A: 60",
          "A: 61",
          "A: 62",
          "A: 63",
          "A: 64",
          "A: 65",
          "A: 66",
          "A: 67",
          "A: 68",
          "A: 69",
          "A: 70",
          "A: 71",
          "A: 72",
          "A: 73",
          "A: 74",
          "A: 75",
          "A: 76",
          "A: 77",
          "A: 78",
          "A: 79",
          "A: 80",
          "A: 81",
          "A: 82",
          "A: 83",
          "A: 84",
          "A: 85",
          "A: 86"
         ],
         "type": "scatter3d",
         "x": [
          54,
          55,
          56,
          57,
          58,
          59,
          60,
          61,
          62,
          63,
          64,
          65,
          66,
          67,
          68,
          69,
          70,
          71,
          72,
          73,
          74,
          75,
          76,
          77,
          78,
          79,
          80,
          81,
          82,
          83,
          84,
          85,
          86
         ],
         "y": [
          30,
          30,
          30,
          30,
          30,
          30,
          30,
          30,
          30,
          30,
          30,
          30,
          30,
          30,
          30,
          30,
          30,
          30,
          30,
          30,
          30,
          30,
          30,
          30,
          30,
          30,
          30,
          30,
          30,
          30,
          30,
          30,
          30
         ],
         "z": [
          7742,
          7904,
          8106,
          8231,
          8395.9467,
          8473.7802,
          8583.0524,
          8610.3098,
          8679.3451,
          8686.2866,
          8735.9057,
          8724.266,
          8759.6335,
          8734.1534,
          8755.682,
          8722.7311,
          8729.8086,
          8689.0417,
          8691.8053,
          8648.3455,
          8642.7547,
          8592.4981,
          8582.2735,
          8530.0037,
          8507.38,
          8450.5825,
          8423.5457,
          8351.9262,
          8301.1175,
          8226,
          8171,
          8090,
          8032
         ]
        },
        {
         "hoverinfo": "text",
         "hovertext": [
          "Energía de Ligadura Máxima: 2827.2654 keV<br>Elemento: H",
          "Energía de Ligadura Máxima: 7073.9156 keV<br>Elemento: He",
          "Energía de Ligadura Máxima: 5606.4401 keV<br>Elemento: Li",
          "Energía de Ligadura Máxima: 7062.4356 keV<br>Elemento: Be",
          "Energía de Ligadura Máxima: 6927.7323 keV<br>Elemento: B",
          "Energía de Ligadura Máxima: 7680.1446 keV<br>Elemento: C",
          "Energía de Ligadura Máxima: 7699.4603 keV<br>Elemento: N",
          "Energía de Ligadura Máxima: 7976.2072 keV<br>Elemento: O",
          "Energía de Ligadura Máxima: 7779.0192 keV<br>Elemento: F",
          "Energía de Ligadura Máxima: 8080.4656 keV<br>Elemento: Ne",
          "Energía de Ligadura Máxima: 8111.4936 keV<br>Elemento: Na",
          "Energía de Ligadura Máxima: 8333.8711 keV<br>Elemento: Mg",
          "Energía de Ligadura Máxima: 8348.4647 keV<br>Elemento: Al",
          "Energía de Ligadura Máxima: 8520.6549 keV<br>Elemento: Si",
          "Energía de Ligadura Máxima: 8513.8073 keV<br>Elemento: P",
          "Energía de Ligadura Máxima: 8583.4986 keV<br>Elemento: S",
          "Energía de Ligadura Máxima: 8570.2816 keV<br>Elemento: Cl",
          "Energía de Ligadura Máxima: 8614.2807 keV<br>Elemento: Ar",
          "Energía de Ligadura Máxima: 8576.2204 keV<br>Elemento: K",
          "Energía de Ligadura Máxima: 8668.9848 keV<br>Elemento: Ca",
          "Energía de Ligadura Máxima: 8686.2805 keV<br>Elemento: Sc",
          "Energía de Ligadura Máxima: 8755.7227 keV<br>Elemento: Ti",
          "Energía de Ligadura Máxima: 8742.0852 keV<br>Elemento: V",
          "Energía de Ligadura Máxima: 8777.9672 keV<br>Elemento: Cr",
          "Energía de Ligadura Máxima: 8765.0247 keV<br>Elemento: Mn",
          "Energía de Ligadura Máxima: 8792.2534 keV<br>Elemento: Fe",
          "Energía de Ligadura Máxima: 8768.0379 keV<br>Elemento: Co",
          "Energía de Ligadura Máxima: 8794.5555 keV<br>Elemento: Ni",
          "Energía de Ligadura Máxima: 8757.0967 keV<br>Elemento: Cu",
          "Energía de Ligadura Máxima: 8759.6335 keV<br>Elemento: Zn"
         ],
         "marker": {
          "color": "red",
          "line": {
           "width": 2
          },
          "size": 10,
          "symbol": "circle"
         },
         "mode": "lines+markers",
         "name": "Máxima Energía de Ligadura",
         "type": "scatter3d",
         "x": [
          3,
          4,
          7,
          8,
          11,
          12,
          15,
          16,
          19,
          22,
          23,
          26,
          29,
          30,
          33,
          34,
          37,
          38,
          43,
          46,
          49,
          50,
          51,
          54,
          55,
          58,
          59,
          62,
          65,
          66
         ],
         "y": [
          1,
          2,
          3,
          4,
          5,
          6,
          7,
          8,
          9,
          10,
          11,
          12,
          13,
          14,
          15,
          16,
          17,
          18,
          19,
          20,
          21,
          22,
          23,
          24,
          25,
          26,
          27,
          28,
          29,
          30
         ],
         "z": [
          0,
          0,
          0,
          0,
          0,
          0,
          0,
          0,
          0,
          0,
          0,
          0,
          0,
          0,
          0,
          0,
          0,
          0,
          0,
          0,
          0,
          0,
          0,
          0,
          0,
          0,
          0,
          0,
          0,
          0
         ]
        }
       ],
       "layout": {
        "height": 900,
        "legend": {
         "title": {
          "text": "Elemento Químico"
         }
        },
        "scene": {
         "xaxis": {
          "title": {
           "text": "Masa Atómica (A)"
          }
         },
         "yaxis": {
          "title": {
           "text": "Número Atómico (Z)"
          }
         },
         "zaxis": {
          "title": {
           "text": "$\\epsilon$ (keV)"
          }
         }
        },
        "template": {
         "data": {
          "bar": [
           {
            "error_x": {
             "color": "#2a3f5f"
            },
            "error_y": {
             "color": "#2a3f5f"
            },
            "marker": {
             "line": {
              "color": "#E5ECF6",
              "width": 0.5
             },
             "pattern": {
              "fillmode": "overlay",
              "size": 10,
              "solidity": 0.2
             }
            },
            "type": "bar"
           }
          ],
          "barpolar": [
           {
            "marker": {
             "line": {
              "color": "#E5ECF6",
              "width": 0.5
             },
             "pattern": {
              "fillmode": "overlay",
              "size": 10,
              "solidity": 0.2
             }
            },
            "type": "barpolar"
           }
          ],
          "carpet": [
           {
            "aaxis": {
             "endlinecolor": "#2a3f5f",
             "gridcolor": "white",
             "linecolor": "white",
             "minorgridcolor": "white",
             "startlinecolor": "#2a3f5f"
            },
            "baxis": {
             "endlinecolor": "#2a3f5f",
             "gridcolor": "white",
             "linecolor": "white",
             "minorgridcolor": "white",
             "startlinecolor": "#2a3f5f"
            },
            "type": "carpet"
           }
          ],
          "choropleth": [
           {
            "colorbar": {
             "outlinewidth": 0,
             "ticks": ""
            },
            "type": "choropleth"
           }
          ],
          "contour": [
           {
            "colorbar": {
             "outlinewidth": 0,
             "ticks": ""
            },
            "colorscale": [
             [
              0,
              "#0d0887"
             ],
             [
              0.1111111111111111,
              "#46039f"
             ],
             [
              0.2222222222222222,
              "#7201a8"
             ],
             [
              0.3333333333333333,
              "#9c179e"
             ],
             [
              0.4444444444444444,
              "#bd3786"
             ],
             [
              0.5555555555555556,
              "#d8576b"
             ],
             [
              0.6666666666666666,
              "#ed7953"
             ],
             [
              0.7777777777777778,
              "#fb9f3a"
             ],
             [
              0.8888888888888888,
              "#fdca26"
             ],
             [
              1,
              "#f0f921"
             ]
            ],
            "type": "contour"
           }
          ],
          "contourcarpet": [
           {
            "colorbar": {
             "outlinewidth": 0,
             "ticks": ""
            },
            "type": "contourcarpet"
           }
          ],
          "heatmap": [
           {
            "colorbar": {
             "outlinewidth": 0,
             "ticks": ""
            },
            "colorscale": [
             [
              0,
              "#0d0887"
             ],
             [
              0.1111111111111111,
              "#46039f"
             ],
             [
              0.2222222222222222,
              "#7201a8"
             ],
             [
              0.3333333333333333,
              "#9c179e"
             ],
             [
              0.4444444444444444,
              "#bd3786"
             ],
             [
              0.5555555555555556,
              "#d8576b"
             ],
             [
              0.6666666666666666,
              "#ed7953"
             ],
             [
              0.7777777777777778,
              "#fb9f3a"
             ],
             [
              0.8888888888888888,
              "#fdca26"
             ],
             [
              1,
              "#f0f921"
             ]
            ],
            "type": "heatmap"
           }
          ],
          "heatmapgl": [
           {
            "colorbar": {
             "outlinewidth": 0,
             "ticks": ""
            },
            "colorscale": [
             [
              0,
              "#0d0887"
             ],
             [
              0.1111111111111111,
              "#46039f"
             ],
             [
              0.2222222222222222,
              "#7201a8"
             ],
             [
              0.3333333333333333,
              "#9c179e"
             ],
             [
              0.4444444444444444,
              "#bd3786"
             ],
             [
              0.5555555555555556,
              "#d8576b"
             ],
             [
              0.6666666666666666,
              "#ed7953"
             ],
             [
              0.7777777777777778,
              "#fb9f3a"
             ],
             [
              0.8888888888888888,
              "#fdca26"
             ],
             [
              1,
              "#f0f921"
             ]
            ],
            "type": "heatmapgl"
           }
          ],
          "histogram": [
           {
            "marker": {
             "pattern": {
              "fillmode": "overlay",
              "size": 10,
              "solidity": 0.2
             }
            },
            "type": "histogram"
           }
          ],
          "histogram2d": [
           {
            "colorbar": {
             "outlinewidth": 0,
             "ticks": ""
            },
            "colorscale": [
             [
              0,
              "#0d0887"
             ],
             [
              0.1111111111111111,
              "#46039f"
             ],
             [
              0.2222222222222222,
              "#7201a8"
             ],
             [
              0.3333333333333333,
              "#9c179e"
             ],
             [
              0.4444444444444444,
              "#bd3786"
             ],
             [
              0.5555555555555556,
              "#d8576b"
             ],
             [
              0.6666666666666666,
              "#ed7953"
             ],
             [
              0.7777777777777778,
              "#fb9f3a"
             ],
             [
              0.8888888888888888,
              "#fdca26"
             ],
             [
              1,
              "#f0f921"
             ]
            ],
            "type": "histogram2d"
           }
          ],
          "histogram2dcontour": [
           {
            "colorbar": {
             "outlinewidth": 0,
             "ticks": ""
            },
            "colorscale": [
             [
              0,
              "#0d0887"
             ],
             [
              0.1111111111111111,
              "#46039f"
             ],
             [
              0.2222222222222222,
              "#7201a8"
             ],
             [
              0.3333333333333333,
              "#9c179e"
             ],
             [
              0.4444444444444444,
              "#bd3786"
             ],
             [
              0.5555555555555556,
              "#d8576b"
             ],
             [
              0.6666666666666666,
              "#ed7953"
             ],
             [
              0.7777777777777778,
              "#fb9f3a"
             ],
             [
              0.8888888888888888,
              "#fdca26"
             ],
             [
              1,
              "#f0f921"
             ]
            ],
            "type": "histogram2dcontour"
           }
          ],
          "mesh3d": [
           {
            "colorbar": {
             "outlinewidth": 0,
             "ticks": ""
            },
            "type": "mesh3d"
           }
          ],
          "parcoords": [
           {
            "line": {
             "colorbar": {
              "outlinewidth": 0,
              "ticks": ""
             }
            },
            "type": "parcoords"
           }
          ],
          "pie": [
           {
            "automargin": true,
            "type": "pie"
           }
          ],
          "scatter": [
           {
            "fillpattern": {
             "fillmode": "overlay",
             "size": 10,
             "solidity": 0.2
            },
            "type": "scatter"
           }
          ],
          "scatter3d": [
           {
            "line": {
             "colorbar": {
              "outlinewidth": 0,
              "ticks": ""
             }
            },
            "marker": {
             "colorbar": {
              "outlinewidth": 0,
              "ticks": ""
             }
            },
            "type": "scatter3d"
           }
          ],
          "scattercarpet": [
           {
            "marker": {
             "colorbar": {
              "outlinewidth": 0,
              "ticks": ""
             }
            },
            "type": "scattercarpet"
           }
          ],
          "scattergeo": [
           {
            "marker": {
             "colorbar": {
              "outlinewidth": 0,
              "ticks": ""
             }
            },
            "type": "scattergeo"
           }
          ],
          "scattergl": [
           {
            "marker": {
             "colorbar": {
              "outlinewidth": 0,
              "ticks": ""
             }
            },
            "type": "scattergl"
           }
          ],
          "scattermapbox": [
           {
            "marker": {
             "colorbar": {
              "outlinewidth": 0,
              "ticks": ""
             }
            },
            "type": "scattermapbox"
           }
          ],
          "scatterpolar": [
           {
            "marker": {
             "colorbar": {
              "outlinewidth": 0,
              "ticks": ""
             }
            },
            "type": "scatterpolar"
           }
          ],
          "scatterpolargl": [
           {
            "marker": {
             "colorbar": {
              "outlinewidth": 0,
              "ticks": ""
             }
            },
            "type": "scatterpolargl"
           }
          ],
          "scatterternary": [
           {
            "marker": {
             "colorbar": {
              "outlinewidth": 0,
              "ticks": ""
             }
            },
            "type": "scatterternary"
           }
          ],
          "surface": [
           {
            "colorbar": {
             "outlinewidth": 0,
             "ticks": ""
            },
            "colorscale": [
             [
              0,
              "#0d0887"
             ],
             [
              0.1111111111111111,
              "#46039f"
             ],
             [
              0.2222222222222222,
              "#7201a8"
             ],
             [
              0.3333333333333333,
              "#9c179e"
             ],
             [
              0.4444444444444444,
              "#bd3786"
             ],
             [
              0.5555555555555556,
              "#d8576b"
             ],
             [
              0.6666666666666666,
              "#ed7953"
             ],
             [
              0.7777777777777778,
              "#fb9f3a"
             ],
             [
              0.8888888888888888,
              "#fdca26"
             ],
             [
              1,
              "#f0f921"
             ]
            ],
            "type": "surface"
           }
          ],
          "table": [
           {
            "cells": {
             "fill": {
              "color": "#EBF0F8"
             },
             "line": {
              "color": "white"
             }
            },
            "header": {
             "fill": {
              "color": "#C8D4E3"
             },
             "line": {
              "color": "white"
             }
            },
            "type": "table"
           }
          ]
         },
         "layout": {
          "annotationdefaults": {
           "arrowcolor": "#2a3f5f",
           "arrowhead": 0,
           "arrowwidth": 1
          },
          "autotypenumbers": "strict",
          "coloraxis": {
           "colorbar": {
            "outlinewidth": 0,
            "ticks": ""
           }
          },
          "colorscale": {
           "diverging": [
            [
             0,
             "#8e0152"
            ],
            [
             0.1,
             "#c51b7d"
            ],
            [
             0.2,
             "#de77ae"
            ],
            [
             0.3,
             "#f1b6da"
            ],
            [
             0.4,
             "#fde0ef"
            ],
            [
             0.5,
             "#f7f7f7"
            ],
            [
             0.6,
             "#e6f5d0"
            ],
            [
             0.7,
             "#b8e186"
            ],
            [
             0.8,
             "#7fbc41"
            ],
            [
             0.9,
             "#4d9221"
            ],
            [
             1,
             "#276419"
            ]
           ],
           "sequential": [
            [
             0,
             "#0d0887"
            ],
            [
             0.1111111111111111,
             "#46039f"
            ],
            [
             0.2222222222222222,
             "#7201a8"
            ],
            [
             0.3333333333333333,
             "#9c179e"
            ],
            [
             0.4444444444444444,
             "#bd3786"
            ],
            [
             0.5555555555555556,
             "#d8576b"
            ],
            [
             0.6666666666666666,
             "#ed7953"
            ],
            [
             0.7777777777777778,
             "#fb9f3a"
            ],
            [
             0.8888888888888888,
             "#fdca26"
            ],
            [
             1,
             "#f0f921"
            ]
           ],
           "sequentialminus": [
            [
             0,
             "#0d0887"
            ],
            [
             0.1111111111111111,
             "#46039f"
            ],
            [
             0.2222222222222222,
             "#7201a8"
            ],
            [
             0.3333333333333333,
             "#9c179e"
            ],
            [
             0.4444444444444444,
             "#bd3786"
            ],
            [
             0.5555555555555556,
             "#d8576b"
            ],
            [
             0.6666666666666666,
             "#ed7953"
            ],
            [
             0.7777777777777778,
             "#fb9f3a"
            ],
            [
             0.8888888888888888,
             "#fdca26"
            ],
            [
             1,
             "#f0f921"
            ]
           ]
          },
          "colorway": [
           "#636efa",
           "#EF553B",
           "#00cc96",
           "#ab63fa",
           "#FFA15A",
           "#19d3f3",
           "#FF6692",
           "#B6E880",
           "#FF97FF",
           "#FECB52"
          ],
          "font": {
           "color": "#2a3f5f"
          },
          "geo": {
           "bgcolor": "white",
           "lakecolor": "white",
           "landcolor": "#E5ECF6",
           "showlakes": true,
           "showland": true,
           "subunitcolor": "white"
          },
          "hoverlabel": {
           "align": "left"
          },
          "hovermode": "closest",
          "mapbox": {
           "style": "light"
          },
          "paper_bgcolor": "white",
          "plot_bgcolor": "#E5ECF6",
          "polar": {
           "angularaxis": {
            "gridcolor": "white",
            "linecolor": "white",
            "ticks": ""
           },
           "bgcolor": "#E5ECF6",
           "radialaxis": {
            "gridcolor": "white",
            "linecolor": "white",
            "ticks": ""
           }
          },
          "scene": {
           "xaxis": {
            "backgroundcolor": "#E5ECF6",
            "gridcolor": "white",
            "gridwidth": 2,
            "linecolor": "white",
            "showbackground": true,
            "ticks": "",
            "zerolinecolor": "white"
           },
           "yaxis": {
            "backgroundcolor": "#E5ECF6",
            "gridcolor": "white",
            "gridwidth": 2,
            "linecolor": "white",
            "showbackground": true,
            "ticks": "",
            "zerolinecolor": "white"
           },
           "zaxis": {
            "backgroundcolor": "#E5ECF6",
            "gridcolor": "white",
            "gridwidth": 2,
            "linecolor": "white",
            "showbackground": true,
            "ticks": "",
            "zerolinecolor": "white"
           }
          },
          "shapedefaults": {
           "line": {
            "color": "#2a3f5f"
           }
          },
          "ternary": {
           "aaxis": {
            "gridcolor": "white",
            "linecolor": "white",
            "ticks": ""
           },
           "baxis": {
            "gridcolor": "white",
            "linecolor": "white",
            "ticks": ""
           },
           "bgcolor": "#E5ECF6",
           "caxis": {
            "gridcolor": "white",
            "linecolor": "white",
            "ticks": ""
           }
          },
          "title": {
           "x": 0.05
          },
          "xaxis": {
           "automargin": true,
           "gridcolor": "white",
           "linecolor": "white",
           "ticks": "",
           "title": {
            "standoff": 15
           },
           "zerolinecolor": "white",
           "zerolinewidth": 2
          },
          "yaxis": {
           "automargin": true,
           "gridcolor": "white",
           "linecolor": "white",
           "ticks": "",
           "title": {
            "standoff": 15
           },
           "zerolinecolor": "white",
           "zerolinewidth": 2
          }
         }
        },
        "title": {
         "text": "Energía de Ligadura vs Masa Atómica y Número Atómico (Z)"
        },
        "width": 1200
       }
      }
     },
     "metadata": {},
     "output_type": "display_data"
    }
   ],
   "source": [
    "# Filtrar los datos para Helio (z=1,2,...,10)\n",
    "df_subset = df[df['z'].isin([1, 2, 3, 4, 5, 6, 7, 8, 9, 10, 11, 12, 13, 14, 15, 16, 17, 18, 19, 20, 21, 22, 23, 24, 25, 26, 27, 28, 29, 30])]\n",
    "\n",
    "# Crear un diccionario para mapear Z a símbolos de elementos\n",
    "z_to_symbol = {\n",
    "    1: 'H', 2: 'He', 3: 'Li', 4: 'Be', 5: 'B', 6: 'C', 7: 'N', 8: 'O', 9: 'F', 10: 'Ne',\n",
    "    11: 'Na', 12: 'Mg', 13: 'Al', 14: 'Si', 15: 'P', 16: 'S', 17: 'Cl', 18: 'Ar', 19: 'K', 20: 'Ca',\n",
    "    21: 'Sc', 22: 'Ti', 23: 'V', 24: 'Cr', 25: 'Mn', 26: 'Fe', 27: 'Co', 28: 'Ni', 29: 'Cu', 30: 'Zn'\n",
    "}\n",
    "# Obtener los elementos únicos en df_subset\n",
    "elementos = df_subset['z'].unique()\n",
    "\n",
    "# Crear la figura 3D con un tamaño más grande\n",
    "fig = go.Figure()\n",
    "\n",
    "# Crear una lista para almacenar las coordenadas de masa (A) y número atómico (Z) de máxima energía de ligadura\n",
    "max_energy_coordinates = []\n",
    "\n",
    "# Iterar sobre los elementos y agregar las curvas\n",
    "for elemento in elementos:\n",
    "    df_elemento = df_subset[df_subset['z'] == elemento]\n",
    "    # Encontrar el índice del máximo valor de energía de ligadura\n",
    "    idx_max_energy = df_elemento['bindingEnergy(keV)'].idxmax()\n",
    "    # Obtener las coordenadas de masa (A) y Z correspondientes al máximo\n",
    "    max_A = df_elemento.loc[idx_max_energy, 'Masa_atomica']\n",
    "    max_Z = df_elemento.loc[idx_max_energy, 'z']\n",
    "    # Agregar las coordenadas a la lista\n",
    "    max_energy_coordinates.append((max_A, max_Z))\n",
    "\n",
    "    # Agregar puntos y líneas\n",
    "    fig.add_trace(go.Scatter3d(\n",
    "        x=df_elemento['Masa_atomica'],\n",
    "        y=df_elemento['z'],\n",
    "        z=df_elemento['bindingEnergy(keV)'],\n",
    "        mode='lines+markers',\n",
    "        name=f'{z_to_symbol[elemento]}',\n",
    "        marker=dict(\n",
    "            size=6,\n",
    "            color=df_elemento['bindingEnergy(keV)'],\n",
    "            colorscale='Viridis',\n",
    "            opacity=0.8\n",
    "        ),\n",
    "        line=dict(width=2),\n",
    "        text=[f\"A: {a}\" for a in df_elemento['Masa_atomica']],\n",
    "    ))\n",
    "\n",
    "# Convertir la lista en un DataFrame para visualización\n",
    "df_max_energy = pd.DataFrame(max_energy_coordinates, columns=['Masa_atomica', 'z'])\n",
    "\n",
    "# Agregar los puntos correspondientes a las coordenadas de máxima energía\n",
    "fig.add_trace(go.Scatter3d(\n",
    "    x=df_max_energy['Masa_atomica'],\n",
    "    y=df_max_energy['z'],\n",
    "    z=[0 for _ in max_energy_coordinates],  # Establecer eje z a cero para todos los puntos\n",
    "    mode='lines+markers',\n",
    "    name='Máxima Energía de Ligadura',\n",
    "    hovertext=[f'Energía de Ligadura Máxima: {df.loc[(df[\"Masa_atomica\"] == A) & (df[\"z\"] == Z), \"bindingEnergy(keV)\"].values[0]} keV<br>Elemento: {z_to_symbol[Z]}' for A, Z in max_energy_coordinates],  # Agregar texto al pasar el mouse\n",
    "    hoverinfo='text',  # Mostrar solo el texto personalizado\n",
    "    marker=dict(\n",
    "        size=10,\n",
    "        color='red',\n",
    "        symbol='circle',\n",
    "        line=dict(width=2),\n",
    "    ),\n",
    "))\n",
    "\n",
    "# Personalizar el diseño y ajustar el tamaño\n",
    "fig.update_layout(\n",
    "    scene=dict(\n",
    "        xaxis_title='Masa Atómica (A)',\n",
    "        yaxis_title='Número Atómico (Z)',\n",
    "        zaxis_title='$\\epsilon$ (keV)'\n",
    "    ),\n",
    "    title='Energía de Ligadura vs Masa Atómica y Número Atómico (Z)',\n",
    "    legend=dict(title='Elemento Químico'),\n",
    "    width=1200,  # Ancho de la figura\n",
    "    height=900  # Alto de la figura\n",
    ")\n",
    "\n",
    "# Mostrar la gráfica interactiva\n",
    "fig.show()"
   ]
  },
  {
   "cell_type": "code",
   "execution_count": 10,
   "metadata": {},
   "outputs": [
    {
     "data": {
      "application/vnd.plotly.v1+json": {
       "config": {
        "plotlyServerURL": "https://plot.ly"
       },
       "data": [
        {
         "line": {
          "width": 2
         },
         "marker": {
          "color": [
           1112.2831,
           2827.2654,
           1720.4491,
           1336.3592,
           961.6395,
           940
          ],
          "colorscale": [
           [
            0,
            "#440154"
           ],
           [
            0.1111111111111111,
            "#482878"
           ],
           [
            0.2222222222222222,
            "#3e4989"
           ],
           [
            0.3333333333333333,
            "#31688e"
           ],
           [
            0.4444444444444444,
            "#26828e"
           ],
           [
            0.5555555555555556,
            "#1f9e89"
           ],
           [
            0.6666666666666666,
            "#35b779"
           ],
           [
            0.7777777777777778,
            "#6ece58"
           ],
           [
            0.8888888888888888,
            "#b5de2b"
           ],
           [
            1,
            "#fde725"
           ]
          ],
          "opacity": 0.8,
          "size": 6
         },
         "mode": "lines+markers",
         "name": "H",
         "text": [
          "A: 2",
          "A: 3",
          "A: 4",
          "A: 5",
          "A: 6",
          "A: 7"
         ],
         "type": "scatter3d",
         "x": [
          2,
          3,
          4,
          5,
          6,
          7
         ],
         "y": [
          1,
          1,
          1,
          1,
          1,
          1
         ],
         "z": [
          1112.2831,
          2827.2654,
          1720.4491,
          1336.3592,
          961.6395,
          940
         ]
        },
        {
         "line": {
          "width": 2
         },
         "marker": {
          "color": [
           2572.68044,
           7073.9156,
           5512.1325,
           4878.5199,
           4123.0578,
           3924.521,
           3349.038,
           2995.134
          ],
          "colorscale": [
           [
            0,
            "#440154"
           ],
           [
            0.1111111111111111,
            "#482878"
           ],
           [
            0.2222222222222222,
            "#3e4989"
           ],
           [
            0.3333333333333333,
            "#31688e"
           ],
           [
            0.4444444444444444,
            "#26828e"
           ],
           [
            0.5555555555555556,
            "#1f9e89"
           ],
           [
            0.6666666666666666,
            "#35b779"
           ],
           [
            0.7777777777777778,
            "#6ece58"
           ],
           [
            0.8888888888888888,
            "#b5de2b"
           ],
           [
            1,
            "#fde725"
           ]
          ],
          "opacity": 0.8,
          "size": 6
         },
         "mode": "lines+markers",
         "name": "He",
         "text": [
          "A: 3",
          "A: 4",
          "A: 5",
          "A: 6",
          "A: 7",
          "A: 8",
          "A: 9",
          "A: 10"
         ],
         "type": "scatter3d",
         "x": [
          3,
          4,
          5,
          6,
          7,
          8,
          9,
          10
         ],
         "y": [
          2,
          2,
          2,
          2,
          2,
          2,
          2,
          2
         ],
         "z": [
          2572.68044,
          7073.9156,
          5512.1325,
          4878.5199,
          4123.0578,
          3924.521,
          3349.038,
          2995.134
         ]
        },
        {
         "line": {
          "width": 2
         },
         "marker": {
          "color": [
           1153.7603,
           5266.1325,
           5332.3312,
           5606.4401,
           5159.7124,
           5037.7685,
           4531.3512,
           4155.3817,
           3791.5999,
           3507.6307
          ],
          "colorscale": [
           [
            0,
            "#440154"
           ],
           [
            0.1111111111111111,
            "#482878"
           ],
           [
            0.2222222222222222,
            "#3e4989"
           ],
           [
            0.3333333333333333,
            "#31688e"
           ],
           [
            0.4444444444444444,
            "#26828e"
           ],
           [
            0.5555555555555556,
            "#1f9e89"
           ],
           [
            0.6666666666666666,
            "#35b779"
           ],
           [
            0.7777777777777778,
            "#6ece58"
           ],
           [
            0.8888888888888888,
            "#b5de2b"
           ],
           [
            1,
            "#fde725"
           ]
          ],
          "opacity": 0.8,
          "size": 6
         },
         "mode": "lines+markers",
         "name": "Li",
         "text": [
          "A: 4",
          "A: 5",
          "A: 6",
          "A: 7",
          "A: 8",
          "A: 9",
          "A: 10",
          "A: 11",
          "A: 12",
          "A: 13"
         ],
         "type": "scatter3d",
         "x": [
          4,
          5,
          6,
          7,
          8,
          9,
          10,
          11,
          12,
          13
         ],
         "y": [
          3,
          3,
          3,
          3,
          3,
          3,
          3,
          3,
          3,
          3
         ],
         "z": [
          1153.7603,
          5266.1325,
          5332.3312,
          5606.4401,
          5159.7124,
          5037.7685,
          4531.3512,
          4155.3817,
          3791.5999,
          3507.6307
         ]
        },
        {
         "line": {
          "width": 2
         },
         "marker": {
          "color": [
           18,
           4487.2478,
           5371.5487,
           7062.4356,
           6462.6693,
           6497.6306,
           5952.5402,
           5720.7223,
           5241.4359,
           4993.8973,
           4540.9708,
           4285.2851
          ],
          "colorscale": [
           [
            0,
            "#440154"
           ],
           [
            0.1111111111111111,
            "#482878"
           ],
           [
            0.2222222222222222,
            "#3e4989"
           ],
           [
            0.3333333333333333,
            "#31688e"
           ],
           [
            0.4444444444444444,
            "#26828e"
           ],
           [
            0.5555555555555556,
            "#1f9e89"
           ],
           [
            0.6666666666666666,
            "#35b779"
           ],
           [
            0.7777777777777778,
            "#6ece58"
           ],
           [
            0.8888888888888888,
            "#b5de2b"
           ],
           [
            1,
            "#fde725"
           ]
          ],
          "opacity": 0.8,
          "size": 6
         },
         "mode": "lines+markers",
         "name": "Be",
         "text": [
          "A: 5",
          "A: 6",
          "A: 7",
          "A: 8",
          "A: 9",
          "A: 10",
          "A: 11",
          "A: 12",
          "A: 13",
          "A: 14",
          "A: 15",
          "A: 16"
         ],
         "type": "scatter3d",
         "x": [
          5,
          6,
          7,
          8,
          9,
          10,
          11,
          12,
          13,
          14,
          15,
          16
         ],
         "y": [
          4,
          4,
          4,
          4,
          4,
          4,
          4,
          4,
          4,
          4,
          4,
          4
         ],
         "z": [
          18,
          4487.2478,
          5371.5487,
          7062.4356,
          6462.6693,
          6497.6306,
          5952.5402,
          5720.7223,
          5241.4359,
          4993.8973,
          4540.9708,
          4285.2851
         ]
        },
        {
         "line": {
          "width": 2
         },
         "marker": {
          "color": [
           -467,
           3558.7055,
           4717.1551,
           6257.0713,
           6475.0835,
           6927.7323,
           6631.2237,
           6496.4194,
           6101.6451,
           5880.0438,
           5507.3535,
           5269.6677,
           4976.6306,
           4719.6346,
           4405.6529,
           4152.5265
          ],
          "colorscale": [
           [
            0,
            "#440154"
           ],
           [
            0.1111111111111111,
            "#482878"
           ],
           [
            0.2222222222222222,
            "#3e4989"
           ],
           [
            0.3333333333333333,
            "#31688e"
           ],
           [
            0.4444444444444444,
            "#26828e"
           ],
           [
            0.5555555555555556,
            "#1f9e89"
           ],
           [
            0.6666666666666666,
            "#35b779"
           ],
           [
            0.7777777777777778,
            "#6ece58"
           ],
           [
            0.8888888888888888,
            "#b5de2b"
           ],
           [
            1,
            "#fde725"
           ]
          ],
          "opacity": 0.8,
          "size": 6
         },
         "mode": "lines+markers",
         "name": "B",
         "text": [
          "A: 6",
          "A: 7",
          "A: 8",
          "A: 9",
          "A: 10",
          "A: 11",
          "A: 12",
          "A: 13",
          "A: 14",
          "A: 15",
          "A: 16",
          "A: 17",
          "A: 18",
          "A: 19",
          "A: 20",
          "A: 21"
         ],
         "type": "scatter3d",
         "x": [
          6,
          7,
          8,
          9,
          10,
          11,
          12,
          13,
          14,
          15,
          16,
          17,
          18,
          19,
          20,
          21
         ],
         "y": [
          5,
          5,
          5,
          5,
          5,
          5,
          5,
          5,
          5,
          5,
          5,
          5,
          5,
          5,
          5,
          5
         ],
         "z": [
          -467,
          3558.7055,
          4717.1551,
          6257.0713,
          6475.0835,
          6927.7323,
          6631.2237,
          6496.4194,
          6101.6451,
          5880.0438,
          5507.3535,
          5269.6677,
          4976.6306,
          4719.6346,
          4405.6529,
          4152.5265
         ]
        },
        {
         "line": {
          "width": 2
         },
         "marker": {
          "color": [
           3101.5242,
           4337.4233,
           6032.0426,
           6676.4563,
           7680.1446,
           7469.8495,
           7520.3198,
           7100.1696,
           6922.0546,
           6558.0262,
           6426.1321,
           6118.274,
           5961.4356,
           5674,
           5421.0778,
           5077
          ],
          "colorscale": [
           [
            0,
            "#440154"
           ],
           [
            0.1111111111111111,
            "#482878"
           ],
           [
            0.2222222222222222,
            "#3e4989"
           ],
           [
            0.3333333333333333,
            "#31688e"
           ],
           [
            0.4444444444444444,
            "#26828e"
           ],
           [
            0.5555555555555556,
            "#1f9e89"
           ],
           [
            0.6666666666666666,
            "#35b779"
           ],
           [
            0.7777777777777778,
            "#6ece58"
           ],
           [
            0.8888888888888888,
            "#b5de2b"
           ],
           [
            1,
            "#fde725"
           ]
          ],
          "opacity": 0.8,
          "size": 6
         },
         "mode": "lines+markers",
         "name": "C",
         "text": [
          "A: 8",
          "A: 9",
          "A: 10",
          "A: 11",
          "A: 12",
          "A: 13",
          "A: 14",
          "A: 15",
          "A: 16",
          "A: 17",
          "A: 18",
          "A: 19",
          "A: 20",
          "A: 21",
          "A: 22",
          "A: 23"
         ],
         "type": "scatter3d",
         "x": [
          8,
          9,
          10,
          11,
          12,
          13,
          14,
          15,
          16,
          17,
          18,
          19,
          20,
          21,
          22,
          23
         ],
         "y": [
          6,
          6,
          6,
          6,
          6,
          6,
          6,
          6,
          6,
          6,
          6,
          6,
          6,
          6,
          6,
          6
         ],
         "z": [
          3101.5242,
          4337.4233,
          6032.0426,
          6676.4563,
          7680.1446,
          7469.8495,
          7520.3198,
          7100.1696,
          6922.0546,
          6558.0262,
          6426.1321,
          6118.274,
          5961.4356,
          5674,
          5421.0778,
          5077
         ]
        },
        {
         "line": {
          "width": 2
         },
         "marker": {
          "color": [
           3643.6724,
           5358.4023,
           6170.11,
           7238.8634,
           7475.6148,
           7699.4603,
           7373.7971,
           7286.2294,
           7038.5627,
           6948.5452,
           6709.1717,
           6609.0159,
           6378.5347,
           6236.6721,
           5887,
           5613
          ],
          "colorscale": [
           [
            0,
            "#440154"
           ],
           [
            0.1111111111111111,
            "#482878"
           ],
           [
            0.2222222222222222,
            "#3e4989"
           ],
           [
            0.3333333333333333,
            "#31688e"
           ],
           [
            0.4444444444444444,
            "#26828e"
           ],
           [
            0.5555555555555556,
            "#1f9e89"
           ],
           [
            0.6666666666666666,
            "#35b779"
           ],
           [
            0.7777777777777778,
            "#6ece58"
           ],
           [
            0.8888888888888888,
            "#b5de2b"
           ],
           [
            1,
            "#fde725"
           ]
          ],
          "opacity": 0.8,
          "size": 6
         },
         "mode": "lines+markers",
         "name": "N",
         "text": [
          "A: 10",
          "A: 11",
          "A: 12",
          "A: 13",
          "A: 14",
          "A: 15",
          "A: 16",
          "A: 17",
          "A: 18",
          "A: 19",
          "A: 20",
          "A: 21",
          "A: 22",
          "A: 23",
          "A: 24",
          "A: 25"
         ],
         "type": "scatter3d",
         "x": [
          10,
          11,
          12,
          13,
          14,
          15,
          16,
          17,
          18,
          19,
          20,
          21,
          22,
          23,
          24,
          25
         ],
         "y": [
          7,
          7,
          7,
          7,
          7,
          7,
          7,
          7,
          7,
          7,
          7,
          7,
          7,
          7,
          7,
          7
         ],
         "z": [
          3643.6724,
          5358.4023,
          6170.11,
          7238.8634,
          7475.6148,
          7699.4603,
          7373.7971,
          7286.2294,
          7038.5627,
          6948.5452,
          6709.1717,
          6609.0159,
          6378.5347,
          6236.6721,
          5887,
          5613
         ]
        },
        {
         "line": {
          "width": 2
         },
         "marker": {
          "color": [
           3162.4372,
           4881.9755,
           5811.7636,
           7052.2783,
           7463.6915,
           7976.2072,
           7750.7291,
           7767.0981,
           7566.4952,
           7568.5707,
           7389.3747,
           7364.8722,
           7163.4856,
           7039.6855,
           6727.8058,
           6497.479,
           6185,
           5988
          ],
          "colorscale": [
           [
            0,
            "#440154"
           ],
           [
            0.1111111111111111,
            "#482878"
           ],
           [
            0.2222222222222222,
            "#3e4989"
           ],
           [
            0.3333333333333333,
            "#31688e"
           ],
           [
            0.4444444444444444,
            "#26828e"
           ],
           [
            0.5555555555555556,
            "#1f9e89"
           ],
           [
            0.6666666666666666,
            "#35b779"
           ],
           [
            0.7777777777777778,
            "#6ece58"
           ],
           [
            0.8888888888888888,
            "#b5de2b"
           ],
           [
            1,
            "#fde725"
           ]
          ],
          "opacity": 0.8,
          "size": 6
         },
         "mode": "lines+markers",
         "name": "O",
         "text": [
          "A: 11",
          "A: 12",
          "A: 13",
          "A: 14",
          "A: 15",
          "A: 16",
          "A: 17",
          "A: 18",
          "A: 19",
          "A: 20",
          "A: 21",
          "A: 22",
          "A: 23",
          "A: 24",
          "A: 25",
          "A: 26",
          "A: 27",
          "A: 28"
         ],
         "type": "scatter3d",
         "x": [
          11,
          12,
          13,
          14,
          15,
          16,
          17,
          18,
          19,
          20,
          21,
          22,
          23,
          24,
          25,
          26,
          27,
          28
         ],
         "y": [
          8,
          8,
          8,
          8,
          8,
          8,
          8,
          8,
          8,
          8,
          8,
          8,
          8,
          8,
          8,
          8,
          8,
          8
         ],
         "z": [
          3162.4372,
          4881.9755,
          5811.7636,
          7052.2783,
          7463.6915,
          7976.2072,
          7750.7291,
          7767.0981,
          7566.4952,
          7568.5707,
          7389.3747,
          7364.8722,
          7163.4856,
          7039.6855,
          6727.8058,
          6497.479,
          6185,
          5988
         ]
        },
        {
         "line": {
          "width": 2
         },
         "marker": {
          "color": [
           4297,
           5285.2091,
           6497.4597,
           6964.049,
           7542.3284,
           7631.6383,
           7779.0192,
           7720.1351,
           7738.2934,
           7624.2954,
           7622.3447,
           7463.5831,
           7336.3065,
           7082.2497,
           6879.6662,
           6626.8567,
           6444.0314,
           6205,
           6011
          ],
          "colorscale": [
           [
            0,
            "#440154"
           ],
           [
            0.1111111111111111,
            "#482878"
           ],
           [
            0.2222222222222222,
            "#3e4989"
           ],
           [
            0.3333333333333333,
            "#31688e"
           ],
           [
            0.4444444444444444,
            "#26828e"
           ],
           [
            0.5555555555555556,
            "#1f9e89"
           ],
           [
            0.6666666666666666,
            "#35b779"
           ],
           [
            0.7777777777777778,
            "#6ece58"
           ],
           [
            0.8888888888888888,
            "#b5de2b"
           ],
           [
            1,
            "#fde725"
           ]
          ],
          "opacity": 0.8,
          "size": 6
         },
         "mode": "lines+markers",
         "name": "F",
         "text": [
          "A: 13",
          "A: 14",
          "A: 15",
          "A: 16",
          "A: 17",
          "A: 18",
          "A: 19",
          "A: 20",
          "A: 21",
          "A: 22",
          "A: 23",
          "A: 24",
          "A: 25",
          "A: 26",
          "A: 27",
          "A: 28",
          "A: 29",
          "A: 30",
          "A: 31"
         ],
         "type": "scatter3d",
         "x": [
          13,
          14,
          15,
          16,
          17,
          18,
          19,
          20,
          21,
          22,
          23,
          24,
          25,
          26,
          27,
          28,
          29,
          30,
          31
         ],
         "y": [
          9,
          9,
          9,
          9,
          9,
          9,
          9,
          9,
          9,
          9,
          9,
          9,
          9,
          9,
          9,
          9,
          9,
          9,
          9
         ],
         "z": [
          4297,
          5285.2091,
          6497.4597,
          6964.049,
          7542.3284,
          7631.6383,
          7779.0192,
          7720.1351,
          7738.2934,
          7624.2954,
          7622.3447,
          7463.5831,
          7336.3065,
          7082.2497,
          6879.6662,
          6626.8567,
          6444.0314,
          6205,
          6011
         ]
        },
        {
         "line": {
          "width": 2
         },
         "marker": {
          "color": [
           4868.7285,
           6083.1777,
           6640.4991,
           7341.2577,
           7567.3431,
           8032.2412,
           7971.7136,
           8080.4656,
           7955.2561,
           7993.3252,
           7839.7994,
           7751.911,
           7520.4151,
           7388.3463,
           7167.0673,
           7034.5317,
           6813.0902,
           6671,
           6436,
           6287
          ],
          "colorscale": [
           [
            0,
            "#440154"
           ],
           [
            0.1111111111111111,
            "#482878"
           ],
           [
            0.2222222222222222,
            "#3e4989"
           ],
           [
            0.3333333333333333,
            "#31688e"
           ],
           [
            0.4444444444444444,
            "#26828e"
           ],
           [
            0.5555555555555556,
            "#1f9e89"
           ],
           [
            0.6666666666666666,
            "#35b779"
           ],
           [
            0.7777777777777778,
            "#6ece58"
           ],
           [
            0.8888888888888888,
            "#b5de2b"
           ],
           [
            1,
            "#fde725"
           ]
          ],
          "opacity": 0.8,
          "size": 6
         },
         "mode": "lines+markers",
         "name": "Ne",
         "text": [
          "A: 15",
          "A: 16",
          "A: 17",
          "A: 18",
          "A: 19",
          "A: 20",
          "A: 21",
          "A: 22",
          "A: 23",
          "A: 24",
          "A: 25",
          "A: 26",
          "A: 27",
          "A: 28",
          "A: 29",
          "A: 30",
          "A: 31",
          "A: 32",
          "A: 33",
          "A: 34"
         ],
         "type": "scatter3d",
         "x": [
          15,
          16,
          17,
          18,
          19,
          20,
          21,
          22,
          23,
          24,
          25,
          26,
          27,
          28,
          29,
          30,
          31,
          32,
          33,
          34
         ],
         "y": [
          10,
          10,
          10,
          10,
          10,
          10,
          10,
          10,
          10,
          10,
          10,
          10,
          10,
          10,
          10,
          10,
          10,
          10,
          10,
          10
         ],
         "z": [
          4868.7285,
          6083.1777,
          6640.4991,
          7341.2577,
          7567.3431,
          8032.2412,
          7971.7136,
          8080.4656,
          7955.2561,
          7993.3252,
          7839.7994,
          7751.911,
          7520.4151,
          7388.3463,
          7167.0673,
          7034.5317,
          6813.0902,
          6671,
          6436,
          6287
         ]
        },
        {
         "line": {
          "width": 2
         },
         "marker": {
          "color": [
           5522.7653,
           6202.2176,
           6937.8864,
           7298.5028,
           7765.5581,
           7915.6624,
           8111.4936,
           8063.4882,
           8101.3979,
           8004.2013,
           7956.9467,
           7799.2644,
           7682.1522,
           7501.9685,
           7398.6778,
           7219.8815,
           7089.9262,
           6886.4377,
           6745,
           6557,
           6403,
           6216,
           6056
          ],
          "colorscale": [
           [
            0,
            "#440154"
           ],
           [
            0.1111111111111111,
            "#482878"
           ],
           [
            0.2222222222222222,
            "#3e4989"
           ],
           [
            0.3333333333333333,
            "#31688e"
           ],
           [
            0.4444444444444444,
            "#26828e"
           ],
           [
            0.5555555555555556,
            "#1f9e89"
           ],
           [
            0.6666666666666666,
            "#35b779"
           ],
           [
            0.7777777777777778,
            "#6ece58"
           ],
           [
            0.8888888888888888,
            "#b5de2b"
           ],
           [
            1,
            "#fde725"
           ]
          ],
          "opacity": 0.8,
          "size": 6
         },
         "mode": "lines+markers",
         "name": "Na",
         "text": [
          "A: 17",
          "A: 18",
          "A: 19",
          "A: 20",
          "A: 21",
          "A: 22",
          "A: 23",
          "A: 24",
          "A: 25",
          "A: 26",
          "A: 27",
          "A: 28",
          "A: 29",
          "A: 30",
          "A: 31",
          "A: 32",
          "A: 33",
          "A: 34",
          "A: 35",
          "A: 36",
          "A: 37",
          "A: 38",
          "A: 39"
         ],
         "type": "scatter3d",
         "x": [
          17,
          18,
          19,
          20,
          21,
          22,
          23,
          24,
          25,
          26,
          27,
          28,
          29,
          30,
          31,
          32,
          33,
          34,
          35,
          36,
          37,
          38,
          39
         ],
         "y": [
          11,
          11,
          11,
          11,
          11,
          11,
          11,
          11,
          11,
          11,
          11,
          11,
          11,
          11,
          11,
          11,
          11,
          11,
          11,
          11,
          11,
          11,
          11
         ],
         "z": [
          5522.7653,
          6202.2176,
          6937.8864,
          7298.5028,
          7765.5581,
          7915.6624,
          8111.4936,
          8063.4882,
          8101.3979,
          8004.2013,
          7956.9467,
          7799.2644,
          7682.1522,
          7501.9685,
          7398.6778,
          7219.8815,
          7089.9262,
          6886.4377,
          6745,
          6557,
          6403,
          6216,
          6056
         ]
        },
        {
         "line": {
          "width": 2
         },
         "marker": {
          "color": [
           5901.4992,
           6728.0252,
           7105.0317,
           7662.7645,
           7901.1229,
           8260.7103,
           8223.5028,
           8333.8711,
           8263.8525,
           8272.4531,
           8113.5317,
           8054.425,
           7869.1886,
           7803.8411,
           7636.4382,
           7550.3919,
           7356.2338,
           7244.4202,
           7055.1115,
           6928,
           6734,
           6598,
           6425
          ],
          "colorscale": [
           [
            0,
            "#440154"
           ],
           [
            0.1111111111111111,
            "#482878"
           ],
           [
            0.2222222222222222,
            "#3e4989"
           ],
           [
            0.3333333333333333,
            "#31688e"
           ],
           [
            0.4444444444444444,
            "#26828e"
           ],
           [
            0.5555555555555556,
            "#1f9e89"
           ],
           [
            0.6666666666666666,
            "#35b779"
           ],
           [
            0.7777777777777778,
            "#6ece58"
           ],
           [
            0.8888888888888888,
            "#b5de2b"
           ],
           [
            1,
            "#fde725"
           ]
          ],
          "opacity": 0.8,
          "size": 6
         },
         "mode": "lines+markers",
         "name": "Mg",
         "text": [
          "A: 19",
          "A: 20",
          "A: 21",
          "A: 22",
          "A: 23",
          "A: 24",
          "A: 25",
          "A: 26",
          "A: 27",
          "A: 28",
          "A: 29",
          "A: 30",
          "A: 31",
          "A: 32",
          "A: 33",
          "A: 34",
          "A: 35",
          "A: 36",
          "A: 37",
          "A: 38",
          "A: 39",
          "A: 40",
          "A: 41"
         ],
         "type": "scatter3d",
         "x": [
          19,
          20,
          21,
          22,
          23,
          24,
          25,
          26,
          27,
          28,
          29,
          30,
          31,
          32,
          33,
          34,
          35,
          36,
          37,
          38,
          39,
          40,
          41
         ],
         "y": [
          12,
          12,
          12,
          12,
          12,
          12,
          12,
          12,
          12,
          12,
          12,
          12,
          12,
          12,
          12,
          12,
          12,
          12,
          12,
          12,
          12,
          12,
          12
         ],
         "z": [
          5901.4992,
          6728.0252,
          7105.0317,
          7662.7645,
          7901.1229,
          8260.7103,
          8223.5028,
          8333.8711,
          8263.8525,
          8272.4531,
          8113.5317,
          8054.425,
          7869.1886,
          7803.8411,
          7636.4382,
          7550.3919,
          7356.2338,
          7244.4202,
          7055.1115,
          6928,
          6734,
          6598,
          6425
         ]
        },
        {
         "line": {
          "width": 2
         },
         "marker": {
          "color": [
           6297,
           6782,
           7335.7275,
           7649.5806,
           8021.1366,
           8149.7653,
           8331.5533,
           8309.8969,
           8348.4647,
           8261.1049,
           8225.518,
           8100.3449,
           8020.6172,
           7860.3506,
           7787.1243,
           7623.5154,
           7531.316,
           7370,
           7260,
           7097,
           6980,
           6829,
           6712
          ],
          "colorscale": [
           [
            0,
            "#440154"
           ],
           [
            0.1111111111111111,
            "#482878"
           ],
           [
            0.2222222222222222,
            "#3e4989"
           ],
           [
            0.3333333333333333,
            "#31688e"
           ],
           [
            0.4444444444444444,
            "#26828e"
           ],
           [
            0.5555555555555556,
            "#1f9e89"
           ],
           [
            0.6666666666666666,
            "#35b779"
           ],
           [
            0.7777777777777778,
            "#6ece58"
           ],
           [
            0.8888888888888888,
            "#b5de2b"
           ],
           [
            1,
            "#fde725"
           ]
          ],
          "opacity": 0.8,
          "size": 6
         },
         "mode": "lines+markers",
         "name": "Al",
         "text": [
          "A: 21",
          "A: 22",
          "A: 23",
          "A: 24",
          "A: 25",
          "A: 26",
          "A: 27",
          "A: 28",
          "A: 29",
          "A: 30",
          "A: 31",
          "A: 32",
          "A: 33",
          "A: 34",
          "A: 35",
          "A: 36",
          "A: 37",
          "A: 38",
          "A: 39",
          "A: 40",
          "A: 41",
          "A: 42",
          "A: 43"
         ],
         "type": "scatter3d",
         "x": [
          21,
          22,
          23,
          24,
          25,
          26,
          27,
          28,
          29,
          30,
          31,
          32,
          33,
          34,
          35,
          36,
          37,
          38,
          39,
          40,
          41,
          42,
          43
         ],
         "y": [
          13,
          13,
          13,
          13,
          13,
          13,
          13,
          13,
          13,
          13,
          13,
          13,
          13,
          13,
          13,
          13,
          13,
          13,
          13,
          13,
          13,
          13,
          13
         ],
         "z": [
          6297,
          6782,
          7335.7275,
          7649.5806,
          8021.1366,
          8149.7653,
          8331.5533,
          8309.8969,
          8348.4647,
          8261.1049,
          8225.518,
          8100.3449,
          8020.6172,
          7860.3506,
          7787.1243,
          7623.5154,
          7531.316,
          7370,
          7260,
          7097,
          6980,
          6829,
          6712
         ]
        },
        {
         "line": {
          "width": 2
         },
         "marker": {
          "color": [
           6044,
           6554,
           7167.2329,
           7480.1109,
           7924.7083,
           8124.342,
           8447.7445,
           8448.6361,
           8520.6549,
           8458.2916,
           8481.469,
           8361.0596,
           8337.1659,
           8169.5644,
           8112.5199,
           7952.9033,
           7892.8297,
           7730.9793,
           7655.8247,
           7482,
           7410,
           7251,
           7156,
           7004
          ],
          "colorscale": [
           [
            0,
            "#440154"
           ],
           [
            0.1111111111111111,
            "#482878"
           ],
           [
            0.2222222222222222,
            "#3e4989"
           ],
           [
            0.3333333333333333,
            "#31688e"
           ],
           [
            0.4444444444444444,
            "#26828e"
           ],
           [
            0.5555555555555556,
            "#1f9e89"
           ],
           [
            0.6666666666666666,
            "#35b779"
           ],
           [
            0.7777777777777778,
            "#6ece58"
           ],
           [
            0.8888888888888888,
            "#b5de2b"
           ],
           [
            1,
            "#fde725"
           ]
          ],
          "opacity": 0.8,
          "size": 6
         },
         "mode": "lines+markers",
         "name": "Si",
         "text": [
          "A: 22",
          "A: 23",
          "A: 24",
          "A: 25",
          "A: 26",
          "A: 27",
          "A: 28",
          "A: 29",
          "A: 30",
          "A: 31",
          "A: 32",
          "A: 33",
          "A: 34",
          "A: 35",
          "A: 36",
          "A: 37",
          "A: 38",
          "A: 39",
          "A: 40",
          "A: 41",
          "A: 42",
          "A: 43",
          "A: 44",
          "A: 45"
         ],
         "type": "scatter3d",
         "x": [
          22,
          23,
          24,
          25,
          26,
          27,
          28,
          29,
          30,
          31,
          32,
          33,
          34,
          35,
          36,
          37,
          38,
          39,
          40,
          41,
          42,
          43,
          44,
          45
         ],
         "y": [
          14,
          14,
          14,
          14,
          14,
          14,
          14,
          14,
          14,
          14,
          14,
          14,
          14,
          14,
          14,
          14,
          14,
          14,
          14,
          14,
          14,
          14,
          14,
          14
         ],
         "z": [
          6044,
          6554,
          7167.2329,
          7480.1109,
          7924.7083,
          8124.342,
          8447.7445,
          8448.6361,
          8520.6549,
          8458.2916,
          8481.469,
          8361.0596,
          8337.1659,
          8169.5644,
          8112.5199,
          7952.9033,
          7892.8297,
          7730.9793,
          7655.8247,
          7482,
          7410,
          7251,
          7156,
          7004
         ]
        },
        {
         "line": {
          "width": 2
         },
         "marker": {
          "color": [
           6165,
           6794,
           7198,
           7661.0894,
           7907.4842,
           8251.2368,
           8353.5064,
           8481.1677,
           8464.1203,
           8513.8073,
           8448.1856,
           8446.2496,
           8307.8692,
           8267.5561,
           8147.2749,
           8097.9701,
           7981.4177,
           7906.5513,
           7765.9122,
           7681,
           7552,
           7456,
           7320,
           7209
          ],
          "colorscale": [
           [
            0,
            "#440154"
           ],
           [
            0.1111111111111111,
            "#482878"
           ],
           [
            0.2222222222222222,
            "#3e4989"
           ],
           [
            0.3333333333333333,
            "#31688e"
           ],
           [
            0.4444444444444444,
            "#26828e"
           ],
           [
            0.5555555555555556,
            "#1f9e89"
           ],
           [
            0.6666666666666666,
            "#35b779"
           ],
           [
            0.7777777777777778,
            "#6ece58"
           ],
           [
            0.8888888888888888,
            "#b5de2b"
           ],
           [
            1,
            "#fde725"
           ]
          ],
          "opacity": 0.8,
          "size": 6
         },
         "mode": "lines+markers",
         "name": "P",
         "text": [
          "A: 24",
          "A: 25",
          "A: 26",
          "A: 27",
          "A: 28",
          "A: 29",
          "A: 30",
          "A: 31",
          "A: 32",
          "A: 33",
          "A: 34",
          "A: 35",
          "A: 36",
          "A: 37",
          "A: 38",
          "A: 39",
          "A: 40",
          "A: 41",
          "A: 42",
          "A: 43",
          "A: 44",
          "A: 45",
          "A: 46",
          "A: 47"
         ],
         "type": "scatter3d",
         "x": [
          24,
          25,
          26,
          27,
          28,
          29,
          30,
          31,
          32,
          33,
          34,
          35,
          36,
          37,
          38,
          39,
          40,
          41,
          42,
          43,
          44,
          45,
          46,
          47
         ],
         "y": [
          15,
          15,
          15,
          15,
          15,
          15,
          15,
          15,
          15,
          15,
          15,
          15,
          15,
          15,
          15,
          15,
          15,
          15,
          15,
          15,
          15,
          15,
          15,
          15
         ],
         "z": [
          6165,
          6794,
          7198,
          7661.0894,
          7907.4842,
          8251.2368,
          8353.5064,
          8481.1677,
          8464.1203,
          8513.8073,
          8448.1856,
          8446.2496,
          8307.8692,
          8267.5561,
          8147.2749,
          8097.9701,
          7981.4177,
          7906.5513,
          7765.9122,
          7681,
          7552,
          7456,
          7320,
          7209
         ]
        },
        {
         "line": {
          "width": 2
         },
         "marker": {
          "color": [
           6525,
           6960,
           7478.7911,
           7746.3826,
           8122.7081,
           8281.8013,
           8493.1301,
           8497.6304,
           8583.4986,
           8537.8511,
           8575.39,
           8459.9363,
           8448.7829,
           8344.2698,
           8329.3255,
           8229.6358,
           8193.2275,
           8063.8276,
           7996.0154,
           7867,
           7785,
           7652,
           7552,
           7400
          ],
          "colorscale": [
           [
            0,
            "#440154"
           ],
           [
            0.1111111111111111,
            "#482878"
           ],
           [
            0.2222222222222222,
            "#3e4989"
           ],
           [
            0.3333333333333333,
            "#31688e"
           ],
           [
            0.4444444444444444,
            "#26828e"
           ],
           [
            0.5555555555555556,
            "#1f9e89"
           ],
           [
            0.6666666666666666,
            "#35b779"
           ],
           [
            0.7777777777777778,
            "#6ece58"
           ],
           [
            0.8888888888888888,
            "#b5de2b"
           ],
           [
            1,
            "#fde725"
           ]
          ],
          "opacity": 0.8,
          "size": 6
         },
         "mode": "lines+markers",
         "name": "S",
         "text": [
          "A: 26",
          "A: 27",
          "A: 28",
          "A: 29",
          "A: 30",
          "A: 31",
          "A: 32",
          "A: 33",
          "A: 34",
          "A: 35",
          "A: 36",
          "A: 37",
          "A: 38",
          "A: 39",
          "A: 40",
          "A: 41",
          "A: 42",
          "A: 43",
          "A: 44",
          "A: 45",
          "A: 46",
          "A: 47",
          "A: 48",
          "A: 49"
         ],
         "type": "scatter3d",
         "x": [
          26,
          27,
          28,
          29,
          30,
          31,
          32,
          33,
          34,
          35,
          36,
          37,
          38,
          39,
          40,
          41,
          42,
          43,
          44,
          45,
          46,
          47,
          48,
          49
         ],
         "y": [
          16,
          16,
          16,
          16,
          16,
          16,
          16,
          16,
          16,
          16,
          16,
          16,
          16,
          16,
          16,
          16,
          16,
          16,
          16,
          16,
          16,
          16,
          16,
          16
         ],
         "z": [
          6525,
          6960,
          7478.7911,
          7746.3826,
          8122.7081,
          8281.8013,
          8493.1301,
          8497.6304,
          8583.4986,
          8537.8511,
          8575.39,
          8459.9363,
          8448.7829,
          8344.2698,
          8329.3255,
          8229.6358,
          8193.2275,
          8063.8276,
          7996.0154,
          7867,
          7785,
          7652,
          7552,
          7400
         ]
        },
        {
         "line": {
          "width": 2
         },
         "marker": {
          "color": [
           6587,
           7129,
           7472.1698,
           7869.2101,
           8072.4058,
           8304.7557,
           8398.9706,
           8520.279,
           8521.9322,
           8570.2816,
           8505.4817,
           8494.4032,
           8427.766,
           8412.9593,
           8345.8864,
           8323.8672,
           8234.4788,
           8181.5991,
           8080.7757,
           7992,
           7883,
           7785,
           7651,
           7530,
           7386
          ],
          "colorscale": [
           [
            0,
            "#440154"
           ],
           [
            0.1111111111111111,
            "#482878"
           ],
           [
            0.2222222222222222,
            "#3e4989"
           ],
           [
            0.3333333333333333,
            "#31688e"
           ],
           [
            0.4444444444444444,
            "#26828e"
           ],
           [
            0.5555555555555556,
            "#1f9e89"
           ],
           [
            0.6666666666666666,
            "#35b779"
           ],
           [
            0.7777777777777778,
            "#6ece58"
           ],
           [
            0.8888888888888888,
            "#b5de2b"
           ],
           [
            1,
            "#fde725"
           ]
          ],
          "opacity": 0.8,
          "size": 6
         },
         "mode": "lines+markers",
         "name": "Cl",
         "text": [
          "A: 28",
          "A: 29",
          "A: 30",
          "A: 31",
          "A: 32",
          "A: 33",
          "A: 34",
          "A: 35",
          "A: 36",
          "A: 37",
          "A: 38",
          "A: 39",
          "A: 40",
          "A: 41",
          "A: 42",
          "A: 43",
          "A: 44",
          "A: 45",
          "A: 46",
          "A: 47",
          "A: 48",
          "A: 49",
          "A: 50",
          "A: 51",
          "A: 52"
         ],
         "type": "scatter3d",
         "x": [
          28,
          29,
          30,
          31,
          32,
          33,
          34,
          35,
          36,
          37,
          38,
          39,
          40,
          41,
          42,
          43,
          44,
          45,
          46,
          47,
          48,
          49,
          50,
          51,
          52
         ],
         "y": [
          17,
          17,
          17,
          17,
          17,
          17,
          17,
          17,
          17,
          17,
          17,
          17,
          17,
          17,
          17,
          17,
          17,
          17,
          17,
          17,
          17,
          17,
          17,
          17,
          17
         ],
         "z": [
          6587,
          7129,
          7472.1698,
          7869.2101,
          8072.4058,
          8304.7557,
          8398.9706,
          8520.279,
          8521.9322,
          8570.2816,
          8505.4817,
          8494.4032,
          8427.766,
          8412.9593,
          8345.8864,
          8323.8672,
          8234.4788,
          8181.5991,
          8080.7757,
          7992,
          7883,
          7785,
          7651,
          7530,
          7386
         ]
        },
        {
         "line": {
          "width": 2
         },
         "marker": {
          "color": [
           6276,
           6866,
           7252,
           7700.0089,
           7928.9559,
           8197.6724,
           8327.4621,
           8519.9096,
           8527.1406,
           8614.2807,
           8562.5988,
           8595.2594,
           8534.3733,
           8555.6141,
           8488.2382,
           8493.8411,
           8419.9526,
           8412.3835,
           8311.425,
           8243.6656,
           8132,
           8054,
           7922,
           7827,
           7677,
           7578
          ],
          "colorscale": [
           [
            0,
            "#440154"
           ],
           [
            0.1111111111111111,
            "#482878"
           ],
           [
            0.2222222222222222,
            "#3e4989"
           ],
           [
            0.3333333333333333,
            "#31688e"
           ],
           [
            0.4444444444444444,
            "#26828e"
           ],
           [
            0.5555555555555556,
            "#1f9e89"
           ],
           [
            0.6666666666666666,
            "#35b779"
           ],
           [
            0.7777777777777778,
            "#6ece58"
           ],
           [
            0.8888888888888888,
            "#b5de2b"
           ],
           [
            1,
            "#fde725"
           ]
          ],
          "opacity": 0.8,
          "size": 6
         },
         "mode": "lines+markers",
         "name": "Ar",
         "text": [
          "A: 29",
          "A: 30",
          "A: 31",
          "A: 32",
          "A: 33",
          "A: 34",
          "A: 35",
          "A: 36",
          "A: 37",
          "A: 38",
          "A: 39",
          "A: 40",
          "A: 41",
          "A: 42",
          "A: 43",
          "A: 44",
          "A: 45",
          "A: 46",
          "A: 47",
          "A: 48",
          "A: 49",
          "A: 50",
          "A: 51",
          "A: 52",
          "A: 53",
          "A: 54"
         ],
         "type": "scatter3d",
         "x": [
          29,
          30,
          31,
          32,
          33,
          34,
          35,
          36,
          37,
          38,
          39,
          40,
          41,
          42,
          43,
          44,
          45,
          46,
          47,
          48,
          49,
          50,
          51,
          52,
          53,
          54
         ],
         "y": [
          18,
          18,
          18,
          18,
          18,
          18,
          18,
          18,
          18,
          18,
          18,
          18,
          18,
          18,
          18,
          18,
          18,
          18,
          18,
          18,
          18,
          18,
          18,
          18,
          18,
          18
         ],
         "z": [
          6276,
          6866,
          7252,
          7700.0089,
          7928.9559,
          8197.6724,
          8327.4621,
          8519.9096,
          8527.1406,
          8614.2807,
          8562.5988,
          8595.2594,
          8534.3733,
          8555.6141,
          8488.2382,
          8493.8411,
          8419.9526,
          8412.3835,
          8311.425,
          8243.6656,
          8132,
          8054,
          7922,
          7827,
          7677,
          7578
         ]
        },
        {
         "line": {
          "width": 2
         },
         "marker": {
          "color": [
           6487,
           6920,
           7392,
           7670,
           7965.8409,
           8142.2233,
           8339.848,
           8438.0593,
           8557.0258,
           8538.0907,
           8576.0731,
           8551.2571,
           8576.2204,
           8546.7023,
           8554.6747,
           8518.0428,
           8514.8795,
           8434.2324,
           8372.2753,
           8288.5833,
           8221.335,
           8115.0303,
           8022.8488,
           7891,
           7792,
           7663,
           7563,
           7437,
           7332
          ],
          "colorscale": [
           [
            0,
            "#440154"
           ],
           [
            0.1111111111111111,
            "#482878"
           ],
           [
            0.2222222222222222,
            "#3e4989"
           ],
           [
            0.3333333333333333,
            "#31688e"
           ],
           [
            0.4444444444444444,
            "#26828e"
           ],
           [
            0.5555555555555556,
            "#1f9e89"
           ],
           [
            0.6666666666666666,
            "#35b779"
           ],
           [
            0.7777777777777778,
            "#6ece58"
           ],
           [
            0.8888888888888888,
            "#b5de2b"
           ],
           [
            1,
            "#fde725"
           ]
          ],
          "opacity": 0.8,
          "size": 6
         },
         "mode": "lines+markers",
         "name": "K",
         "text": [
          "A: 31",
          "A: 32",
          "A: 33",
          "A: 34",
          "A: 35",
          "A: 36",
          "A: 37",
          "A: 38",
          "A: 39",
          "A: 40",
          "A: 41",
          "A: 42",
          "A: 43",
          "A: 44",
          "A: 45",
          "A: 46",
          "A: 47",
          "A: 48",
          "A: 49",
          "A: 50",
          "A: 51",
          "A: 52",
          "A: 53",
          "A: 54",
          "A: 55",
          "A: 56",
          "A: 57",
          "A: 58",
          "A: 59"
         ],
         "type": "scatter3d",
         "x": [
          31,
          32,
          33,
          34,
          35,
          36,
          37,
          38,
          39,
          40,
          41,
          42,
          43,
          44,
          45,
          46,
          47,
          48,
          49,
          50,
          51,
          52,
          53,
          54,
          55,
          56,
          57,
          58,
          59
         ],
         "y": [
          19,
          19,
          19,
          19,
          19,
          19,
          19,
          19,
          19,
          19,
          19,
          19,
          19,
          19,
          19,
          19,
          19,
          19,
          19,
          19,
          19,
          19,
          19,
          19,
          19,
          19,
          19,
          19,
          19
         ],
         "z": [
          6487,
          6920,
          7392,
          7670,
          7965.8409,
          8142.2233,
          8339.848,
          8438.0593,
          8557.0258,
          8538.0907,
          8576.0731,
          8551.2571,
          8576.2204,
          8546.7023,
          8554.6747,
          8518.0428,
          8514.8795,
          8434.2324,
          8372.2753,
          8288.5833,
          8221.335,
          8115.0303,
          8022.8488,
          7891,
          7792,
          7663,
          7563,
          7437,
          7332
         ]
        },
        {
         "line": {
          "width": 2
         },
         "marker": {
          "color": [
           6657,
           7173,
           7476,
           7815.8799,
           8003.4567,
           8240.0434,
           8369.6711,
           8551.3046,
           8546.7075,
           8616.5646,
           8600.6653,
           8658.1769,
           8630.5467,
           8668.9848,
           8639.3548,
           8666.6916,
           8594.85,
           8550.1639,
           8476.9135,
           8429.3821,
           8330.5778,
           8247.4967,
           8125.926,
           8033.1654,
           7912,
           7828,
           7708,
           7627,
           7503
          ],
          "colorscale": [
           [
            0,
            "#440154"
           ],
           [
            0.1111111111111111,
            "#482878"
           ],
           [
            0.2222222222222222,
            "#3e4989"
           ],
           [
            0.3333333333333333,
            "#31688e"
           ],
           [
            0.4444444444444444,
            "#26828e"
           ],
           [
            0.5555555555555556,
            "#1f9e89"
           ],
           [
            0.6666666666666666,
            "#35b779"
           ],
           [
            0.7777777777777778,
            "#6ece58"
           ],
           [
            0.8888888888888888,
            "#b5de2b"
           ],
           [
            1,
            "#fde725"
           ]
          ],
          "opacity": 0.8,
          "size": 6
         },
         "mode": "lines+markers",
         "name": "Ca",
         "text": [
          "A: 33",
          "A: 34",
          "A: 35",
          "A: 36",
          "A: 37",
          "A: 38",
          "A: 39",
          "A: 40",
          "A: 41",
          "A: 42",
          "A: 43",
          "A: 44",
          "A: 45",
          "A: 46",
          "A: 47",
          "A: 48",
          "A: 49",
          "A: 50",
          "A: 51",
          "A: 52",
          "A: 53",
          "A: 54",
          "A: 55",
          "A: 56",
          "A: 57",
          "A: 58",
          "A: 59",
          "A: 60",
          "A: 61"
         ],
         "type": "scatter3d",
         "x": [
          33,
          34,
          35,
          36,
          37,
          38,
          39,
          40,
          41,
          42,
          43,
          44,
          45,
          46,
          47,
          48,
          49,
          50,
          51,
          52,
          53,
          54,
          55,
          56,
          57,
          58,
          59,
          60,
          61
         ],
         "y": [
          20,
          20,
          20,
          20,
          20,
          20,
          20,
          20,
          20,
          20,
          20,
          20,
          20,
          20,
          20,
          20,
          20,
          20,
          20,
          20,
          20,
          20,
          20,
          20,
          20,
          20,
          20,
          20,
          20
         ],
         "z": [
          6657,
          7173,
          7476,
          7815.8799,
          8003.4567,
          8240.0434,
          8369.6711,
          8551.3046,
          8546.7075,
          8616.5646,
          8600.6653,
          8658.1769,
          8630.5467,
          8668.9848,
          8639.3548,
          8666.6916,
          8594.85,
          8550.1639,
          8476.9135,
          8429.3821,
          8330.5778,
          8247.4967,
          8125.926,
          8033.1654,
          7912,
          7828,
          7708,
          7627,
          7503
         ]
        },
        {
         "line": {
          "width": 2
         },
         "marker": {
          "color": [
           6828,
           7166,
           7525,
           7751,
           8013.4575,
           8173.6697,
           8369.1979,
           8444.9303,
           8530.8265,
           8557.3805,
           8618.941,
           8622.0215,
           8665.0958,
           8656.2097,
           8686.2805,
           8633.4747,
           8597.2213,
           8534.6695,
           8492.8325,
           8404.8115,
           8333.3694,
           8233.5781,
           8158.1666,
           8054.9436,
           7976.4073,
           7873,
           7794,
           7688,
           7603
          ],
          "colorscale": [
           [
            0,
            "#440154"
           ],
           [
            0.1111111111111111,
            "#482878"
           ],
           [
            0.2222222222222222,
            "#3e4989"
           ],
           [
            0.3333333333333333,
            "#31688e"
           ],
           [
            0.4444444444444444,
            "#26828e"
           ],
           [
            0.5555555555555556,
            "#1f9e89"
           ],
           [
            0.6666666666666666,
            "#35b779"
           ],
           [
            0.7777777777777778,
            "#6ece58"
           ],
           [
            0.8888888888888888,
            "#b5de2b"
           ],
           [
            1,
            "#fde725"
           ]
          ],
          "opacity": 0.8,
          "size": 6
         },
         "mode": "lines+markers",
         "name": "Sc",
         "text": [
          "A: 35",
          "A: 36",
          "A: 37",
          "A: 38",
          "A: 39",
          "A: 40",
          "A: 41",
          "A: 42",
          "A: 43",
          "A: 44",
          "A: 45",
          "A: 46",
          "A: 47",
          "A: 48",
          "A: 49",
          "A: 50",
          "A: 51",
          "A: 52",
          "A: 53",
          "A: 54",
          "A: 55",
          "A: 56",
          "A: 57",
          "A: 58",
          "A: 59",
          "A: 60",
          "A: 61",
          "A: 62",
          "A: 63"
         ],
         "type": "scatter3d",
         "x": [
          35,
          36,
          37,
          38,
          39,
          40,
          41,
          42,
          43,
          44,
          45,
          46,
          47,
          48,
          49,
          50,
          51,
          52,
          53,
          54,
          55,
          56,
          57,
          58,
          59,
          60,
          61,
          62,
          63
         ],
         "y": [
          21,
          21,
          21,
          21,
          21,
          21,
          21,
          21,
          21,
          21,
          21,
          21,
          21,
          21,
          21,
          21,
          21,
          21,
          21,
          21,
          21,
          21,
          21,
          21,
          21,
          21,
          21,
          21,
          21
         ],
         "z": [
          6828,
          7166,
          7525,
          7751,
          8013.4575,
          8173.6697,
          8369.1979,
          8444.9303,
          8530.8265,
          8557.3805,
          8618.941,
          8622.0215,
          8665.0958,
          8656.2097,
          8686.2805,
          8633.4747,
          8597.2213,
          8534.6695,
          8492.8325,
          8404.8115,
          8333.3694,
          8233.5781,
          8158.1666,
          8054.9436,
          7976.4073,
          7873,
          7794,
          7688,
          7603
         ]
        },
        {
         "line": {
          "width": 2
         },
         "marker": {
          "color": [
           6926,
           7319,
           7566,
           7865.8632,
           8034.3889,
           8259.24,
           8352.8054,
           8533.5215,
           8555.7321,
           8656.4623,
           8661.2325,
           8723.0122,
           8711.1625,
           8755.7227,
           8708.9912,
           8691.8193,
           8631.1256,
           8599.6917,
           8518.9696,
           8467.9495,
           8372.9008,
           8307.629,
           8218,
           8152.7858,
           8058,
           7990,
           7891,
           7826,
           7726
          ],
          "colorscale": [
           [
            0,
            "#440154"
           ],
           [
            0.1111111111111111,
            "#482878"
           ],
           [
            0.2222222222222222,
            "#3e4989"
           ],
           [
            0.3333333333333333,
            "#31688e"
           ],
           [
            0.4444444444444444,
            "#26828e"
           ],
           [
            0.5555555555555556,
            "#1f9e89"
           ],
           [
            0.6666666666666666,
            "#35b779"
           ],
           [
            0.7777777777777778,
            "#6ece58"
           ],
           [
            0.8888888888888888,
            "#b5de2b"
           ],
           [
            1,
            "#fde725"
           ]
          ],
          "opacity": 0.8,
          "size": 6
         },
         "mode": "lines+markers",
         "name": "Ti",
         "text": [
          "A: 37",
          "A: 38",
          "A: 39",
          "A: 40",
          "A: 41",
          "A: 42",
          "A: 43",
          "A: 44",
          "A: 45",
          "A: 46",
          "A: 47",
          "A: 48",
          "A: 49",
          "A: 50",
          "A: 51",
          "A: 52",
          "A: 53",
          "A: 54",
          "A: 55",
          "A: 56",
          "A: 57",
          "A: 58",
          "A: 59",
          "A: 60",
          "A: 61",
          "A: 62",
          "A: 63",
          "A: 64",
          "A: 65"
         ],
         "type": "scatter3d",
         "x": [
          37,
          38,
          39,
          40,
          41,
          42,
          43,
          44,
          45,
          46,
          47,
          48,
          49,
          50,
          51,
          52,
          53,
          54,
          55,
          56,
          57,
          58,
          59,
          60,
          61,
          62,
          63,
          64,
          65
         ],
         "y": [
          22,
          22,
          22,
          22,
          22,
          22,
          22,
          22,
          22,
          22,
          22,
          22,
          22,
          22,
          22,
          22,
          22,
          22,
          22,
          22,
          22,
          22,
          22,
          22,
          22,
          22,
          22,
          22,
          22
         ],
         "z": [
          6926,
          7319,
          7566,
          7865.8632,
          8034.3889,
          8259.24,
          8352.8054,
          8533.5215,
          8555.7321,
          8656.4623,
          8661.2325,
          8723.0122,
          8711.1625,
          8755.7227,
          8708.9912,
          8691.8193,
          8631.1256,
          8599.6917,
          8518.9696,
          8467.9495,
          8372.9008,
          8307.629,
          8218,
          8152.7858,
          8058,
          7990,
          7891,
          7826,
          7726
         ]
        },
        {
         "line": {
          "width": 2
         },
         "marker": {
          "color": [
           7031,
           7310,
           7625,
           7824,
           8069.5129,
           8203.4567,
           8380.0394,
           8486.1423,
           8582.2348,
           8623.0686,
           8682.9135,
           8695.9032,
           8742.0852,
           8714.569,
           8710.1425,
           8662.1382,
           8637.3391,
           8574.7006,
           8535.1967,
           8458.156,
           8403.8034,
           8322.8751,
           8271.0417,
           8187.7565,
           8130.7809,
           8045,
           7981,
           7894,
           7829
          ],
          "colorscale": [
           [
            0,
            "#440154"
           ],
           [
            0.1111111111111111,
            "#482878"
           ],
           [
            0.2222222222222222,
            "#3e4989"
           ],
           [
            0.3333333333333333,
            "#31688e"
           ],
           [
            0.4444444444444444,
            "#26828e"
           ],
           [
            0.5555555555555556,
            "#1f9e89"
           ],
           [
            0.6666666666666666,
            "#35b779"
           ],
           [
            0.7777777777777778,
            "#6ece58"
           ],
           [
            0.8888888888888888,
            "#b5de2b"
           ],
           [
            1,
            "#fde725"
           ]
          ],
          "opacity": 0.8,
          "size": 6
         },
         "mode": "lines+markers",
         "name": "V",
         "text": [
          "A: 39",
          "A: 40",
          "A: 41",
          "A: 42",
          "A: 43",
          "A: 44",
          "A: 45",
          "A: 46",
          "A: 47",
          "A: 48",
          "A: 49",
          "A: 50",
          "A: 51",
          "A: 52",
          "A: 53",
          "A: 54",
          "A: 55",
          "A: 56",
          "A: 57",
          "A: 58",
          "A: 59",
          "A: 60",
          "A: 61",
          "A: 62",
          "A: 63",
          "A: 64",
          "A: 65",
          "A: 66",
          "A: 67"
         ],
         "type": "scatter3d",
         "x": [
          39,
          40,
          41,
          42,
          43,
          44,
          45,
          46,
          47,
          48,
          49,
          50,
          51,
          52,
          53,
          54,
          55,
          56,
          57,
          58,
          59,
          60,
          61,
          62,
          63,
          64,
          65,
          66,
          67
         ],
         "y": [
          23,
          23,
          23,
          23,
          23,
          23,
          23,
          23,
          23,
          23,
          23,
          23,
          23,
          23,
          23,
          23,
          23,
          23,
          23,
          23,
          23,
          23,
          23,
          23,
          23,
          23,
          23,
          23,
          23
         ],
         "z": [
          7031,
          7310,
          7625,
          7824,
          8069.5129,
          8203.4567,
          8380.0394,
          8486.1423,
          8582.2348,
          8623.0686,
          8682.9135,
          8695.9032,
          8742.0852,
          8714.569,
          8710.1425,
          8662.1382,
          8637.3391,
          8574.7006,
          8535.1967,
          8458.156,
          8403.8034,
          8322.8751,
          8271.0417,
          8187.7565,
          8130.7809,
          8045,
          7981,
          7894,
          7829
         ]
        },
        {
         "line": {
          "width": 2
         },
         "marker": {
          "color": [
           7116,
           7456,
           7680,
           7949.6265,
           8087.7286,
           8303.8233,
           8407.2067,
           8572.2553,
           8613.2777,
           8701.0188,
           8711.9923,
           8775.9946,
           8760.2103,
           8777.9672,
           8731.9362,
           8723.2609,
           8663.3998,
           8643.9987,
           8568.5995,
           8540.1876,
           8460.1734,
           8427.3871,
           8347.5398,
           8303.5626,
           8218,
           8168,
           8079,
           8026,
           7939,
           7884
          ],
          "colorscale": [
           [
            0,
            "#440154"
           ],
           [
            0.1111111111111111,
            "#482878"
           ],
           [
            0.2222222222222222,
            "#3e4989"
           ],
           [
            0.3333333333333333,
            "#31688e"
           ],
           [
            0.4444444444444444,
            "#26828e"
           ],
           [
            0.5555555555555556,
            "#1f9e89"
           ],
           [
            0.6666666666666666,
            "#35b779"
           ],
           [
            0.7777777777777778,
            "#6ece58"
           ],
           [
            0.8888888888888888,
            "#b5de2b"
           ],
           [
            1,
            "#fde725"
           ]
          ],
          "opacity": 0.8,
          "size": 6
         },
         "mode": "lines+markers",
         "name": "Cr",
         "text": [
          "A: 41",
          "A: 42",
          "A: 43",
          "A: 44",
          "A: 45",
          "A: 46",
          "A: 47",
          "A: 48",
          "A: 49",
          "A: 50",
          "A: 51",
          "A: 52",
          "A: 53",
          "A: 54",
          "A: 55",
          "A: 56",
          "A: 57",
          "A: 58",
          "A: 59",
          "A: 60",
          "A: 61",
          "A: 62",
          "A: 63",
          "A: 64",
          "A: 65",
          "A: 66",
          "A: 67",
          "A: 68",
          "A: 69",
          "A: 70"
         ],
         "type": "scatter3d",
         "x": [
          41,
          42,
          43,
          44,
          45,
          46,
          47,
          48,
          49,
          50,
          51,
          52,
          53,
          54,
          55,
          56,
          57,
          58,
          59,
          60,
          61,
          62,
          63,
          64,
          65,
          66,
          67,
          68,
          69,
          70
         ],
         "y": [
          24,
          24,
          24,
          24,
          24,
          24,
          24,
          24,
          24,
          24,
          24,
          24,
          24,
          24,
          24,
          24,
          24,
          24,
          24,
          24,
          24,
          24,
          24,
          24,
          24,
          24,
          24,
          24,
          24,
          24
         ],
         "z": [
          7116,
          7456,
          7680,
          7949.6265,
          8087.7286,
          8303.8233,
          8407.2067,
          8572.2553,
          8613.2777,
          8701.0188,
          8711.9923,
          8775.9946,
          8760.2103,
          8777.9672,
          8731.9362,
          8723.2609,
          8663.3998,
          8643.9987,
          8568.5995,
          8540.1876,
          8460.1734,
          8427.3871,
          8347.5398,
          8303.5626,
          8218,
          8168,
          8079,
          8026,
          7939,
          7884
         ]
        },
        {
         "line": {
          "width": 2
         },
         "marker": {
          "color": [
           7213,
           7457,
           7747,
           7916.0805,
           8135.3117,
           8274.1924,
           8439.915,
           8532.6823,
           8633.7602,
           8670.4087,
           8734.1798,
           8737.9768,
           8765.0247,
           8738.3358,
           8736.7146,
           8696.6438,
           8680.9224,
           8628.1392,
           8598.9157,
           8538.5002,
           8505.102,
           8437.4175,
           8400.6822,
           8331.7986,
           8281,
           8209,
           8155,
           8084,
           8030,
           7955,
           7895
          ],
          "colorscale": [
           [
            0,
            "#440154"
           ],
           [
            0.1111111111111111,
            "#482878"
           ],
           [
            0.2222222222222222,
            "#3e4989"
           ],
           [
            0.3333333333333333,
            "#31688e"
           ],
           [
            0.4444444444444444,
            "#26828e"
           ],
           [
            0.5555555555555556,
            "#1f9e89"
           ],
           [
            0.6666666666666666,
            "#35b779"
           ],
           [
            0.7777777777777778,
            "#6ece58"
           ],
           [
            0.8888888888888888,
            "#b5de2b"
           ],
           [
            1,
            "#fde725"
           ]
          ],
          "opacity": 0.8,
          "size": 6
         },
         "mode": "lines+markers",
         "name": "Mn",
         "text": [
          "A: 43",
          "A: 44",
          "A: 45",
          "A: 46",
          "A: 47",
          "A: 48",
          "A: 49",
          "A: 50",
          "A: 51",
          "A: 52",
          "A: 53",
          "A: 54",
          "A: 55",
          "A: 56",
          "A: 57",
          "A: 58",
          "A: 59",
          "A: 60",
          "A: 61",
          "A: 62",
          "A: 63",
          "A: 64",
          "A: 65",
          "A: 66",
          "A: 67",
          "A: 68",
          "A: 69",
          "A: 70",
          "A: 71",
          "A: 72",
          "A: 73"
         ],
         "type": "scatter3d",
         "x": [
          43,
          44,
          45,
          46,
          47,
          48,
          49,
          50,
          51,
          52,
          53,
          54,
          55,
          56,
          57,
          58,
          59,
          60,
          61,
          62,
          63,
          64,
          65,
          66,
          67,
          68,
          69,
          70,
          71,
          72,
          73
         ],
         "y": [
          25,
          25,
          25,
          25,
          25,
          25,
          25,
          25,
          25,
          25,
          25,
          25,
          25,
          25,
          25,
          25,
          25,
          25,
          25,
          25,
          25,
          25,
          25,
          25,
          25,
          25,
          25,
          25,
          25,
          25,
          25
         ],
         "z": [
          7213,
          7457,
          7747,
          7916.0805,
          8135.3117,
          8274.1924,
          8439.915,
          8532.6823,
          8633.7602,
          8670.4087,
          8734.1798,
          8737.9768,
          8765.0247,
          8738.3358,
          8736.7146,
          8696.6438,
          8680.9224,
          8628.1392,
          8598.9157,
          8538.5002,
          8505.102,
          8437.4175,
          8400.6822,
          8331.7986,
          8281,
          8209,
          8155,
          8084,
          8030,
          7955,
          7895
         ]
        },
        {
         "line": {
          "width": 2
         },
         "marker": {
          "color": [
           7299,
           7603,
           7790,
           8022.7254,
           8161.3121,
           8354.0268,
           8460.4977,
           8609.6079,
           8648.7985,
           8736.3846,
           8746.5981,
           8790.3563,
           8770.2829,
           8792.2534,
           8754.7746,
           8755.8539,
           8703.7686,
           8692.8831,
           8631.5499,
           8612.3888,
           8546.347,
           8521.7245,
           8449.9359,
           8418,
           8345,
           8308,
           8235,
           8195,
           8121,
           8076,
           7996,
           7943
          ],
          "colorscale": [
           [
            0,
            "#440154"
           ],
           [
            0.1111111111111111,
            "#482878"
           ],
           [
            0.2222222222222222,
            "#3e4989"
           ],
           [
            0.3333333333333333,
            "#31688e"
           ],
           [
            0.4444444444444444,
            "#26828e"
           ],
           [
            0.5555555555555556,
            "#1f9e89"
           ],
           [
            0.6666666666666666,
            "#35b779"
           ],
           [
            0.7777777777777778,
            "#6ece58"
           ],
           [
            0.8888888888888888,
            "#b5de2b"
           ],
           [
            1,
            "#fde725"
           ]
          ],
          "opacity": 0.8,
          "size": 6
         },
         "mode": "lines+markers",
         "name": "Fe",
         "text": [
          "A: 45",
          "A: 46",
          "A: 47",
          "A: 48",
          "A: 49",
          "A: 50",
          "A: 51",
          "A: 52",
          "A: 53",
          "A: 54",
          "A: 55",
          "A: 56",
          "A: 57",
          "A: 58",
          "A: 59",
          "A: 60",
          "A: 61",
          "A: 62",
          "A: 63",
          "A: 64",
          "A: 65",
          "A: 66",
          "A: 67",
          "A: 68",
          "A: 69",
          "A: 70",
          "A: 71",
          "A: 72",
          "A: 73",
          "A: 74",
          "A: 75",
          "A: 76"
         ],
         "type": "scatter3d",
         "x": [
          45,
          46,
          47,
          48,
          49,
          50,
          51,
          52,
          53,
          54,
          55,
          56,
          57,
          58,
          59,
          60,
          61,
          62,
          63,
          64,
          65,
          66,
          67,
          68,
          69,
          70,
          71,
          72,
          73,
          74,
          75,
          76
         ],
         "y": [
          26,
          26,
          26,
          26,
          26,
          26,
          26,
          26,
          26,
          26,
          26,
          26,
          26,
          26,
          26,
          26,
          26,
          26,
          26,
          26,
          26,
          26,
          26,
          26,
          26,
          26,
          26,
          26,
          26,
          26,
          26,
          26
         ],
         "z": [
          7299,
          7603,
          7790,
          8022.7254,
          8161.3121,
          8354.0268,
          8460.4977,
          8609.6079,
          8648.7985,
          8736.3846,
          8746.5981,
          8790.3563,
          8770.2829,
          8792.2534,
          8754.7746,
          8755.8539,
          8703.7686,
          8692.8831,
          8631.5499,
          8612.3888,
          8546.347,
          8521.7245,
          8449.9359,
          8418,
          8345,
          8308,
          8235,
          8195,
          8121,
          8076,
          7996,
          7943
         ]
        },
        {
         "line": {
          "width": 2
         },
         "marker": {
          "color": [
           7396,
           7595,
           7840,
           8000.6387,
           8193.2549,
           8325.5606,
           8477.6578,
           8569.2199,
           8669.6204,
           8694.8386,
           8741.8845,
           8738.9719,
           8768.0379,
           8746.7692,
           8756.151,
           8721.3347,
           8717.7972,
           8675.5223,
           8656.8848,
           8605.9419,
           8581.7422,
           8520.1301,
           8495.4062,
           8434.198,
           8398.7344,
           8338,
           8302,
           8239,
           8197,
           8131,
           8082,
           7997
          ],
          "colorscale": [
           [
            0,
            "#440154"
           ],
           [
            0.1111111111111111,
            "#482878"
           ],
           [
            0.2222222222222222,
            "#3e4989"
           ],
           [
            0.3333333333333333,
            "#31688e"
           ],
           [
            0.4444444444444444,
            "#26828e"
           ],
           [
            0.5555555555555556,
            "#1f9e89"
           ],
           [
            0.6666666666666666,
            "#35b779"
           ],
           [
            0.7777777777777778,
            "#6ece58"
           ],
           [
            0.8888888888888888,
            "#b5de2b"
           ],
           [
            1,
            "#fde725"
           ]
          ],
          "opacity": 0.8,
          "size": 6
         },
         "mode": "lines+markers",
         "name": "Co",
         "text": [
          "A: 47",
          "A: 48",
          "A: 49",
          "A: 50",
          "A: 51",
          "A: 52",
          "A: 53",
          "A: 54",
          "A: 55",
          "A: 56",
          "A: 57",
          "A: 58",
          "A: 59",
          "A: 60",
          "A: 61",
          "A: 62",
          "A: 63",
          "A: 64",
          "A: 65",
          "A: 66",
          "A: 67",
          "A: 68",
          "A: 69",
          "A: 70",
          "A: 71",
          "A: 72",
          "A: 73",
          "A: 74",
          "A: 75",
          "A: 76",
          "A: 77",
          "A: 78"
         ],
         "type": "scatter3d",
         "x": [
          47,
          48,
          49,
          50,
          51,
          52,
          53,
          54,
          55,
          56,
          57,
          58,
          59,
          60,
          61,
          62,
          63,
          64,
          65,
          66,
          67,
          68,
          69,
          70,
          71,
          72,
          73,
          74,
          75,
          76,
          77,
          78
         ],
         "y": [
          27,
          27,
          27,
          27,
          27,
          27,
          27,
          27,
          27,
          27,
          27,
          27,
          27,
          27,
          27,
          27,
          27,
          27,
          27,
          27,
          27,
          27,
          27,
          27,
          27,
          27,
          27,
          27,
          27,
          27,
          27,
          27
         ],
         "z": [
          7396,
          7595,
          7840,
          8000.6387,
          8193.2549,
          8325.5606,
          8477.6578,
          8569.2199,
          8669.6204,
          8694.8386,
          8741.8845,
          8738.9719,
          8768.0379,
          8746.7692,
          8756.151,
          8721.3347,
          8717.7972,
          8675.5223,
          8656.8848,
          8605.9419,
          8581.7422,
          8520.1301,
          8495.4062,
          8434.198,
          8398.7344,
          8338,
          8302,
          8239,
          8197,
          8131,
          8082,
          7997
         ]
        },
        {
         "line": {
          "width": 2
         },
         "marker": {
          "color": [
           7236,
           7450,
           7702,
           7870,
           8083.8977,
           8217.0749,
           8393.0328,
           8497.3225,
           8642.7811,
           8670.9364,
           8732.0621,
           8736.5912,
           8780.7769,
           8765.0281,
           8794.5555,
           8763.4955,
           8777.4637,
           8736.2424,
           8739.5086,
           8695.7505,
           8682.4667,
           8623.0998,
           8604.2917,
           8543.1564,
           8520.2118,
           8457.6529,
           8433,
           8369,
           8338,
           8272,
           8238,
           8150,
           8088,
           8000,
           7935
          ],
          "colorscale": [
           [
            0,
            "#440154"
           ],
           [
            0.1111111111111111,
            "#482878"
           ],
           [
            0.2222222222222222,
            "#3e4989"
           ],
           [
            0.3333333333333333,
            "#31688e"
           ],
           [
            0.4444444444444444,
            "#26828e"
           ],
           [
            0.5555555555555556,
            "#1f9e89"
           ],
           [
            0.6666666666666666,
            "#35b779"
           ],
           [
            0.7777777777777778,
            "#6ece58"
           ],
           [
            0.8888888888888888,
            "#b5de2b"
           ],
           [
            1,
            "#fde725"
           ]
          ],
          "opacity": 0.8,
          "size": 6
         },
         "mode": "lines+markers",
         "name": "Ni",
         "text": [
          "A: 48",
          "A: 49",
          "A: 50",
          "A: 51",
          "A: 52",
          "A: 53",
          "A: 54",
          "A: 55",
          "A: 56",
          "A: 57",
          "A: 58",
          "A: 59",
          "A: 60",
          "A: 61",
          "A: 62",
          "A: 63",
          "A: 64",
          "A: 65",
          "A: 66",
          "A: 67",
          "A: 68",
          "A: 69",
          "A: 70",
          "A: 71",
          "A: 72",
          "A: 73",
          "A: 74",
          "A: 75",
          "A: 76",
          "A: 77",
          "A: 78",
          "A: 79",
          "A: 80",
          "A: 81",
          "A: 82"
         ],
         "type": "scatter3d",
         "x": [
          48,
          49,
          50,
          51,
          52,
          53,
          54,
          55,
          56,
          57,
          58,
          59,
          60,
          61,
          62,
          63,
          64,
          65,
          66,
          67,
          68,
          69,
          70,
          71,
          72,
          73,
          74,
          75,
          76,
          77,
          78,
          79,
          80,
          81,
          82
         ],
         "y": [
          28,
          28,
          28,
          28,
          28,
          28,
          28,
          28,
          28,
          28,
          28,
          28,
          28,
          28,
          28,
          28,
          28,
          28,
          28,
          28,
          28,
          28,
          28,
          28,
          28,
          28,
          28,
          28,
          28,
          28,
          28,
          28,
          28,
          28,
          28
         ],
         "z": [
          7236,
          7450,
          7702,
          7870,
          8083.8977,
          8217.0749,
          8393.0328,
          8497.3225,
          8642.7811,
          8670.9364,
          8732.0621,
          8736.5912,
          8780.7769,
          8765.0281,
          8794.5555,
          8763.4955,
          8777.4637,
          8736.2424,
          8739.5086,
          8695.7505,
          8682.4667,
          8623.0998,
          8604.2917,
          8543.1564,
          8520.2118,
          8457.6529,
          8433,
          8369,
          8338,
          8272,
          8238,
          8150,
          8088,
          8000,
          7935
         ]
        },
        {
         "line": {
          "width": 2
         },
         "marker": {
          "color": [
           7671,
           7891,
           8045,
           8233.997,
           8355.9907,
           8503.2646,
           8570.9696,
           8642.0027,
           8665.6047,
           8715.5148,
           8718.0839,
           8752.1404,
           8739.0736,
           8757.0967,
           8731.473,
           8737.4597,
           8701.8913,
           8695.2044,
           8646.8655,
           8635.0233,
           8586.5256,
           8568.5699,
           8521.5633,
           8495.0801,
           8443.6018,
           8411.2501,
           8354.6695,
           8320.938,
           8246,
           8185,
           8108,
           8044,
           7965
          ],
          "colorscale": [
           [
            0,
            "#440154"
           ],
           [
            0.1111111111111111,
            "#482878"
           ],
           [
            0.2222222222222222,
            "#3e4989"
           ],
           [
            0.3333333333333333,
            "#31688e"
           ],
           [
            0.4444444444444444,
            "#26828e"
           ],
           [
            0.5555555555555556,
            "#1f9e89"
           ],
           [
            0.6666666666666666,
            "#35b779"
           ],
           [
            0.7777777777777778,
            "#6ece58"
           ],
           [
            0.8888888888888888,
            "#b5de2b"
           ],
           [
            1,
            "#fde725"
           ]
          ],
          "opacity": 0.8,
          "size": 6
         },
         "mode": "lines+markers",
         "name": "Cu",
         "text": [
          "A: 52",
          "A: 53",
          "A: 54",
          "A: 55",
          "A: 56",
          "A: 57",
          "A: 58",
          "A: 59",
          "A: 60",
          "A: 61",
          "A: 62",
          "A: 63",
          "A: 64",
          "A: 65",
          "A: 66",
          "A: 67",
          "A: 68",
          "A: 69",
          "A: 70",
          "A: 71",
          "A: 72",
          "A: 73",
          "A: 74",
          "A: 75",
          "A: 76",
          "A: 77",
          "A: 78",
          "A: 79",
          "A: 80",
          "A: 81",
          "A: 82",
          "A: 83",
          "A: 84"
         ],
         "type": "scatter3d",
         "x": [
          52,
          53,
          54,
          55,
          56,
          57,
          58,
          59,
          60,
          61,
          62,
          63,
          64,
          65,
          66,
          67,
          68,
          69,
          70,
          71,
          72,
          73,
          74,
          75,
          76,
          77,
          78,
          79,
          80,
          81,
          82,
          83,
          84
         ],
         "y": [
          29,
          29,
          29,
          29,
          29,
          29,
          29,
          29,
          29,
          29,
          29,
          29,
          29,
          29,
          29,
          29,
          29,
          29,
          29,
          29,
          29,
          29,
          29,
          29,
          29,
          29,
          29,
          29,
          29,
          29,
          29,
          29,
          29
         ],
         "z": [
          7671,
          7891,
          8045,
          8233.997,
          8355.9907,
          8503.2646,
          8570.9696,
          8642.0027,
          8665.6047,
          8715.5148,
          8718.0839,
          8752.1404,
          8739.0736,
          8757.0967,
          8731.473,
          8737.4597,
          8701.8913,
          8695.2044,
          8646.8655,
          8635.0233,
          8586.5256,
          8568.5699,
          8521.5633,
          8495.0801,
          8443.6018,
          8411.2501,
          8354.6695,
          8320.938,
          8246,
          8185,
          8108,
          8044,
          7965
         ]
        },
        {
         "line": {
          "width": 2
         },
         "marker": {
          "color": [
           7742,
           7904,
           8106,
           8231,
           8395.9467,
           8473.7802,
           8583.0524,
           8610.3098,
           8679.3451,
           8686.2866,
           8735.9057,
           8724.266,
           8759.6335,
           8734.1534,
           8755.682,
           8722.7311,
           8729.8086,
           8689.0417,
           8691.8053,
           8648.3455,
           8642.7547,
           8592.4981,
           8582.2735,
           8530.0037,
           8507.38,
           8450.5825,
           8423.5457,
           8351.9262,
           8301.1175,
           8226,
           8171,
           8090,
           8032
          ],
          "colorscale": [
           [
            0,
            "#440154"
           ],
           [
            0.1111111111111111,
            "#482878"
           ],
           [
            0.2222222222222222,
            "#3e4989"
           ],
           [
            0.3333333333333333,
            "#31688e"
           ],
           [
            0.4444444444444444,
            "#26828e"
           ],
           [
            0.5555555555555556,
            "#1f9e89"
           ],
           [
            0.6666666666666666,
            "#35b779"
           ],
           [
            0.7777777777777778,
            "#6ece58"
           ],
           [
            0.8888888888888888,
            "#b5de2b"
           ],
           [
            1,
            "#fde725"
           ]
          ],
          "opacity": 0.8,
          "size": 6
         },
         "mode": "lines+markers",
         "name": "Zn",
         "text": [
          "A: 54",
          "A: 55",
          "A: 56",
          "A: 57",
          "A: 58",
          "A: 59",
          "A: 60",
          "A: 61",
          "A: 62",
          "A: 63",
          "A: 64",
          "A: 65",
          "A: 66",
          "A: 67",
          "A: 68",
          "A: 69",
          "A: 70",
          "A: 71",
          "A: 72",
          "A: 73",
          "A: 74",
          "A: 75",
          "A: 76",
          "A: 77",
          "A: 78",
          "A: 79",
          "A: 80",
          "A: 81",
          "A: 82",
          "A: 83",
          "A: 84",
          "A: 85",
          "A: 86"
         ],
         "type": "scatter3d",
         "x": [
          54,
          55,
          56,
          57,
          58,
          59,
          60,
          61,
          62,
          63,
          64,
          65,
          66,
          67,
          68,
          69,
          70,
          71,
          72,
          73,
          74,
          75,
          76,
          77,
          78,
          79,
          80,
          81,
          82,
          83,
          84,
          85,
          86
         ],
         "y": [
          30,
          30,
          30,
          30,
          30,
          30,
          30,
          30,
          30,
          30,
          30,
          30,
          30,
          30,
          30,
          30,
          30,
          30,
          30,
          30,
          30,
          30,
          30,
          30,
          30,
          30,
          30,
          30,
          30,
          30,
          30,
          30,
          30
         ],
         "z": [
          7742,
          7904,
          8106,
          8231,
          8395.9467,
          8473.7802,
          8583.0524,
          8610.3098,
          8679.3451,
          8686.2866,
          8735.9057,
          8724.266,
          8759.6335,
          8734.1534,
          8755.682,
          8722.7311,
          8729.8086,
          8689.0417,
          8691.8053,
          8648.3455,
          8642.7547,
          8592.4981,
          8582.2735,
          8530.0037,
          8507.38,
          8450.5825,
          8423.5457,
          8351.9262,
          8301.1175,
          8226,
          8171,
          8090,
          8032
         ]
        },
        {
         "line": {
          "width": 2
         },
         "marker": {
          "color": [
           7707,
           7916,
           8059,
           8232,
           8327,
           8446.4313,
           8518.6449,
           8583.9267,
           8611.6317,
           8662.1601,
           8669.3631,
           8707.533,
           8701.2195,
           8724.5798,
           8709.2808,
           8717.605,
           8687.0893,
           8693.874,
           8663.1676,
           8660.7565,
           8624.5272,
           8613.3907,
           8577.1043,
           8556.0725,
           8508.4545,
           8483.3576,
           8421.0494,
           8372.5756,
           8307.525,
           8253.5687,
           8182,
           8124,
           8050
          ],
          "colorscale": [
           [
            0,
            "#440154"
           ],
           [
            0.1111111111111111,
            "#482878"
           ],
           [
            0.2222222222222222,
            "#3e4989"
           ],
           [
            0.3333333333333333,
            "#31688e"
           ],
           [
            0.4444444444444444,
            "#26828e"
           ],
           [
            0.5555555555555556,
            "#1f9e89"
           ],
           [
            0.6666666666666666,
            "#35b779"
           ],
           [
            0.7777777777777778,
            "#6ece58"
           ],
           [
            0.8888888888888888,
            "#b5de2b"
           ],
           [
            1,
            "#fde725"
           ]
          ],
          "opacity": 0.8,
          "size": 6
         },
         "mode": "lines+markers",
         "name": "Ga",
         "text": [
          "A: 56",
          "A: 57",
          "A: 58",
          "A: 59",
          "A: 60",
          "A: 61",
          "A: 62",
          "A: 63",
          "A: 64",
          "A: 65",
          "A: 66",
          "A: 67",
          "A: 68",
          "A: 69",
          "A: 70",
          "A: 71",
          "A: 72",
          "A: 73",
          "A: 74",
          "A: 75",
          "A: 76",
          "A: 77",
          "A: 78",
          "A: 79",
          "A: 80",
          "A: 81",
          "A: 82",
          "A: 83",
          "A: 84",
          "A: 85",
          "A: 86",
          "A: 87",
          "A: 88"
         ],
         "type": "scatter3d",
         "x": [
          56,
          57,
          58,
          59,
          60,
          61,
          62,
          63,
          64,
          65,
          66,
          67,
          68,
          69,
          70,
          71,
          72,
          73,
          74,
          75,
          76,
          77,
          78,
          79,
          80,
          81,
          82,
          83,
          84,
          85,
          86,
          87,
          88
         ],
         "y": [
          31,
          31,
          31,
          31,
          31,
          31,
          31,
          31,
          31,
          31,
          31,
          31,
          31,
          31,
          31,
          31,
          31,
          31,
          31,
          31,
          31,
          31,
          31,
          31,
          31,
          31,
          31,
          31,
          31,
          31,
          31,
          31,
          31
         ],
         "z": [
          7707,
          7916,
          8059,
          8232,
          8327,
          8446.4313,
          8518.6449,
          8583.9267,
          8611.6317,
          8662.1601,
          8669.3631,
          8707.533,
          8701.2195,
          8724.5798,
          8709.2808,
          8717.605,
          8687.0893,
          8693.874,
          8663.1676,
          8660.7565,
          8624.5272,
          8613.3907,
          8577.1043,
          8556.0725,
          8508.4545,
          8483.3576,
          8421.0494,
          8372.5756,
          8307.525,
          8253.5687,
          8182,
          8124,
          8050
         ]
        },
        {
         "line": {
          "width": 2
         },
         "marker": {
          "color": [
           7770,
           7924,
           8113,
           8215,
           8347,
           8418.7167,
           8528.8243,
           8555.0584,
           8625.4383,
           8633.0884,
           8688.1371,
           8680.964,
           8721.7028,
           8703.3118,
           8731.7459,
           8705.05,
           8725.2011,
           8695.6096,
           8705.2364,
           8671.0293,
           8671.6636,
           8634.5089,
           8627.5707,
           8580.6587,
           8563.7567,
           8504.3462,
           8465.5244,
           8401.7689,
           8354.63,
           8285,
           8236,
           8161,
           8109
          ],
          "colorscale": [
           [
            0,
            "#440154"
           ],
           [
            0.1111111111111111,
            "#482878"
           ],
           [
            0.2222222222222222,
            "#3e4989"
           ],
           [
            0.3333333333333333,
            "#31688e"
           ],
           [
            0.4444444444444444,
            "#26828e"
           ],
           [
            0.5555555555555556,
            "#1f9e89"
           ],
           [
            0.6666666666666666,
            "#35b779"
           ],
           [
            0.7777777777777778,
            "#6ece58"
           ],
           [
            0.8888888888888888,
            "#b5de2b"
           ],
           [
            1,
            "#fde725"
           ]
          ],
          "opacity": 0.8,
          "size": 6
         },
         "mode": "lines+markers",
         "name": "Ge",
         "text": [
          "A: 58",
          "A: 59",
          "A: 60",
          "A: 61",
          "A: 62",
          "A: 63",
          "A: 64",
          "A: 65",
          "A: 66",
          "A: 67",
          "A: 68",
          "A: 69",
          "A: 70",
          "A: 71",
          "A: 72",
          "A: 73",
          "A: 74",
          "A: 75",
          "A: 76",
          "A: 77",
          "A: 78",
          "A: 79",
          "A: 80",
          "A: 81",
          "A: 82",
          "A: 83",
          "A: 84",
          "A: 85",
          "A: 86",
          "A: 87",
          "A: 88",
          "A: 89",
          "A: 90"
         ],
         "type": "scatter3d",
         "x": [
          58,
          59,
          60,
          61,
          62,
          63,
          64,
          65,
          66,
          67,
          68,
          69,
          70,
          71,
          72,
          73,
          74,
          75,
          76,
          77,
          78,
          79,
          80,
          81,
          82,
          83,
          84,
          85,
          86,
          87,
          88,
          89,
          90
         ],
         "y": [
          32,
          32,
          32,
          32,
          32,
          32,
          32,
          32,
          32,
          32,
          32,
          32,
          32,
          32,
          32,
          32,
          32,
          32,
          32,
          32,
          32,
          32,
          32,
          32,
          32,
          32,
          32,
          32,
          32,
          32,
          32,
          32,
          32
         ],
         "z": [
          7770,
          7924,
          8113,
          8215,
          8347,
          8418.7167,
          8528.8243,
          8555.0584,
          8625.4383,
          8633.0884,
          8688.1371,
          8680.964,
          8721.7028,
          8703.3118,
          8731.7459,
          8705.05,
          8725.2011,
          8695.6096,
          8705.2364,
          8671.0293,
          8671.6636,
          8634.5089,
          8627.5707,
          8580.6587,
          8563.7567,
          8504.3462,
          8465.5244,
          8401.7689,
          8354.63,
          8285,
          8236,
          8161,
          8109
         ]
        },
        {
         "line": {
          "width": 2
         },
         "marker": {
          "color": [
           7735,
           7930,
           8049,
           8193,
           8286,
           8396.2351,
           8468.4034,
           8530.5685,
           8557.7457,
           8611.8214,
           8621.5541,
           8663.935,
           8660.3786,
           8689.6099,
           8680.002,
           8700.8748,
           8682.8172,
           8695.9789,
           8673.876,
           8676.6172,
           8651.2824,
           8648.0571,
           8611.4153,
           8599.654,
           8547.9385,
           8510.9851,
           8456.7215,
           8413.8521,
           8351,
           8304,
           8240,
           8189,
           8121
          ],
          "colorscale": [
           [
            0,
            "#440154"
           ],
           [
            0.1111111111111111,
            "#482878"
           ],
           [
            0.2222222222222222,
            "#3e4989"
           ],
           [
            0.3333333333333333,
            "#31688e"
           ],
           [
            0.4444444444444444,
            "#26828e"
           ],
           [
            0.5555555555555556,
            "#1f9e89"
           ],
           [
            0.6666666666666666,
            "#35b779"
           ],
           [
            0.7777777777777778,
            "#6ece58"
           ],
           [
            0.8888888888888888,
            "#b5de2b"
           ],
           [
            1,
            "#fde725"
           ]
          ],
          "opacity": 0.8,
          "size": 6
         },
         "mode": "lines+markers",
         "name": "As",
         "text": [
          "A: 60",
          "A: 61",
          "A: 62",
          "A: 63",
          "A: 64",
          "A: 65",
          "A: 66",
          "A: 67",
          "A: 68",
          "A: 69",
          "A: 70",
          "A: 71",
          "A: 72",
          "A: 73",
          "A: 74",
          "A: 75",
          "A: 76",
          "A: 77",
          "A: 78",
          "A: 79",
          "A: 80",
          "A: 81",
          "A: 82",
          "A: 83",
          "A: 84",
          "A: 85",
          "A: 86",
          "A: 87",
          "A: 88",
          "A: 89",
          "A: 90",
          "A: 91",
          "A: 92"
         ],
         "type": "scatter3d",
         "x": [
          60,
          61,
          62,
          63,
          64,
          65,
          66,
          67,
          68,
          69,
          70,
          71,
          72,
          73,
          74,
          75,
          76,
          77,
          78,
          79,
          80,
          81,
          82,
          83,
          84,
          85,
          86,
          87,
          88,
          89,
          90,
          91,
          92
         ],
         "y": [
          33,
          33,
          33,
          33,
          33,
          33,
          33,
          33,
          33,
          33,
          33,
          33,
          33,
          33,
          33,
          33,
          33,
          33,
          33,
          33,
          33,
          33,
          33,
          33,
          33,
          33,
          33,
          33,
          33,
          33,
          33,
          33,
          33
         ],
         "z": [
          7735,
          7930,
          8049,
          8193,
          8286,
          8396.2351,
          8468.4034,
          8530.5685,
          8557.7457,
          8611.8214,
          8621.5541,
          8663.935,
          8660.3786,
          8689.6099,
          8680.002,
          8700.8748,
          8682.8172,
          8695.9789,
          8673.876,
          8676.6172,
          8651.2824,
          8648.0571,
          8611.4153,
          8599.654,
          8547.9385,
          8510.9851,
          8456.7215,
          8413.8521,
          8351,
          8304,
          8240,
          8189,
          8121
         ]
        },
        {
         "line": {
          "width": 2
         },
         "marker": {
          "color": [
           7917,
           8075,
           8170,
           8300,
           8369.5344,
           8477.0482,
           8503.7082,
           8576.0338,
           8586.0606,
           8644.4902,
           8641.5591,
           8687.7155,
           8678.9139,
           8711.4781,
           8694.6908,
           8717.8072,
           8695.5923,
           8710.8142,
           8685.9998,
           8693.1973,
           8658.556,
           8658.7935,
           8610.3045,
           8581.8224,
           8529.092,
           8495.0045,
           8435.2799,
           8395.7672,
           8334.8382,
           8290,
           8225,
           8180,
           8112
          ],
          "colorscale": [
           [
            0,
            "#440154"
           ],
           [
            0.1111111111111111,
            "#482878"
           ],
           [
            0.2222222222222222,
            "#3e4989"
           ],
           [
            0.3333333333333333,
            "#31688e"
           ],
           [
            0.4444444444444444,
            "#26828e"
           ],
           [
            0.5555555555555556,
            "#1f9e89"
           ],
           [
            0.6666666666666666,
            "#35b779"
           ],
           [
            0.7777777777777778,
            "#6ece58"
           ],
           [
            0.8888888888888888,
            "#b5de2b"
           ],
           [
            1,
            "#fde725"
           ]
          ],
          "opacity": 0.8,
          "size": 6
         },
         "mode": "lines+markers",
         "name": "Se",
         "text": [
          "A: 63",
          "A: 64",
          "A: 65",
          "A: 66",
          "A: 67",
          "A: 68",
          "A: 69",
          "A: 70",
          "A: 71",
          "A: 72",
          "A: 73",
          "A: 74",
          "A: 75",
          "A: 76",
          "A: 77",
          "A: 78",
          "A: 79",
          "A: 80",
          "A: 81",
          "A: 82",
          "A: 83",
          "A: 84",
          "A: 85",
          "A: 86",
          "A: 87",
          "A: 88",
          "A: 89",
          "A: 90",
          "A: 91",
          "A: 92",
          "A: 93",
          "A: 94",
          "A: 95"
         ],
         "type": "scatter3d",
         "x": [
          63,
          64,
          65,
          66,
          67,
          68,
          69,
          70,
          71,
          72,
          73,
          74,
          75,
          76,
          77,
          78,
          79,
          80,
          81,
          82,
          83,
          84,
          85,
          86,
          87,
          88,
          89,
          90,
          91,
          92,
          93,
          94,
          95
         ],
         "y": [
          34,
          34,
          34,
          34,
          34,
          34,
          34,
          34,
          34,
          34,
          34,
          34,
          34,
          34,
          34,
          34,
          34,
          34,
          34,
          34,
          34,
          34,
          34,
          34,
          34,
          34,
          34,
          34,
          34,
          34,
          34,
          34,
          34
         ],
         "z": [
          7917,
          8075,
          8170,
          8300,
          8369.5344,
          8477.0482,
          8503.7082,
          8576.0338,
          8586.0606,
          8644.4902,
          8641.5591,
          8687.7155,
          8678.9139,
          8711.4781,
          8694.6908,
          8717.8072,
          8695.5923,
          8710.8142,
          8685.9998,
          8693.1973,
          8658.556,
          8658.7935,
          8610.3045,
          8581.8224,
          8529.092,
          8495.0045,
          8435.2799,
          8395.7672,
          8334.8382,
          8290,
          8225,
          8180,
          8112
         ]
        },
        {
         "line": {
          "width": 2
         },
         "marker": {
          "color": [
           7904,
           8014,
           8148,
           8239,
           8344.9026,
           8414.7964,
           8481.4629,
           8511.3126,
           8568.0803,
           8583.5615,
           8627.6497,
           8635.883,
           8666.8073,
           8661.9594,
           8687.5956,
           8677.6541,
           8695.9465,
           8682.4953,
           8693.3852,
           8671.3294,
           8673.5926,
           8632.3659,
           8605.9105,
           8563.7479,
           8530.7802,
           8478.1865,
           8441.9242,
           8384.9123,
           8345.5986,
           8287,
           8245,
           8184,
           8140,
           8078
          ],
          "colorscale": [
           [
            0,
            "#440154"
           ],
           [
            0.1111111111111111,
            "#482878"
           ],
           [
            0.2222222222222222,
            "#3e4989"
           ],
           [
            0.3333333333333333,
            "#31688e"
           ],
           [
            0.4444444444444444,
            "#26828e"
           ],
           [
            0.5555555555555556,
            "#1f9e89"
           ],
           [
            0.6666666666666666,
            "#35b779"
           ],
           [
            0.7777777777777778,
            "#6ece58"
           ],
           [
            0.8888888888888888,
            "#b5de2b"
           ],
           [
            1,
            "#fde725"
           ]
          ],
          "opacity": 0.8,
          "size": 6
         },
         "mode": "lines+markers",
         "name": "Br",
         "text": [
          "A: 65",
          "A: 66",
          "A: 67",
          "A: 68",
          "A: 69",
          "A: 70",
          "A: 71",
          "A: 72",
          "A: 73",
          "A: 74",
          "A: 75",
          "A: 76",
          "A: 77",
          "A: 78",
          "A: 79",
          "A: 80",
          "A: 81",
          "A: 82",
          "A: 83",
          "A: 84",
          "A: 85",
          "A: 86",
          "A: 87",
          "A: 88",
          "A: 89",
          "A: 90",
          "A: 91",
          "A: 92",
          "A: 93",
          "A: 94",
          "A: 95",
          "A: 96",
          "A: 97",
          "A: 98"
         ],
         "type": "scatter3d",
         "x": [
          65,
          66,
          67,
          68,
          69,
          70,
          71,
          72,
          73,
          74,
          75,
          76,
          77,
          78,
          79,
          80,
          81,
          82,
          83,
          84,
          85,
          86,
          87,
          88,
          89,
          90,
          91,
          92,
          93,
          94,
          95,
          96,
          97,
          98
         ],
         "y": [
          35,
          35,
          35,
          35,
          35,
          35,
          35,
          35,
          35,
          35,
          35,
          35,
          35,
          35,
          35,
          35,
          35,
          35,
          35,
          35,
          35,
          35,
          35,
          35,
          35,
          35,
          35,
          35,
          35,
          35,
          35,
          35,
          35,
          35
         ],
         "z": [
          7904,
          8014,
          8148,
          8239,
          8344.9026,
          8414.7964,
          8481.4629,
          8511.3126,
          8568.0803,
          8583.5615,
          8627.6497,
          8635.883,
          8666.8073,
          8661.9594,
          8687.5956,
          8677.6541,
          8695.9465,
          8682.4953,
          8693.3852,
          8671.3294,
          8673.5926,
          8632.3659,
          8605.9105,
          8563.7479,
          8530.7802,
          8478.1865,
          8441.9242,
          8384.9123,
          8345.5986,
          8287,
          8245,
          8184,
          8140,
          8078
         ]
        },
        {
         "line": {
          "width": 2
         },
         "marker": {
          "color": [
           7883,
           8034,
           8129,
           8256,
           8327.131,
           8429.3193,
           8460.1847,
           8533.039,
           8553.4399,
           8608.8077,
           8616.837,
           8661.2385,
           8657.113,
           8692.9301,
           8682.8206,
           8710.6754,
           8695.7295,
           8717.4473,
           8698.5633,
           8712.0295,
           8675.284,
           8656.8499,
           8614.8158,
           8591.2599,
           8541.7519,
           8512.675,
           8458.1085,
           8424.3318,
           8365.9963,
           8330.8721,
           8269.8645,
           8234,
           8175,
           8134,
           8075
          ],
          "colorscale": [
           [
            0,
            "#440154"
           ],
           [
            0.1111111111111111,
            "#482878"
           ],
           [
            0.2222222222222222,
            "#3e4989"
           ],
           [
            0.3333333333333333,
            "#31688e"
           ],
           [
            0.4444444444444444,
            "#26828e"
           ],
           [
            0.5555555555555556,
            "#1f9e89"
           ],
           [
            0.6666666666666666,
            "#35b779"
           ],
           [
            0.7777777777777778,
            "#6ece58"
           ],
           [
            0.8888888888888888,
            "#b5de2b"
           ],
           [
            1,
            "#fde725"
           ]
          ],
          "opacity": 0.8,
          "size": 6
         },
         "mode": "lines+markers",
         "name": "Kr",
         "text": [
          "A: 67",
          "A: 68",
          "A: 69",
          "A: 70",
          "A: 71",
          "A: 72",
          "A: 73",
          "A: 74",
          "A: 75",
          "A: 76",
          "A: 77",
          "A: 78",
          "A: 79",
          "A: 80",
          "A: 81",
          "A: 82",
          "A: 83",
          "A: 84",
          "A: 85",
          "A: 86",
          "A: 87",
          "A: 88",
          "A: 89",
          "A: 90",
          "A: 91",
          "A: 92",
          "A: 93",
          "A: 94",
          "A: 95",
          "A: 96",
          "A: 97",
          "A: 98",
          "A: 99",
          "A: 100",
          "A: 101"
         ],
         "type": "scatter3d",
         "x": [
          67,
          68,
          69,
          70,
          71,
          72,
          73,
          74,
          75,
          76,
          77,
          78,
          79,
          80,
          81,
          82,
          83,
          84,
          85,
          86,
          87,
          88,
          89,
          90,
          91,
          92,
          93,
          94,
          95,
          96,
          97,
          98,
          99,
          100,
          101
         ],
         "y": [
          36,
          36,
          36,
          36,
          36,
          36,
          36,
          36,
          36,
          36,
          36,
          36,
          36,
          36,
          36,
          36,
          36,
          36,
          36,
          36,
          36,
          36,
          36,
          36,
          36,
          36,
          36,
          36,
          36,
          36,
          36,
          36,
          36,
          36,
          36
         ],
         "z": [
          7883,
          8034,
          8129,
          8256,
          8327.131,
          8429.3193,
          8460.1847,
          8533.039,
          8553.4399,
          8608.8077,
          8616.837,
          8661.2385,
          8657.113,
          8692.9301,
          8682.8206,
          8710.6754,
          8695.7295,
          8717.4473,
          8698.5633,
          8712.0295,
          8675.284,
          8656.8499,
          8614.8158,
          8591.2599,
          8541.7519,
          8512.675,
          8458.1085,
          8424.3318,
          8365.9963,
          8330.8721,
          8269.8645,
          8234,
          8175,
          8134,
          8075
         ]
        },
        {
         "line": {
          "width": 2
         },
         "marker": {
          "color": [
           8118,
           8202,
           8305.0821,
           8381.7123,
           8448.2762,
           8486.2161,
           8537.3396,
           8558.3512,
           8601.1401,
           8611.676,
           8645.5139,
           8647.4275,
           8675.2193,
           8676.2244,
           8697.4416,
           8696.9014,
           8710.9843,
           8681.1154,
           8664.1895,
           8631.5262,
           8607.5621,
           8569.4225,
           8540.9209,
           8492.7644,
           8460.1967,
           8408.8963,
           8376.1872,
           8330.7294,
           8295.301,
           8244.5085,
           8206.1753,
           8152.7443,
           8112,
           8057
          ],
          "colorscale": [
           [
            0,
            "#440154"
           ],
           [
            0.1111111111111111,
            "#482878"
           ],
           [
            0.2222222222222222,
            "#3e4989"
           ],
           [
            0.3333333333333333,
            "#31688e"
           ],
           [
            0.4444444444444444,
            "#26828e"
           ],
           [
            0.5555555555555556,
            "#1f9e89"
           ],
           [
            0.6666666666666666,
            "#35b779"
           ],
           [
            0.7777777777777778,
            "#6ece58"
           ],
           [
            0.8888888888888888,
            "#b5de2b"
           ],
           [
            1,
            "#fde725"
           ]
          ],
          "opacity": 0.8,
          "size": 6
         },
         "mode": "lines+markers",
         "name": "Rb",
         "text": [
          "A: 71",
          "A: 72",
          "A: 73",
          "A: 74",
          "A: 75",
          "A: 76",
          "A: 77",
          "A: 78",
          "A: 79",
          "A: 80",
          "A: 81",
          "A: 82",
          "A: 83",
          "A: 84",
          "A: 85",
          "A: 86",
          "A: 87",
          "A: 88",
          "A: 89",
          "A: 90",
          "A: 91",
          "A: 92",
          "A: 93",
          "A: 94",
          "A: 95",
          "A: 96",
          "A: 97",
          "A: 98",
          "A: 99",
          "A: 100",
          "A: 101",
          "A: 102",
          "A: 103",
          "A: 104"
         ],
         "type": "scatter3d",
         "x": [
          71,
          72,
          73,
          74,
          75,
          76,
          77,
          78,
          79,
          80,
          81,
          82,
          83,
          84,
          85,
          86,
          87,
          88,
          89,
          90,
          91,
          92,
          93,
          94,
          95,
          96,
          97,
          98,
          99,
          100,
          101,
          102,
          103,
          104
         ],
         "y": [
          37,
          37,
          37,
          37,
          37,
          37,
          37,
          37,
          37,
          37,
          37,
          37,
          37,
          37,
          37,
          37,
          37,
          37,
          37,
          37,
          37,
          37,
          37,
          37,
          37,
          37,
          37,
          37,
          37,
          37,
          37,
          37,
          37,
          37
         ],
         "z": [
          8118,
          8202,
          8305.0821,
          8381.7123,
          8448.2762,
          8486.2161,
          8537.3396,
          8558.3512,
          8601.1401,
          8611.676,
          8645.5139,
          8647.4275,
          8675.2193,
          8676.2244,
          8697.4416,
          8696.9014,
          8710.9843,
          8681.1154,
          8664.1895,
          8631.5262,
          8607.5621,
          8569.4225,
          8540.9209,
          8492.7644,
          8460.1967,
          8408.8963,
          8376.1872,
          8330.7294,
          8295.301,
          8244.5085,
          8206.1753,
          8152.7443,
          8112,
          8057
         ]
        },
        {
         "line": {
          "width": 2
         },
         "marker": {
          "color": [
           8102,
           8221,
           8296.5116,
           8393.9294,
           8435.9188,
           8500.0971,
           8523.8558,
           8578.5966,
           8587.3545,
           8635.719,
           8638.4076,
           8677.5132,
           8675.7193,
           8708.4566,
           8705.2363,
           8732.5958,
           8705.923,
           8696.0043,
           8663.8759,
           8648.907,
           8612.7875,
           8593.8344,
           8549.0875,
           8521.2041,
           8471.8489,
           8445.7385,
           8402.5235,
           8372.2012,
           8324.7411,
           8291.2213,
           8242,
           8206,
           8152,
           8114,
           8057
          ],
          "colorscale": [
           [
            0,
            "#440154"
           ],
           [
            0.1111111111111111,
            "#482878"
           ],
           [
            0.2222222222222222,
            "#3e4989"
           ],
           [
            0.3333333333333333,
            "#31688e"
           ],
           [
            0.4444444444444444,
            "#26828e"
           ],
           [
            0.5555555555555556,
            "#1f9e89"
           ],
           [
            0.6666666666666666,
            "#35b779"
           ],
           [
            0.7777777777777778,
            "#6ece58"
           ],
           [
            0.8888888888888888,
            "#b5de2b"
           ],
           [
            1,
            "#fde725"
           ]
          ],
          "opacity": 0.8,
          "size": 6
         },
         "mode": "lines+markers",
         "name": "Sr",
         "text": [
          "A: 73",
          "A: 74",
          "A: 75",
          "A: 76",
          "A: 77",
          "A: 78",
          "A: 79",
          "A: 80",
          "A: 81",
          "A: 82",
          "A: 83",
          "A: 84",
          "A: 85",
          "A: 86",
          "A: 87",
          "A: 88",
          "A: 89",
          "A: 90",
          "A: 91",
          "A: 92",
          "A: 93",
          "A: 94",
          "A: 95",
          "A: 96",
          "A: 97",
          "A: 98",
          "A: 99",
          "A: 100",
          "A: 101",
          "A: 102",
          "A: 103",
          "A: 104",
          "A: 105",
          "A: 106",
          "A: 107"
         ],
         "type": "scatter3d",
         "x": [
          73,
          74,
          75,
          76,
          77,
          78,
          79,
          80,
          81,
          82,
          83,
          84,
          85,
          86,
          87,
          88,
          89,
          90,
          91,
          92,
          93,
          94,
          95,
          96,
          97,
          98,
          99,
          100,
          101,
          102,
          103,
          104,
          105,
          106,
          107
         ],
         "y": [
          38,
          38,
          38,
          38,
          38,
          38,
          38,
          38,
          38,
          38,
          38,
          38,
          38,
          38,
          38,
          38,
          38,
          38,
          38,
          38,
          38,
          38,
          38,
          38,
          38,
          38,
          38,
          38,
          38,
          38,
          38,
          38,
          38,
          38,
          38
         ],
         "z": [
          8102,
          8221,
          8296.5116,
          8393.9294,
          8435.9188,
          8500.0971,
          8523.8558,
          8578.5966,
          8587.3545,
          8635.719,
          8638.4076,
          8677.5132,
          8675.7193,
          8708.4566,
          8705.2363,
          8732.5958,
          8705.923,
          8696.0043,
          8663.8759,
          8648.907,
          8612.7875,
          8593.8344,
          8549.0875,
          8521.2041,
          8471.8489,
          8445.7385,
          8402.5235,
          8372.2012,
          8324.7411,
          8291.2213,
          8242,
          8206,
          8152,
          8114,
          8057
         ]
        },
        {
         "line": {
          "width": 2
         },
         "marker": {
          "color": [
           8089,
           8173,
           8278,
           8349,
           8416.7788,
           8454.2759,
           8505.9031,
           8529.2762,
           8573.6571,
           8587.7812,
           8628.1486,
           8638.4293,
           8674.8451,
           8682.5396,
           8714.011,
           8693.3778,
           8684.9421,
           8661.5894,
           8648.9054,
           8622.8068,
           8604.9644,
           8569.4269,
           8541.4616,
           8497.6162,
           8476.6938,
           8439.4151,
           8413.3305,
           8371.9172,
           8342.6336,
           8298,
           8262,
           8215,
           8178,
           8129,
           8089
          ],
          "colorscale": [
           [
            0,
            "#440154"
           ],
           [
            0.1111111111111111,
            "#482878"
           ],
           [
            0.2222222222222222,
            "#3e4989"
           ],
           [
            0.3333333333333333,
            "#31688e"
           ],
           [
            0.4444444444444444,
            "#26828e"
           ],
           [
            0.5555555555555556,
            "#1f9e89"
           ],
           [
            0.6666666666666666,
            "#35b779"
           ],
           [
            0.7777777777777778,
            "#6ece58"
           ],
           [
            0.8888888888888888,
            "#b5de2b"
           ],
           [
            1,
            "#fde725"
           ]
          ],
          "opacity": 0.8,
          "size": 6
         },
         "mode": "lines+markers",
         "name": "Y",
         "text": [
          "A: 75",
          "A: 76",
          "A: 77",
          "A: 78",
          "A: 79",
          "A: 80",
          "A: 81",
          "A: 82",
          "A: 83",
          "A: 84",
          "A: 85",
          "A: 86",
          "A: 87",
          "A: 88",
          "A: 89",
          "A: 90",
          "A: 91",
          "A: 92",
          "A: 93",
          "A: 94",
          "A: 95",
          "A: 96",
          "A: 97",
          "A: 98",
          "A: 99",
          "A: 100",
          "A: 101",
          "A: 102",
          "A: 103",
          "A: 104",
          "A: 105",
          "A: 106",
          "A: 107",
          "A: 108",
          "A: 109"
         ],
         "type": "scatter3d",
         "x": [
          75,
          76,
          77,
          78,
          79,
          80,
          81,
          82,
          83,
          84,
          85,
          86,
          87,
          88,
          89,
          90,
          91,
          92,
          93,
          94,
          95,
          96,
          97,
          98,
          99,
          100,
          101,
          102,
          103,
          104,
          105,
          106,
          107,
          108,
          109
         ],
         "y": [
          39,
          39,
          39,
          39,
          39,
          39,
          39,
          39,
          39,
          39,
          39,
          39,
          39,
          39,
          39,
          39,
          39,
          39,
          39,
          39,
          39,
          39,
          39,
          39,
          39,
          39,
          39,
          39,
          39,
          39,
          39,
          39,
          39,
          39,
          39
         ],
         "z": [
          8089,
          8173,
          8278,
          8349,
          8416.7788,
          8454.2759,
          8505.9031,
          8529.2762,
          8573.6571,
          8587.7812,
          8628.1486,
          8638.4293,
          8674.8451,
          8682.5396,
          8714.011,
          8693.3778,
          8684.9421,
          8661.5894,
          8648.9054,
          8622.8068,
          8604.9644,
          8569.4269,
          8541.4616,
          8497.6162,
          8476.6938,
          8439.4151,
          8413.3305,
          8371.9172,
          8342.6336,
          8298,
          8262,
          8215,
          8178,
          8129,
          8089
         ]
        },
        {
         "line": {
          "width": 2
         },
         "marker": {
          "color": [
           8075,
           8194,
           8267,
           8365,
           8395.1519,
           8465.4666,
           8488.3997,
           8549.0301,
           8564.0394,
           8614.0523,
           8623.6545,
           8666.0339,
           8673.3865,
           8709.9699,
           8693.3149,
           8692.6783,
           8671.6207,
           8666.8016,
           8643.5924,
           8635.3283,
           8603.7182,
           8581.3984,
           8539.225,
           8522.1066,
           8485.8439,
           8466.294,
           8425.8337,
           8402.3159,
           8358.598,
           8330,
           8284,
           8253,
           8204,
           8171,
           8118,
           8081,
           8027
          ],
          "colorscale": [
           [
            0,
            "#440154"
           ],
           [
            0.1111111111111111,
            "#482878"
           ],
           [
            0.2222222222222222,
            "#3e4989"
           ],
           [
            0.3333333333333333,
            "#31688e"
           ],
           [
            0.4444444444444444,
            "#26828e"
           ],
           [
            0.5555555555555556,
            "#1f9e89"
           ],
           [
            0.6666666666666666,
            "#35b779"
           ],
           [
            0.7777777777777778,
            "#6ece58"
           ],
           [
            0.8888888888888888,
            "#b5de2b"
           ],
           [
            1,
            "#fde725"
           ]
          ],
          "opacity": 0.8,
          "size": 6
         },
         "mode": "lines+markers",
         "name": "Zr",
         "text": [
          "A: 77",
          "A: 78",
          "A: 79",
          "A: 80",
          "A: 81",
          "A: 82",
          "A: 83",
          "A: 84",
          "A: 85",
          "A: 86",
          "A: 87",
          "A: 88",
          "A: 89",
          "A: 90",
          "A: 91",
          "A: 92",
          "A: 93",
          "A: 94",
          "A: 95",
          "A: 96",
          "A: 97",
          "A: 98",
          "A: 99",
          "A: 100",
          "A: 101",
          "A: 102",
          "A: 103",
          "A: 104",
          "A: 105",
          "A: 106",
          "A: 107",
          "A: 108",
          "A: 109",
          "A: 110",
          "A: 111",
          "A: 112",
          "A: 113"
         ],
         "type": "scatter3d",
         "x": [
          77,
          78,
          79,
          80,
          81,
          82,
          83,
          84,
          85,
          86,
          87,
          88,
          89,
          90,
          91,
          92,
          93,
          94,
          95,
          96,
          97,
          98,
          99,
          100,
          101,
          102,
          103,
          104,
          105,
          106,
          107,
          108,
          109,
          110,
          111,
          112,
          113
         ],
         "y": [
          40,
          40,
          40,
          40,
          40,
          40,
          40,
          40,
          40,
          40,
          40,
          40,
          40,
          40,
          40,
          40,
          40,
          40,
          40,
          40,
          40,
          40,
          40,
          40,
          40,
          40,
          40,
          40,
          40,
          40,
          40,
          40,
          40,
          40,
          40,
          40,
          40
         ],
         "z": [
          8075,
          8194,
          8267,
          8365,
          8395.1519,
          8465.4666,
          8488.3997,
          8549.0301,
          8564.0394,
          8614.0523,
          8623.6545,
          8666.0339,
          8673.3865,
          8709.9699,
          8693.3149,
          8692.6783,
          8671.6207,
          8666.8016,
          8643.5924,
          8635.3283,
          8603.7182,
          8581.3984,
          8539.225,
          8522.1066,
          8485.8439,
          8466.294,
          8425.8337,
          8402.3159,
          8358.598,
          8330,
          8284,
          8253,
          8204,
          8171,
          8118,
          8081,
          8027
         ]
        },
        {
         "line": {
          "width": 2
         },
         "marker": {
          "color": [
           8066,
           8151,
           8248,
           8312,
           8378.9889,
           8417.9563,
           8473.7117,
           8502.2231,
           8551.7579,
           8572.4013,
           8616.8184,
           8633.377,
           8670.8983,
           8662.3731,
           8664.1849,
           8648.9014,
           8647.2133,
           8628.8868,
           8623.1384,
           8596.3016,
           8578.9859,
           8548.4683,
           8534.8355,
           8504.8675,
           8488.332,
           8453.3832,
           8431.6925,
           8393.2657,
           8367.0898,
           8325.6604,
           8297.1307,
           8255.2607,
           8223,
           8178,
           8143,
           8097,
           8061,
           8012
          ],
          "colorscale": [
           [
            0,
            "#440154"
           ],
           [
            0.1111111111111111,
            "#482878"
           ],
           [
            0.2222222222222222,
            "#3e4989"
           ],
           [
            0.3333333333333333,
            "#31688e"
           ],
           [
            0.4444444444444444,
            "#26828e"
           ],
           [
            0.5555555555555556,
            "#1f9e89"
           ],
           [
            0.6666666666666666,
            "#35b779"
           ],
           [
            0.7777777777777778,
            "#6ece58"
           ],
           [
            0.8888888888888888,
            "#b5de2b"
           ],
           [
            1,
            "#fde725"
           ]
          ],
          "opacity": 0.8,
          "size": 6
         },
         "mode": "lines+markers",
         "name": "Nb",
         "text": [
          "A: 79",
          "A: 80",
          "A: 81",
          "A: 82",
          "A: 83",
          "A: 84",
          "A: 85",
          "A: 86",
          "A: 87",
          "A: 88",
          "A: 89",
          "A: 90",
          "A: 91",
          "A: 92",
          "A: 93",
          "A: 94",
          "A: 95",
          "A: 96",
          "A: 97",
          "A: 98",
          "A: 99",
          "A: 100",
          "A: 101",
          "A: 102",
          "A: 103",
          "A: 104",
          "A: 105",
          "A: 106",
          "A: 107",
          "A: 108",
          "A: 109",
          "A: 110",
          "A: 111",
          "A: 112",
          "A: 113",
          "A: 114",
          "A: 115",
          "A: 116"
         ],
         "type": "scatter3d",
         "x": [
          79,
          80,
          81,
          82,
          83,
          84,
          85,
          86,
          87,
          88,
          89,
          90,
          91,
          92,
          93,
          94,
          95,
          96,
          97,
          98,
          99,
          100,
          101,
          102,
          103,
          104,
          105,
          106,
          107,
          108,
          109,
          110,
          111,
          112,
          113,
          114,
          115,
          116
         ],
         "y": [
          41,
          41,
          41,
          41,
          41,
          41,
          41,
          41,
          41,
          41,
          41,
          41,
          41,
          41,
          41,
          41,
          41,
          41,
          41,
          41,
          41,
          41,
          41,
          41,
          41,
          41,
          41,
          41,
          41,
          41,
          41,
          41,
          41,
          41,
          41,
          41,
          41,
          41
         ],
         "z": [
          8066,
          8151,
          8248,
          8312,
          8378.9889,
          8417.9563,
          8473.7117,
          8502.2231,
          8551.7579,
          8572.4013,
          8616.8184,
          8633.377,
          8670.8983,
          8662.3731,
          8664.1849,
          8648.9014,
          8647.2133,
          8628.8868,
          8623.1384,
          8596.3016,
          8578.9859,
          8548.4683,
          8534.8355,
          8504.8675,
          8488.332,
          8453.3832,
          8431.6925,
          8393.2657,
          8367.0898,
          8325.6604,
          8297.1307,
          8255.2607,
          8223,
          8178,
          8143,
          8097,
          8061,
          8012
         ]
        },
        {
         "line": {
          "width": 2
         },
         "marker": {
          "color": [
           8054,
           8163,
           8234,
           8325,
           8361.332,
           8434.7175,
           8462.4243,
           8523.9087,
           8544.9851,
           8597.0285,
           8613.6286,
           8657.7312,
           8651.4095,
           8662.3341,
           8648.7212,
           8653.988,
           8635.0926,
           8635.1691,
           8607.7982,
           8604.6626,
           8572.9159,
           8568.3994,
           8538.2672,
           8527.9063,
           8494.863,
           8479.5202,
           8442.219,
           8422.1581,
           8381.4163,
           8359.293,
           8315.2932,
           8291,
           8246,
           8219,
           8173,
           8143,
           8096,
           8067,
           8019
          ],
          "colorscale": [
           [
            0,
            "#440154"
           ],
           [
            0.1111111111111111,
            "#482878"
           ],
           [
            0.2222222222222222,
            "#3e4989"
           ],
           [
            0.3333333333333333,
            "#31688e"
           ],
           [
            0.4444444444444444,
            "#26828e"
           ],
           [
            0.5555555555555556,
            "#1f9e89"
           ],
           [
            0.6666666666666666,
            "#35b779"
           ],
           [
            0.7777777777777778,
            "#6ece58"
           ],
           [
            0.8888888888888888,
            "#b5de2b"
           ],
           [
            1,
            "#fde725"
           ]
          ],
          "opacity": 0.8,
          "size": 6
         },
         "mode": "lines+markers",
         "name": "Mo",
         "text": [
          "A: 81",
          "A: 82",
          "A: 83",
          "A: 84",
          "A: 85",
          "A: 86",
          "A: 87",
          "A: 88",
          "A: 89",
          "A: 90",
          "A: 91",
          "A: 92",
          "A: 93",
          "A: 94",
          "A: 95",
          "A: 96",
          "A: 97",
          "A: 98",
          "A: 99",
          "A: 100",
          "A: 101",
          "A: 102",
          "A: 103",
          "A: 104",
          "A: 105",
          "A: 106",
          "A: 107",
          "A: 108",
          "A: 109",
          "A: 110",
          "A: 111",
          "A: 112",
          "A: 113",
          "A: 114",
          "A: 115",
          "A: 116",
          "A: 117",
          "A: 118",
          "A: 119"
         ],
         "type": "scatter3d",
         "x": [
          81,
          82,
          83,
          84,
          85,
          86,
          87,
          88,
          89,
          90,
          91,
          92,
          93,
          94,
          95,
          96,
          97,
          98,
          99,
          100,
          101,
          102,
          103,
          104,
          105,
          106,
          107,
          108,
          109,
          110,
          111,
          112,
          113,
          114,
          115,
          116,
          117,
          118,
          119
         ],
         "y": [
          42,
          42,
          42,
          42,
          42,
          42,
          42,
          42,
          42,
          42,
          42,
          42,
          42,
          42,
          42,
          42,
          42,
          42,
          42,
          42,
          42,
          42,
          42,
          42,
          42,
          42,
          42,
          42,
          42,
          42,
          42,
          42,
          42,
          42,
          42,
          42,
          42,
          42,
          42
         ],
         "z": [
          8054,
          8163,
          8234,
          8325,
          8361.332,
          8434.7175,
          8462.4243,
          8523.9087,
          8544.9851,
          8597.0285,
          8613.6286,
          8657.7312,
          8651.4095,
          8662.3341,
          8648.7212,
          8653.988,
          8635.0926,
          8635.1691,
          8607.7982,
          8604.6626,
          8572.9159,
          8568.3994,
          8538.2672,
          8527.9063,
          8494.863,
          8479.5202,
          8442.219,
          8422.1581,
          8381.4163,
          8359.293,
          8315.2932,
          8291,
          8246,
          8219,
          8173,
          8143,
          8096,
          8067,
          8019
         ]
        },
        {
         "line": {
          "width": 2
         },
         "marker": {
          "color": [
           8043,
           8120,
           8215,
           8280,
           8347.7449,
           8389.8338,
           8450.5758,
           8483.36,
           8536.6558,
           8563.544,
           8608.5782,
           8608.7373,
           8622.6911,
           8614.8673,
           8623.7254,
           8610.0047,
           8613.6105,
           8595.1184,
           8593.1366,
           8570.6514,
           8566.1045,
           8541.107,
           8534.6074,
           8506.557,
           8492.8979,
           8462.8172,
           8444.1796,
           8411.2603,
           8390.0906,
           8353.6217,
           8329.4652,
           8290.2599,
           8264,
           8223,
           8195,
           8153,
           8126,
           8083,
           8054,
           8011
          ],
          "colorscale": [
           [
            0,
            "#440154"
           ],
           [
            0.1111111111111111,
            "#482878"
           ],
           [
            0.2222222222222222,
            "#3e4989"
           ],
           [
            0.3333333333333333,
            "#31688e"
           ],
           [
            0.4444444444444444,
            "#26828e"
           ],
           [
            0.5555555555555556,
            "#1f9e89"
           ],
           [
            0.6666666666666666,
            "#35b779"
           ],
           [
            0.7777777777777778,
            "#6ece58"
           ],
           [
            0.8888888888888888,
            "#b5de2b"
           ],
           [
            1,
            "#fde725"
           ]
          ],
          "opacity": 0.8,
          "size": 6
         },
         "mode": "lines+markers",
         "name": "Tc",
         "text": [
          "A: 83",
          "A: 84",
          "A: 85",
          "A: 86",
          "A: 87",
          "A: 88",
          "A: 89",
          "A: 90",
          "A: 91",
          "A: 92",
          "A: 93",
          "A: 94",
          "A: 95",
          "A: 96",
          "A: 97",
          "A: 98",
          "A: 99",
          "A: 100",
          "A: 101",
          "A: 102",
          "A: 103",
          "A: 104",
          "A: 105",
          "A: 106",
          "A: 107",
          "A: 108",
          "A: 109",
          "A: 110",
          "A: 111",
          "A: 112",
          "A: 113",
          "A: 114",
          "A: 115",
          "A: 116",
          "A: 117",
          "A: 118",
          "A: 119",
          "A: 120",
          "A: 121",
          "A: 122"
         ],
         "type": "scatter3d",
         "x": [
          83,
          84,
          85,
          86,
          87,
          88,
          89,
          90,
          91,
          92,
          93,
          94,
          95,
          96,
          97,
          98,
          99,
          100,
          101,
          102,
          103,
          104,
          105,
          106,
          107,
          108,
          109,
          110,
          111,
          112,
          113,
          114,
          115,
          116,
          117,
          118,
          119,
          120,
          121,
          122
         ],
         "y": [
          43,
          43,
          43,
          43,
          43,
          43,
          43,
          43,
          43,
          43,
          43,
          43,
          43,
          43,
          43,
          43,
          43,
          43,
          43,
          43,
          43,
          43,
          43,
          43,
          43,
          43,
          43,
          43,
          43,
          43,
          43,
          43,
          43,
          43,
          43,
          43,
          43,
          43,
          43,
          43
         ],
         "z": [
          8043,
          8120,
          8215,
          8280,
          8347.7449,
          8389.8338,
          8450.5758,
          8483.36,
          8536.6558,
          8563.544,
          8608.5782,
          8608.7373,
          8622.6911,
          8614.8673,
          8623.7254,
          8610.0047,
          8613.6105,
          8595.1184,
          8593.1366,
          8570.6514,
          8566.1045,
          8541.107,
          8534.6074,
          8506.557,
          8492.8979,
          8462.8172,
          8444.1796,
          8411.2603,
          8390.0906,
          8353.6217,
          8329.4652,
          8290.2599,
          8264,
          8223,
          8195,
          8153,
          8126,
          8083,
          8054,
          8011
         ]
        },
        {
         "line": {
          "width": 2
         },
         "marker": {
          "color": [
           8027,
           8133,
           8201,
           8298,
           8340.376,
           8409.7684,
           8442.9287,
           8504.774,
           8531.4627,
           8583.662,
           8587.4706,
           8609.413,
           8604.2799,
           8620.314,
           8608.7132,
           8619.3593,
           8601.366,
           8607.4275,
           8584.3656,
           8587.3998,
           8561.9016,
           8560.9406,
           8533.3676,
           8527.2267,
           8496.228,
           8486.3123,
           8452.9582,
           8439.2431,
           8402.6857,
           8385.3351,
           8346.814,
           8326.884,
           8285.5625,
           8263,
           8220,
           8199,
           8156,
           8132,
           8089,
           8065,
           8023
          ],
          "colorscale": [
           [
            0,
            "#440154"
           ],
           [
            0.1111111111111111,
            "#482878"
           ],
           [
            0.2222222222222222,
            "#3e4989"
           ],
           [
            0.3333333333333333,
            "#31688e"
           ],
           [
            0.4444444444444444,
            "#26828e"
           ],
           [
            0.5555555555555556,
            "#1f9e89"
           ],
           [
            0.6666666666666666,
            "#35b779"
           ],
           [
            0.7777777777777778,
            "#6ece58"
           ],
           [
            0.8888888888888888,
            "#b5de2b"
           ],
           [
            1,
            "#fde725"
           ]
          ],
          "opacity": 0.8,
          "size": 6
         },
         "mode": "lines+markers",
         "name": "Ru",
         "text": [
          "A: 85",
          "A: 86",
          "A: 87",
          "A: 88",
          "A: 89",
          "A: 90",
          "A: 91",
          "A: 92",
          "A: 93",
          "A: 94",
          "A: 95",
          "A: 96",
          "A: 97",
          "A: 98",
          "A: 99",
          "A: 100",
          "A: 101",
          "A: 102",
          "A: 103",
          "A: 104",
          "A: 105",
          "A: 106",
          "A: 107",
          "A: 108",
          "A: 109",
          "A: 110",
          "A: 111",
          "A: 112",
          "A: 113",
          "A: 114",
          "A: 115",
          "A: 116",
          "A: 117",
          "A: 118",
          "A: 119",
          "A: 120",
          "A: 121",
          "A: 122",
          "A: 123",
          "A: 124",
          "A: 125"
         ],
         "type": "scatter3d",
         "x": [
          85,
          86,
          87,
          88,
          89,
          90,
          91,
          92,
          93,
          94,
          95,
          96,
          97,
          98,
          99,
          100,
          101,
          102,
          103,
          104,
          105,
          106,
          107,
          108,
          109,
          110,
          111,
          112,
          113,
          114,
          115,
          116,
          117,
          118,
          119,
          120,
          121,
          122,
          123,
          124,
          125
         ],
         "y": [
          44,
          44,
          44,
          44,
          44,
          44,
          44,
          44,
          44,
          44,
          44,
          44,
          44,
          44,
          44,
          44,
          44,
          44,
          44,
          44,
          44,
          44,
          44,
          44,
          44,
          44,
          44,
          44,
          44,
          44,
          44,
          44,
          44,
          44,
          44,
          44,
          44,
          44,
          44,
          44,
          44
         ],
         "z": [
          8027,
          8133,
          8201,
          8298,
          8340.376,
          8409.7684,
          8442.9287,
          8504.774,
          8531.4627,
          8583.662,
          8587.4706,
          8609.413,
          8604.2799,
          8620.314,
          8608.7132,
          8619.3593,
          8601.366,
          8607.4275,
          8584.3656,
          8587.3998,
          8561.9016,
          8560.9406,
          8533.3676,
          8527.2267,
          8496.228,
          8486.3123,
          8452.9582,
          8439.2431,
          8402.6857,
          8385.3351,
          8346.814,
          8326.884,
          8285.5625,
          8263,
          8220,
          8199,
          8156,
          8132,
          8089,
          8065,
          8023
         ]
        },
        {
         "line": {
          "width": 2
         },
         "marker": {
          "color": [
           8090,
           8189,
           8254,
           8328,
           8373.4211,
           8434.8255,
           8472.4033,
           8525.3707,
           8534.6735,
           8559.8949,
           8560.8038,
           8580.1959,
           8575.1732,
           8588.2172,
           8576.9818,
           8584.1927,
           8568.9501,
           8572.7053,
           8553.9317,
           8554.104,
           8532.6657,
           8528.1404,
           8504.2551,
           8495.6267,
           8468.8666,
           8456.8165,
           8426.6221,
           8410.6538,
           8377.6123,
           8359.2766,
           8322.8539,
           8303.3953,
           8266,
           8245.2397,
           8208,
           8185,
           8148,
           8124,
           8087,
           8060,
           8010
          ],
          "colorscale": [
           [
            0,
            "#440154"
           ],
           [
            0.1111111111111111,
            "#482878"
           ],
           [
            0.2222222222222222,
            "#3e4989"
           ],
           [
            0.3333333333333333,
            "#31688e"
           ],
           [
            0.4444444444444444,
            "#26828e"
           ],
           [
            0.5555555555555556,
            "#1f9e89"
           ],
           [
            0.6666666666666666,
            "#35b779"
           ],
           [
            0.7777777777777778,
            "#6ece58"
           ],
           [
            0.8888888888888888,
            "#b5de2b"
           ],
           [
            1,
            "#fde725"
           ]
          ],
          "opacity": 0.8,
          "size": 6
         },
         "mode": "lines+markers",
         "name": "Rh",
         "text": [
          "A: 88",
          "A: 89",
          "A: 90",
          "A: 91",
          "A: 92",
          "A: 93",
          "A: 94",
          "A: 95",
          "A: 96",
          "A: 97",
          "A: 98",
          "A: 99",
          "A: 100",
          "A: 101",
          "A: 102",
          "A: 103",
          "A: 104",
          "A: 105",
          "A: 106",
          "A: 107",
          "A: 108",
          "A: 109",
          "A: 110",
          "A: 111",
          "A: 112",
          "A: 113",
          "A: 114",
          "A: 115",
          "A: 116",
          "A: 117",
          "A: 118",
          "A: 119",
          "A: 120",
          "A: 121",
          "A: 122",
          "A: 123",
          "A: 124",
          "A: 125",
          "A: 126",
          "A: 127",
          "A: 128"
         ],
         "type": "scatter3d",
         "x": [
          88,
          89,
          90,
          91,
          92,
          93,
          94,
          95,
          96,
          97,
          98,
          99,
          100,
          101,
          102,
          103,
          104,
          105,
          106,
          107,
          108,
          109,
          110,
          111,
          112,
          113,
          114,
          115,
          116,
          117,
          118,
          119,
          120,
          121,
          122,
          123,
          124,
          125,
          126,
          127,
          128
         ],
         "y": [
          45,
          45,
          45,
          45,
          45,
          45,
          45,
          45,
          45,
          45,
          45,
          45,
          45,
          45,
          45,
          45,
          45,
          45,
          45,
          45,
          45,
          45,
          45,
          45,
          45,
          45,
          45,
          45,
          45,
          45,
          45,
          45,
          45,
          45,
          45,
          45,
          45,
          45,
          45,
          45,
          45
         ],
         "z": [
          8090,
          8189,
          8254,
          8328,
          8373.4211,
          8434.8255,
          8472.4033,
          8525.3707,
          8534.6735,
          8559.8949,
          8560.8038,
          8580.1959,
          8575.1732,
          8588.2172,
          8576.9818,
          8584.1927,
          8568.9501,
          8572.7053,
          8553.9317,
          8554.104,
          8532.6657,
          8528.1404,
          8504.2551,
          8495.6267,
          8468.8666,
          8456.8165,
          8426.6221,
          8410.6538,
          8377.6123,
          8359.2766,
          8322.8539,
          8303.3953,
          8266,
          8245.2397,
          8208,
          8185,
          8148,
          8124,
          8087,
          8060,
          8010
         ]
        },
        {
         "line": {
          "width": 2
         },
         "marker": {
          "color": [
           8113,
           8183,
           8275.5695,
           8318.5637,
           8391.6832,
           8428.9807,
           8490.0207,
           8502.4303,
           8533.8999,
           8537.9332,
           8563.5652,
           8560.8644,
           8580.2887,
           8571.0173,
           8584.8485,
           8570.6509,
           8579.9934,
           8560.8946,
           8567.0241,
           8544.8825,
           8547.163,
           8521.7498,
           8520.7205,
           8492.5795,
           8488.0056,
           8457.7342,
           8449.2755,
           8416.9243,
           8405.2197,
           8368.9594,
           8357.0817,
           8320.8584,
           8305.9755,
           8270.0318,
           8252,
           8215,
           8197,
           8160,
           8137,
           8086,
           8046,
           7993
          ],
          "colorscale": [
           [
            0,
            "#440154"
           ],
           [
            0.1111111111111111,
            "#482878"
           ],
           [
            0.2222222222222222,
            "#3e4989"
           ],
           [
            0.3333333333333333,
            "#31688e"
           ],
           [
            0.4444444444444444,
            "#26828e"
           ],
           [
            0.5555555555555556,
            "#1f9e89"
           ],
           [
            0.6666666666666666,
            "#35b779"
           ],
           [
            0.7777777777777778,
            "#6ece58"
           ],
           [
            0.8888888888888888,
            "#b5de2b"
           ],
           [
            1,
            "#fde725"
           ]
          ],
          "opacity": 0.8,
          "size": 6
         },
         "mode": "lines+markers",
         "name": "Pd",
         "text": [
          "A: 90",
          "A: 91",
          "A: 92",
          "A: 93",
          "A: 94",
          "A: 95",
          "A: 96",
          "A: 97",
          "A: 98",
          "A: 99",
          "A: 100",
          "A: 101",
          "A: 102",
          "A: 103",
          "A: 104",
          "A: 105",
          "A: 106",
          "A: 107",
          "A: 108",
          "A: 109",
          "A: 110",
          "A: 111",
          "A: 112",
          "A: 113",
          "A: 114",
          "A: 115",
          "A: 116",
          "A: 117",
          "A: 118",
          "A: 119",
          "A: 120",
          "A: 121",
          "A: 122",
          "A: 123",
          "A: 124",
          "A: 125",
          "A: 126",
          "A: 127",
          "A: 128",
          "A: 129",
          "A: 130",
          "A: 131"
         ],
         "type": "scatter3d",
         "x": [
          90,
          91,
          92,
          93,
          94,
          95,
          96,
          97,
          98,
          99,
          100,
          101,
          102,
          103,
          104,
          105,
          106,
          107,
          108,
          109,
          110,
          111,
          112,
          113,
          114,
          115,
          116,
          117,
          118,
          119,
          120,
          121,
          122,
          123,
          124,
          125,
          126,
          127,
          128,
          129,
          130,
          131
         ],
         "y": [
          46,
          46,
          46,
          46,
          46,
          46,
          46,
          46,
          46,
          46,
          46,
          46,
          46,
          46,
          46,
          46,
          46,
          46,
          46,
          46,
          46,
          46,
          46,
          46,
          46,
          46,
          46,
          46,
          46,
          46,
          46,
          46,
          46,
          46,
          46,
          46,
          46,
          46,
          46,
          46,
          46,
          46
         ],
         "z": [
          8113,
          8183,
          8275.5695,
          8318.5637,
          8391.6832,
          8428.9807,
          8490.0207,
          8502.4303,
          8533.8999,
          8537.9332,
          8563.5652,
          8560.8644,
          8580.2887,
          8571.0173,
          8584.8485,
          8570.6509,
          8579.9934,
          8560.8946,
          8567.0241,
          8544.8825,
          8547.163,
          8521.7498,
          8520.7205,
          8492.5795,
          8488.0056,
          8457.7342,
          8449.2755,
          8416.9243,
          8405.2197,
          8368.9594,
          8357.0817,
          8320.8584,
          8305.9755,
          8270.0318,
          8252,
          8215,
          8197,
          8160,
          8137,
          8086,
          8046,
          7993
         ]
        },
        {
         "line": {
          "width": 2
         },
         "marker": {
          "color": [
           8080,
           8175,
           8238,
           8315,
           8360.2903,
           8423.2121,
           8441.6866,
           8474.7744,
           8484.9947,
           8512.5465,
           8517.165,
           8537.652,
           8536.185,
           8550.3708,
           8544.6397,
           8553.9012,
           8542.0262,
           8547.9155,
           8532.1089,
           8534.7878,
           8516.0807,
           8516.066,
           8493.7786,
           8490.5553,
           8465.9073,
           8459.4515,
           8433.89,
           8423.2126,
           8395.3281,
           8382.3306,
           8352.7591,
           8337.9707,
           8308.8958,
           8293.3151,
           8261,
           8244,
           8211,
           8188,
           8142,
           8102,
           8053,
           8013
          ],
          "colorscale": [
           [
            0,
            "#440154"
           ],
           [
            0.1111111111111111,
            "#482878"
           ],
           [
            0.2222222222222222,
            "#3e4989"
           ],
           [
            0.3333333333333333,
            "#31688e"
           ],
           [
            0.4444444444444444,
            "#26828e"
           ],
           [
            0.5555555555555556,
            "#1f9e89"
           ],
           [
            0.6666666666666666,
            "#35b779"
           ],
           [
            0.7777777777777778,
            "#6ece58"
           ],
           [
            0.8888888888888888,
            "#b5de2b"
           ],
           [
            1,
            "#fde725"
           ]
          ],
          "opacity": 0.8,
          "size": 6
         },
         "mode": "lines+markers",
         "name": "Ag",
         "text": [
          "A: 92",
          "A: 93",
          "A: 94",
          "A: 95",
          "A: 96",
          "A: 97",
          "A: 98",
          "A: 99",
          "A: 100",
          "A: 101",
          "A: 102",
          "A: 103",
          "A: 104",
          "A: 105",
          "A: 106",
          "A: 107",
          "A: 108",
          "A: 109",
          "A: 110",
          "A: 111",
          "A: 112",
          "A: 113",
          "A: 114",
          "A: 115",
          "A: 116",
          "A: 117",
          "A: 118",
          "A: 119",
          "A: 120",
          "A: 121",
          "A: 122",
          "A: 123",
          "A: 124",
          "A: 125",
          "A: 126",
          "A: 127",
          "A: 128",
          "A: 129",
          "A: 130",
          "A: 131",
          "A: 132",
          "A: 133"
         ],
         "type": "scatter3d",
         "x": [
          92,
          93,
          94,
          95,
          96,
          97,
          98,
          99,
          100,
          101,
          102,
          103,
          104,
          105,
          106,
          107,
          108,
          109,
          110,
          111,
          112,
          113,
          114,
          115,
          116,
          117,
          118,
          119,
          120,
          121,
          122,
          123,
          124,
          125,
          126,
          127,
          128,
          129,
          130,
          131,
          132,
          133
         ],
         "y": [
          47,
          47,
          47,
          47,
          47,
          47,
          47,
          47,
          47,
          47,
          47,
          47,
          47,
          47,
          47,
          47,
          47,
          47,
          47,
          47,
          47,
          47,
          47,
          47,
          47,
          47,
          47,
          47,
          47,
          47,
          47,
          47,
          47,
          47,
          47,
          47,
          47,
          47,
          47,
          47,
          47,
          47
         ],
         "z": [
          8080,
          8175,
          8238,
          8315,
          8360.2903,
          8423.2121,
          8441.6866,
          8474.7744,
          8484.9947,
          8512.5465,
          8517.165,
          8537.652,
          8536.185,
          8550.3708,
          8544.6397,
          8553.9012,
          8542.0262,
          8547.9155,
          8532.1089,
          8534.7878,
          8516.0807,
          8516.066,
          8493.7786,
          8490.5553,
          8465.9073,
          8459.4515,
          8433.89,
          8423.2126,
          8395.3281,
          8382.3306,
          8352.7591,
          8337.9707,
          8308.8958,
          8293.3151,
          8261,
          8244,
          8211,
          8188,
          8142,
          8102,
          8053,
          8013
         ]
        },
        {
         "line": {
          "width": 2
         },
         "marker": {
          "color": [
           8102,
           8171,
           8259,
           8310.3013,
           8378.2953,
           8398.3734,
           8437.7375,
           8450.3657,
           8484.1322,
           8489.7547,
           8517.6232,
           8516.8532,
           8539.0492,
           8533.3524,
           8550.0196,
           8538.7646,
           8551.2755,
           8537.0801,
           8544.7306,
           8526.9874,
           8531.5135,
           8510.7252,
           8512.3511,
           8488.974,
           8487.835,
           8461.4381,
           8458.024,
           8430.9972,
           8424.2667,
           8395.3955,
           8387.0179,
           8357.6815,
           8346.7393,
           8316.8971,
           8303.2367,
           8269.5311,
           8252.5868,
           8206.1204,
           8169.1421,
           8121,
           8086,
           8036
          ],
          "colorscale": [
           [
            0,
            "#440154"
           ],
           [
            0.1111111111111111,
            "#482878"
           ],
           [
            0.2222222222222222,
            "#3e4989"
           ],
           [
            0.3333333333333333,
            "#31688e"
           ],
           [
            0.4444444444444444,
            "#26828e"
           ],
           [
            0.5555555555555556,
            "#1f9e89"
           ],
           [
            0.6666666666666666,
            "#35b779"
           ],
           [
            0.7777777777777778,
            "#6ece58"
           ],
           [
            0.8888888888888888,
            "#b5de2b"
           ],
           [
            1,
            "#fde725"
           ]
          ],
          "opacity": 0.8,
          "size": 6
         },
         "mode": "lines+markers",
         "name": "Cd",
         "text": [
          "A: 94",
          "A: 95",
          "A: 96",
          "A: 97",
          "A: 98",
          "A: 99",
          "A: 100",
          "A: 101",
          "A: 102",
          "A: 103",
          "A: 104",
          "A: 105",
          "A: 106",
          "A: 107",
          "A: 108",
          "A: 109",
          "A: 110",
          "A: 111",
          "A: 112",
          "A: 113",
          "A: 114",
          "A: 115",
          "A: 116",
          "A: 117",
          "A: 118",
          "A: 119",
          "A: 120",
          "A: 121",
          "A: 122",
          "A: 123",
          "A: 124",
          "A: 125",
          "A: 126",
          "A: 127",
          "A: 128",
          "A: 129",
          "A: 130",
          "A: 131",
          "A: 132",
          "A: 133",
          "A: 134",
          "A: 135"
         ],
         "type": "scatter3d",
         "x": [
          94,
          95,
          96,
          97,
          98,
          99,
          100,
          101,
          102,
          103,
          104,
          105,
          106,
          107,
          108,
          109,
          110,
          111,
          112,
          113,
          114,
          115,
          116,
          117,
          118,
          119,
          120,
          121,
          122,
          123,
          124,
          125,
          126,
          127,
          128,
          129,
          130,
          131,
          132,
          133,
          134,
          135
         ],
         "y": [
          48,
          48,
          48,
          48,
          48,
          48,
          48,
          48,
          48,
          48,
          48,
          48,
          48,
          48,
          48,
          48,
          48,
          48,
          48,
          48,
          48,
          48,
          48,
          48,
          48,
          48,
          48,
          48,
          48,
          48,
          48,
          48,
          48,
          48,
          48,
          48,
          48,
          48,
          48,
          48,
          48,
          48
         ],
         "z": [
          8102,
          8171,
          8259,
          8310.3013,
          8378.2953,
          8398.3734,
          8437.7375,
          8450.3657,
          8484.1322,
          8489.7547,
          8517.6232,
          8516.8532,
          8539.0492,
          8533.3524,
          8550.0196,
          8538.7646,
          8551.2755,
          8537.0801,
          8544.7306,
          8526.9874,
          8531.5135,
          8510.7252,
          8512.3511,
          8488.974,
          8487.835,
          8461.4381,
          8458.024,
          8430.9972,
          8424.2667,
          8395.3955,
          8387.0179,
          8357.6815,
          8346.7393,
          8316.8971,
          8303.2367,
          8269.5311,
          8252.5868,
          8206.1204,
          8169.1421,
          8121,
          8086,
          8036
         ]
        },
        {
         "line": {
          "width": 2
         },
         "marker": {
          "color": [
           8069,
           8165,
           8230,
           8304,
           8329.7495,
           8370.426,
           8388.5719,
           8423.7199,
           8435.238,
           8464.7045,
           8470.1213,
           8494.0439,
           8495.2516,
           8513.1027,
           8508.9087,
           8522.2824,
           8514.6674,
           8522.9297,
           8511.9742,
           8516.5472,
           8501.6177,
           8503.8653,
           8485.667,
           8486.1387,
           8466.2575,
           8463.8767,
           8442.1079,
           8437.9362,
           8414.3243,
           8407.9365,
           8384.6067,
           8374.8212,
           8351.4361,
           8338.759,
           8314.176,
           8297.9544,
           8253.7162,
           8217,
           8173,
           8136,
           8091,
           8053
          ],
          "colorscale": [
           [
            0,
            "#440154"
           ],
           [
            0.1111111111111111,
            "#482878"
           ],
           [
            0.2222222222222222,
            "#3e4989"
           ],
           [
            0.3333333333333333,
            "#31688e"
           ],
           [
            0.4444444444444444,
            "#26828e"
           ],
           [
            0.5555555555555556,
            "#1f9e89"
           ],
           [
            0.6666666666666666,
            "#35b779"
           ],
           [
            0.7777777777777778,
            "#6ece58"
           ],
           [
            0.8888888888888888,
            "#b5de2b"
           ],
           [
            1,
            "#fde725"
           ]
          ],
          "opacity": 0.8,
          "size": 6
         },
         "mode": "lines+markers",
         "name": "In",
         "text": [
          "A: 96",
          "A: 97",
          "A: 98",
          "A: 99",
          "A: 100",
          "A: 101",
          "A: 102",
          "A: 103",
          "A: 104",
          "A: 105",
          "A: 106",
          "A: 107",
          "A: 108",
          "A: 109",
          "A: 110",
          "A: 111",
          "A: 112",
          "A: 113",
          "A: 114",
          "A: 115",
          "A: 116",
          "A: 117",
          "A: 118",
          "A: 119",
          "A: 120",
          "A: 121",
          "A: 122",
          "A: 123",
          "A: 124",
          "A: 125",
          "A: 126",
          "A: 127",
          "A: 128",
          "A: 129",
          "A: 130",
          "A: 131",
          "A: 132",
          "A: 133",
          "A: 134",
          "A: 135",
          "A: 136",
          "A: 137"
         ],
         "type": "scatter3d",
         "x": [
          96,
          97,
          98,
          99,
          100,
          101,
          102,
          103,
          104,
          105,
          106,
          107,
          108,
          109,
          110,
          111,
          112,
          113,
          114,
          115,
          116,
          117,
          118,
          119,
          120,
          121,
          122,
          123,
          124,
          125,
          126,
          127,
          128,
          129,
          130,
          131,
          132,
          133,
          134,
          135,
          136,
          137
         ],
         "y": [
          49,
          49,
          49,
          49,
          49,
          49,
          49,
          49,
          49,
          49,
          49,
          49,
          49,
          49,
          49,
          49,
          49,
          49,
          49,
          49,
          49,
          49,
          49,
          49,
          49,
          49,
          49,
          49,
          49,
          49,
          49,
          49,
          49,
          49,
          49,
          49,
          49,
          49,
          49,
          49,
          49,
          49
         ],
         "z": [
          8069,
          8165,
          8230,
          8304,
          8329.7495,
          8370.426,
          8388.5719,
          8423.7199,
          8435.238,
          8464.7045,
          8470.1213,
          8494.0439,
          8495.2516,
          8513.1027,
          8508.9087,
          8522.2824,
          8514.6674,
          8522.9297,
          8511.9742,
          8516.5472,
          8501.6177,
          8503.8653,
          8485.667,
          8486.1387,
          8466.2575,
          8463.8767,
          8442.1079,
          8437.9362,
          8414.3243,
          8407.9365,
          8384.6067,
          8374.8212,
          8351.4361,
          8338.759,
          8314.176,
          8297.9544,
          8253.7162,
          8217,
          8173,
          8136,
          8091,
          8053
         ]
        },
        {
         "line": {
          "width": 2
         },
         "marker": {
          "color": [
           8161,
           8251.626,
           8281.103,
           8324.4313,
           8343,
           8383.9114,
           8397.229,
           8432.0383,
           8439.4946,
           8469.0273,
           8470.5183,
           8496.0875,
           8493.131,
           8513.6189,
           8506.8117,
           8522.5671,
           8514.0702,
           8523.1166,
           8509.612,
           8516.5341,
           8499.4494,
           8504.488,
           8485.1964,
           8487.8968,
           8467.2313,
           8467.3997,
           8445.5285,
           8443.5227,
           8420.5482,
           8416.9749,
           8392.8161,
           8386.817,
           8362.5183,
           8354.8726,
           8310.089,
           8275.1719,
           8230.6877,
           8197,
           8152,
           8118,
           8073,
           8038
          ],
          "colorscale": [
           [
            0,
            "#440154"
           ],
           [
            0.1111111111111111,
            "#482878"
           ],
           [
            0.2222222222222222,
            "#3e4989"
           ],
           [
            0.3333333333333333,
            "#31688e"
           ],
           [
            0.4444444444444444,
            "#26828e"
           ],
           [
            0.5555555555555556,
            "#1f9e89"
           ],
           [
            0.6666666666666666,
            "#35b779"
           ],
           [
            0.7777777777777778,
            "#6ece58"
           ],
           [
            0.8888888888888888,
            "#b5de2b"
           ],
           [
            1,
            "#fde725"
           ]
          ],
          "opacity": 0.8,
          "size": 6
         },
         "mode": "lines+markers",
         "name": "Sn",
         "text": [
          "A: 99",
          "A: 100",
          "A: 101",
          "A: 102",
          "A: 103",
          "A: 104",
          "A: 105",
          "A: 106",
          "A: 107",
          "A: 108",
          "A: 109",
          "A: 110",
          "A: 111",
          "A: 112",
          "A: 113",
          "A: 114",
          "A: 115",
          "A: 116",
          "A: 117",
          "A: 118",
          "A: 119",
          "A: 120",
          "A: 121",
          "A: 122",
          "A: 123",
          "A: 124",
          "A: 125",
          "A: 126",
          "A: 127",
          "A: 128",
          "A: 129",
          "A: 130",
          "A: 131",
          "A: 132",
          "A: 133",
          "A: 134",
          "A: 135",
          "A: 136",
          "A: 137",
          "A: 138",
          "A: 139",
          "A: 140"
         ],
         "type": "scatter3d",
         "x": [
          99,
          100,
          101,
          102,
          103,
          104,
          105,
          106,
          107,
          108,
          109,
          110,
          111,
          112,
          113,
          114,
          115,
          116,
          117,
          118,
          119,
          120,
          121,
          122,
          123,
          124,
          125,
          126,
          127,
          128,
          129,
          130,
          131,
          132,
          133,
          134,
          135,
          136,
          137,
          138,
          139,
          140
         ],
         "y": [
          50,
          50,
          50,
          50,
          50,
          50,
          50,
          50,
          50,
          50,
          50,
          50,
          50,
          50,
          50,
          50,
          50,
          50,
          50,
          50,
          50,
          50,
          50,
          50,
          50,
          50,
          50,
          50,
          50,
          50,
          50,
          50,
          50,
          50,
          50,
          50,
          50,
          50,
          50,
          50,
          50,
          50
         ],
         "z": [
          8161,
          8251.626,
          8281.103,
          8324.4313,
          8343,
          8383.9114,
          8397.229,
          8432.0383,
          8439.4946,
          8469.0273,
          8470.5183,
          8496.0875,
          8493.131,
          8513.6189,
          8506.8117,
          8522.5671,
          8514.0702,
          8523.1166,
          8509.612,
          8516.5341,
          8499.4494,
          8504.488,
          8485.1964,
          8487.8968,
          8467.2313,
          8467.3997,
          8445.5285,
          8443.5227,
          8420.5482,
          8416.9749,
          8392.8161,
          8386.817,
          8362.5183,
          8354.8726,
          8310.089,
          8275.1719,
          8230.6877,
          8197,
          8152,
          8118,
          8073,
          8038
         ]
        },
        {
         "line": {
          "width": 2
         },
         "marker": {
          "color": [
           8181,
           8234,
           8258,
           8300.9923,
           8322.0124,
           8358.7344,
           8372.6666,
           8404.8161,
           8412.6821,
           8440.1203,
           8443.633,
           8465.2762,
           8462.5191,
           8480.9156,
           8475.8208,
           8487.8981,
           8478.9156,
           8487.9218,
           8475.63,
           8482.0574,
           8468.3222,
           8472.3196,
           8456.1517,
           8458.1612,
           8440.3136,
           8439.811,
           8420.7724,
           8418.0598,
           8397.3641,
           8392.5525,
           8372.3452,
           8364.7302,
           8325.9398,
           8291.9894,
           8252.2533,
           8218.4764,
           8178,
           8144,
           8103,
           8069,
           8027
          ],
          "colorscale": [
           [
            0,
            "#440154"
           ],
           [
            0.1111111111111111,
            "#482878"
           ],
           [
            0.2222222222222222,
            "#3e4989"
           ],
           [
            0.3333333333333333,
            "#31688e"
           ],
           [
            0.4444444444444444,
            "#26828e"
           ],
           [
            0.5555555555555556,
            "#1f9e89"
           ],
           [
            0.6666666666666666,
            "#35b779"
           ],
           [
            0.7777777777777778,
            "#6ece58"
           ],
           [
            0.8888888888888888,
            "#b5de2b"
           ],
           [
            1,
            "#fde725"
           ]
          ],
          "opacity": 0.8,
          "size": 6
         },
         "mode": "lines+markers",
         "name": "Sb",
         "text": [
          "A: 102",
          "A: 103",
          "A: 104",
          "A: 105",
          "A: 106",
          "A: 107",
          "A: 108",
          "A: 109",
          "A: 110",
          "A: 111",
          "A: 112",
          "A: 113",
          "A: 114",
          "A: 115",
          "A: 116",
          "A: 117",
          "A: 118",
          "A: 119",
          "A: 120",
          "A: 121",
          "A: 122",
          "A: 123",
          "A: 124",
          "A: 125",
          "A: 126",
          "A: 127",
          "A: 128",
          "A: 129",
          "A: 130",
          "A: 131",
          "A: 132",
          "A: 133",
          "A: 134",
          "A: 135",
          "A: 136",
          "A: 137",
          "A: 138",
          "A: 139",
          "A: 140",
          "A: 141",
          "A: 142"
         ],
         "type": "scatter3d",
         "x": [
          102,
          103,
          104,
          105,
          106,
          107,
          108,
          109,
          110,
          111,
          112,
          113,
          114,
          115,
          116,
          117,
          118,
          119,
          120,
          121,
          122,
          123,
          124,
          125,
          126,
          127,
          128,
          129,
          130,
          131,
          132,
          133,
          134,
          135,
          136,
          137,
          138,
          139,
          140,
          141,
          142
         ],
         "y": [
          51,
          51,
          51,
          51,
          51,
          51,
          51,
          51,
          51,
          51,
          51,
          51,
          51,
          51,
          51,
          51,
          51,
          51,
          51,
          51,
          51,
          51,
          51,
          51,
          51,
          51,
          51,
          51,
          51,
          51,
          51,
          51,
          51,
          51,
          51,
          51,
          51,
          51,
          51,
          51,
          51
         ],
         "z": [
          8181,
          8234,
          8258,
          8300.9923,
          8322.0124,
          8358.7344,
          8372.6666,
          8404.8161,
          8412.6821,
          8440.1203,
          8443.633,
          8465.2762,
          8462.5191,
          8480.9156,
          8475.8208,
          8487.8981,
          8478.9156,
          8487.9218,
          8475.63,
          8482.0574,
          8468.3222,
          8472.3196,
          8456.1517,
          8458.1612,
          8440.3136,
          8439.811,
          8420.7724,
          8418.0598,
          8397.3641,
          8392.5525,
          8372.3452,
          8364.7302,
          8325.9398,
          8291.9894,
          8252.2533,
          8218.4764,
          8178,
          8144,
          8103,
          8069,
          8027
         ]
        },
        {
         "line": {
          "width": 2
         },
         "marker": {
          "color": [
           8157.3256,
           8186.8368,
           8236.7682,
           8258,
           8303.7221,
           8319.3305,
           8358.116,
           8367.7635,
           8400.6527,
           8404.6366,
           8432.7885,
           8431.1504,
           8455.6435,
           8450.9203,
           8469.697,
           8462.0785,
           8476.9857,
           8466.8641,
           8478.1315,
           8465.537,
           8473.2705,
           8458.0361,
           8463.2397,
           8446.109,
           8448.7536,
           8430.4098,
           8430.3251,
           8411.2339,
           8408.4859,
           8389.0255,
           8383.6442,
           8345.7384,
           8319.4301,
           8280.2357,
           8252.5786,
           8211.7716,
           8183.3567,
           8142,
           8113,
           8070,
           8040,
           7998
          ],
          "colorscale": [
           [
            0,
            "#440154"
           ],
           [
            0.1111111111111111,
            "#482878"
           ],
           [
            0.2222222222222222,
            "#3e4989"
           ],
           [
            0.3333333333333333,
            "#31688e"
           ],
           [
            0.4444444444444444,
            "#26828e"
           ],
           [
            0.5555555555555556,
            "#1f9e89"
           ],
           [
            0.6666666666666666,
            "#35b779"
           ],
           [
            0.7777777777777778,
            "#6ece58"
           ],
           [
            0.8888888888888888,
            "#b5de2b"
           ],
           [
            1,
            "#fde725"
           ]
          ],
          "opacity": 0.8,
          "size": 6
         },
         "mode": "lines+markers",
         "name": "Te",
         "text": [
          "A: 104",
          "A: 105",
          "A: 106",
          "A: 107",
          "A: 108",
          "A: 109",
          "A: 110",
          "A: 111",
          "A: 112",
          "A: 113",
          "A: 114",
          "A: 115",
          "A: 116",
          "A: 117",
          "A: 118",
          "A: 119",
          "A: 120",
          "A: 121",
          "A: 122",
          "A: 123",
          "A: 124",
          "A: 125",
          "A: 126",
          "A: 127",
          "A: 128",
          "A: 129",
          "A: 130",
          "A: 131",
          "A: 132",
          "A: 133",
          "A: 134",
          "A: 135",
          "A: 136",
          "A: 137",
          "A: 138",
          "A: 139",
          "A: 140",
          "A: 141",
          "A: 142",
          "A: 143",
          "A: 144",
          "A: 145"
         ],
         "type": "scatter3d",
         "x": [
          104,
          105,
          106,
          107,
          108,
          109,
          110,
          111,
          112,
          113,
          114,
          115,
          116,
          117,
          118,
          119,
          120,
          121,
          122,
          123,
          124,
          125,
          126,
          127,
          128,
          129,
          130,
          131,
          132,
          133,
          134,
          135,
          136,
          137,
          138,
          139,
          140,
          141,
          142,
          143,
          144,
          145
         ],
         "y": [
          52,
          52,
          52,
          52,
          52,
          52,
          52,
          52,
          52,
          52,
          52,
          52,
          52,
          52,
          52,
          52,
          52,
          52,
          52,
          52,
          52,
          52,
          52,
          52,
          52,
          52,
          52,
          52,
          52,
          52,
          52,
          52,
          52,
          52,
          52,
          52,
          52,
          52,
          52,
          52,
          52,
          52
         ],
         "z": [
          8157.3256,
          8186.8368,
          8236.7682,
          8258,
          8303.7221,
          8319.3305,
          8358.116,
          8367.7635,
          8400.6527,
          8404.6366,
          8432.7885,
          8431.1504,
          8455.6435,
          8450.9203,
          8469.697,
          8462.0785,
          8476.9857,
          8466.8641,
          8478.1315,
          8465.537,
          8473.2705,
          8458.0361,
          8463.2397,
          8446.109,
          8448.7536,
          8430.4098,
          8430.3251,
          8411.2339,
          8408.4859,
          8389.0255,
          8383.6442,
          8345.7384,
          8319.4301,
          8280.2357,
          8252.5786,
          8211.7716,
          8183.3567,
          8142,
          8113,
          8070,
          8040,
          7998
         ]
        },
        {
         "line": {
          "width": 2
         },
         "marker": {
          "color": [
           8089,
           8146,
           8176,
           8220.0164,
           8244.0767,
           8282.9343,
           8299.8801,
           8333.7528,
           8344.779,
           8374.5651,
           8381.2858,
           8404.4307,
           8406.1203,
           8426.8924,
           8423.6745,
           8441.4111,
           8437.0139,
           8449.1896,
           8441.4807,
           8450.2911,
           8439.9379,
           8445.482,
           8432.8309,
           8435.9908,
           8421.1011,
           8422.2977,
           8406.4628,
           8405.0993,
           8389.0722,
           8384.7609,
           8351.3242,
           8326.0033,
           8292.445,
           8265.61,
           8229.474,
           8202.2562,
           8165.2517,
           8137,
           8098,
           8069,
           8031,
           8001
          ],
          "colorscale": [
           [
            0,
            "#440154"
           ],
           [
            0.1111111111111111,
            "#482878"
           ],
           [
            0.2222222222222222,
            "#3e4989"
           ],
           [
            0.3333333333333333,
            "#31688e"
           ],
           [
            0.4444444444444444,
            "#26828e"
           ],
           [
            0.5555555555555556,
            "#1f9e89"
           ],
           [
            0.6666666666666666,
            "#35b779"
           ],
           [
            0.7777777777777778,
            "#6ece58"
           ],
           [
            0.8888888888888888,
            "#b5de2b"
           ],
           [
            1,
            "#fde725"
           ]
          ],
          "opacity": 0.8,
          "size": 6
         },
         "mode": "lines+markers",
         "name": "I",
         "text": [
          "A: 106",
          "A: 107",
          "A: 108",
          "A: 109",
          "A: 110",
          "A: 111",
          "A: 112",
          "A: 113",
          "A: 114",
          "A: 115",
          "A: 116",
          "A: 117",
          "A: 118",
          "A: 119",
          "A: 120",
          "A: 121",
          "A: 122",
          "A: 123",
          "A: 124",
          "A: 125",
          "A: 126",
          "A: 127",
          "A: 128",
          "A: 129",
          "A: 130",
          "A: 131",
          "A: 132",
          "A: 133",
          "A: 134",
          "A: 135",
          "A: 136",
          "A: 137",
          "A: 138",
          "A: 139",
          "A: 140",
          "A: 141",
          "A: 142",
          "A: 143",
          "A: 144",
          "A: 145",
          "A: 146",
          "A: 147"
         ],
         "type": "scatter3d",
         "x": [
          106,
          107,
          108,
          109,
          110,
          111,
          112,
          113,
          114,
          115,
          116,
          117,
          118,
          119,
          120,
          121,
          122,
          123,
          124,
          125,
          126,
          127,
          128,
          129,
          130,
          131,
          132,
          133,
          134,
          135,
          136,
          137,
          138,
          139,
          140,
          141,
          142,
          143,
          144,
          145,
          146,
          147
         ],
         "y": [
          53,
          53,
          53,
          53,
          53,
          53,
          53,
          53,
          53,
          53,
          53,
          53,
          53,
          53,
          53,
          53,
          53,
          53,
          53,
          53,
          53,
          53,
          53,
          53,
          53,
          53,
          53,
          53,
          53,
          53,
          53,
          53,
          53,
          53,
          53,
          53,
          53,
          53,
          53,
          53,
          53,
          53
         ],
         "z": [
          8089,
          8146,
          8176,
          8220.0164,
          8244.0767,
          8282.9343,
          8299.8801,
          8333.7528,
          8344.779,
          8374.5651,
          8381.2858,
          8404.4307,
          8406.1203,
          8426.8924,
          8423.6745,
          8441.4111,
          8437.0139,
          8449.1896,
          8441.4807,
          8450.2911,
          8439.9379,
          8445.482,
          8432.8309,
          8435.9908,
          8421.1011,
          8422.2977,
          8406.4628,
          8405.0993,
          8389.0722,
          8384.7609,
          8351.3242,
          8326.0033,
          8292.445,
          8265.61,
          8229.474,
          8202.2562,
          8165.2517,
          8137,
          8098,
          8069,
          8031,
          8001
         ]
        },
        {
         "line": {
          "width": 2
         },
         "marker": {
          "color": [
           8074.8886,
           8107.3071,
           8159.2808,
           8182,
           8230.0646,
           8247.9277,
           8289.2054,
           8300.9704,
           8336.8365,
           8344.2976,
           8374.9819,
           8378.442,
           8404.0322,
           8403.8326,
           8424.6644,
           8420.9239,
           8437.6138,
           8430.939,
           8443.5375,
           8434.1066,
           8443.3008,
           8431.3904,
           8437.7314,
           8423.7367,
           8427.6229,
           8412.6477,
           8413.6994,
           8398.4783,
           8396.1889,
           8364.2865,
           8344.6913,
           8311.5904,
           8290.8875,
           8255.3647,
           8233.1695,
           8196.8855,
           8172.8845,
           8135.0877,
           8110.4154,
           8072,
           8047,
           8009,
           7983
          ],
          "colorscale": [
           [
            0,
            "#440154"
           ],
           [
            0.1111111111111111,
            "#482878"
           ],
           [
            0.2222222222222222,
            "#3e4989"
           ],
           [
            0.3333333333333333,
            "#31688e"
           ],
           [
            0.4444444444444444,
            "#26828e"
           ],
           [
            0.5555555555555556,
            "#1f9e89"
           ],
           [
            0.6666666666666666,
            "#35b779"
           ],
           [
            0.7777777777777778,
            "#6ece58"
           ],
           [
            0.8888888888888888,
            "#b5de2b"
           ],
           [
            1,
            "#fde725"
           ]
          ],
          "opacity": 0.8,
          "size": 6
         },
         "mode": "lines+markers",
         "name": "Xe",
         "text": [
          "A: 108",
          "A: 109",
          "A: 110",
          "A: 111",
          "A: 112",
          "A: 113",
          "A: 114",
          "A: 115",
          "A: 116",
          "A: 117",
          "A: 118",
          "A: 119",
          "A: 120",
          "A: 121",
          "A: 122",
          "A: 123",
          "A: 124",
          "A: 125",
          "A: 126",
          "A: 127",
          "A: 128",
          "A: 129",
          "A: 130",
          "A: 131",
          "A: 132",
          "A: 133",
          "A: 134",
          "A: 135",
          "A: 136",
          "A: 137",
          "A: 138",
          "A: 139",
          "A: 140",
          "A: 141",
          "A: 142",
          "A: 143",
          "A: 144",
          "A: 145",
          "A: 146",
          "A: 147",
          "A: 148",
          "A: 149",
          "A: 150"
         ],
         "type": "scatter3d",
         "x": [
          108,
          109,
          110,
          111,
          112,
          113,
          114,
          115,
          116,
          117,
          118,
          119,
          120,
          121,
          122,
          123,
          124,
          125,
          126,
          127,
          128,
          129,
          130,
          131,
          132,
          133,
          134,
          135,
          136,
          137,
          138,
          139,
          140,
          141,
          142,
          143,
          144,
          145,
          146,
          147,
          148,
          149,
          150
         ],
         "y": [
          54,
          54,
          54,
          54,
          54,
          54,
          54,
          54,
          54,
          54,
          54,
          54,
          54,
          54,
          54,
          54,
          54,
          54,
          54,
          54,
          54,
          54,
          54,
          54,
          54,
          54,
          54,
          54,
          54,
          54,
          54,
          54,
          54,
          54,
          54,
          54,
          54,
          54,
          54,
          54,
          54,
          54,
          54
         ],
         "z": [
          8074.8886,
          8107.3071,
          8159.2808,
          8182,
          8230.0646,
          8247.9277,
          8289.2054,
          8300.9704,
          8336.8365,
          8344.2976,
          8374.9819,
          8378.442,
          8404.0322,
          8403.8326,
          8424.6644,
          8420.9239,
          8437.6138,
          8430.939,
          8443.5375,
          8434.1066,
          8443.3008,
          8431.3904,
          8437.7314,
          8423.7367,
          8427.6229,
          8412.6477,
          8413.6994,
          8398.4783,
          8396.1889,
          8364.2865,
          8344.6913,
          8311.5904,
          8290.8875,
          8255.3647,
          8233.1695,
          8196.8855,
          8172.8845,
          8135.0877,
          8110.4154,
          8072,
          8047,
          8009,
          7983
         ]
        },
        {
         "line": {
          "width": 2
         },
         "marker": {
          "color": [
           8070,
           8102,
           8148.623,
           8173.5711,
           8216,
           8235,
           8271.8652,
           8286.4053,
           8317.3347,
           8328.4811,
           8352.9152,
           8359.1515,
           8380.3796,
           8383.5114,
           8399.8033,
           8399.2673,
           8411.5617,
           8406.4953,
           8416.0465,
           8408.7848,
           8415.0317,
           8405.5878,
           8409.9786,
           8398.647,
           8401.3393,
           8389.7723,
           8388.9581,
           8360.1437,
           8342.3397,
           8314.3227,
           8294.3554,
           8264.8777,
           8243.6707,
           8211.8894,
           8188.7342,
           8155.4365,
           8131.801,
           8097.5469,
           8073,
           8039,
           8013,
           7980
          ],
          "colorscale": [
           [
            0,
            "#440154"
           ],
           [
            0.1111111111111111,
            "#482878"
           ],
           [
            0.2222222222222222,
            "#3e4989"
           ],
           [
            0.3333333333333333,
            "#31688e"
           ],
           [
            0.4444444444444444,
            "#26828e"
           ],
           [
            0.5555555555555556,
            "#1f9e89"
           ],
           [
            0.6666666666666666,
            "#35b779"
           ],
           [
            0.7777777777777778,
            "#6ece58"
           ],
           [
            0.8888888888888888,
            "#b5de2b"
           ],
           [
            1,
            "#fde725"
           ]
          ],
          "opacity": 0.8,
          "size": 6
         },
         "mode": "lines+markers",
         "name": "Cs",
         "text": [
          "A: 111",
          "A: 112",
          "A: 113",
          "A: 114",
          "A: 115",
          "A: 116",
          "A: 117",
          "A: 118",
          "A: 119",
          "A: 120",
          "A: 121",
          "A: 122",
          "A: 123",
          "A: 124",
          "A: 125",
          "A: 126",
          "A: 127",
          "A: 128",
          "A: 129",
          "A: 130",
          "A: 131",
          "A: 132",
          "A: 133",
          "A: 134",
          "A: 135",
          "A: 136",
          "A: 137",
          "A: 138",
          "A: 139",
          "A: 140",
          "A: 141",
          "A: 142",
          "A: 143",
          "A: 144",
          "A: 145",
          "A: 146",
          "A: 147",
          "A: 148",
          "A: 149",
          "A: 150",
          "A: 151",
          "A: 152"
         ],
         "type": "scatter3d",
         "x": [
          111,
          112,
          113,
          114,
          115,
          116,
          117,
          118,
          119,
          120,
          121,
          122,
          123,
          124,
          125,
          126,
          127,
          128,
          129,
          130,
          131,
          132,
          133,
          134,
          135,
          136,
          137,
          138,
          139,
          140,
          141,
          142,
          143,
          144,
          145,
          146,
          147,
          148,
          149,
          150,
          151,
          152
         ],
         "y": [
          55,
          55,
          55,
          55,
          55,
          55,
          55,
          55,
          55,
          55,
          55,
          55,
          55,
          55,
          55,
          55,
          55,
          55,
          55,
          55,
          55,
          55,
          55,
          55,
          55,
          55,
          55,
          55,
          55,
          55,
          55,
          55,
          55,
          55,
          55,
          55,
          55,
          55,
          55,
          55,
          55,
          55
         ],
         "z": [
          8070,
          8102,
          8148.623,
          8173.5711,
          8216,
          8235,
          8271.8652,
          8286.4053,
          8317.3347,
          8328.4811,
          8352.9152,
          8359.1515,
          8380.3796,
          8383.5114,
          8399.8033,
          8399.2673,
          8411.5617,
          8406.4953,
          8416.0465,
          8408.7848,
          8415.0317,
          8405.5878,
          8409.9786,
          8398.647,
          8401.3393,
          8389.7723,
          8388.9581,
          8360.1437,
          8342.3397,
          8314.3227,
          8294.3554,
          8264.8777,
          8243.6707,
          8211.8894,
          8188.7342,
          8155.4365,
          8131.801,
          8097.5469,
          8073,
          8039,
          8013,
          7980
         ]
        },
        {
         "line": {
          "width": 2
         },
         "marker": {
          "color": [
           8035,
           8089.6865,
           8116,
           8162,
           8187.9546,
           8227,
           8245.9287,
           8280.2949,
           8293.9083,
           8323.7567,
           8330.2086,
           8355.8209,
           8358.1784,
           8379.7187,
           8378.456,
           8395.9878,
           8391.0811,
           8405.513,
           8398.5511,
           8409.3747,
           8400.2059,
           8408.1731,
           8397.5345,
           8402.7566,
           8391.8288,
           8393.4222,
           8367.0194,
           8353.15,
           8326.0774,
           8310.9718,
           8281.9878,
           8265.4549,
           8234.7991,
           8215.5293,
           8183.2405,
           8164.1118,
           8131.8495,
           8111.8405,
           8079,
           8057,
           8023,
           8001
          ],
          "colorscale": [
           [
            0,
            "#440154"
           ],
           [
            0.1111111111111111,
            "#482878"
           ],
           [
            0.2222222222222222,
            "#3e4989"
           ],
           [
            0.3333333333333333,
            "#31688e"
           ],
           [
            0.4444444444444444,
            "#26828e"
           ],
           [
            0.5555555555555556,
            "#1f9e89"
           ],
           [
            0.6666666666666666,
            "#35b779"
           ],
           [
            0.7777777777777778,
            "#6ece58"
           ],
           [
            0.8888888888888888,
            "#b5de2b"
           ],
           [
            1,
            "#fde725"
           ]
          ],
          "opacity": 0.8,
          "size": 6
         },
         "mode": "lines+markers",
         "name": "Ba",
         "text": [
          "A: 113",
          "A: 114",
          "A: 115",
          "A: 116",
          "A: 117",
          "A: 118",
          "A: 119",
          "A: 120",
          "A: 121",
          "A: 122",
          "A: 123",
          "A: 124",
          "A: 125",
          "A: 126",
          "A: 127",
          "A: 128",
          "A: 129",
          "A: 130",
          "A: 131",
          "A: 132",
          "A: 133",
          "A: 134",
          "A: 135",
          "A: 136",
          "A: 137",
          "A: 138",
          "A: 139",
          "A: 140",
          "A: 141",
          "A: 142",
          "A: 143",
          "A: 144",
          "A: 145",
          "A: 146",
          "A: 147",
          "A: 148",
          "A: 149",
          "A: 150",
          "A: 151",
          "A: 152",
          "A: 153",
          "A: 154"
         ],
         "type": "scatter3d",
         "x": [
          113,
          114,
          115,
          116,
          117,
          118,
          119,
          120,
          121,
          122,
          123,
          124,
          125,
          126,
          127,
          128,
          129,
          130,
          131,
          132,
          133,
          134,
          135,
          136,
          137,
          138,
          139,
          140,
          141,
          142,
          143,
          144,
          145,
          146,
          147,
          148,
          149,
          150,
          151,
          152,
          153,
          154
         ],
         "y": [
          56,
          56,
          56,
          56,
          56,
          56,
          56,
          56,
          56,
          56,
          56,
          56,
          56,
          56,
          56,
          56,
          56,
          56,
          56,
          56,
          56,
          56,
          56,
          56,
          56,
          56,
          56,
          56,
          56,
          56,
          56,
          56,
          56,
          56,
          56,
          56,
          56,
          56,
          56,
          56,
          56,
          56
         ],
         "z": [
          8035,
          8089.6865,
          8116,
          8162,
          8187.9546,
          8227,
          8245.9287,
          8280.2949,
          8293.9083,
          8323.7567,
          8330.2086,
          8355.8209,
          8358.1784,
          8379.7187,
          8378.456,
          8395.9878,
          8391.0811,
          8405.513,
          8398.5511,
          8409.3747,
          8400.2059,
          8408.1731,
          8397.5345,
          8402.7566,
          8391.8288,
          8393.4222,
          8367.0194,
          8353.15,
          8326.0774,
          8310.9718,
          8281.9878,
          8265.4549,
          8234.7991,
          8215.5293,
          8183.2405,
          8164.1118,
          8131.8495,
          8111.8405,
          8079,
          8057,
          8023,
          8001
         ]
        },
        {
         "line": {
          "width": 2
         },
         "marker": {
          "color": [
           8032,
           8086,
           8114,
           8159,
           8179,
           8217,
           8235,
           8267,
           8278.2926,
           8304.6438,
           8312.4268,
           8333.5412,
           8337.1904,
           8356.0449,
           8356.1919,
           8370.3676,
           8367.7559,
           8378.8415,
           8374.4888,
           8382.7972,
           8376.0512,
           8381.8807,
           8375.0835,
           8377.9987,
           8355.0201,
           8343.205,
           8320.8263,
           8306.1271,
           8281.4283,
           8266.0873,
           8239.9988,
           8221.5536,
           8193.7165,
           8176.1915,
           8149.4339,
           8129.0436,
           8102,
           8081,
           8051,
           8028,
           7997,
           7972
          ],
          "colorscale": [
           [
            0,
            "#440154"
           ],
           [
            0.1111111111111111,
            "#482878"
           ],
           [
            0.2222222222222222,
            "#3e4989"
           ],
           [
            0.3333333333333333,
            "#31688e"
           ],
           [
            0.4444444444444444,
            "#26828e"
           ],
           [
            0.5555555555555556,
            "#1f9e89"
           ],
           [
            0.6666666666666666,
            "#35b779"
           ],
           [
            0.7777777777777778,
            "#6ece58"
           ],
           [
            0.8888888888888888,
            "#b5de2b"
           ],
           [
            1,
            "#fde725"
           ]
          ],
          "opacity": 0.8,
          "size": 6
         },
         "mode": "lines+markers",
         "name": "La",
         "text": [
          "A: 116",
          "A: 117",
          "A: 118",
          "A: 119",
          "A: 120",
          "A: 121",
          "A: 122",
          "A: 123",
          "A: 124",
          "A: 125",
          "A: 126",
          "A: 127",
          "A: 128",
          "A: 129",
          "A: 130",
          "A: 131",
          "A: 132",
          "A: 133",
          "A: 134",
          "A: 135",
          "A: 136",
          "A: 137",
          "A: 138",
          "A: 139",
          "A: 140",
          "A: 141",
          "A: 142",
          "A: 143",
          "A: 144",
          "A: 145",
          "A: 146",
          "A: 147",
          "A: 148",
          "A: 149",
          "A: 150",
          "A: 151",
          "A: 152",
          "A: 153",
          "A: 154",
          "A: 155",
          "A: 156",
          "A: 157"
         ],
         "type": "scatter3d",
         "x": [
          116,
          117,
          118,
          119,
          120,
          121,
          122,
          123,
          124,
          125,
          126,
          127,
          128,
          129,
          130,
          131,
          132,
          133,
          134,
          135,
          136,
          137,
          138,
          139,
          140,
          141,
          142,
          143,
          144,
          145,
          146,
          147,
          148,
          149,
          150,
          151,
          152,
          153,
          154,
          155,
          156,
          157
         ],
         "y": [
          57,
          57,
          57,
          57,
          57,
          57,
          57,
          57,
          57,
          57,
          57,
          57,
          57,
          57,
          57,
          57,
          57,
          57,
          57,
          57,
          57,
          57,
          57,
          57,
          57,
          57,
          57,
          57,
          57,
          57,
          57,
          57,
          57,
          57,
          57,
          57,
          57,
          57,
          57,
          57,
          57,
          57
         ],
         "z": [
          8032,
          8086,
          8114,
          8159,
          8179,
          8217,
          8235,
          8267,
          8278.2926,
          8304.6438,
          8312.4268,
          8333.5412,
          8337.1904,
          8356.0449,
          8356.1919,
          8370.3676,
          8367.7559,
          8378.8415,
          8374.4888,
          8382.7972,
          8376.0512,
          8381.8807,
          8375.0835,
          8377.9987,
          8355.0201,
          8343.205,
          8320.8263,
          8306.1271,
          8281.4283,
          8266.0873,
          8239.9988,
          8221.5536,
          8193.7165,
          8176.1915,
          8149.4339,
          8129.0436,
          8102,
          8081,
          8051,
          8028,
          7997,
          7972
         ]
        },
        {
         "line": {
          "width": 2
         },
         "marker": {
          "color": [
           8058,
           8108,
           8132,
           8174,
           8193,
           8229,
           8242,
           8273.2581,
           8280.7922,
           8306.9259,
           8310.9411,
           8333.2164,
           8333.3969,
           8352.3223,
           8349.8301,
           8365.7716,
           8361.9861,
           8373.7624,
           8367.2497,
           8377.0408,
           8370.4664,
           8376.3045,
           8355.3956,
           8347.07,
           8324.6765,
           8314.7612,
           8289.8762,
           8278.5081,
           8252.5274,
           8240.3876,
           8214.2294,
           8201.123,
           8176.2779,
           8161,
           8134,
           8116,
           8087,
           8068,
           8037,
           8015,
           7983
          ],
          "colorscale": [
           [
            0,
            "#440154"
           ],
           [
            0.1111111111111111,
            "#482878"
           ],
           [
            0.2222222222222222,
            "#3e4989"
           ],
           [
            0.3333333333333333,
            "#31688e"
           ],
           [
            0.4444444444444444,
            "#26828e"
           ],
           [
            0.5555555555555556,
            "#1f9e89"
           ],
           [
            0.6666666666666666,
            "#35b779"
           ],
           [
            0.7777777777777778,
            "#6ece58"
           ],
           [
            0.8888888888888888,
            "#b5de2b"
           ],
           [
            1,
            "#fde725"
           ]
          ],
          "opacity": 0.8,
          "size": 6
         },
         "mode": "lines+markers",
         "name": "Ce",
         "text": [
          "A: 119",
          "A: 120",
          "A: 121",
          "A: 122",
          "A: 123",
          "A: 124",
          "A: 125",
          "A: 126",
          "A: 127",
          "A: 128",
          "A: 129",
          "A: 130",
          "A: 131",
          "A: 132",
          "A: 133",
          "A: 134",
          "A: 135",
          "A: 136",
          "A: 137",
          "A: 138",
          "A: 139",
          "A: 140",
          "A: 141",
          "A: 142",
          "A: 143",
          "A: 144",
          "A: 145",
          "A: 146",
          "A: 147",
          "A: 148",
          "A: 149",
          "A: 150",
          "A: 151",
          "A: 152",
          "A: 153",
          "A: 154",
          "A: 155",
          "A: 156",
          "A: 157",
          "A: 158",
          "A: 159"
         ],
         "type": "scatter3d",
         "x": [
          119,
          120,
          121,
          122,
          123,
          124,
          125,
          126,
          127,
          128,
          129,
          130,
          131,
          132,
          133,
          134,
          135,
          136,
          137,
          138,
          139,
          140,
          141,
          142,
          143,
          144,
          145,
          146,
          147,
          148,
          149,
          150,
          151,
          152,
          153,
          154,
          155,
          156,
          157,
          158,
          159
         ],
         "y": [
          58,
          58,
          58,
          58,
          58,
          58,
          58,
          58,
          58,
          58,
          58,
          58,
          58,
          58,
          58,
          58,
          58,
          58,
          58,
          58,
          58,
          58,
          58,
          58,
          58,
          58,
          58,
          58,
          58,
          58,
          58,
          58,
          58,
          58,
          58,
          58,
          58,
          58,
          58,
          58,
          58
         ],
         "z": [
          8058,
          8108,
          8132,
          8174,
          8193,
          8229,
          8242,
          8273.2581,
          8280.7922,
          8306.9259,
          8310.9411,
          8333.2164,
          8333.3969,
          8352.3223,
          8349.8301,
          8365.7716,
          8361.9861,
          8373.7624,
          8367.2497,
          8377.0408,
          8370.4664,
          8376.3045,
          8355.3956,
          8347.07,
          8324.6765,
          8314.7612,
          8289.8762,
          8278.5081,
          8252.5274,
          8240.3876,
          8214.2294,
          8201.123,
          8176.2779,
          8161,
          8134,
          8116,
          8087,
          8068,
          8037,
          8015,
          7983
         ]
        },
        {
         "line": {
          "width": 2
         },
         "marker": {
          "color": [
           8033,
           8060,
           8104,
           8128,
           8167,
           8184,
           8216,
           8228.9141,
           8254.3808,
           8263.7565,
           8286.1439,
           8291.5377,
           8310.2588,
           8312.8817,
           8328.9284,
           8330.0089,
           8341.7074,
           8339.2195,
           8349.5208,
           8346.5163,
           8353.9852,
           8336.3032,
           8329.428,
           8311.5411,
           8302.1285,
           8280.325,
           8270.54,
           8249.5409,
           8238.304,
           8218.9316,
           8207.8824,
           8187.1049,
           8172.0371,
           8147.2994,
           8131.0398,
           8105.2337,
           8085.817,
           8059,
           8037,
           8009,
           7986
          ],
          "colorscale": [
           [
            0,
            "#440154"
           ],
           [
            0.1111111111111111,
            "#482878"
           ],
           [
            0.2222222222222222,
            "#3e4989"
           ],
           [
            0.3333333333333333,
            "#31688e"
           ],
           [
            0.4444444444444444,
            "#26828e"
           ],
           [
            0.5555555555555556,
            "#1f9e89"
           ],
           [
            0.6666666666666666,
            "#35b779"
           ],
           [
            0.7777777777777778,
            "#6ece58"
           ],
           [
            0.8888888888888888,
            "#b5de2b"
           ],
           [
            1,
            "#fde725"
           ]
          ],
          "opacity": 0.8,
          "size": 6
         },
         "mode": "lines+markers",
         "name": "Pr",
         "text": [
          "A: 121",
          "A: 122",
          "A: 123",
          "A: 124",
          "A: 125",
          "A: 126",
          "A: 127",
          "A: 128",
          "A: 129",
          "A: 130",
          "A: 131",
          "A: 132",
          "A: 133",
          "A: 134",
          "A: 135",
          "A: 136",
          "A: 137",
          "A: 138",
          "A: 139",
          "A: 140",
          "A: 141",
          "A: 142",
          "A: 143",
          "A: 144",
          "A: 145",
          "A: 146",
          "A: 147",
          "A: 148",
          "A: 149",
          "A: 150",
          "A: 151",
          "A: 152",
          "A: 153",
          "A: 154",
          "A: 155",
          "A: 156",
          "A: 157",
          "A: 158",
          "A: 159",
          "A: 160",
          "A: 161"
         ],
         "type": "scatter3d",
         "x": [
          121,
          122,
          123,
          124,
          125,
          126,
          127,
          128,
          129,
          130,
          131,
          132,
          133,
          134,
          135,
          136,
          137,
          138,
          139,
          140,
          141,
          142,
          143,
          144,
          145,
          146,
          147,
          148,
          149,
          150,
          151,
          152,
          153,
          154,
          155,
          156,
          157,
          158,
          159,
          160,
          161
         ],
         "y": [
          59,
          59,
          59,
          59,
          59,
          59,
          59,
          59,
          59,
          59,
          59,
          59,
          59,
          59,
          59,
          59,
          59,
          59,
          59,
          59,
          59,
          59,
          59,
          59,
          59,
          59,
          59,
          59,
          59,
          59,
          59,
          59,
          59,
          59,
          59,
          59,
          59,
          59,
          59,
          59,
          59
         ],
         "z": [
          8033,
          8060,
          8104,
          8128,
          8167,
          8184,
          8216,
          8228.9141,
          8254.3808,
          8263.7565,
          8286.1439,
          8291.5377,
          8310.2588,
          8312.8817,
          8328.9284,
          8330.0089,
          8341.7074,
          8339.2195,
          8349.5208,
          8346.5163,
          8353.9852,
          8336.3032,
          8329.428,
          8311.5411,
          8302.1285,
          8280.325,
          8270.54,
          8249.5409,
          8238.304,
          8218.9316,
          8207.8824,
          8187.1049,
          8172.0371,
          8147.2994,
          8131.0398,
          8105.2337,
          8085.817,
          8059,
          8037,
          8009,
          7986
         ]
        },
        {
         "line": {
          "width": 2
         },
         "marker": {
          "color": [
           8054,
           8080,
           8122,
           8142,
           8177,
           8191,
           8222.5136,
           8230.3045,
           8256.8104,
           8262.232,
           8285.5391,
           8288.1536,
           8308.5127,
           8309.5892,
           8325.4946,
           8323.6642,
           8337.864,
           8335.5074,
           8346.031,
           8330.4893,
           8326.9237,
           8309.1883,
           8304.0927,
           8283.6036,
           8277.1778,
           8255.4437,
           8249.5789,
           8230.2741,
           8224.0078,
           8204.5832,
           8192.3491,
           8170.305,
           8156.3265,
           8132.1671,
           8114.9529,
           8088.8224,
           8069.9662,
           8042,
           8022,
           7992
          ],
          "colorscale": [
           [
            0,
            "#440154"
           ],
           [
            0.1111111111111111,
            "#482878"
           ],
           [
            0.2222222222222222,
            "#3e4989"
           ],
           [
            0.3333333333333333,
            "#31688e"
           ],
           [
            0.4444444444444444,
            "#26828e"
           ],
           [
            0.5555555555555556,
            "#1f9e89"
           ],
           [
            0.6666666666666666,
            "#35b779"
           ],
           [
            0.7777777777777778,
            "#6ece58"
           ],
           [
            0.8888888888888888,
            "#b5de2b"
           ],
           [
            1,
            "#fde725"
           ]
          ],
          "opacity": 0.8,
          "size": 6
         },
         "mode": "lines+markers",
         "name": "Nd",
         "text": [
          "A: 124",
          "A: 125",
          "A: 126",
          "A: 127",
          "A: 128",
          "A: 129",
          "A: 130",
          "A: 131",
          "A: 132",
          "A: 133",
          "A: 134",
          "A: 135",
          "A: 136",
          "A: 137",
          "A: 138",
          "A: 139",
          "A: 140",
          "A: 141",
          "A: 142",
          "A: 143",
          "A: 144",
          "A: 145",
          "A: 146",
          "A: 147",
          "A: 148",
          "A: 149",
          "A: 150",
          "A: 151",
          "A: 152",
          "A: 153",
          "A: 154",
          "A: 155",
          "A: 156",
          "A: 157",
          "A: 158",
          "A: 159",
          "A: 160",
          "A: 161",
          "A: 162",
          "A: 163"
         ],
         "type": "scatter3d",
         "x": [
          124,
          125,
          126,
          127,
          128,
          129,
          130,
          131,
          132,
          133,
          134,
          135,
          136,
          137,
          138,
          139,
          140,
          141,
          142,
          143,
          144,
          145,
          146,
          147,
          148,
          149,
          150,
          151,
          152,
          153,
          154,
          155,
          156,
          157,
          158,
          159,
          160,
          161,
          162,
          163
         ],
         "y": [
          60,
          60,
          60,
          60,
          60,
          60,
          60,
          60,
          60,
          60,
          60,
          60,
          60,
          60,
          60,
          60,
          60,
          60,
          60,
          60,
          60,
          60,
          60,
          60,
          60,
          60,
          60,
          60,
          60,
          60,
          60,
          60,
          60,
          60,
          60,
          60,
          60,
          60,
          60,
          60
         ],
         "z": [
          8054,
          8080,
          8122,
          8142,
          8177,
          8191,
          8222.5136,
          8230.3045,
          8256.8104,
          8262.232,
          8285.5391,
          8288.1536,
          8308.5127,
          8309.5892,
          8325.4946,
          8323.6642,
          8337.864,
          8335.5074,
          8346.031,
          8330.4893,
          8326.9237,
          8309.1883,
          8304.0927,
          8283.6036,
          8277.1778,
          8255.4437,
          8249.5789,
          8230.2741,
          8224.0078,
          8204.5832,
          8192.3491,
          8170.305,
          8156.3265,
          8132.1671,
          8114.9529,
          8088.8224,
          8069.9662,
          8042,
          8022,
          7992
         ]
        },
        {
         "line": {
          "width": 2
         },
         "marker": {
          "color": [
           8008,
           8052,
           8075,
           8114,
           8131,
           8163,
           8177,
           8204.2841,
           8213.4131,
           8236.7933,
           8243.7207,
           8263.6516,
           8268.3558,
           8285.5473,
           8289.0958,
           8303.9405,
           8306.6587,
           8317.7341,
           8305.2969,
           8302.6583,
           8288.655,
           8284.3712,
           8268.2283,
           8261.5277,
           8243.8125,
           8241.2723,
           8226.1293,
           8221.1536,
           8204.717,
           8195.2977,
           8176.7263,
           8164.1458,
           8143.3622,
           8126.8601,
           8103.6398,
           8085.9977,
           8061,
           8042,
           8014,
           7992
          ],
          "colorscale": [
           [
            0,
            "#440154"
           ],
           [
            0.1111111111111111,
            "#482878"
           ],
           [
            0.2222222222222222,
            "#3e4989"
           ],
           [
            0.3333333333333333,
            "#31688e"
           ],
           [
            0.4444444444444444,
            "#26828e"
           ],
           [
            0.5555555555555556,
            "#1f9e89"
           ],
           [
            0.6666666666666666,
            "#35b779"
           ],
           [
            0.7777777777777778,
            "#6ece58"
           ],
           [
            0.8888888888888888,
            "#b5de2b"
           ],
           [
            1,
            "#fde725"
           ]
          ],
          "opacity": 0.8,
          "size": 6
         },
         "mode": "lines+markers",
         "name": "Pm",
         "text": [
          "A: 126",
          "A: 127",
          "A: 128",
          "A: 129",
          "A: 130",
          "A: 131",
          "A: 132",
          "A: 133",
          "A: 134",
          "A: 135",
          "A: 136",
          "A: 137",
          "A: 138",
          "A: 139",
          "A: 140",
          "A: 141",
          "A: 142",
          "A: 143",
          "A: 144",
          "A: 145",
          "A: 146",
          "A: 147",
          "A: 148",
          "A: 149",
          "A: 150",
          "A: 151",
          "A: 152",
          "A: 153",
          "A: 154",
          "A: 155",
          "A: 156",
          "A: 157",
          "A: 158",
          "A: 159",
          "A: 160",
          "A: 161",
          "A: 162",
          "A: 163",
          "A: 164",
          "A: 165"
         ],
         "type": "scatter3d",
         "x": [
          126,
          127,
          128,
          129,
          130,
          131,
          132,
          133,
          134,
          135,
          136,
          137,
          138,
          139,
          140,
          141,
          142,
          143,
          144,
          145,
          146,
          147,
          148,
          149,
          150,
          151,
          152,
          153,
          154,
          155,
          156,
          157,
          158,
          159,
          160,
          161,
          162,
          163,
          164,
          165
         ],
         "y": [
          61,
          61,
          61,
          61,
          61,
          61,
          61,
          61,
          61,
          61,
          61,
          61,
          61,
          61,
          61,
          61,
          61,
          61,
          61,
          61,
          61,
          61,
          61,
          61,
          61,
          61,
          61,
          61,
          61,
          61,
          61,
          61,
          61,
          61,
          61,
          61,
          61,
          61,
          61,
          61
         ],
         "z": [
          8008,
          8052,
          8075,
          8114,
          8131,
          8163,
          8177,
          8204.2841,
          8213.4131,
          8236.7933,
          8243.7207,
          8263.6516,
          8268.3558,
          8285.5473,
          8289.0958,
          8303.9405,
          8306.6587,
          8317.7341,
          8305.2969,
          8302.6583,
          8288.655,
          8284.3712,
          8268.2283,
          8261.5277,
          8243.8125,
          8241.2723,
          8226.1293,
          8221.1536,
          8204.717,
          8195.2977,
          8176.7263,
          8164.1458,
          8143.3622,
          8126.8601,
          8103.6398,
          8085.9977,
          8061,
          8042,
          8014,
          7992
         ]
        },
        {
         "line": {
          "width": 2
         },
         "marker": {
          "color": [
           7998,
           8023,
           8065,
           8085,
           8122,
           8137,
           8167,
           8177.627,
           8205.9165,
           8213.5527,
           8237.9286,
           8243.0786,
           8263.8211,
           8265.846,
           8285.9407,
           8288.1825,
           8303.68,
           8293.0139,
           8293.8581,
           8280.5734,
           8279.6326,
           8263.4683,
           8261.6235,
           8243.9735,
           8244.0645,
           8228.5373,
           8226.8379,
           8211.2258,
           8205.0054,
           8187.0642,
           8177.3075,
           8157.4963,
           8144.6159,
           8122.0418,
           8107.5745,
           8084.1653,
           8067.7803,
           8041,
           8023,
           7992,
           7971
          ],
          "colorscale": [
           [
            0,
            "#440154"
           ],
           [
            0.1111111111111111,
            "#482878"
           ],
           [
            0.2222222222222222,
            "#3e4989"
           ],
           [
            0.3333333333333333,
            "#31688e"
           ],
           [
            0.4444444444444444,
            "#26828e"
           ],
           [
            0.5555555555555556,
            "#1f9e89"
           ],
           [
            0.6666666666666666,
            "#35b779"
           ],
           [
            0.7777777777777778,
            "#6ece58"
           ],
           [
            0.8888888888888888,
            "#b5de2b"
           ],
           [
            1,
            "#fde725"
           ]
          ],
          "opacity": 0.8,
          "size": 6
         },
         "mode": "lines+markers",
         "name": "Sm",
         "text": [
          "A: 128",
          "A: 129",
          "A: 130",
          "A: 131",
          "A: 132",
          "A: 133",
          "A: 134",
          "A: 135",
          "A: 136",
          "A: 137",
          "A: 138",
          "A: 139",
          "A: 140",
          "A: 141",
          "A: 142",
          "A: 143",
          "A: 144",
          "A: 145",
          "A: 146",
          "A: 147",
          "A: 148",
          "A: 149",
          "A: 150",
          "A: 151",
          "A: 152",
          "A: 153",
          "A: 154",
          "A: 155",
          "A: 156",
          "A: 157",
          "A: 158",
          "A: 159",
          "A: 160",
          "A: 161",
          "A: 162",
          "A: 163",
          "A: 164",
          "A: 165",
          "A: 166",
          "A: 167",
          "A: 168"
         ],
         "type": "scatter3d",
         "x": [
          128,
          129,
          130,
          131,
          132,
          133,
          134,
          135,
          136,
          137,
          138,
          139,
          140,
          141,
          142,
          143,
          144,
          145,
          146,
          147,
          148,
          149,
          150,
          151,
          152,
          153,
          154,
          155,
          156,
          157,
          158,
          159,
          160,
          161,
          162,
          163,
          164,
          165,
          166,
          167,
          168
         ],
         "y": [
          62,
          62,
          62,
          62,
          62,
          62,
          62,
          62,
          62,
          62,
          62,
          62,
          62,
          62,
          62,
          62,
          62,
          62,
          62,
          62,
          62,
          62,
          62,
          62,
          62,
          62,
          62,
          62,
          62,
          62,
          62,
          62,
          62,
          62,
          62,
          62,
          62,
          62,
          62,
          62,
          62
         ],
         "z": [
          7998,
          8023,
          8065,
          8085,
          8122,
          8137,
          8167,
          8177.627,
          8205.9165,
          8213.5527,
          8237.9286,
          8243.0786,
          8263.8211,
          8265.846,
          8285.9407,
          8288.1825,
          8303.68,
          8293.0139,
          8293.8581,
          8280.5734,
          8279.6326,
          8263.4683,
          8261.6235,
          8243.9735,
          8244.0645,
          8228.5373,
          8226.8379,
          8211.2258,
          8205.0054,
          8187.0642,
          8177.3075,
          8157.4963,
          8144.6159,
          8122.0418,
          8107.5745,
          8084.1653,
          8067.7803,
          8041,
          8023,
          7992,
          7971
         ]
        },
        {
         "line": {
          "width": 2
         },
         "marker": {
          "color": [
           7950,
           7996,
           8018,
           8056,
           8075,
           8107,
           8122,
           8150.5738,
           8161.6211,
           8187.2187,
           8197.733,
           8217.6853,
           8226.396,
           8245.8177,
           8254.1744,
           8269.2744,
           8261.9327,
           8263.5409,
           8253.8155,
           8253.556,
           8241.3481,
           8239.2998,
           8226.5854,
           8228.7011,
           8217.1006,
           8216.676,
           8204.6192,
           8199.7975,
           8185.132,
           8176.6987,
           8160.103,
           8148.981,
           8129.5593,
           8116.0172,
           8095.3686,
           8080.0529,
           8056,
           8038,
           8012,
           7991,
           7963
          ],
          "colorscale": [
           [
            0,
            "#440154"
           ],
           [
            0.1111111111111111,
            "#482878"
           ],
           [
            0.2222222222222222,
            "#3e4989"
           ],
           [
            0.3333333333333333,
            "#31688e"
           ],
           [
            0.4444444444444444,
            "#26828e"
           ],
           [
            0.5555555555555556,
            "#1f9e89"
           ],
           [
            0.6666666666666666,
            "#35b779"
           ],
           [
            0.7777777777777778,
            "#6ece58"
           ],
           [
            0.8888888888888888,
            "#b5de2b"
           ],
           [
            1,
            "#fde725"
           ]
          ],
          "opacity": 0.8,
          "size": 6
         },
         "mode": "lines+markers",
         "name": "Eu",
         "text": [
          "A: 130",
          "A: 131",
          "A: 132",
          "A: 133",
          "A: 134",
          "A: 135",
          "A: 136",
          "A: 137",
          "A: 138",
          "A: 139",
          "A: 140",
          "A: 141",
          "A: 142",
          "A: 143",
          "A: 144",
          "A: 145",
          "A: 146",
          "A: 147",
          "A: 148",
          "A: 149",
          "A: 150",
          "A: 151",
          "A: 152",
          "A: 153",
          "A: 154",
          "A: 155",
          "A: 156",
          "A: 157",
          "A: 158",
          "A: 159",
          "A: 160",
          "A: 161",
          "A: 162",
          "A: 163",
          "A: 164",
          "A: 165",
          "A: 166",
          "A: 167",
          "A: 168",
          "A: 169",
          "A: 170"
         ],
         "type": "scatter3d",
         "x": [
          130,
          131,
          132,
          133,
          134,
          135,
          136,
          137,
          138,
          139,
          140,
          141,
          142,
          143,
          144,
          145,
          146,
          147,
          148,
          149,
          150,
          151,
          152,
          153,
          154,
          155,
          156,
          157,
          158,
          159,
          160,
          161,
          162,
          163,
          164,
          165,
          166,
          167,
          168,
          169,
          170
         ],
         "y": [
          63,
          63,
          63,
          63,
          63,
          63,
          63,
          63,
          63,
          63,
          63,
          63,
          63,
          63,
          63,
          63,
          63,
          63,
          63,
          63,
          63,
          63,
          63,
          63,
          63,
          63,
          63,
          63,
          63,
          63,
          63,
          63,
          63,
          63,
          63,
          63,
          63,
          63,
          63,
          63,
          63
         ],
         "z": [
          7950,
          7996,
          8018,
          8056,
          8075,
          8107,
          8122,
          8150.5738,
          8161.6211,
          8187.2187,
          8197.733,
          8217.6853,
          8226.396,
          8245.8177,
          8254.1744,
          8269.2744,
          8261.9327,
          8263.5409,
          8253.8155,
          8253.556,
          8241.3481,
          8239.2998,
          8226.5854,
          8228.7011,
          8217.1006,
          8216.676,
          8204.6192,
          8199.7975,
          8185.132,
          8176.6987,
          8160.103,
          8148.981,
          8129.5593,
          8116.0172,
          8095.3686,
          8080.0529,
          8056,
          8038,
          8012,
          7991,
          7963
         ]
        },
        {
         "line": {
          "width": 2
         },
         "marker": {
          "color": [
           7966,
           8008,
           8028,
           8064,
           8080,
           8112,
           8126,
           8154.9757,
           8164.609,
           8190.2569,
           8198.3188,
           8221.9382,
           8228.9485,
           8249.5072,
           8243.3366,
           8248.3398,
           8239.4856,
           8242.6103,
           8231.0446,
           8233.4042,
           8220.4209,
           8224.7996,
           8213.2541,
           8215.3253,
           8203.5072,
           8201.8229,
           8187.6177,
           8183.0171,
           8167.1934,
           8159.0373,
           8140.756,
           8129.9978,
           8110.4428,
           8097.226,
           8075.5428,
           8060,
           8035,
           8017,
           7990,
           7972
          ],
          "colorscale": [
           [
            0,
            "#440154"
           ],
           [
            0.1111111111111111,
            "#482878"
           ],
           [
            0.2222222222222222,
            "#3e4989"
           ],
           [
            0.3333333333333333,
            "#31688e"
           ],
           [
            0.4444444444444444,
            "#26828e"
           ],
           [
            0.5555555555555556,
            "#1f9e89"
           ],
           [
            0.6666666666666666,
            "#35b779"
           ],
           [
            0.7777777777777778,
            "#6ece58"
           ],
           [
            0.8888888888888888,
            "#b5de2b"
           ],
           [
            1,
            "#fde725"
           ]
          ],
          "opacity": 0.8,
          "size": 6
         },
         "mode": "lines+markers",
         "name": "Gd",
         "text": [
          "A: 133",
          "A: 134",
          "A: 135",
          "A: 136",
          "A: 137",
          "A: 138",
          "A: 139",
          "A: 140",
          "A: 141",
          "A: 142",
          "A: 143",
          "A: 144",
          "A: 145",
          "A: 146",
          "A: 147",
          "A: 148",
          "A: 149",
          "A: 150",
          "A: 151",
          "A: 152",
          "A: 153",
          "A: 154",
          "A: 155",
          "A: 156",
          "A: 157",
          "A: 158",
          "A: 159",
          "A: 160",
          "A: 161",
          "A: 162",
          "A: 163",
          "A: 164",
          "A: 165",
          "A: 166",
          "A: 167",
          "A: 168",
          "A: 169",
          "A: 170",
          "A: 171",
          "A: 172"
         ],
         "type": "scatter3d",
         "x": [
          133,
          134,
          135,
          136,
          137,
          138,
          139,
          140,
          141,
          142,
          143,
          144,
          145,
          146,
          147,
          148,
          149,
          150,
          151,
          152,
          153,
          154,
          155,
          156,
          157,
          158,
          159,
          160,
          161,
          162,
          163,
          164,
          165,
          166,
          167,
          168,
          169,
          170,
          171,
          172
         ],
         "y": [
          64,
          64,
          64,
          64,
          64,
          64,
          64,
          64,
          64,
          64,
          64,
          64,
          64,
          64,
          64,
          64,
          64,
          64,
          64,
          64,
          64,
          64,
          64,
          64,
          64,
          64,
          64,
          64,
          64,
          64,
          64,
          64,
          64,
          64,
          64,
          64,
          64,
          64,
          64,
          64
         ],
         "z": [
          7966,
          8008,
          8028,
          8064,
          8080,
          8112,
          8126,
          8154.9757,
          8164.609,
          8190.2569,
          8198.3188,
          8221.9382,
          8228.9485,
          8249.5072,
          8243.3366,
          8248.3398,
          8239.4856,
          8242.6103,
          8231.0446,
          8233.4042,
          8220.4209,
          8224.7996,
          8213.2541,
          8215.3253,
          8203.5072,
          8201.8229,
          8187.6177,
          8183.0171,
          8167.1934,
          8159.0373,
          8140.756,
          8129.9978,
          8110.4428,
          8097.226,
          8075.5428,
          8060,
          8035,
          8017,
          7990,
          7972
         ]
        },
        {
         "line": {
          "width": 2
         },
         "marker": {
          "color": [
           7939,
           7961,
           7999,
           8019,
           8052,
           8068.6732,
           8097.4761,
           8111.508,
           8138.2176,
           8151.2877,
           8178.5397,
           8187.1474,
           8206.625,
           8204.3207,
           8209.8153,
           8206.3396,
           8208.8743,
           8202.0072,
           8205.0504,
           8196.6697,
           8202.9173,
           8194.6415,
           8198.1416,
           8189.1556,
           8188.8025,
           8177.4676,
           8174.4809,
           8164.0773,
           8155.6322,
           8139.9304,
           8130.3259,
           8113.223,
           8101.441,
           8082.798,
           8069,
           8047,
           8030,
           8006,
           7988,
           7963
          ],
          "colorscale": [
           [
            0,
            "#440154"
           ],
           [
            0.1111111111111111,
            "#482878"
           ],
           [
            0.2222222222222222,
            "#3e4989"
           ],
           [
            0.3333333333333333,
            "#31688e"
           ],
           [
            0.4444444444444444,
            "#26828e"
           ],
           [
            0.5555555555555556,
            "#1f9e89"
           ],
           [
            0.6666666666666666,
            "#35b779"
           ],
           [
            0.7777777777777778,
            "#6ece58"
           ],
           [
            0.8888888888888888,
            "#b5de2b"
           ],
           [
            1,
            "#fde725"
           ]
          ],
          "opacity": 0.8,
          "size": 6
         },
         "mode": "lines+markers",
         "name": "Tb",
         "text": [
          "A: 135",
          "A: 136",
          "A: 137",
          "A: 138",
          "A: 139",
          "A: 140",
          "A: 141",
          "A: 142",
          "A: 143",
          "A: 144",
          "A: 145",
          "A: 146",
          "A: 147",
          "A: 148",
          "A: 149",
          "A: 150",
          "A: 151",
          "A: 152",
          "A: 153",
          "A: 154",
          "A: 155",
          "A: 156",
          "A: 157",
          "A: 158",
          "A: 159",
          "A: 160",
          "A: 161",
          "A: 162",
          "A: 163",
          "A: 164",
          "A: 165",
          "A: 166",
          "A: 167",
          "A: 168",
          "A: 169",
          "A: 170",
          "A: 171",
          "A: 172",
          "A: 173",
          "A: 174"
         ],
         "type": "scatter3d",
         "x": [
          135,
          136,
          137,
          138,
          139,
          140,
          141,
          142,
          143,
          144,
          145,
          146,
          147,
          148,
          149,
          150,
          151,
          152,
          153,
          154,
          155,
          156,
          157,
          158,
          159,
          160,
          161,
          162,
          163,
          164,
          165,
          166,
          167,
          168,
          169,
          170,
          171,
          172,
          173,
          174
         ],
         "y": [
          65,
          65,
          65,
          65,
          65,
          65,
          65,
          65,
          65,
          65,
          65,
          65,
          65,
          65,
          65,
          65,
          65,
          65,
          65,
          65,
          65,
          65,
          65,
          65,
          65,
          65,
          65,
          65,
          65,
          65,
          65,
          65,
          65,
          65,
          65,
          65,
          65,
          65,
          65,
          65
         ],
         "z": [
          7939,
          7961,
          7999,
          8019,
          8052,
          8068.6732,
          8097.4761,
          8111.508,
          8138.2176,
          8151.2877,
          8178.5397,
          8187.1474,
          8206.625,
          8204.3207,
          8209.8153,
          8206.3396,
          8208.8743,
          8202.0072,
          8205.0504,
          8196.6697,
          8202.9173,
          8194.6415,
          8198.1416,
          8189.1556,
          8188.8025,
          8177.4676,
          8174.4809,
          8164.0773,
          8155.6322,
          8139.9304,
          8130.3259,
          8113.223,
          8101.441,
          8082.798,
          8069,
          8047,
          8030,
          8006,
          7988,
          7963
         ]
        },
        {
         "line": {
          "width": 2
         },
         "marker": {
          "color": [
           7950,
           7971,
           8008,
           8027,
           8061,
           8075.0527,
           8105.5902,
           8116.8884,
           8146.1128,
           8156.768,
           8180.943,
           8179.0972,
           8189.1495,
           8184.6789,
           8192.9171,
           8185.7514,
           8193.1305,
           8184.357,
           8192.4366,
           8184.6287,
           8190.1298,
           8181.5842,
           8184.0526,
           8173.3093,
           8173.4555,
           8161.784,
           8158.7129,
           8143.9083,
           8137.2793,
           8120.8782,
           8112.5293,
           8094.7566,
           8084,
           8062,
           8049,
           8026,
           8011,
           7986,
           7969
          ],
          "colorscale": [
           [
            0,
            "#440154"
           ],
           [
            0.1111111111111111,
            "#482878"
           ],
           [
            0.2222222222222222,
            "#3e4989"
           ],
           [
            0.3333333333333333,
            "#31688e"
           ],
           [
            0.4444444444444444,
            "#26828e"
           ],
           [
            0.5555555555555556,
            "#1f9e89"
           ],
           [
            0.6666666666666666,
            "#35b779"
           ],
           [
            0.7777777777777778,
            "#6ece58"
           ],
           [
            0.8888888888888888,
            "#b5de2b"
           ],
           [
            1,
            "#fde725"
           ]
          ],
          "opacity": 0.8,
          "size": 6
         },
         "mode": "lines+markers",
         "name": "Dy",
         "text": [
          "A: 138",
          "A: 139",
          "A: 140",
          "A: 141",
          "A: 142",
          "A: 143",
          "A: 144",
          "A: 145",
          "A: 146",
          "A: 147",
          "A: 148",
          "A: 149",
          "A: 150",
          "A: 151",
          "A: 152",
          "A: 153",
          "A: 154",
          "A: 155",
          "A: 156",
          "A: 157",
          "A: 158",
          "A: 159",
          "A: 160",
          "A: 161",
          "A: 162",
          "A: 163",
          "A: 164",
          "A: 165",
          "A: 166",
          "A: 167",
          "A: 168",
          "A: 169",
          "A: 170",
          "A: 171",
          "A: 172",
          "A: 173",
          "A: 174",
          "A: 175",
          "A: 176"
         ],
         "type": "scatter3d",
         "x": [
          138,
          139,
          140,
          141,
          142,
          143,
          144,
          145,
          146,
          147,
          148,
          149,
          150,
          151,
          152,
          153,
          154,
          155,
          156,
          157,
          158,
          159,
          160,
          161,
          162,
          163,
          164,
          165,
          166,
          167,
          168,
          169,
          170,
          171,
          172,
          173,
          174,
          175,
          176
         ],
         "y": [
          66,
          66,
          66,
          66,
          66,
          66,
          66,
          66,
          66,
          66,
          66,
          66,
          66,
          66,
          66,
          66,
          66,
          66,
          66,
          66,
          66,
          66,
          66,
          66,
          66,
          66,
          66,
          66,
          66,
          66,
          66,
          66,
          66,
          66,
          66,
          66,
          66,
          66,
          66
         ],
         "z": [
          7950,
          7971,
          8008,
          8027,
          8061,
          8075.0527,
          8105.5902,
          8116.8884,
          8146.1128,
          8156.768,
          8180.943,
          8179.0972,
          8189.1495,
          8184.6789,
          8192.9171,
          8185.7514,
          8193.1305,
          8184.357,
          8192.4366,
          8184.6287,
          8190.1298,
          8181.5842,
          8184.0526,
          8173.3093,
          8173.4555,
          8161.784,
          8158.7129,
          8143.9083,
          8137.2793,
          8120.8782,
          8112.5293,
          8094.7566,
          8084,
          8062,
          8049,
          8026,
          8011,
          7986,
          7969
         ]
        },
        {
         "line": {
          "width": 2
         },
         "marker": {
          "color": [
           7906,
           7943,
           7965,
           7999,
           8017.0977,
           8048.5792,
           8063.2426,
           8094.0381,
           8108.9797,
           8133.255,
           8134.8423,
           8145.5267,
           8144.9193,
           8153.6372,
           8150.6825,
           8159.2055,
           8155.428,
           8163.1373,
           8158.4709,
           8165.1066,
           8158.6004,
           8163.1134,
           8155.4126,
           8156.967,
           8147.9234,
           8146.9591,
           8135.4933,
           8130.3732,
           8116.8061,
           8109.0622,
           8093.7902,
           8083.6021,
           8066,
           8054,
           8034,
           8019,
           7997,
           7980,
           7957
          ],
          "colorscale": [
           [
            0,
            "#440154"
           ],
           [
            0.1111111111111111,
            "#482878"
           ],
           [
            0.2222222222222222,
            "#3e4989"
           ],
           [
            0.3333333333333333,
            "#31688e"
           ],
           [
            0.4444444444444444,
            "#26828e"
           ],
           [
            0.5555555555555556,
            "#1f9e89"
           ],
           [
            0.6666666666666666,
            "#35b779"
           ],
           [
            0.7777777777777778,
            "#6ece58"
           ],
           [
            0.8888888888888888,
            "#b5de2b"
           ],
           [
            1,
            "#fde725"
           ]
          ],
          "opacity": 0.8,
          "size": 6
         },
         "mode": "lines+markers",
         "name": "Ho",
         "text": [
          "A: 140",
          "A: 141",
          "A: 142",
          "A: 143",
          "A: 144",
          "A: 145",
          "A: 146",
          "A: 147",
          "A: 148",
          "A: 149",
          "A: 150",
          "A: 151",
          "A: 152",
          "A: 153",
          "A: 154",
          "A: 155",
          "A: 156",
          "A: 157",
          "A: 158",
          "A: 159",
          "A: 160",
          "A: 161",
          "A: 162",
          "A: 163",
          "A: 164",
          "A: 165",
          "A: 166",
          "A: 167",
          "A: 168",
          "A: 169",
          "A: 170",
          "A: 171",
          "A: 172",
          "A: 173",
          "A: 174",
          "A: 175",
          "A: 176",
          "A: 177",
          "A: 178"
         ],
         "type": "scatter3d",
         "x": [
          140,
          141,
          142,
          143,
          144,
          145,
          146,
          147,
          148,
          149,
          150,
          151,
          152,
          153,
          154,
          155,
          156,
          157,
          158,
          159,
          160,
          161,
          162,
          163,
          164,
          165,
          166,
          167,
          168,
          169,
          170,
          171,
          172,
          173,
          174,
          175,
          176,
          177,
          178
         ],
         "y": [
          67,
          67,
          67,
          67,
          67,
          67,
          67,
          67,
          67,
          67,
          67,
          67,
          67,
          67,
          67,
          67,
          67,
          67,
          67,
          67,
          67,
          67,
          67,
          67,
          67,
          67,
          67,
          67,
          67,
          67,
          67,
          67,
          67,
          67,
          67,
          67,
          67,
          67,
          67
         ],
         "z": [
          7906,
          7943,
          7965,
          7999,
          8017.0977,
          8048.5792,
          8063.2426,
          8094.0381,
          8108.9797,
          8133.255,
          8134.8423,
          8145.5267,
          8144.9193,
          8153.6372,
          8150.6825,
          8159.2055,
          8155.428,
          8163.1373,
          8158.4709,
          8165.1066,
          8158.6004,
          8163.1134,
          8155.4126,
          8156.967,
          8147.9234,
          8146.9591,
          8135.4933,
          8130.3732,
          8116.8061,
          8109.0622,
          8093.7902,
          8083.6021,
          8066,
          8054,
          8034,
          8019,
          7997,
          7980,
          7957
         ]
        },
        {
         "line": {
          "width": 2
         },
         "marker": {
          "color": [
           7893,
           7917,
           7956,
           7975,
           8010.5127,
           8026.476,
           8059.6924,
           8074.9558,
           8102.1962,
           8104.8723,
           8119.3485,
           8118.8154,
           8132.3919,
           8129.4444,
           8141.9084,
           8136.3757,
           8147.927,
           8142.7742,
           8151.7217,
           8145.8628,
           8152.3959,
           8144.7403,
           8149.0191,
           8139.9348,
           8141.9479,
           8131.7352,
           8129.5897,
           8117.0078,
           8111.9529,
           8097.7404,
           8090.4052,
           8074,
           8064,
           8045,
           8034,
           8013,
           7999,
           7976,
           7960
          ],
          "colorscale": [
           [
            0,
            "#440154"
           ],
           [
            0.1111111111111111,
            "#482878"
           ],
           [
            0.2222222222222222,
            "#3e4989"
           ],
           [
            0.3333333333333333,
            "#31688e"
           ],
           [
            0.4444444444444444,
            "#26828e"
           ],
           [
            0.5555555555555556,
            "#1f9e89"
           ],
           [
            0.6666666666666666,
            "#35b779"
           ],
           [
            0.7777777777777778,
            "#6ece58"
           ],
           [
            0.8888888888888888,
            "#b5de2b"
           ],
           [
            1,
            "#fde725"
           ]
          ],
          "opacity": 0.8,
          "size": 6
         },
         "mode": "lines+markers",
         "name": "Er",
         "text": [
          "A: 142",
          "A: 143",
          "A: 144",
          "A: 145",
          "A: 146",
          "A: 147",
          "A: 148",
          "A: 149",
          "A: 150",
          "A: 151",
          "A: 152",
          "A: 153",
          "A: 154",
          "A: 155",
          "A: 156",
          "A: 157",
          "A: 158",
          "A: 159",
          "A: 160",
          "A: 161",
          "A: 162",
          "A: 163",
          "A: 164",
          "A: 165",
          "A: 166",
          "A: 167",
          "A: 168",
          "A: 169",
          "A: 170",
          "A: 171",
          "A: 172",
          "A: 173",
          "A: 174",
          "A: 175",
          "A: 176",
          "A: 177",
          "A: 178",
          "A: 179",
          "A: 180"
         ],
         "type": "scatter3d",
         "x": [
          142,
          143,
          144,
          145,
          146,
          147,
          148,
          149,
          150,
          151,
          152,
          153,
          154,
          155,
          156,
          157,
          158,
          159,
          160,
          161,
          162,
          163,
          164,
          165,
          166,
          167,
          168,
          169,
          170,
          171,
          172,
          173,
          174,
          175,
          176,
          177,
          178,
          179,
          180
         ],
         "y": [
          68,
          68,
          68,
          68,
          68,
          68,
          68,
          68,
          68,
          68,
          68,
          68,
          68,
          68,
          68,
          68,
          68,
          68,
          68,
          68,
          68,
          68,
          68,
          68,
          68,
          68,
          68,
          68,
          68,
          68,
          68,
          68,
          68,
          68,
          68,
          68,
          68,
          68,
          68
         ],
         "z": [
          7893,
          7917,
          7956,
          7975,
          8010.5127,
          8026.476,
          8059.6924,
          8074.9558,
          8102.1962,
          8104.8723,
          8119.3485,
          8118.8154,
          8132.3919,
          8129.4444,
          8141.9084,
          8136.3757,
          8147.927,
          8142.7742,
          8151.7217,
          8145.8628,
          8152.3959,
          8144.7403,
          8149.0191,
          8139.9348,
          8141.9479,
          8131.7352,
          8129.5897,
          8117.0078,
          8111.9529,
          8097.7404,
          8090.4052,
          8074,
          8064,
          8045,
          8034,
          8013,
          7999,
          7976,
          7960
         ]
        },
        {
         "line": {
          "width": 2
         },
         "marker": {
          "color": [
           7850,
           7889,
           7914,
           7948.8178,
           7968.5011,
           8004,
           8021,
           8050.0576,
           8056.4387,
           8071.2571,
           8074.209,
           8088.376,
           8089.6032,
           8101.4285,
           8101.1994,
           8112.7549,
           8110.8124,
           8120.4906,
           8117.5868,
           8124.9774,
           8119.6534,
           8125.5489,
           8118.9357,
           8122.5826,
           8114.9516,
           8114.4702,
           8105.5144,
           8101.8931,
           8091.0367,
           8084.4633,
           8070.6432,
           8061.7673,
           8045.1214,
           8035,
           8017,
           8004,
           7983,
           7969,
           7948
          ],
          "colorscale": [
           [
            0,
            "#440154"
           ],
           [
            0.1111111111111111,
            "#482878"
           ],
           [
            0.2222222222222222,
            "#3e4989"
           ],
           [
            0.3333333333333333,
            "#31688e"
           ],
           [
            0.4444444444444444,
            "#26828e"
           ],
           [
            0.5555555555555556,
            "#1f9e89"
           ],
           [
            0.6666666666666666,
            "#35b779"
           ],
           [
            0.7777777777777778,
            "#6ece58"
           ],
           [
            0.8888888888888888,
            "#b5de2b"
           ],
           [
            1,
            "#fde725"
           ]
          ],
          "opacity": 0.8,
          "size": 6
         },
         "mode": "lines+markers",
         "name": "Tm",
         "text": [
          "A: 144",
          "A: 145",
          "A: 146",
          "A: 147",
          "A: 148",
          "A: 149",
          "A: 150",
          "A: 151",
          "A: 152",
          "A: 153",
          "A: 154",
          "A: 155",
          "A: 156",
          "A: 157",
          "A: 158",
          "A: 159",
          "A: 160",
          "A: 161",
          "A: 162",
          "A: 163",
          "A: 164",
          "A: 165",
          "A: 166",
          "A: 167",
          "A: 168",
          "A: 169",
          "A: 170",
          "A: 171",
          "A: 172",
          "A: 173",
          "A: 174",
          "A: 175",
          "A: 176",
          "A: 177",
          "A: 178",
          "A: 179",
          "A: 180",
          "A: 181",
          "A: 182"
         ],
         "type": "scatter3d",
         "x": [
          144,
          145,
          146,
          147,
          148,
          149,
          150,
          151,
          152,
          153,
          154,
          155,
          156,
          157,
          158,
          159,
          160,
          161,
          162,
          163,
          164,
          165,
          166,
          167,
          168,
          169,
          170,
          171,
          172,
          173,
          174,
          175,
          176,
          177,
          178,
          179,
          180,
          181,
          182
         ],
         "y": [
          69,
          69,
          69,
          69,
          69,
          69,
          69,
          69,
          69,
          69,
          69,
          69,
          69,
          69,
          69,
          69,
          69,
          69,
          69,
          69,
          69,
          69,
          69,
          69,
          69,
          69,
          69,
          69,
          69,
          69,
          69,
          69,
          69,
          69,
          69,
          69,
          69,
          69,
          69
         ],
         "z": [
          7850,
          7889,
          7914,
          7948.8178,
          7968.5011,
          8004,
          8021,
          8050.0576,
          8056.4387,
          8071.2571,
          8074.209,
          8088.376,
          8089.6032,
          8101.4285,
          8101.1994,
          8112.7549,
          8110.8124,
          8120.4906,
          8117.5868,
          8124.9774,
          8119.6534,
          8125.5489,
          8118.9357,
          8122.5826,
          8114.9516,
          8114.4702,
          8105.5144,
          8101.8931,
          8091.0367,
          8084.4633,
          8070.6432,
          8061.7673,
          8045.1214,
          8035,
          8017,
          8004,
          7983,
          7969,
          7948
         ]
        },
        {
         "line": {
          "width": 2
         },
         "marker": {
          "color": [
           7906,
           7927,
           7965,
           7983.7556,
           8015.4371,
           8022,
           8039.9402,
           8043.8234,
           8061.7107,
           8062.7551,
           8079.1999,
           8078.0428,
           8092.5614,
           8090.3861,
           8102.5333,
           8099.1069,
           8109.4149,
           8104.8399,
           8112.4591,
           8106.202,
           8111.887,
           8104.5206,
           8106.6101,
           8097.8826,
           8097.4295,
           8087.4276,
           8083.8481,
           8070.9253,
           8064.0853,
           8049.9741,
           8042.7386,
           8026,
           8016,
           7996,
           7984,
           7963,
           7951,
           7929
          ],
          "colorscale": [
           [
            0,
            "#440154"
           ],
           [
            0.1111111111111111,
            "#482878"
           ],
           [
            0.2222222222222222,
            "#3e4989"
           ],
           [
            0.3333333333333333,
            "#31688e"
           ],
           [
            0.4444444444444444,
            "#26828e"
           ],
           [
            0.5555555555555556,
            "#1f9e89"
           ],
           [
            0.6666666666666666,
            "#35b779"
           ],
           [
            0.7777777777777778,
            "#6ece58"
           ],
           [
            0.8888888888888888,
            "#b5de2b"
           ],
           [
            1,
            "#fde725"
           ]
          ],
          "opacity": 0.8,
          "size": 6
         },
         "mode": "lines+markers",
         "name": "Yb",
         "text": [
          "A: 148",
          "A: 149",
          "A: 150",
          "A: 151",
          "A: 152",
          "A: 153",
          "A: 154",
          "A: 155",
          "A: 156",
          "A: 157",
          "A: 158",
          "A: 159",
          "A: 160",
          "A: 161",
          "A: 162",
          "A: 163",
          "A: 164",
          "A: 165",
          "A: 166",
          "A: 167",
          "A: 168",
          "A: 169",
          "A: 170",
          "A: 171",
          "A: 172",
          "A: 173",
          "A: 174",
          "A: 175",
          "A: 176",
          "A: 177",
          "A: 178",
          "A: 179",
          "A: 180",
          "A: 181",
          "A: 182",
          "A: 183",
          "A: 184",
          "A: 185"
         ],
         "type": "scatter3d",
         "x": [
          148,
          149,
          150,
          151,
          152,
          153,
          154,
          155,
          156,
          157,
          158,
          159,
          160,
          161,
          162,
          163,
          164,
          165,
          166,
          167,
          168,
          169,
          170,
          171,
          172,
          173,
          174,
          175,
          176,
          177,
          178,
          179,
          180,
          181,
          182,
          183,
          184,
          185
         ],
         "y": [
          70,
          70,
          70,
          70,
          70,
          70,
          70,
          70,
          70,
          70,
          70,
          70,
          70,
          70,
          70,
          70,
          70,
          70,
          70,
          70,
          70,
          70,
          70,
          70,
          70,
          70,
          70,
          70,
          70,
          70,
          70,
          70,
          70,
          70,
          70,
          70,
          70,
          70
         ],
         "z": [
          7906,
          7927,
          7965,
          7983.7556,
          8015.4371,
          8022,
          8039.9402,
          8043.8234,
          8061.7107,
          8062.7551,
          8079.1999,
          8078.0428,
          8092.5614,
          8090.3861,
          8102.5333,
          8099.1069,
          8109.4149,
          8104.8399,
          8112.4591,
          8106.202,
          8111.887,
          8104.5206,
          8106.6101,
          8097.8826,
          8097.4295,
          8087.4276,
          8083.8481,
          8070.9253,
          8064.0853,
          8049.9741,
          8042.7386,
          8026,
          8016,
          7996,
          7984,
          7963,
          7951,
          7929
         ]
        },
        {
         "line": {
          "width": 2
         },
         "marker": {
          "color": [
           7866,
           7904,
           7926,
           7959.0882,
           7968,
           7987.4369,
           7995.3752,
           8013.3128,
           8018.5685,
           8034.6009,
           8038.3387,
           8052.7821,
           8054.5596,
           8066.6848,
           8065.8043,
           8076.746,
           8074.1756,
           8083.1722,
           8080.4026,
           8086.3233,
           8081.6686,
           8084.6621,
           8078.2334,
           8079.0312,
           8071.454,
           8069.1412,
           8059.0209,
           8053.4495,
           8042.0554,
           8035.0744,
           8022.0394,
           8011.9301,
           7996,
           7984.8125,
           7967,
           7955,
           7936,
           7923,
           7903
          ],
          "colorscale": [
           [
            0,
            "#440154"
           ],
           [
            0.1111111111111111,
            "#482878"
           ],
           [
            0.2222222222222222,
            "#3e4989"
           ],
           [
            0.3333333333333333,
            "#31688e"
           ],
           [
            0.4444444444444444,
            "#26828e"
           ],
           [
            0.5555555555555556,
            "#1f9e89"
           ],
           [
            0.6666666666666666,
            "#35b779"
           ],
           [
            0.7777777777777778,
            "#6ece58"
           ],
           [
            0.8888888888888888,
            "#b5de2b"
           ],
           [
            1,
            "#fde725"
           ]
          ],
          "opacity": 0.8,
          "size": 6
         },
         "mode": "lines+markers",
         "name": "Lu",
         "text": [
          "A: 150",
          "A: 151",
          "A: 152",
          "A: 153",
          "A: 154",
          "A: 155",
          "A: 156",
          "A: 157",
          "A: 158",
          "A: 159",
          "A: 160",
          "A: 161",
          "A: 162",
          "A: 163",
          "A: 164",
          "A: 165",
          "A: 166",
          "A: 167",
          "A: 168",
          "A: 169",
          "A: 170",
          "A: 171",
          "A: 172",
          "A: 173",
          "A: 174",
          "A: 175",
          "A: 176",
          "A: 177",
          "A: 178",
          "A: 179",
          "A: 180",
          "A: 181",
          "A: 182",
          "A: 183",
          "A: 184",
          "A: 185",
          "A: 186",
          "A: 187",
          "A: 188"
         ],
         "type": "scatter3d",
         "x": [
          150,
          151,
          152,
          153,
          154,
          155,
          156,
          157,
          158,
          159,
          160,
          161,
          162,
          163,
          164,
          165,
          166,
          167,
          168,
          169,
          170,
          171,
          172,
          173,
          174,
          175,
          176,
          177,
          178,
          179,
          180,
          181,
          182,
          183,
          184,
          185,
          186,
          187,
          188
         ],
         "y": [
          71,
          71,
          71,
          71,
          71,
          71,
          71,
          71,
          71,
          71,
          71,
          71,
          71,
          71,
          71,
          71,
          71,
          71,
          71,
          71,
          71,
          71,
          71,
          71,
          71,
          71,
          71,
          71,
          71,
          71,
          71,
          71,
          71,
          71,
          71,
          71,
          71,
          71,
          71
         ],
         "z": [
          7866,
          7904,
          7926,
          7959.0882,
          7968,
          7987.4369,
          7995.3752,
          8013.3128,
          8018.5685,
          8034.6009,
          8038.3387,
          8052.7821,
          8054.5596,
          8066.6848,
          8065.8043,
          8076.746,
          8074.1756,
          8083.1722,
          8080.4026,
          8086.3233,
          8081.6686,
          8084.6621,
          8078.2334,
          8079.0312,
          8071.454,
          8069.1412,
          8059.0209,
          8053.4495,
          8042.0554,
          8035.0744,
          8022.0394,
          8011.9301,
          7996,
          7984.8125,
          7967,
          7955,
          7936,
          7923,
          7903
         ]
        },
        {
         "line": {
          "width": 2
         },
         "marker": {
          "color": [
           7882,
           7918,
           7929,
           7952.6676,
           7960,
           7981.2764,
           7986.561,
           8006.3791,
           8009.1245,
           8027.1171,
           8028.0072,
           8043.8142,
           8042.8728,
           8056.4386,
           8054.185,
           8065.5536,
           8061.7791,
           8070.8762,
           8066.0687,
           8071.7439,
           8066.0164,
           8068.5341,
           8060.7625,
           8061.3604,
           8051.8365,
           8049.4438,
           8038.5474,
           8034.9319,
           8022.003,
           8014.8381,
           8000.0315,
           7990.7228,
           7973.9711,
           7964.3032,
           7947,
           7936,
           7917,
           7905
          ],
          "colorscale": [
           [
            0,
            "#440154"
           ],
           [
            0.1111111111111111,
            "#482878"
           ],
           [
            0.2222222222222222,
            "#3e4989"
           ],
           [
            0.3333333333333333,
            "#31688e"
           ],
           [
            0.4444444444444444,
            "#26828e"
           ],
           [
            0.5555555555555556,
            "#1f9e89"
           ],
           [
            0.6666666666666666,
            "#35b779"
           ],
           [
            0.7777777777777778,
            "#6ece58"
           ],
           [
            0.8888888888888888,
            "#b5de2b"
           ],
           [
            1,
            "#fde725"
           ]
          ],
          "opacity": 0.8,
          "size": 6
         },
         "mode": "lines+markers",
         "name": "Hf",
         "text": [
          "A: 153",
          "A: 154",
          "A: 155",
          "A: 156",
          "A: 157",
          "A: 158",
          "A: 159",
          "A: 160",
          "A: 161",
          "A: 162",
          "A: 163",
          "A: 164",
          "A: 165",
          "A: 166",
          "A: 167",
          "A: 168",
          "A: 169",
          "A: 170",
          "A: 171",
          "A: 172",
          "A: 173",
          "A: 174",
          "A: 175",
          "A: 176",
          "A: 177",
          "A: 178",
          "A: 179",
          "A: 180",
          "A: 181",
          "A: 182",
          "A: 183",
          "A: 184",
          "A: 185",
          "A: 186",
          "A: 187",
          "A: 188",
          "A: 189",
          "A: 190"
         ],
         "type": "scatter3d",
         "x": [
          153,
          154,
          155,
          156,
          157,
          158,
          159,
          160,
          161,
          162,
          163,
          164,
          165,
          166,
          167,
          168,
          169,
          170,
          171,
          172,
          173,
          174,
          175,
          176,
          177,
          178,
          179,
          180,
          181,
          182,
          183,
          184,
          185,
          186,
          187,
          188,
          189,
          190
         ],
         "y": [
          72,
          72,
          72,
          72,
          72,
          72,
          72,
          72,
          72,
          72,
          72,
          72,
          72,
          72,
          72,
          72,
          72,
          72,
          72,
          72,
          72,
          72,
          72,
          72,
          72,
          72,
          72,
          72,
          72,
          72,
          72,
          72,
          72,
          72,
          72,
          72,
          72,
          72
         ],
         "z": [
          7882,
          7918,
          7929,
          7952.6676,
          7960,
          7981.2764,
          7986.561,
          8006.3791,
          8009.1245,
          8027.1171,
          8028.0072,
          8043.8142,
          8042.8728,
          8056.4386,
          8054.185,
          8065.5536,
          8061.7791,
          8070.8762,
          8066.0687,
          8071.7439,
          8066.0164,
          8068.5341,
          8060.7625,
          8061.3604,
          8051.8365,
          8049.4438,
          8038.5474,
          8034.9319,
          8022.003,
          8014.8381,
          8000.0315,
          7990.7228,
          7973.9711,
          7964.3032,
          7947,
          7936,
          7917,
          7905
         ]
        },
        {
         "line": {
          "width": 2
         },
         "marker": {
          "color": [
           7858,
           7872,
           7896.0608,
           7907,
           7928.7258,
           7938.2704,
           7957.45,
           7964.3432,
           7981.8905,
           7986.9978,
           8003.0547,
           8004.9714,
           8018.8614,
           8019.4287,
           8030.9577,
           8030.2965,
           8039.7914,
           8037.7056,
           8044.065,
           8040.4528,
           8044.4456,
           8038.6706,
           8040.8289,
           8035,
           8033.5869,
           8025.8864,
           8023.405,
           8012.6332,
           8006.74,
           7993.7535,
           7986.3615,
           7971.8357,
           7963.2123,
           7948,
           7938,
           7922,
           7911,
           7894,
           7883,
           7865
          ],
          "colorscale": [
           [
            0,
            "#440154"
           ],
           [
            0.1111111111111111,
            "#482878"
           ],
           [
            0.2222222222222222,
            "#3e4989"
           ],
           [
            0.3333333333333333,
            "#31688e"
           ],
           [
            0.4444444444444444,
            "#26828e"
           ],
           [
            0.5555555555555556,
            "#1f9e89"
           ],
           [
            0.6666666666666666,
            "#35b779"
           ],
           [
            0.7777777777777778,
            "#6ece58"
           ],
           [
            0.8888888888888888,
            "#b5de2b"
           ],
           [
            1,
            "#fde725"
           ]
          ],
          "opacity": 0.8,
          "size": 6
         },
         "mode": "lines+markers",
         "name": "Ta",
         "text": [
          "A: 155",
          "A: 156",
          "A: 157",
          "A: 158",
          "A: 159",
          "A: 160",
          "A: 161",
          "A: 162",
          "A: 163",
          "A: 164",
          "A: 165",
          "A: 166",
          "A: 167",
          "A: 168",
          "A: 169",
          "A: 170",
          "A: 171",
          "A: 172",
          "A: 173",
          "A: 174",
          "A: 175",
          "A: 176",
          "A: 177",
          "A: 178",
          "A: 179",
          "A: 180",
          "A: 181",
          "A: 182",
          "A: 183",
          "A: 184",
          "A: 185",
          "A: 186",
          "A: 187",
          "A: 188",
          "A: 189",
          "A: 190",
          "A: 191",
          "A: 192",
          "A: 193",
          "A: 194"
         ],
         "type": "scatter3d",
         "x": [
          155,
          156,
          157,
          158,
          159,
          160,
          161,
          162,
          163,
          164,
          165,
          166,
          167,
          168,
          169,
          170,
          171,
          172,
          173,
          174,
          175,
          176,
          177,
          178,
          179,
          180,
          181,
          182,
          183,
          184,
          185,
          186,
          187,
          188,
          189,
          190,
          191,
          192,
          193,
          194
         ],
         "y": [
          73,
          73,
          73,
          73,
          73,
          73,
          73,
          73,
          73,
          73,
          73,
          73,
          73,
          73,
          73,
          73,
          73,
          73,
          73,
          73,
          73,
          73,
          73,
          73,
          73,
          73,
          73,
          73,
          73,
          73,
          73,
          73,
          73,
          73,
          73,
          73,
          73,
          73,
          73,
          73
         ],
         "z": [
          7858,
          7872,
          7896.0608,
          7907,
          7928.7258,
          7938.2704,
          7957.45,
          7964.3432,
          7981.8905,
          7986.9978,
          8003.0547,
          8004.9714,
          8018.8614,
          8019.4287,
          8030.9577,
          8030.2965,
          8039.7914,
          8037.7056,
          8044.065,
          8040.4528,
          8044.4456,
          8038.6706,
          8040.8289,
          8035,
          8033.5869,
          8025.8864,
          8023.405,
          8012.6332,
          8006.74,
          7993.7535,
          7986.3615,
          7971.8357,
          7963.2123,
          7948,
          7938,
          7922,
          7911,
          7894,
          7883,
          7865
         ]
        },
        {
         "line": {
          "width": 2
         },
         "marker": {
          "color": [
           7828,
           7855,
           7867,
           7892.7893,
           7901,
           7923.8214,
           7930.3043,
           7951.4515,
           7955.9704,
           7974.8951,
           7976.7045,
           7993.9327,
           7994.5381,
           8008.9482,
           8008.1158,
           8020.1757,
           8018.3337,
           8027.2572,
           8024.113,
           8030.1131,
           8025.0359,
           8029.2584,
           8023.2821,
           8025.4434,
           8017.9494,
           8018.3096,
           8008.3234,
           8005.0777,
           7992.9083,
           7988.6026,
           7975.1168,
           7969.0532,
           7954,
           7947.5031,
           7931.4359,
           7924,
           7907,
           7899,
           7881,
           7872,
           7853
          ],
          "colorscale": [
           [
            0,
            "#440154"
           ],
           [
            0.1111111111111111,
            "#482878"
           ],
           [
            0.2222222222222222,
            "#3e4989"
           ],
           [
            0.3333333333333333,
            "#31688e"
           ],
           [
            0.4444444444444444,
            "#26828e"
           ],
           [
            0.5555555555555556,
            "#1f9e89"
           ],
           [
            0.6666666666666666,
            "#35b779"
           ],
           [
            0.7777777777777778,
            "#6ece58"
           ],
           [
            0.8888888888888888,
            "#b5de2b"
           ],
           [
            1,
            "#fde725"
           ]
          ],
          "opacity": 0.8,
          "size": 6
         },
         "mode": "lines+markers",
         "name": "W",
         "text": [
          "A: 157",
          "A: 158",
          "A: 159",
          "A: 160",
          "A: 161",
          "A: 162",
          "A: 163",
          "A: 164",
          "A: 165",
          "A: 166",
          "A: 167",
          "A: 168",
          "A: 169",
          "A: 170",
          "A: 171",
          "A: 172",
          "A: 173",
          "A: 174",
          "A: 175",
          "A: 176",
          "A: 177",
          "A: 178",
          "A: 179",
          "A: 180",
          "A: 181",
          "A: 182",
          "A: 183",
          "A: 184",
          "A: 185",
          "A: 186",
          "A: 187",
          "A: 188",
          "A: 189",
          "A: 190",
          "A: 191",
          "A: 192",
          "A: 193",
          "A: 194",
          "A: 195",
          "A: 196",
          "A: 197"
         ],
         "type": "scatter3d",
         "x": [
          157,
          158,
          159,
          160,
          161,
          162,
          163,
          164,
          165,
          166,
          167,
          168,
          169,
          170,
          171,
          172,
          173,
          174,
          175,
          176,
          177,
          178,
          179,
          180,
          181,
          182,
          183,
          184,
          185,
          186,
          187,
          188,
          189,
          190,
          191,
          192,
          193,
          194,
          195,
          196,
          197
         ],
         "y": [
          74,
          74,
          74,
          74,
          74,
          74,
          74,
          74,
          74,
          74,
          74,
          74,
          74,
          74,
          74,
          74,
          74,
          74,
          74,
          74,
          74,
          74,
          74,
          74,
          74,
          74,
          74,
          74,
          74,
          74,
          74,
          74,
          74,
          74,
          74,
          74,
          74,
          74,
          74,
          74,
          74
         ],
         "z": [
          7828,
          7855,
          7867,
          7892.7893,
          7901,
          7923.8214,
          7930.3043,
          7951.4515,
          7955.9704,
          7974.8951,
          7976.7045,
          7993.9327,
          7994.5381,
          8008.9482,
          8008.1158,
          8020.1757,
          8018.3337,
          8027.2572,
          8024.113,
          8030.1131,
          8025.0359,
          8029.2584,
          8023.2821,
          8025.4434,
          8017.9494,
          8018.3096,
          8008.3234,
          8005.0777,
          7992.9083,
          7988.6026,
          7975.1168,
          7969.0532,
          7954,
          7947.5031,
          7931.4359,
          7924,
          7907,
          7899,
          7881,
          7872,
          7853
         ]
        },
        {
         "line": {
          "width": 2
         },
         "marker": {
          "color": [
           7795,
           7810,
           7836.3292,
           7848,
           7870.8655,
           7881.0523,
           7901.5201,
           7909.6392,
           7929,
           7935.1208,
           7951.3963,
           7955.012,
           7969.4131,
           7971.846,
           7983.9068,
           7985.0944,
           7994.8168,
           7993.9707,
           8001.2229,
           7998.1576,
           8003.7666,
           7999.9922,
           8004.1434,
           7998.6264,
           8001.0101,
           7992.7517,
           7991.0101,
           7981.2713,
           7977.9519,
           7966.7481,
           7961.8105,
           7949.7759,
           7943.9588,
           7930.2389,
           7923.9378,
           7909,
           7901,
           7886,
           7877,
           7861,
           7850
          ],
          "colorscale": [
           [
            0,
            "#440154"
           ],
           [
            0.1111111111111111,
            "#482878"
           ],
           [
            0.2222222222222222,
            "#3e4989"
           ],
           [
            0.3333333333333333,
            "#31688e"
           ],
           [
            0.4444444444444444,
            "#26828e"
           ],
           [
            0.5555555555555556,
            "#1f9e89"
           ],
           [
            0.6666666666666666,
            "#35b779"
           ],
           [
            0.7777777777777778,
            "#6ece58"
           ],
           [
            0.8888888888888888,
            "#b5de2b"
           ],
           [
            1,
            "#fde725"
           ]
          ],
          "opacity": 0.8,
          "size": 6
         },
         "mode": "lines+markers",
         "name": "Re",
         "text": [
          "A: 159",
          "A: 160",
          "A: 161",
          "A: 162",
          "A: 163",
          "A: 164",
          "A: 165",
          "A: 166",
          "A: 167",
          "A: 168",
          "A: 169",
          "A: 170",
          "A: 171",
          "A: 172",
          "A: 173",
          "A: 174",
          "A: 175",
          "A: 176",
          "A: 177",
          "A: 178",
          "A: 179",
          "A: 180",
          "A: 181",
          "A: 182",
          "A: 183",
          "A: 184",
          "A: 185",
          "A: 186",
          "A: 187",
          "A: 188",
          "A: 189",
          "A: 190",
          "A: 191",
          "A: 192",
          "A: 193",
          "A: 194",
          "A: 195",
          "A: 196",
          "A: 197",
          "A: 198",
          "A: 199"
         ],
         "type": "scatter3d",
         "x": [
          159,
          160,
          161,
          162,
          163,
          164,
          165,
          166,
          167,
          168,
          169,
          170,
          171,
          172,
          173,
          174,
          175,
          176,
          177,
          178,
          179,
          180,
          181,
          182,
          183,
          184,
          185,
          186,
          187,
          188,
          189,
          190,
          191,
          192,
          193,
          194,
          195,
          196,
          197,
          198,
          199
         ],
         "y": [
          75,
          75,
          75,
          75,
          75,
          75,
          75,
          75,
          75,
          75,
          75,
          75,
          75,
          75,
          75,
          75,
          75,
          75,
          75,
          75,
          75,
          75,
          75,
          75,
          75,
          75,
          75,
          75,
          75,
          75,
          75,
          75,
          75,
          75,
          75,
          75,
          75,
          75,
          75,
          75,
          75
         ],
         "z": [
          7795,
          7810,
          7836.3292,
          7848,
          7870.8655,
          7881.0523,
          7901.5201,
          7909.6392,
          7929,
          7935.1208,
          7951.3963,
          7955.012,
          7969.4131,
          7971.846,
          7983.9068,
          7985.0944,
          7994.8168,
          7993.9707,
          8001.2229,
          7998.1576,
          8003.7666,
          7999.9922,
          8004.1434,
          7998.6264,
          8001.0101,
          7992.7517,
          7991.0101,
          7981.2713,
          7977.9519,
          7966.7481,
          7961.8105,
          7949.7759,
          7943.9588,
          7930.2389,
          7923.9378,
          7909,
          7901,
          7886,
          7877,
          7861,
          7850
         ]
        },
        {
         "line": {
          "width": 2
         },
         "marker": {
          "color": [
           7765,
           7794,
           7807,
           7833.308,
           7843,
           7866.3371,
           7873.9557,
           7895.9408,
           7901.2862,
           7921.1258,
           7924.1769,
           7942.1626,
           7944.0341,
           7959.4618,
           7960.7294,
           7972.8681,
           7972.4371,
           7981.9128,
           7979.4844,
           7987.4171,
           7983.4263,
           7989.7287,
           7985.0087,
           7988.6778,
           7981.3047,
           7982.8324,
           7973.7814,
           7973.8656,
           7963.0029,
           7962.1047,
           7950.5687,
           7948.526,
           7936.2716,
           7932.0232,
           7917.7449,
           7912.2301,
           7897,
           7890,
           7874,
           7867,
           7849,
           7839,
           7814
          ],
          "colorscale": [
           [
            0,
            "#440154"
           ],
           [
            0.1111111111111111,
            "#482878"
           ],
           [
            0.2222222222222222,
            "#3e4989"
           ],
           [
            0.3333333333333333,
            "#31688e"
           ],
           [
            0.4444444444444444,
            "#26828e"
           ],
           [
            0.5555555555555556,
            "#1f9e89"
           ],
           [
            0.6666666666666666,
            "#35b779"
           ],
           [
            0.7777777777777778,
            "#6ece58"
           ],
           [
            0.8888888888888888,
            "#b5de2b"
           ],
           [
            1,
            "#fde725"
           ]
          ],
          "opacity": 0.8,
          "size": 6
         },
         "mode": "lines+markers",
         "name": "Os",
         "text": [
          "A: 161",
          "A: 162",
          "A: 163",
          "A: 164",
          "A: 165",
          "A: 166",
          "A: 167",
          "A: 168",
          "A: 169",
          "A: 170",
          "A: 171",
          "A: 172",
          "A: 173",
          "A: 174",
          "A: 175",
          "A: 176",
          "A: 177",
          "A: 178",
          "A: 179",
          "A: 180",
          "A: 181",
          "A: 182",
          "A: 183",
          "A: 184",
          "A: 185",
          "A: 186",
          "A: 187",
          "A: 188",
          "A: 189",
          "A: 190",
          "A: 191",
          "A: 192",
          "A: 193",
          "A: 194",
          "A: 195",
          "A: 196",
          "A: 197",
          "A: 198",
          "A: 199",
          "A: 200",
          "A: 201",
          "A: 202",
          "A: 203"
         ],
         "type": "scatter3d",
         "x": [
          161,
          162,
          163,
          164,
          165,
          166,
          167,
          168,
          169,
          170,
          171,
          172,
          173,
          174,
          175,
          176,
          177,
          178,
          179,
          180,
          181,
          182,
          183,
          184,
          185,
          186,
          187,
          188,
          189,
          190,
          191,
          192,
          193,
          194,
          195,
          196,
          197,
          198,
          199,
          200,
          201,
          202,
          203
         ],
         "y": [
          76,
          76,
          76,
          76,
          76,
          76,
          76,
          76,
          76,
          76,
          76,
          76,
          76,
          76,
          76,
          76,
          76,
          76,
          76,
          76,
          76,
          76,
          76,
          76,
          76,
          76,
          76,
          76,
          76,
          76,
          76,
          76,
          76,
          76,
          76,
          76,
          76,
          76,
          76,
          76,
          76,
          76,
          76
         ],
         "z": [
          7765,
          7794,
          7807,
          7833.308,
          7843,
          7866.3371,
          7873.9557,
          7895.9408,
          7901.2862,
          7921.1258,
          7924.1769,
          7942.1626,
          7944.0341,
          7959.4618,
          7960.7294,
          7972.8681,
          7972.4371,
          7981.9128,
          7979.4844,
          7987.4171,
          7983.4263,
          7989.7287,
          7985.0087,
          7988.6778,
          7981.3047,
          7982.8324,
          7973.7814,
          7973.8656,
          7963.0029,
          7962.1047,
          7950.5687,
          7948.526,
          7936.2716,
          7932.0232,
          7917.7449,
          7912.2301,
          7897,
          7890,
          7874,
          7867,
          7849,
          7839,
          7814
         ]
        },
        {
         "line": {
          "width": 2
         },
         "marker": {
          "color": [
           7734,
           7750,
           7776,
           7789,
           7812.8254,
           7823.8509,
           7845.5944,
           7853,
           7873.4895,
           7880.2637,
           7898.068,
           7902.0377,
           7917.9112,
           7921.5522,
           7934.6328,
           7936.563,
           7947.5248,
           7947.6337,
           7956.5242,
           7954.8948,
           7961.8176,
           7959.1992,
           7963.7226,
           7958.0473,
           7960.6692,
           7954.8512,
           7956.0214,
           7947.7017,
           7948.1144,
           7938.9999,
           7938.1346,
           7928.4885,
           7924.916,
           7914.1487,
           7909.0003,
           7897,
           7891.2066,
           7878,
           7870,
           7855,
           7845,
           7823,
           7805
          ],
          "colorscale": [
           [
            0,
            "#440154"
           ],
           [
            0.1111111111111111,
            "#482878"
           ],
           [
            0.2222222222222222,
            "#3e4989"
           ],
           [
            0.3333333333333333,
            "#31688e"
           ],
           [
            0.4444444444444444,
            "#26828e"
           ],
           [
            0.5555555555555556,
            "#1f9e89"
           ],
           [
            0.6666666666666666,
            "#35b779"
           ],
           [
            0.7777777777777778,
            "#6ece58"
           ],
           [
            0.8888888888888888,
            "#b5de2b"
           ],
           [
            1,
            "#fde725"
           ]
          ],
          "opacity": 0.8,
          "size": 6
         },
         "mode": "lines+markers",
         "name": "Ir",
         "text": [
          "A: 163",
          "A: 164",
          "A: 165",
          "A: 166",
          "A: 167",
          "A: 168",
          "A: 169",
          "A: 170",
          "A: 171",
          "A: 172",
          "A: 173",
          "A: 174",
          "A: 175",
          "A: 176",
          "A: 177",
          "A: 178",
          "A: 179",
          "A: 180",
          "A: 181",
          "A: 182",
          "A: 183",
          "A: 184",
          "A: 185",
          "A: 186",
          "A: 187",
          "A: 188",
          "A: 189",
          "A: 190",
          "A: 191",
          "A: 192",
          "A: 193",
          "A: 194",
          "A: 195",
          "A: 196",
          "A: 197",
          "A: 198",
          "A: 199",
          "A: 200",
          "A: 201",
          "A: 202",
          "A: 203",
          "A: 204",
          "A: 205"
         ],
         "type": "scatter3d",
         "x": [
          163,
          164,
          165,
          166,
          167,
          168,
          169,
          170,
          171,
          172,
          173,
          174,
          175,
          176,
          177,
          178,
          179,
          180,
          181,
          182,
          183,
          184,
          185,
          186,
          187,
          188,
          189,
          190,
          191,
          192,
          193,
          194,
          195,
          196,
          197,
          198,
          199,
          200,
          201,
          202,
          203,
          204,
          205
         ],
         "y": [
          77,
          77,
          77,
          77,
          77,
          77,
          77,
          77,
          77,
          77,
          77,
          77,
          77,
          77,
          77,
          77,
          77,
          77,
          77,
          77,
          77,
          77,
          77,
          77,
          77,
          77,
          77,
          77,
          77,
          77,
          77,
          77,
          77,
          77,
          77,
          77,
          77,
          77,
          77,
          77,
          77,
          77,
          77
         ],
         "z": [
          7734,
          7750,
          7776,
          7789,
          7812.8254,
          7823.8509,
          7845.5944,
          7853,
          7873.4895,
          7880.2637,
          7898.068,
          7902.0377,
          7917.9112,
          7921.5522,
          7934.6328,
          7936.563,
          7947.5248,
          7947.6337,
          7956.5242,
          7954.8948,
          7961.8176,
          7959.1992,
          7963.7226,
          7958.0473,
          7960.6692,
          7954.8512,
          7956.0214,
          7947.7017,
          7948.1144,
          7938.9999,
          7938.1346,
          7928.4885,
          7924.916,
          7914.1487,
          7909.0003,
          7897,
          7891.2066,
          7878,
          7870,
          7855,
          7845,
          7823,
          7805
         ]
        },
        {
         "line": {
          "width": 2
         },
         "marker": {
          "color": [
           7703,
           7733,
           7746,
           7773.6217,
           7784,
           7808.2365,
           7816.6017,
           7839.246,
           7845.3856,
           7866.1143,
           7869.5216,
           7888.9934,
           7892.4896,
           7908.253,
           7910.6759,
           7923.5781,
           7924.1271,
           7934.7541,
           7933.3406,
           7942.5649,
           7939.7779,
           7946.8094,
           7941.1699,
           7947.9027,
           7941.4045,
           7946.4941,
           7938.7279,
           7942.4923,
           7933.7875,
           7935.942,
           7926.553,
           7926.5297,
           7915.9714,
           7914.1512,
           7902.3011,
           7899.1986,
           7885.8337,
           7881.5609,
           7867,
           7859,
           7836,
           7820,
           7797,
           7780
          ],
          "colorscale": [
           [
            0,
            "#440154"
           ],
           [
            0.1111111111111111,
            "#482878"
           ],
           [
            0.2222222222222222,
            "#3e4989"
           ],
           [
            0.3333333333333333,
            "#31688e"
           ],
           [
            0.4444444444444444,
            "#26828e"
           ],
           [
            0.5555555555555556,
            "#1f9e89"
           ],
           [
            0.6666666666666666,
            "#35b779"
           ],
           [
            0.7777777777777778,
            "#6ece58"
           ],
           [
            0.8888888888888888,
            "#b5de2b"
           ],
           [
            1,
            "#fde725"
           ]
          ],
          "opacity": 0.8,
          "size": 6
         },
         "mode": "lines+markers",
         "name": "Pt",
         "text": [
          "A: 165",
          "A: 166",
          "A: 167",
          "A: 168",
          "A: 169",
          "A: 170",
          "A: 171",
          "A: 172",
          "A: 173",
          "A: 174",
          "A: 175",
          "A: 176",
          "A: 177",
          "A: 178",
          "A: 179",
          "A: 180",
          "A: 181",
          "A: 182",
          "A: 183",
          "A: 184",
          "A: 185",
          "A: 186",
          "A: 187",
          "A: 188",
          "A: 189",
          "A: 190",
          "A: 191",
          "A: 192",
          "A: 193",
          "A: 194",
          "A: 195",
          "A: 196",
          "A: 197",
          "A: 198",
          "A: 199",
          "A: 200",
          "A: 201",
          "A: 202",
          "A: 203",
          "A: 204",
          "A: 205",
          "A: 206",
          "A: 207",
          "A: 208"
         ],
         "type": "scatter3d",
         "x": [
          165,
          166,
          167,
          168,
          169,
          170,
          171,
          172,
          173,
          174,
          175,
          176,
          177,
          178,
          179,
          180,
          181,
          182,
          183,
          184,
          185,
          186,
          187,
          188,
          189,
          190,
          191,
          192,
          193,
          194,
          195,
          196,
          197,
          198,
          199,
          200,
          201,
          202,
          203,
          204,
          205,
          206,
          207,
          208
         ],
         "y": [
          78,
          78,
          78,
          78,
          78,
          78,
          78,
          78,
          78,
          78,
          78,
          78,
          78,
          78,
          78,
          78,
          78,
          78,
          78,
          78,
          78,
          78,
          78,
          78,
          78,
          78,
          78,
          78,
          78,
          78,
          78,
          78,
          78,
          78,
          78,
          78,
          78,
          78,
          78,
          78,
          78,
          78,
          78,
          78
         ],
         "z": [
          7703,
          7733,
          7746,
          7773.6217,
          7784,
          7808.2365,
          7816.6017,
          7839.246,
          7845.3856,
          7866.1143,
          7869.5216,
          7888.9934,
          7892.4896,
          7908.253,
          7910.6759,
          7923.5781,
          7924.1271,
          7934.7541,
          7933.3406,
          7942.5649,
          7939.7779,
          7946.8094,
          7941.1699,
          7947.9027,
          7941.4045,
          7946.4941,
          7938.7279,
          7942.4923,
          7933.7875,
          7935.942,
          7926.553,
          7926.5297,
          7915.9714,
          7914.1512,
          7902.3011,
          7899.1986,
          7885.8337,
          7881.5609,
          7867,
          7859,
          7836,
          7820,
          7797,
          7780
         ]
        },
        {
         "line": {
          "width": 2
         },
         "marker": {
          "color": [
           7688,
           7716,
           7730,
           7754.1069,
           7766.1587,
           7788.2348,
           7797,
           7817.5939,
           7825.3837,
           7843.8623,
           7849.3946,
           7865.6374,
           7870.3194,
           7883.8359,
           7887.2442,
           7898.5644,
           7900.1947,
           7909.441,
           7909.5409,
           7917.4323,
           7914.7537,
           7921.9876,
           7918.8345,
           7924.6819,
           7920.1033,
           7924.1648,
           7918.7744,
           7921.3778,
           7914.8553,
           7915.6548,
           7908.5675,
           7906.9379,
           7898.4915,
           7895.1752,
           7885.91,
           7880.865,
           7868,
           7860,
           7840,
           7824,
           7803,
           7786,
           7764
          ],
          "colorscale": [
           [
            0,
            "#440154"
           ],
           [
            0.1111111111111111,
            "#482878"
           ],
           [
            0.2222222222222222,
            "#3e4989"
           ],
           [
            0.3333333333333333,
            "#31688e"
           ],
           [
            0.4444444444444444,
            "#26828e"
           ],
           [
            0.5555555555555556,
            "#1f9e89"
           ],
           [
            0.6666666666666666,
            "#35b779"
           ],
           [
            0.7777777777777778,
            "#6ece58"
           ],
           [
            0.8888888888888888,
            "#b5de2b"
           ],
           [
            1,
            "#fde725"
           ]
          ],
          "opacity": 0.8,
          "size": 6
         },
         "mode": "lines+markers",
         "name": "Au",
         "text": [
          "A: 168",
          "A: 169",
          "A: 170",
          "A: 171",
          "A: 172",
          "A: 173",
          "A: 174",
          "A: 175",
          "A: 176",
          "A: 177",
          "A: 178",
          "A: 179",
          "A: 180",
          "A: 181",
          "A: 182",
          "A: 183",
          "A: 184",
          "A: 185",
          "A: 186",
          "A: 187",
          "A: 188",
          "A: 189",
          "A: 190",
          "A: 191",
          "A: 192",
          "A: 193",
          "A: 194",
          "A: 195",
          "A: 196",
          "A: 197",
          "A: 198",
          "A: 199",
          "A: 200",
          "A: 201",
          "A: 202",
          "A: 203",
          "A: 204",
          "A: 205",
          "A: 206",
          "A: 207",
          "A: 208",
          "A: 209",
          "A: 210"
         ],
         "type": "scatter3d",
         "x": [
          168,
          169,
          170,
          171,
          172,
          173,
          174,
          175,
          176,
          177,
          178,
          179,
          180,
          181,
          182,
          183,
          184,
          185,
          186,
          187,
          188,
          189,
          190,
          191,
          192,
          193,
          194,
          195,
          196,
          197,
          198,
          199,
          200,
          201,
          202,
          203,
          204,
          205,
          206,
          207,
          208,
          209,
          210
         ],
         "y": [
          79,
          79,
          79,
          79,
          79,
          79,
          79,
          79,
          79,
          79,
          79,
          79,
          79,
          79,
          79,
          79,
          79,
          79,
          79,
          79,
          79,
          79,
          79,
          79,
          79,
          79,
          79,
          79,
          79,
          79,
          79,
          79,
          79,
          79,
          79,
          79,
          79,
          79,
          79,
          79,
          79,
          79,
          79
         ],
         "z": [
          7688,
          7716,
          7730,
          7754.1069,
          7766.1587,
          7788.2348,
          7797,
          7817.5939,
          7825.3837,
          7843.8623,
          7849.3946,
          7865.6374,
          7870.3194,
          7883.8359,
          7887.2442,
          7898.5644,
          7900.1947,
          7909.441,
          7909.5409,
          7917.4323,
          7914.7537,
          7921.9876,
          7918.8345,
          7924.6819,
          7920.1033,
          7924.1648,
          7918.7744,
          7921.3778,
          7914.8553,
          7915.6548,
          7908.5675,
          7906.9379,
          7898.4915,
          7895.1752,
          7885.91,
          7880.865,
          7868,
          7860,
          7840,
          7824,
          7803,
          7786,
          7764
         ]
        },
        {
         "line": {
          "width": 2
         },
         "marker": {
          "color": [
           7671,
           7686,
           7713.6064,
           7725,
           7749.7851,
           7759.2134,
           7782.664,
           7789.8947,
           7811.3607,
           7816.2631,
           7836.1111,
           7839.6792,
           7856.9726,
           7859.3885,
           7874.3454,
           7874.5391,
           7888.2605,
           7886.9905,
           7899.034,
           7896.9192,
           7907.0174,
           7903.8002,
           7912.0666,
           7907.973,
           7914.5974,
           7909.398,
           7914.37,
           7908.6402,
           7911.5532,
           7905.2794,
           7905.8956,
           7897.5607,
           7896.8505,
           7887.4828,
           7885.5455,
           7874.7325,
           7869.1723,
           7848.6112,
           7834.1914,
           7813,
           7799,
           7777,
           7762,
           7739,
           7724,
           7701,
           7685
          ],
          "colorscale": [
           [
            0,
            "#440154"
           ],
           [
            0.1111111111111111,
            "#482878"
           ],
           [
            0.2222222222222222,
            "#3e4989"
           ],
           [
            0.3333333333333333,
            "#31688e"
           ],
           [
            0.4444444444444444,
            "#26828e"
           ],
           [
            0.5555555555555556,
            "#1f9e89"
           ],
           [
            0.6666666666666666,
            "#35b779"
           ],
           [
            0.7777777777777778,
            "#6ece58"
           ],
           [
            0.8888888888888888,
            "#b5de2b"
           ],
           [
            1,
            "#fde725"
           ]
          ],
          "opacity": 0.8,
          "size": 6
         },
         "mode": "lines+markers",
         "name": "Hg",
         "text": [
          "A: 170",
          "A: 171",
          "A: 172",
          "A: 173",
          "A: 174",
          "A: 175",
          "A: 176",
          "A: 177",
          "A: 178",
          "A: 179",
          "A: 180",
          "A: 181",
          "A: 182",
          "A: 183",
          "A: 184",
          "A: 185",
          "A: 186",
          "A: 187",
          "A: 188",
          "A: 189",
          "A: 190",
          "A: 191",
          "A: 192",
          "A: 193",
          "A: 194",
          "A: 195",
          "A: 196",
          "A: 197",
          "A: 198",
          "A: 199",
          "A: 200",
          "A: 201",
          "A: 202",
          "A: 203",
          "A: 204",
          "A: 205",
          "A: 206",
          "A: 207",
          "A: 208",
          "A: 209",
          "A: 210",
          "A: 211",
          "A: 212",
          "A: 213",
          "A: 214",
          "A: 215",
          "A: 216"
         ],
         "type": "scatter3d",
         "x": [
          170,
          171,
          172,
          173,
          174,
          175,
          176,
          177,
          178,
          179,
          180,
          181,
          182,
          183,
          184,
          185,
          186,
          187,
          188,
          189,
          190,
          191,
          192,
          193,
          194,
          195,
          196,
          197,
          198,
          199,
          200,
          201,
          202,
          203,
          204,
          205,
          206,
          207,
          208,
          209,
          210,
          211,
          212,
          213,
          214,
          215,
          216
         ],
         "y": [
          80,
          80,
          80,
          80,
          80,
          80,
          80,
          80,
          80,
          80,
          80,
          80,
          80,
          80,
          80,
          80,
          80,
          80,
          80,
          80,
          80,
          80,
          80,
          80,
          80,
          80,
          80,
          80,
          80,
          80,
          80,
          80,
          80,
          80,
          80,
          80,
          80,
          80,
          80,
          80,
          80,
          80,
          80,
          80,
          80,
          80,
          80
         ],
         "z": [
          7671,
          7686,
          7713.6064,
          7725,
          7749.7851,
          7759.2134,
          7782.664,
          7789.8947,
          7811.3607,
          7816.2631,
          7836.1111,
          7839.6792,
          7856.9726,
          7859.3885,
          7874.3454,
          7874.5391,
          7888.2605,
          7886.9905,
          7899.034,
          7896.9192,
          7907.0174,
          7903.8002,
          7912.0666,
          7907.973,
          7914.5974,
          7909.398,
          7914.37,
          7908.6402,
          7911.5532,
          7905.2794,
          7905.8956,
          7897.5607,
          7896.8505,
          7887.4828,
          7885.5455,
          7874.7325,
          7869.1723,
          7848.6112,
          7834.1914,
          7813,
          7799,
          7777,
          7762,
          7739,
          7724,
          7701,
          7685
         ]
        },
        {
         "line": {
          "width": 2
         },
         "marker": {
          "color": [
           7707.9383,
           7732.1655,
           7741,
           7763.4942,
           7771.431,
           7791.9183,
           7796.3571,
           7815.6741,
           7818.6727,
           7835.5756,
           7837.5161,
           7852.465,
           7853.0537,
           7866.2704,
           7866.0345,
           7877.1445,
           7876.0167,
           7885.3445,
           7883.5211,
           7890.7293,
           7888.29,
           7893.5725,
           7890.3011,
           7893.8773,
           7889.7037,
           7891.2717,
           7886.2206,
           7886.053,
           7880.0238,
           7878.3946,
           7871.7219,
           7866.7979,
           7847.1835,
           7833.3979,
           7813.589,
           7799.7915,
           7780,
           7765.4311,
           7745,
           7730,
           7709,
           7693,
           7672
          ],
          "colorscale": [
           [
            0,
            "#440154"
           ],
           [
            0.1111111111111111,
            "#482878"
           ],
           [
            0.2222222222222222,
            "#3e4989"
           ],
           [
            0.3333333333333333,
            "#31688e"
           ],
           [
            0.4444444444444444,
            "#26828e"
           ],
           [
            0.5555555555555556,
            "#1f9e89"
           ],
           [
            0.6666666666666666,
            "#35b779"
           ],
           [
            0.7777777777777778,
            "#6ece58"
           ],
           [
            0.8888888888888888,
            "#b5de2b"
           ],
           [
            1,
            "#fde725"
           ]
          ],
          "opacity": 0.8,
          "size": 6
         },
         "mode": "lines+markers",
         "name": "Tl",
         "text": [
          "A: 176",
          "A: 177",
          "A: 178",
          "A: 179",
          "A: 180",
          "A: 181",
          "A: 182",
          "A: 183",
          "A: 184",
          "A: 185",
          "A: 186",
          "A: 187",
          "A: 188",
          "A: 189",
          "A: 190",
          "A: 191",
          "A: 192",
          "A: 193",
          "A: 194",
          "A: 195",
          "A: 196",
          "A: 197",
          "A: 198",
          "A: 199",
          "A: 200",
          "A: 201",
          "A: 202",
          "A: 203",
          "A: 204",
          "A: 205",
          "A: 206",
          "A: 207",
          "A: 208",
          "A: 209",
          "A: 210",
          "A: 211",
          "A: 212",
          "A: 213",
          "A: 214",
          "A: 215",
          "A: 216",
          "A: 217",
          "A: 218"
         ],
         "type": "scatter3d",
         "x": [
          176,
          177,
          178,
          179,
          180,
          181,
          182,
          183,
          184,
          185,
          186,
          187,
          188,
          189,
          190,
          191,
          192,
          193,
          194,
          195,
          196,
          197,
          198,
          199,
          200,
          201,
          202,
          203,
          204,
          205,
          206,
          207,
          208,
          209,
          210,
          211,
          212,
          213,
          214,
          215,
          216,
          217,
          218
         ],
         "y": [
          81,
          81,
          81,
          81,
          81,
          81,
          81,
          81,
          81,
          81,
          81,
          81,
          81,
          81,
          81,
          81,
          81,
          81,
          81,
          81,
          81,
          81,
          81,
          81,
          81,
          81,
          81,
          81,
          81,
          81,
          81,
          81,
          81,
          81,
          81,
          81,
          81,
          81,
          81,
          81,
          81,
          81,
          81
         ],
         "z": [
          7707.9383,
          7732.1655,
          7741,
          7763.4942,
          7771.431,
          7791.9183,
          7796.3571,
          7815.6741,
          7818.6727,
          7835.5756,
          7837.5161,
          7852.465,
          7853.0537,
          7866.2704,
          7866.0345,
          7877.1445,
          7876.0167,
          7885.3445,
          7883.5211,
          7890.7293,
          7888.29,
          7893.5725,
          7890.3011,
          7893.8773,
          7889.7037,
          7891.2717,
          7886.2206,
          7886.053,
          7880.0238,
          7878.3946,
          7871.7219,
          7866.7979,
          7847.1835,
          7833.3979,
          7813.589,
          7799.7915,
          7780,
          7765.4311,
          7745,
          7730,
          7709,
          7693,
          7672
         ]
        },
        {
         "line": {
          "width": 2
         },
         "marker": {
          "color": [
           7690.8359,
           7701.463,
           7725.6993,
           7734.0704,
           7756.3296,
           7762.179,
           7782.7264,
           7786.933,
           7805.342,
           7808.401,
           7824.8211,
           7826.2999,
           7841.1294,
           7841.6782,
           7854.6482,
           7854.0994,
           7865.4181,
           7864.0647,
           7873.3374,
           7871.2822,
           7878.9695,
           7875.7366,
           7881.8101,
           7877.8782,
           7882.1505,
           7877.397,
           7879.9326,
           7874.3313,
           7875.362,
           7869.8664,
           7867.453,
           7848.6488,
           7835.9656,
           7817.0079,
           7804.3203,
           7785.1732,
           7772.3955,
           7752.7381,
           7740,
           7719,
           7705,
           7684,
           7670
          ],
          "colorscale": [
           [
            0,
            "#440154"
           ],
           [
            0.1111111111111111,
            "#482878"
           ],
           [
            0.2222222222222222,
            "#3e4989"
           ],
           [
            0.3333333333333333,
            "#31688e"
           ],
           [
            0.4444444444444444,
            "#26828e"
           ],
           [
            0.5555555555555556,
            "#1f9e89"
           ],
           [
            0.6666666666666666,
            "#35b779"
           ],
           [
            0.7777777777777778,
            "#6ece58"
           ],
           [
            0.8888888888888888,
            "#b5de2b"
           ],
           [
            1,
            "#fde725"
           ]
          ],
          "opacity": 0.8,
          "size": 6
         },
         "mode": "lines+markers",
         "name": "Pb",
         "text": [
          "A: 178",
          "A: 179",
          "A: 180",
          "A: 181",
          "A: 182",
          "A: 183",
          "A: 184",
          "A: 185",
          "A: 186",
          "A: 187",
          "A: 188",
          "A: 189",
          "A: 190",
          "A: 191",
          "A: 192",
          "A: 193",
          "A: 194",
          "A: 195",
          "A: 196",
          "A: 197",
          "A: 198",
          "A: 199",
          "A: 200",
          "A: 201",
          "A: 202",
          "A: 203",
          "A: 204",
          "A: 205",
          "A: 206",
          "A: 207",
          "A: 208",
          "A: 209",
          "A: 210",
          "A: 211",
          "A: 212",
          "A: 213",
          "A: 214",
          "A: 215",
          "A: 216",
          "A: 217",
          "A: 218",
          "A: 219",
          "A: 220"
         ],
         "type": "scatter3d",
         "x": [
          178,
          179,
          180,
          181,
          182,
          183,
          184,
          185,
          186,
          187,
          188,
          189,
          190,
          191,
          192,
          193,
          194,
          195,
          196,
          197,
          198,
          199,
          200,
          201,
          202,
          203,
          204,
          205,
          206,
          207,
          208,
          209,
          210,
          211,
          212,
          213,
          214,
          215,
          216,
          217,
          218,
          219,
          220
         ],
         "y": [
          82,
          82,
          82,
          82,
          82,
          82,
          82,
          82,
          82,
          82,
          82,
          82,
          82,
          82,
          82,
          82,
          82,
          82,
          82,
          82,
          82,
          82,
          82,
          82,
          82,
          82,
          82,
          82,
          82,
          82,
          82,
          82,
          82,
          82,
          82,
          82,
          82,
          82,
          82,
          82,
          82,
          82,
          82
         ],
         "z": [
          7690.8359,
          7701.463,
          7725.6993,
          7734.0704,
          7756.3296,
          7762.179,
          7782.7264,
          7786.933,
          7805.342,
          7808.401,
          7824.8211,
          7826.2999,
          7841.1294,
          7841.6782,
          7854.6482,
          7854.0994,
          7865.4181,
          7864.0647,
          7873.3374,
          7871.2822,
          7878.9695,
          7875.7366,
          7881.8101,
          7877.8782,
          7882.1505,
          7877.397,
          7879.9326,
          7874.3313,
          7875.362,
          7869.8664,
          7867.453,
          7848.6488,
          7835.9656,
          7817.0079,
          7804.3203,
          7785.1732,
          7772.3955,
          7752.7381,
          7740,
          7719,
          7705,
          7684,
          7670
         ]
        },
        {
         "line": {
          "width": 2
         },
         "marker": {
          "color": [
           7712,
           7732,
           7739.1175,
           7758.2083,
           7764.1904,
           7780.9999,
           7785.3239,
           7800.6613,
           7803.6084,
           7817.1718,
           7819.1955,
           7830.7579,
           7831.9009,
           7841.6348,
           7841.2123,
           7849.5232,
           7848.4969,
           7854.8713,
           7852.5857,
           7857.4762,
           7854.2157,
           7857.3218,
           7853.3249,
           7854.5053,
           7849.8534,
           7847.9869,
           7832.5424,
           7819.7745,
           7803.314,
           7791.0217,
           7773.4955,
           7761.7177,
           7743.4996,
           7731.8491,
           7712.828,
           7700,
           7681,
           7668,
           7648,
           7636,
           7616
          ],
          "colorscale": [
           [
            0,
            "#440154"
           ],
           [
            0.1111111111111111,
            "#482878"
           ],
           [
            0.2222222222222222,
            "#3e4989"
           ],
           [
            0.3333333333333333,
            "#31688e"
           ],
           [
            0.4444444444444444,
            "#26828e"
           ],
           [
            0.5555555555555556,
            "#1f9e89"
           ],
           [
            0.6666666666666666,
            "#35b779"
           ],
           [
            0.7777777777777778,
            "#6ece58"
           ],
           [
            0.8888888888888888,
            "#b5de2b"
           ],
           [
            1,
            "#fde725"
           ]
          ],
          "opacity": 0.8,
          "size": 6
         },
         "mode": "lines+markers",
         "name": "Bi",
         "text": [
          "A: 184",
          "A: 185",
          "A: 186",
          "A: 187",
          "A: 188",
          "A: 189",
          "A: 190",
          "A: 191",
          "A: 192",
          "A: 193",
          "A: 194",
          "A: 195",
          "A: 196",
          "A: 197",
          "A: 198",
          "A: 199",
          "A: 200",
          "A: 201",
          "A: 202",
          "A: 203",
          "A: 204",
          "A: 205",
          "A: 206",
          "A: 207",
          "A: 208",
          "A: 209",
          "A: 210",
          "A: 211",
          "A: 212",
          "A: 213",
          "A: 214",
          "A: 215",
          "A: 216",
          "A: 217",
          "A: 218",
          "A: 219",
          "A: 220",
          "A: 221",
          "A: 222",
          "A: 223",
          "A: 224"
         ],
         "type": "scatter3d",
         "x": [
          184,
          185,
          186,
          187,
          188,
          189,
          190,
          191,
          192,
          193,
          194,
          195,
          196,
          197,
          198,
          199,
          200,
          201,
          202,
          203,
          204,
          205,
          206,
          207,
          208,
          209,
          210,
          211,
          212,
          213,
          214,
          215,
          216,
          217,
          218,
          219,
          220,
          221,
          222,
          223,
          224
         ],
         "y": [
          83,
          83,
          83,
          83,
          83,
          83,
          83,
          83,
          83,
          83,
          83,
          83,
          83,
          83,
          83,
          83,
          83,
          83,
          83,
          83,
          83,
          83,
          83,
          83,
          83,
          83,
          83,
          83,
          83,
          83,
          83,
          83,
          83,
          83,
          83,
          83,
          83,
          83,
          83,
          83,
          83
         ],
         "z": [
          7712,
          7732,
          7739.1175,
          7758.2083,
          7764.1904,
          7780.9999,
          7785.3239,
          7800.6613,
          7803.6084,
          7817.1718,
          7819.1955,
          7830.7579,
          7831.9009,
          7841.6348,
          7841.2123,
          7849.5232,
          7848.4969,
          7854.8713,
          7852.5857,
          7857.4762,
          7854.2157,
          7857.3218,
          7853.3249,
          7854.5053,
          7849.8534,
          7847.9869,
          7832.5424,
          7819.7745,
          7803.314,
          7791.0217,
          7773.4955,
          7761.7177,
          7743.4996,
          7731.8491,
          7712.828,
          7700,
          7681,
          7668,
          7648,
          7636,
          7616
         ]
        },
        {
         "line": {
          "width": 2
         },
         "marker": {
          "color": [
           7695.9488,
           7704.7889,
           7724.6544,
           7731.1321,
           7749.4526,
           7753.7871,
           7771.0542,
           7773.951,
           7789.2947,
           7791.3155,
           7804.7445,
           7805.7136,
           7817.5611,
           7817.6582,
           7827.4407,
           7826.5619,
           7834.8053,
           7832.8632,
           7839.0823,
           7836.2168,
           7840.5973,
           7836.6734,
           7839.3568,
           7835.1882,
           7834.3462,
           7818.7842,
           7810.2438,
           7794.024,
           7785.1163,
           7768.1768,
           7758.8205,
           7741.3614,
           7731.53,
           7713.334,
           7703.2244,
           7684.4814,
           7674.0054,
           7655,
           7644,
           7626,
           7614,
           7596
          ],
          "colorscale": [
           [
            0,
            "#440154"
           ],
           [
            0.1111111111111111,
            "#482878"
           ],
           [
            0.2222222222222222,
            "#3e4989"
           ],
           [
            0.3333333333333333,
            "#31688e"
           ],
           [
            0.4444444444444444,
            "#26828e"
           ],
           [
            0.5555555555555556,
            "#1f9e89"
           ],
           [
            0.6666666666666666,
            "#35b779"
           ],
           [
            0.7777777777777778,
            "#6ece58"
           ],
           [
            0.8888888888888888,
            "#b5de2b"
           ],
           [
            1,
            "#fde725"
           ]
          ],
          "opacity": 0.8,
          "size": 6
         },
         "mode": "lines+markers",
         "name": "Po",
         "text": [
          "A: 186",
          "A: 187",
          "A: 188",
          "A: 189",
          "A: 190",
          "A: 191",
          "A: 192",
          "A: 193",
          "A: 194",
          "A: 195",
          "A: 196",
          "A: 197",
          "A: 198",
          "A: 199",
          "A: 200",
          "A: 201",
          "A: 202",
          "A: 203",
          "A: 204",
          "A: 205",
          "A: 206",
          "A: 207",
          "A: 208",
          "A: 209",
          "A: 210",
          "A: 211",
          "A: 212",
          "A: 213",
          "A: 214",
          "A: 215",
          "A: 216",
          "A: 217",
          "A: 218",
          "A: 219",
          "A: 220",
          "A: 221",
          "A: 222",
          "A: 223",
          "A: 224",
          "A: 225",
          "A: 226",
          "A: 227"
         ],
         "type": "scatter3d",
         "x": [
          186,
          187,
          188,
          189,
          190,
          191,
          192,
          193,
          194,
          195,
          196,
          197,
          198,
          199,
          200,
          201,
          202,
          203,
          204,
          205,
          206,
          207,
          208,
          209,
          210,
          211,
          212,
          213,
          214,
          215,
          216,
          217,
          218,
          219,
          220,
          221,
          222,
          223,
          224,
          225,
          226,
          227
         ],
         "y": [
          84,
          84,
          84,
          84,
          84,
          84,
          84,
          84,
          84,
          84,
          84,
          84,
          84,
          84,
          84,
          84,
          84,
          84,
          84,
          84,
          84,
          84,
          84,
          84,
          84,
          84,
          84,
          84,
          84,
          84,
          84,
          84,
          84,
          84,
          84,
          84,
          84,
          84,
          84,
          84,
          84,
          84
         ],
         "z": [
          7695.9488,
          7704.7889,
          7724.6544,
          7731.1321,
          7749.4526,
          7753.7871,
          7771.0542,
          7773.951,
          7789.2947,
          7791.3155,
          7804.7445,
          7805.7136,
          7817.5611,
          7817.6582,
          7827.4407,
          7826.5619,
          7834.8053,
          7832.8632,
          7839.0823,
          7836.2168,
          7840.5973,
          7836.6734,
          7839.3568,
          7835.1882,
          7834.3462,
          7818.7842,
          7810.2438,
          7794.024,
          7785.1163,
          7768.1768,
          7758.8205,
          7741.3614,
          7731.53,
          7713.334,
          7703.2244,
          7684.4814,
          7674.0054,
          7655,
          7644,
          7626,
          7614,
          7596
         ]
        },
        {
         "line": {
          "width": 2
         },
         "marker": {
          "color": [
           7702.9233,
           7709.7283,
           7727.1099,
           7732.2304,
           7748.0914,
           7752.0001,
           7766.0174,
           7769.3446,
           7781.4883,
           7783.7601,
           7794.1536,
           7794.5637,
           7803.6487,
           7803.5522,
           7810.2694,
           7808.8904,
           7813.9653,
           7811.5604,
           7814.7835,
           7811.6638,
           7811.3545,
           7798.34,
           7790.0036,
           7776.3632,
           7767.8627,
           7753.0024,
           7744.6172,
           7729.1175,
           7720.197,
           7703.7033,
           7694.4754,
           7677.3878,
           7668.0557,
           7650.7354,
           7641,
           7624,
           7613,
           7596,
           7585
          ],
          "colorscale": [
           [
            0,
            "#440154"
           ],
           [
            0.1111111111111111,
            "#482878"
           ],
           [
            0.2222222222222222,
            "#3e4989"
           ],
           [
            0.3333333333333333,
            "#31688e"
           ],
           [
            0.4444444444444444,
            "#26828e"
           ],
           [
            0.5555555555555556,
            "#1f9e89"
           ],
           [
            0.6666666666666666,
            "#35b779"
           ],
           [
            0.7777777777777778,
            "#6ece58"
           ],
           [
            0.8888888888888888,
            "#b5de2b"
           ],
           [
            1,
            "#fde725"
           ]
          ],
          "opacity": 0.8,
          "size": 6
         },
         "mode": "lines+markers",
         "name": "At",
         "text": [
          "A: 191",
          "A: 192",
          "A: 193",
          "A: 194",
          "A: 195",
          "A: 196",
          "A: 197",
          "A: 198",
          "A: 199",
          "A: 200",
          "A: 201",
          "A: 202",
          "A: 203",
          "A: 204",
          "A: 205",
          "A: 206",
          "A: 207",
          "A: 208",
          "A: 209",
          "A: 210",
          "A: 211",
          "A: 212",
          "A: 213",
          "A: 214",
          "A: 215",
          "A: 216",
          "A: 217",
          "A: 218",
          "A: 219",
          "A: 220",
          "A: 221",
          "A: 222",
          "A: 223",
          "A: 224",
          "A: 225",
          "A: 226",
          "A: 227",
          "A: 228",
          "A: 229"
         ],
         "type": "scatter3d",
         "x": [
          191,
          192,
          193,
          194,
          195,
          196,
          197,
          198,
          199,
          200,
          201,
          202,
          203,
          204,
          205,
          206,
          207,
          208,
          209,
          210,
          211,
          212,
          213,
          214,
          215,
          216,
          217,
          218,
          219,
          220,
          221,
          222,
          223,
          224,
          225,
          226,
          227,
          228,
          229
         ],
         "y": [
          85,
          85,
          85,
          85,
          85,
          85,
          85,
          85,
          85,
          85,
          85,
          85,
          85,
          85,
          85,
          85,
          85,
          85,
          85,
          85,
          85,
          85,
          85,
          85,
          85,
          85,
          85,
          85,
          85,
          85,
          85,
          85,
          85,
          85,
          85,
          85,
          85,
          85,
          85
         ],
         "z": [
          7702.9233,
          7709.7283,
          7727.1099,
          7732.2304,
          7748.0914,
          7752.0001,
          7766.0174,
          7769.3446,
          7781.4883,
          7783.7601,
          7794.1536,
          7794.5637,
          7803.6487,
          7803.5522,
          7810.2694,
          7808.8904,
          7813.9653,
          7811.5604,
          7814.7835,
          7811.6638,
          7811.3545,
          7798.34,
          7790.0036,
          7776.3632,
          7767.8627,
          7753.0024,
          7744.6172,
          7729.1175,
          7720.197,
          7703.7033,
          7694.4754,
          7677.3878,
          7668.0557,
          7650.7354,
          7641,
          7624,
          7613,
          7596,
          7585
         ]
        },
        {
         "line": {
          "width": 2
         },
         "marker": {
          "color": [
           7675.853,
           7694.9961,
           7700.3841,
           7717.966,
           7722.119,
           7737.7245,
           7741.0568,
           7754.9111,
           7757.0174,
           7769.3018,
           7770.3437,
           7780.5743,
           7780.7226,
           7789.0417,
           7787.9987,
           7794.2678,
           7792.1755,
           7796.6653,
           7793.9412,
           7794.7963,
           7782.1824,
           7777.1023,
           7763.8164,
           7758.6553,
           7744.4037,
           7738.7527,
           7723.7784,
           7717.2552,
           7701.3941,
           7694.4991,
           7678.172,
           7670.7514,
           7654.3581,
           7646.4108,
           7630.0508,
           7621.6457,
           7605.6227,
           7595,
           7579
          ],
          "colorscale": [
           [
            0,
            "#440154"
           ],
           [
            0.1111111111111111,
            "#482878"
           ],
           [
            0.2222222222222222,
            "#3e4989"
           ],
           [
            0.3333333333333333,
            "#31688e"
           ],
           [
            0.4444444444444444,
            "#26828e"
           ],
           [
            0.5555555555555556,
            "#1f9e89"
           ],
           [
            0.6666666666666666,
            "#35b779"
           ],
           [
            0.7777777777777778,
            "#6ece58"
           ],
           [
            0.8888888888888888,
            "#b5de2b"
           ],
           [
            1,
            "#fde725"
           ]
          ],
          "opacity": 0.8,
          "size": 6
         },
         "mode": "lines+markers",
         "name": "Rn",
         "text": [
          "A: 193",
          "A: 194",
          "A: 195",
          "A: 196",
          "A: 197",
          "A: 198",
          "A: 199",
          "A: 200",
          "A: 201",
          "A: 202",
          "A: 203",
          "A: 204",
          "A: 205",
          "A: 206",
          "A: 207",
          "A: 208",
          "A: 209",
          "A: 210",
          "A: 211",
          "A: 212",
          "A: 213",
          "A: 214",
          "A: 215",
          "A: 216",
          "A: 217",
          "A: 218",
          "A: 219",
          "A: 220",
          "A: 221",
          "A: 222",
          "A: 223",
          "A: 224",
          "A: 225",
          "A: 226",
          "A: 227",
          "A: 228",
          "A: 229",
          "A: 230",
          "A: 231"
         ],
         "type": "scatter3d",
         "x": [
          193,
          194,
          195,
          196,
          197,
          198,
          199,
          200,
          201,
          202,
          203,
          204,
          205,
          206,
          207,
          208,
          209,
          210,
          211,
          212,
          213,
          214,
          215,
          216,
          217,
          218,
          219,
          220,
          221,
          222,
          223,
          224,
          225,
          226,
          227,
          228,
          229,
          230,
          231
         ],
         "y": [
          86,
          86,
          86,
          86,
          86,
          86,
          86,
          86,
          86,
          86,
          86,
          86,
          86,
          86,
          86,
          86,
          86,
          86,
          86,
          86,
          86,
          86,
          86,
          86,
          86,
          86,
          86,
          86,
          86,
          86,
          86,
          86,
          86,
          86,
          86,
          86,
          86,
          86,
          86
         ],
         "z": [
          7675.853,
          7694.9961,
          7700.3841,
          7717.966,
          7722.119,
          7737.7245,
          7741.0568,
          7754.9111,
          7757.0174,
          7769.3018,
          7770.3437,
          7780.5743,
          7780.7226,
          7789.0417,
          7787.9987,
          7794.2678,
          7792.1755,
          7796.6653,
          7793.9412,
          7794.7963,
          7782.1824,
          7777.1023,
          7763.8164,
          7758.6553,
          7744.4037,
          7738.7527,
          7723.7784,
          7717.2552,
          7701.3941,
          7694.4991,
          7678.172,
          7670.7514,
          7654.3581,
          7646.4108,
          7630.0508,
          7621.6457,
          7605.6227,
          7595,
          7579
         ]
        },
        {
         "line": {
          "width": 2
         },
         "marker": {
          "color": [
           7673.764,
           7679.1873,
           7695.2599,
           7700.3292,
           7714.8367,
           7719.0125,
           7731.7092,
           7734.6931,
           7745.687,
           7746.9621,
           7756.2689,
           7756.8985,
           7763.7485,
           7763.1243,
           7768.3613,
           7766.8455,
           7768.4543,
           7757.7393,
           7753.2607,
           7742.4513,
           7737.775,
           7726.7143,
           7721.1759,
           7709.743,
           7703.2572,
           7690.9474,
           7683.6655,
           7670.368,
           7662.9412,
           7648.3768,
           7640.7162,
           7626.3689,
           7618.338,
           7603.7052,
           7594.5009,
           7579.3481,
           7569.2398
          ],
          "colorscale": [
           [
            0,
            "#440154"
           ],
           [
            0.1111111111111111,
            "#482878"
           ],
           [
            0.2222222222222222,
            "#3e4989"
           ],
           [
            0.3333333333333333,
            "#31688e"
           ],
           [
            0.4444444444444444,
            "#26828e"
           ],
           [
            0.5555555555555556,
            "#1f9e89"
           ],
           [
            0.6666666666666666,
            "#35b779"
           ],
           [
            0.7777777777777778,
            "#6ece58"
           ],
           [
            0.8888888888888888,
            "#b5de2b"
           ],
           [
            1,
            "#fde725"
           ]
          ],
          "opacity": 0.8,
          "size": 6
         },
         "mode": "lines+markers",
         "name": "Fr",
         "text": [
          "A: 197",
          "A: 198",
          "A: 199",
          "A: 200",
          "A: 201",
          "A: 202",
          "A: 203",
          "A: 204",
          "A: 205",
          "A: 206",
          "A: 207",
          "A: 208",
          "A: 209",
          "A: 210",
          "A: 211",
          "A: 212",
          "A: 213",
          "A: 214",
          "A: 215",
          "A: 216",
          "A: 217",
          "A: 218",
          "A: 219",
          "A: 220",
          "A: 221",
          "A: 222",
          "A: 223",
          "A: 224",
          "A: 225",
          "A: 226",
          "A: 227",
          "A: 228",
          "A: 229",
          "A: 230",
          "A: 231",
          "A: 232",
          "A: 233"
         ],
         "type": "scatter3d",
         "x": [
          197,
          198,
          199,
          200,
          201,
          202,
          203,
          204,
          205,
          206,
          207,
          208,
          209,
          210,
          211,
          212,
          213,
          214,
          215,
          216,
          217,
          218,
          219,
          220,
          221,
          222,
          223,
          224,
          225,
          226,
          227,
          228,
          229,
          230,
          231,
          232,
          233
         ],
         "y": [
          87,
          87,
          87,
          87,
          87,
          87,
          87,
          87,
          87,
          87,
          87,
          87,
          87,
          87,
          87,
          87,
          87,
          87,
          87,
          87,
          87,
          87,
          87,
          87,
          87,
          87,
          87,
          87,
          87,
          87,
          87,
          87,
          87,
          87,
          87,
          87,
          87
         ],
         "z": [
          7673.764,
          7679.1873,
          7695.2599,
          7700.3292,
          7714.8367,
          7719.0125,
          7731.7092,
          7734.6931,
          7745.687,
          7746.9621,
          7756.2689,
          7756.8985,
          7763.7485,
          7763.1243,
          7768.3613,
          7766.8455,
          7768.4543,
          7757.7393,
          7753.2607,
          7742.4513,
          7737.775,
          7726.7143,
          7721.1759,
          7709.743,
          7703.2572,
          7690.9474,
          7683.6655,
          7670.368,
          7662.9412,
          7648.3768,
          7640.7162,
          7626.3689,
          7618.338,
          7603.7052,
          7594.5009,
          7579.3481,
          7569.2398
         ]
        },
        {
         "line": {
          "width": 2
         },
         "marker": {
          "color": [
           7669.4108,
           7685.5684,
           7689.8015,
           7704.1238,
           7707.1698,
           7719.8028,
           7721.7503,
           7732.0177,
           7733.0177,
           7741.3687,
           7741.0887,
           7747.5078,
           7746.4726,
           7749.1719,
           7739.3249,
           7737.3458,
           7726.9122,
           7725.0241,
           7714.056,
           7711.6879,
           7701.1352,
           7696.6931,
           7685.3101,
           7679.9236,
           7667.5866,
           7661.9636,
           7648.3048,
           7642.4289,
           7628.4862,
           7621.9144,
           7607.8418,
           7600.0099,
           7585.5644,
           7576.5439,
           7561
          ],
          "colorscale": [
           [
            0,
            "#440154"
           ],
           [
            0.1111111111111111,
            "#482878"
           ],
           [
            0.2222222222222222,
            "#3e4989"
           ],
           [
            0.3333333333333333,
            "#31688e"
           ],
           [
            0.4444444444444444,
            "#26828e"
           ],
           [
            0.5555555555555556,
            "#1f9e89"
           ],
           [
            0.6666666666666666,
            "#35b779"
           ],
           [
            0.7777777777777778,
            "#6ece58"
           ],
           [
            0.8888888888888888,
            "#b5de2b"
           ],
           [
            1,
            "#fde725"
           ]
          ],
          "opacity": 0.8,
          "size": 6
         },
         "mode": "lines+markers",
         "name": "Ra",
         "text": [
          "A: 201",
          "A: 202",
          "A: 203",
          "A: 204",
          "A: 205",
          "A: 206",
          "A: 207",
          "A: 208",
          "A: 209",
          "A: 210",
          "A: 211",
          "A: 212",
          "A: 213",
          "A: 214",
          "A: 215",
          "A: 216",
          "A: 217",
          "A: 218",
          "A: 219",
          "A: 220",
          "A: 221",
          "A: 222",
          "A: 223",
          "A: 224",
          "A: 225",
          "A: 226",
          "A: 227",
          "A: 228",
          "A: 229",
          "A: 230",
          "A: 231",
          "A: 232",
          "A: 233",
          "A: 234",
          "A: 235"
         ],
         "type": "scatter3d",
         "x": [
          201,
          202,
          203,
          204,
          205,
          206,
          207,
          208,
          209,
          210,
          211,
          212,
          213,
          214,
          215,
          216,
          217,
          218,
          219,
          220,
          221,
          222,
          223,
          224,
          225,
          226,
          227,
          228,
          229,
          230,
          231,
          232,
          233,
          234,
          235
         ],
         "y": [
          88,
          88,
          88,
          88,
          88,
          88,
          88,
          88,
          88,
          88,
          88,
          88,
          88,
          88,
          88,
          88,
          88,
          88,
          88,
          88,
          88,
          88,
          88,
          88,
          88,
          88,
          88,
          88,
          88,
          88,
          88,
          88,
          88,
          88,
          88
         ],
         "z": [
          7669.4108,
          7685.5684,
          7689.8015,
          7704.1238,
          7707.1698,
          7719.8028,
          7721.7503,
          7732.0177,
          7733.0177,
          7741.3687,
          7741.0887,
          7747.5078,
          7746.4726,
          7749.1719,
          7739.3249,
          7737.3458,
          7726.9122,
          7725.0241,
          7714.056,
          7711.6879,
          7701.1352,
          7696.6931,
          7685.3101,
          7679.9236,
          7667.5866,
          7661.9636,
          7648.3048,
          7642.4289,
          7628.4862,
          7621.9144,
          7607.8418,
          7600.0099,
          7585.5644,
          7576.5439,
          7561
         ]
        },
        {
         "line": {
          "width": 2
         },
         "marker": {
          "color": [
           7662.8519,
           7667.8538,
           7681.1001,
           7684.8289,
           7695.8455,
           7698.0182,
           7707.468,
           7708.4479,
           7715.5908,
           7715.8874,
           7719.4137,
           7711.2319,
           7710.3448,
           7702.145,
           7700.5489,
           7692.3515,
           7690.5039,
           7682.8015,
           7679.1479,
           7670.1438,
           7665.6906,
           7655.6628,
           7650.7084,
           7639.1973,
           7633.2446,
           7621.4604,
           7615.0768,
           7602.4245,
           7595.1939,
           7582.1297,
           7573.5051,
           7559.2423,
           7550
          ],
          "colorscale": [
           [
            0,
            "#440154"
           ],
           [
            0.1111111111111111,
            "#482878"
           ],
           [
            0.2222222222222222,
            "#3e4989"
           ],
           [
            0.3333333333333333,
            "#31688e"
           ],
           [
            0.4444444444444444,
            "#26828e"
           ],
           [
            0.5555555555555556,
            "#1f9e89"
           ],
           [
            0.6666666666666666,
            "#35b779"
           ],
           [
            0.7777777777777778,
            "#6ece58"
           ],
           [
            0.8888888888888888,
            "#b5de2b"
           ],
           [
            1,
            "#fde725"
           ]
          ],
          "opacity": 0.8,
          "size": 6
         },
         "mode": "lines+markers",
         "name": "Ac",
         "text": [
          "A: 205",
          "A: 206",
          "A: 207",
          "A: 208",
          "A: 209",
          "A: 210",
          "A: 211",
          "A: 212",
          "A: 213",
          "A: 214",
          "A: 215",
          "A: 216",
          "A: 217",
          "A: 218",
          "A: 219",
          "A: 220",
          "A: 221",
          "A: 222",
          "A: 223",
          "A: 224",
          "A: 225",
          "A: 226",
          "A: 227",
          "A: 228",
          "A: 229",
          "A: 230",
          "A: 231",
          "A: 232",
          "A: 233",
          "A: 234",
          "A: 235",
          "A: 236",
          "A: 237"
         ],
         "type": "scatter3d",
         "x": [
          205,
          206,
          207,
          208,
          209,
          210,
          211,
          212,
          213,
          214,
          215,
          216,
          217,
          218,
          219,
          220,
          221,
          222,
          223,
          224,
          225,
          226,
          227,
          228,
          229,
          230,
          231,
          232,
          233,
          234,
          235,
          236,
          237
         ],
         "y": [
          89,
          89,
          89,
          89,
          89,
          89,
          89,
          89,
          89,
          89,
          89,
          89,
          89,
          89,
          89,
          89,
          89,
          89,
          89,
          89,
          89,
          89,
          89,
          89,
          89,
          89,
          89,
          89,
          89,
          89,
          89,
          89,
          89
         ],
         "z": [
          7662.8519,
          7667.8538,
          7681.1001,
          7684.8289,
          7695.8455,
          7698.0182,
          7707.468,
          7708.4479,
          7715.5908,
          7715.8874,
          7719.4137,
          7711.2319,
          7710.3448,
          7702.145,
          7700.5489,
          7692.3515,
          7690.5039,
          7682.8015,
          7679.1479,
          7670.1438,
          7665.6906,
          7655.6628,
          7650.7084,
          7639.1973,
          7633.2446,
          7621.4604,
          7615.0768,
          7602.4245,
          7595.1939,
          7582.1297,
          7573.5051,
          7559.2423,
          7550
         ]
        },
        {
         "line": {
          "width": 2
         },
         "marker": {
          "color": [
           7652.5716,
           7656,
           7669.0764,
           7671.8506,
           7682.0628,
           7683.847,
           7692.3173,
           7693.0266,
           7697.6617,
           7690.5945,
           7691.6026,
           7683.7655,
           7684.4964,
           7676.064,
           7676.6592,
           7668.6426,
           7667.7162,
           7659.2229,
           7657.1195,
           7647.4591,
           7645.0807,
           7634.651,
           7630.9974,
           7620.1188,
           7615.0338,
           7602.8937,
           7596.8557,
           7584.3862,
           7576.9688,
           7563.4433,
           7555,
           7540
          ],
          "colorscale": [
           [
            0,
            "#440154"
           ],
           [
            0.1111111111111111,
            "#482878"
           ],
           [
            0.2222222222222222,
            "#3e4989"
           ],
           [
            0.3333333333333333,
            "#31688e"
           ],
           [
            0.4444444444444444,
            "#26828e"
           ],
           [
            0.5555555555555556,
            "#1f9e89"
           ],
           [
            0.6666666666666666,
            "#35b779"
           ],
           [
            0.7777777777777778,
            "#6ece58"
           ],
           [
            0.8888888888888888,
            "#b5de2b"
           ],
           [
            1,
            "#fde725"
           ]
          ],
          "opacity": 0.8,
          "size": 6
         },
         "mode": "lines+markers",
         "name": "Th",
         "text": [
          "A: 208",
          "A: 209",
          "A: 210",
          "A: 211",
          "A: 212",
          "A: 213",
          "A: 214",
          "A: 215",
          "A: 216",
          "A: 217",
          "A: 218",
          "A: 219",
          "A: 220",
          "A: 221",
          "A: 222",
          "A: 223",
          "A: 224",
          "A: 225",
          "A: 226",
          "A: 227",
          "A: 228",
          "A: 229",
          "A: 230",
          "A: 231",
          "A: 232",
          "A: 233",
          "A: 234",
          "A: 235",
          "A: 236",
          "A: 237",
          "A: 238",
          "A: 239"
         ],
         "type": "scatter3d",
         "x": [
          208,
          209,
          210,
          211,
          212,
          213,
          214,
          215,
          216,
          217,
          218,
          219,
          220,
          221,
          222,
          223,
          224,
          225,
          226,
          227,
          228,
          229,
          230,
          231,
          232,
          233,
          234,
          235,
          236,
          237,
          238,
          239
         ],
         "y": [
          90,
          90,
          90,
          90,
          90,
          90,
          90,
          90,
          90,
          90,
          90,
          90,
          90,
          90,
          90,
          90,
          90,
          90,
          90,
          90,
          90,
          90,
          90,
          90,
          90,
          90,
          90,
          90,
          90,
          90,
          90,
          90
         ],
         "z": [
          7652.5716,
          7656,
          7669.0764,
          7671.8506,
          7682.0628,
          7683.847,
          7692.3173,
          7693.0266,
          7697.6617,
          7690.5945,
          7691.6026,
          7683.7655,
          7684.4964,
          7676.064,
          7676.6592,
          7668.6426,
          7667.7162,
          7659.2229,
          7657.1195,
          7647.4591,
          7645.0807,
          7634.651,
          7630.9974,
          7620.1188,
          7615.0338,
          7602.8937,
          7596.8557,
          7584.3862,
          7576.9688,
          7563.4433,
          7555,
          7540
         ]
        },
        {
         "line": {
          "width": 2
         },
         "marker": {
          "color": [
           7629.3948,
           7633.6289,
           7644.8027,
           7647.7037,
           7657.3733,
           7659.2006,
           7664.6438,
           7659.1935,
           7661.3783,
           7655.5364,
           7656.9809,
           7651.2373,
           7651.8957,
           7646.9612,
           7646.6504,
           7641.1093,
           7639.4945,
           7632.2076,
           7629.8752,
           7621.8958,
           7618.4267,
           7609.5072,
           7604.8675,
           7594.6837,
           7588.4139,
           7577.5573,
           7570.3847,
           7558.3449,
           7550,
           7537,
           7528
          ],
          "colorscale": [
           [
            0,
            "#440154"
           ],
           [
            0.1111111111111111,
            "#482878"
           ],
           [
            0.2222222222222222,
            "#3e4989"
           ],
           [
            0.3333333333333333,
            "#31688e"
           ],
           [
            0.4444444444444444,
            "#26828e"
           ],
           [
            0.5555555555555556,
            "#1f9e89"
           ],
           [
            0.6666666666666666,
            "#35b779"
           ],
           [
            0.7777777777777778,
            "#6ece58"
           ],
           [
            0.8888888888888888,
            "#b5de2b"
           ],
           [
            1,
            "#fde725"
           ]
          ],
          "opacity": 0.8,
          "size": 6
         },
         "mode": "lines+markers",
         "name": "Pa",
         "text": [
          "A: 211",
          "A: 212",
          "A: 213",
          "A: 214",
          "A: 215",
          "A: 216",
          "A: 217",
          "A: 218",
          "A: 219",
          "A: 220",
          "A: 221",
          "A: 222",
          "A: 223",
          "A: 224",
          "A: 225",
          "A: 226",
          "A: 227",
          "A: 228",
          "A: 229",
          "A: 230",
          "A: 231",
          "A: 232",
          "A: 233",
          "A: 234",
          "A: 235",
          "A: 236",
          "A: 237",
          "A: 238",
          "A: 239",
          "A: 240",
          "A: 241"
         ],
         "type": "scatter3d",
         "x": [
          211,
          212,
          213,
          214,
          215,
          216,
          217,
          218,
          219,
          220,
          221,
          222,
          223,
          224,
          225,
          226,
          227,
          228,
          229,
          230,
          231,
          232,
          233,
          234,
          235,
          236,
          237,
          238,
          239,
          240,
          241
         ],
         "y": [
          91,
          91,
          91,
          91,
          91,
          91,
          91,
          91,
          91,
          91,
          91,
          91,
          91,
          91,
          91,
          91,
          91,
          91,
          91,
          91,
          91,
          91,
          91,
          91,
          91,
          91,
          91,
          91,
          91,
          91,
          91
         ],
         "z": [
          7629.3948,
          7633.6289,
          7644.8027,
          7647.7037,
          7657.3733,
          7659.2006,
          7664.6438,
          7659.1935,
          7661.3783,
          7655.5364,
          7656.9809,
          7651.2373,
          7651.8957,
          7646.9612,
          7646.6504,
          7641.1093,
          7639.4945,
          7632.2076,
          7629.8752,
          7621.8958,
          7618.4267,
          7609.5072,
          7604.8675,
          7594.6837,
          7588.4139,
          7577.5573,
          7570.3847,
          7558.3449,
          7550,
          7537,
          7528
         ]
        },
        {
         "line": {
          "width": 2
         },
         "marker": {
          "color": [
           7620.7821,
           7631.3072,
           7634,
           7640.7191,
           7636.2867,
           7640,
           7634.6849,
           7637.7651,
           7631.7611,
           7635.0742,
           7629.7717,
           7631.9166,
           7626.2918,
           7627.4763,
           7620.7218,
           7620.9227,
           7613.3879,
           7611.8984,
           7603.9574,
           7600.716,
           7590.9151,
           7586.4854,
           7576.1026,
           7570.1262,
           7558.5624,
           7551.7705,
           7539,
           7532,
           7518
          ],
          "colorscale": [
           [
            0,
            "#440154"
           ],
           [
            0.1111111111111111,
            "#482878"
           ],
           [
            0.2222222222222222,
            "#3e4989"
           ],
           [
            0.3333333333333333,
            "#31688e"
           ],
           [
            0.4444444444444444,
            "#26828e"
           ],
           [
            0.5555555555555556,
            "#1f9e89"
           ],
           [
            0.6666666666666666,
            "#35b779"
           ],
           [
            0.7777777777777778,
            "#6ece58"
           ],
           [
            0.8888888888888888,
            "#b5de2b"
           ],
           [
            1,
            "#fde725"
           ]
          ],
          "opacity": 0.8,
          "size": 6
         },
         "mode": "lines+markers",
         "name": "U",
         "text": [
          "A: 215",
          "A: 216",
          "A: 217",
          "A: 218",
          "A: 219",
          "A: 220",
          "A: 221",
          "A: 222",
          "A: 223",
          "A: 224",
          "A: 225",
          "A: 226",
          "A: 227",
          "A: 228",
          "A: 229",
          "A: 230",
          "A: 231",
          "A: 232",
          "A: 233",
          "A: 234",
          "A: 235",
          "A: 236",
          "A: 237",
          "A: 238",
          "A: 239",
          "A: 240",
          "A: 241",
          "A: 242",
          "A: 243"
         ],
         "type": "scatter3d",
         "x": [
          215,
          216,
          217,
          218,
          219,
          220,
          221,
          222,
          223,
          224,
          225,
          226,
          227,
          228,
          229,
          230,
          231,
          232,
          233,
          234,
          235,
          236,
          237,
          238,
          239,
          240,
          241,
          242,
          243
         ],
         "y": [
          92,
          92,
          92,
          92,
          92,
          92,
          92,
          92,
          92,
          92,
          92,
          92,
          92,
          92,
          92,
          92,
          92,
          92,
          92,
          92,
          92,
          92,
          92,
          92,
          92,
          92,
          92,
          92,
          92
         ],
         "z": [
          7620.7821,
          7631.3072,
          7634,
          7640.7191,
          7636.2867,
          7640,
          7634.6849,
          7637.7651,
          7631.7611,
          7635.0742,
          7629.7717,
          7631.9166,
          7626.2918,
          7627.4763,
          7620.7218,
          7620.9227,
          7613.3879,
          7611.8984,
          7603.9574,
          7600.716,
          7590.9151,
          7586.4854,
          7576.1026,
          7570.1262,
          7558.5624,
          7551.7705,
          7539,
          7532,
          7518
         ]
        },
        {
         "line": {
          "width": 2
         },
         "marker": {
          "color": [
           7604.6732,
           7602.0758,
           7607,
           7602.7013,
           7607.5654,
           7603.5032,
           7607.4231,
           7604.1714,
           7607.2771,
           7604,
           7605.9921,
           7601.7751,
           7602.1321,
           7597,
           7596.1816,
           7589.6382,
           7587.0571,
           7579.2148,
           7574.9895,
           7566.222,
           7560.568,
           7550.1743,
           7544.0426,
           7533.4042,
           7526,
           7514,
           7506
          ],
          "colorscale": [
           [
            0,
            "#440154"
           ],
           [
            0.1111111111111111,
            "#482878"
           ],
           [
            0.2222222222222222,
            "#3e4989"
           ],
           [
            0.3333333333333333,
            "#31688e"
           ],
           [
            0.4444444444444444,
            "#26828e"
           ],
           [
            0.5555555555555556,
            "#1f9e89"
           ],
           [
            0.6666666666666666,
            "#35b779"
           ],
           [
            0.7777777777777778,
            "#6ece58"
           ],
           [
            0.8888888888888888,
            "#b5de2b"
           ],
           [
            1,
            "#fde725"
           ]
          ],
          "opacity": 0.8,
          "size": 6
         },
         "mode": "lines+markers",
         "name": "Np",
         "text": [
          "A: 219",
          "A: 220",
          "A: 221",
          "A: 222",
          "A: 223",
          "A: 224",
          "A: 225",
          "A: 226",
          "A: 227",
          "A: 228",
          "A: 229",
          "A: 230",
          "A: 231",
          "A: 232",
          "A: 233",
          "A: 234",
          "A: 235",
          "A: 236",
          "A: 237",
          "A: 238",
          "A: 239",
          "A: 240",
          "A: 241",
          "A: 242",
          "A: 243",
          "A: 244",
          "A: 245"
         ],
         "type": "scatter3d",
         "x": [
          219,
          220,
          221,
          222,
          223,
          224,
          225,
          226,
          227,
          228,
          229,
          230,
          231,
          232,
          233,
          234,
          235,
          236,
          237,
          238,
          239,
          240,
          241,
          242,
          243,
          244,
          245
         ],
         "y": [
          93,
          93,
          93,
          93,
          93,
          93,
          93,
          93,
          93,
          93,
          93,
          93,
          93,
          93,
          93,
          93,
          93,
          93,
          93,
          93,
          93,
          93,
          93,
          93,
          93,
          93,
          93
         ],
         "z": [
          7604.6732,
          7602.0758,
          7607,
          7602.7013,
          7607.5654,
          7603.5032,
          7607.4231,
          7604.1714,
          7607.2771,
          7604,
          7605.9921,
          7601.7751,
          7602.1321,
          7597,
          7596.1816,
          7589.6382,
          7587.0571,
          7579.2148,
          7574.9895,
          7566.222,
          7560.568,
          7550.1743,
          7544.0426,
          7533.4042,
          7526,
          7514,
          7506
         ]
        },
        {
         "line": {
          "width": 2
         },
         "marker": {
          "color": [
           7576,
           7582,
           7580,
           7586,
           7583,
           7588,
           7585,
           7590.4039,
           7586.8834,
           7591.0016,
           7587.1224,
           7588.9839,
           7583.7968,
           7584.6061,
           7578.8799,
           7577.9192,
           7570.7599,
           7568.3611,
           7560.3187,
           7556.0433,
           7546.4395,
           7541.3284,
           7531.0087,
           7524.8154,
           7513.2822,
           7506.5401,
           7493
          ],
          "colorscale": [
           [
            0,
            "#440154"
           ],
           [
            0.1111111111111111,
            "#482878"
           ],
           [
            0.2222222222222222,
            "#3e4989"
           ],
           [
            0.3333333333333333,
            "#31688e"
           ],
           [
            0.4444444444444444,
            "#26828e"
           ],
           [
            0.5555555555555556,
            "#1f9e89"
           ],
           [
            0.6666666666666666,
            "#35b779"
           ],
           [
            0.7777777777777778,
            "#6ece58"
           ],
           [
            0.8888888888888888,
            "#b5de2b"
           ],
           [
            1,
            "#fde725"
           ]
          ],
          "opacity": 0.8,
          "size": 6
         },
         "mode": "lines+markers",
         "name": "Pu",
         "text": [
          "A: 221",
          "A: 222",
          "A: 223",
          "A: 224",
          "A: 225",
          "A: 226",
          "A: 227",
          "A: 228",
          "A: 229",
          "A: 230",
          "A: 231",
          "A: 232",
          "A: 233",
          "A: 234",
          "A: 235",
          "A: 236",
          "A: 237",
          "A: 238",
          "A: 239",
          "A: 240",
          "A: 241",
          "A: 242",
          "A: 243",
          "A: 244",
          "A: 245",
          "A: 246",
          "A: 247"
         ],
         "type": "scatter3d",
         "x": [
          221,
          222,
          223,
          224,
          225,
          226,
          227,
          228,
          229,
          230,
          231,
          232,
          233,
          234,
          235,
          236,
          237,
          238,
          239,
          240,
          241,
          242,
          243,
          244,
          245,
          246,
          247
         ],
         "y": [
          94,
          94,
          94,
          94,
          94,
          94,
          94,
          94,
          94,
          94,
          94,
          94,
          94,
          94,
          94,
          94,
          94,
          94,
          94,
          94,
          94,
          94,
          94,
          94,
          94,
          94,
          94
         ],
         "z": [
          7576,
          7582,
          7580,
          7586,
          7583,
          7588,
          7585,
          7590.4039,
          7586.8834,
          7591.0016,
          7587.1224,
          7588.9839,
          7583.7968,
          7584.6061,
          7578.8799,
          7577.9192,
          7570.7599,
          7568.3611,
          7560.3187,
          7556.0433,
          7546.4395,
          7541.3284,
          7531.0087,
          7524.8154,
          7513.2822,
          7506.5401,
          7493
         ]
        },
        {
         "line": {
          "width": 2
         },
         "marker": {
          "color": [
           7547,
           7546,
           7553,
           7552,
           7558,
           7557,
           7562.5697,
           7562,
           7566,
           7564,
           7567,
           7564,
           7565.1582,
           7561,
           7561,
           7555.5853,
           7553.6891,
           7547.0136,
           7543.2795,
           7534.9917,
           7530.1742,
           7521.3095,
           7515.3043,
           7505,
           7499,
           7487,
           7479
          ],
          "colorscale": [
           [
            0,
            "#440154"
           ],
           [
            0.1111111111111111,
            "#482878"
           ],
           [
            0.2222222222222222,
            "#3e4989"
           ],
           [
            0.3333333333333333,
            "#31688e"
           ],
           [
            0.4444444444444444,
            "#26828e"
           ],
           [
            0.5555555555555556,
            "#1f9e89"
           ],
           [
            0.6666666666666666,
            "#35b779"
           ],
           [
            0.7777777777777778,
            "#6ece58"
           ],
           [
            0.8888888888888888,
            "#b5de2b"
           ],
           [
            1,
            "#fde725"
           ]
          ],
          "opacity": 0.8,
          "size": 6
         },
         "mode": "lines+markers",
         "name": "Am",
         "text": [
          "A: 223",
          "A: 224",
          "A: 225",
          "A: 226",
          "A: 227",
          "A: 228",
          "A: 229",
          "A: 230",
          "A: 231",
          "A: 232",
          "A: 233",
          "A: 234",
          "A: 235",
          "A: 236",
          "A: 237",
          "A: 238",
          "A: 239",
          "A: 240",
          "A: 241",
          "A: 242",
          "A: 243",
          "A: 244",
          "A: 245",
          "A: 246",
          "A: 247",
          "A: 248",
          "A: 249"
         ],
         "type": "scatter3d",
         "x": [
          223,
          224,
          225,
          226,
          227,
          228,
          229,
          230,
          231,
          232,
          233,
          234,
          235,
          236,
          237,
          238,
          239,
          240,
          241,
          242,
          243,
          244,
          245,
          246,
          247,
          248,
          249
         ],
         "y": [
          95,
          95,
          95,
          95,
          95,
          95,
          95,
          95,
          95,
          95,
          95,
          95,
          95,
          95,
          95,
          95,
          95,
          95,
          95,
          95,
          95,
          95,
          95,
          95,
          95,
          95,
          95
         ],
         "z": [
          7547,
          7546,
          7553,
          7552,
          7558,
          7557,
          7562.5697,
          7562,
          7566,
          7564,
          7567,
          7564,
          7565.1582,
          7561,
          7561,
          7555.5853,
          7553.6891,
          7547.0136,
          7543.2795,
          7534.9917,
          7530.1742,
          7521.3095,
          7515.3043,
          7505,
          7499,
          7487,
          7479
         ]
        },
        {
         "line": {
          "width": 2
         },
         "marker": {
          "color": [
           7542,
           7548,
           7546.002,
           7550.6868,
           7547,
           7550.309,
           7546.6241,
           7547.9966,
           7543.0659,
           7542.8617,
           7536.8488,
           7534.504,
           7526.9261,
           7523.9527,
           7515.7677,
           7511.4716,
           7501.9318,
           7496.7291,
           7485.551,
           7478.9385,
           7466.7233,
           7460
          ],
          "colorscale": [
           [
            0,
            "#440154"
           ],
           [
            0.1111111111111111,
            "#482878"
           ],
           [
            0.2222222222222222,
            "#3e4989"
           ],
           [
            0.3333333333333333,
            "#31688e"
           ],
           [
            0.4444444444444444,
            "#26828e"
           ],
           [
            0.5555555555555556,
            "#1f9e89"
           ],
           [
            0.6666666666666666,
            "#35b779"
           ],
           [
            0.7777777777777778,
            "#6ece58"
           ],
           [
            0.8888888888888888,
            "#b5de2b"
           ],
           [
            1,
            "#fde725"
           ]
          ],
          "opacity": 0.8,
          "size": 6
         },
         "mode": "lines+markers",
         "name": "Cm",
         "text": [
          "A: 231",
          "A: 232",
          "A: 233",
          "A: 234",
          "A: 235",
          "A: 236",
          "A: 237",
          "A: 238",
          "A: 239",
          "A: 240",
          "A: 241",
          "A: 242",
          "A: 243",
          "A: 244",
          "A: 245",
          "A: 246",
          "A: 247",
          "A: 248",
          "A: 249",
          "A: 250",
          "A: 251",
          "A: 252"
         ],
         "type": "scatter3d",
         "x": [
          231,
          232,
          233,
          234,
          235,
          236,
          237,
          238,
          239,
          240,
          241,
          242,
          243,
          244,
          245,
          246,
          247,
          248,
          249,
          250,
          251,
          252
         ],
         "y": [
          96,
          96,
          96,
          96,
          96,
          96,
          96,
          96,
          96,
          96,
          96,
          96,
          96,
          96,
          96,
          96,
          96,
          96,
          96,
          96,
          96,
          96
         ],
         "z": [
          7542,
          7548,
          7546.002,
          7550.6868,
          7547,
          7550.309,
          7546.6241,
          7547.9966,
          7543.0659,
          7542.8617,
          7536.8488,
          7534.504,
          7526.9261,
          7523.9527,
          7515.7677,
          7511.4716,
          7501.9318,
          7496.7291,
          7485.551,
          7478.9385,
          7466.7233,
          7460
         ]
        },
        {
         "line": {
          "width": 2
         },
         "marker": {
          "color": [
           7519,
           7519,
           7524,
           7523,
           7527,
           7525,
           7527,
           7523,
           7524,
           7519,
           7517.5021,
           7511.4759,
           7509.2714,
           7502.8035,
           7498.9408,
           7490.5975,
           7486.041,
           7475.9594,
           7469.2637,
           7459,
           7451,
           7440
          ],
          "colorscale": [
           [
            0,
            "#440154"
           ],
           [
            0.1111111111111111,
            "#482878"
           ],
           [
            0.2222222222222222,
            "#3e4989"
           ],
           [
            0.3333333333333333,
            "#31688e"
           ],
           [
            0.4444444444444444,
            "#26828e"
           ],
           [
            0.5555555555555556,
            "#1f9e89"
           ],
           [
            0.6666666666666666,
            "#35b779"
           ],
           [
            0.7777777777777778,
            "#6ece58"
           ],
           [
            0.8888888888888888,
            "#b5de2b"
           ],
           [
            1,
            "#fde725"
           ]
          ],
          "opacity": 0.8,
          "size": 6
         },
         "mode": "lines+markers",
         "name": "Bk",
         "text": [
          "A: 233",
          "A: 234",
          "A: 235",
          "A: 236",
          "A: 237",
          "A: 238",
          "A: 239",
          "A: 240",
          "A: 241",
          "A: 242",
          "A: 243",
          "A: 244",
          "A: 245",
          "A: 246",
          "A: 247",
          "A: 248",
          "A: 249",
          "A: 250",
          "A: 251",
          "A: 252",
          "A: 253",
          "A: 254"
         ],
         "type": "scatter3d",
         "x": [
          233,
          234,
          235,
          236,
          237,
          238,
          239,
          240,
          241,
          242,
          243,
          244,
          245,
          246,
          247,
          248,
          249,
          250,
          251,
          252,
          253,
          254
         ],
         "y": [
          97,
          97,
          97,
          97,
          97,
          97,
          97,
          97,
          97,
          97,
          97,
          97,
          97,
          97,
          97,
          97,
          97,
          97,
          97,
          97,
          97,
          97
         ],
         "z": [
          7519,
          7519,
          7524,
          7523,
          7527,
          7525,
          7527,
          7523,
          7524,
          7519,
          7517.5021,
          7511.4759,
          7509.2714,
          7502.8035,
          7498.9408,
          7490.5975,
          7486.041,
          7475.9594,
          7469.2637,
          7459,
          7451,
          7440
         ]
        },
        {
         "line": {
          "width": 2
         },
         "marker": {
          "color": [
           7503.3507,
           7509,
           7507,
           7510.24,
           7507,
           7509.0991,
           7505,
           7505.1373,
           7499.6644,
           7499.122,
           7493.2638,
           7491.044,
           7483.3954,
           7479.9567,
           7470.5014,
           7465.3474,
           7454.8297,
           7449.2259,
           7438,
           7432
          ],
          "colorscale": [
           [
            0,
            "#440154"
           ],
           [
            0.1111111111111111,
            "#482878"
           ],
           [
            0.2222222222222222,
            "#3e4989"
           ],
           [
            0.3333333333333333,
            "#31688e"
           ],
           [
            0.4444444444444444,
            "#26828e"
           ],
           [
            0.5555555555555556,
            "#1f9e89"
           ],
           [
            0.6666666666666666,
            "#35b779"
           ],
           [
            0.7777777777777778,
            "#6ece58"
           ],
           [
            0.8888888888888888,
            "#b5de2b"
           ],
           [
            1,
            "#fde725"
           ]
          ],
          "opacity": 0.8,
          "size": 6
         },
         "mode": "lines+markers",
         "name": "Cf",
         "text": [
          "A: 237",
          "A: 238",
          "A: 239",
          "A: 240",
          "A: 241",
          "A: 242",
          "A: 243",
          "A: 244",
          "A: 245",
          "A: 246",
          "A: 247",
          "A: 248",
          "A: 249",
          "A: 250",
          "A: 251",
          "A: 252",
          "A: 253",
          "A: 254",
          "A: 255",
          "A: 256"
         ],
         "type": "scatter3d",
         "x": [
          237,
          238,
          239,
          240,
          241,
          242,
          243,
          244,
          245,
          246,
          247,
          248,
          249,
          250,
          251,
          252,
          253,
          254,
          255,
          256
         ],
         "y": [
          98,
          98,
          98,
          98,
          98,
          98,
          98,
          98,
          98,
          98,
          98,
          98,
          98,
          98,
          98,
          98,
          98,
          98,
          98,
          98
         ],
         "z": [
          7503.3507,
          7509,
          7507,
          7510.24,
          7507,
          7509.0991,
          7505,
          7505.1373,
          7499.6644,
          7499.122,
          7493.2638,
          7491.044,
          7483.3954,
          7479.9567,
          7470.5014,
          7465.3474,
          7454.8297,
          7449.2259,
          7438,
          7432
         ]
        },
        {
         "line": {
          "width": 2
         },
         "marker": {
          "color": [
           7481,
           7481,
           7485,
           7483,
           7486,
           7483,
           7485,
           7480.7849,
           7480.1005,
           7476,
           7474,
           7469,
           7465.8842,
           7457.2428,
           7452.8879,
           7443.5759,
           7437.8216,
           7428,
           7422,
           7412
          ],
          "colorscale": [
           [
            0,
            "#440154"
           ],
           [
            0.1111111111111111,
            "#482878"
           ],
           [
            0.2222222222222222,
            "#3e4989"
           ],
           [
            0.3333333333333333,
            "#31688e"
           ],
           [
            0.4444444444444444,
            "#26828e"
           ],
           [
            0.5555555555555556,
            "#1f9e89"
           ],
           [
            0.6666666666666666,
            "#35b779"
           ],
           [
            0.7777777777777778,
            "#6ece58"
           ],
           [
            0.8888888888888888,
            "#b5de2b"
           ],
           [
            1,
            "#fde725"
           ]
          ],
          "opacity": 0.8,
          "size": 6
         },
         "mode": "lines+markers",
         "name": "Es",
         "text": [
          "A: 239",
          "A: 240",
          "A: 241",
          "A: 242",
          "A: 243",
          "A: 244",
          "A: 245",
          "A: 246",
          "A: 247",
          "A: 248",
          "A: 249",
          "A: 250",
          "A: 251",
          "A: 252",
          "A: 253",
          "A: 254",
          "A: 255",
          "A: 256",
          "A: 257",
          "A: 258"
         ],
         "type": "scatter3d",
         "x": [
          239,
          240,
          241,
          242,
          243,
          244,
          245,
          246,
          247,
          248,
          249,
          250,
          251,
          252,
          253,
          254,
          255,
          256,
          257,
          258
         ],
         "y": [
          99,
          99,
          99,
          99,
          99,
          99,
          99,
          99,
          99,
          99,
          99,
          99,
          99,
          99,
          99,
          99,
          99,
          99,
          99,
          99
         ],
         "z": [
          7481,
          7481,
          7485,
          7483,
          7486,
          7483,
          7485,
          7480.7849,
          7480.1005,
          7476,
          7474,
          7469,
          7465.8842,
          7457.2428,
          7452.8879,
          7443.5759,
          7437.8216,
          7428,
          7422,
          7412
         ]
        },
        {
         "line": {
          "width": 2
         },
         "marker": {
          "color": [
           7459,
           7465,
           7464,
           7468,
           7465,
           7467.9608,
           7464,
           7465.9451,
           7461.8649,
           7462.0905,
           7457.0013,
           7456.0351,
           7448.4712,
           7444.7936,
           7435.886,
           7431.7888,
           7422.1942,
           7418,
           7407,
           7402
          ],
          "colorscale": [
           [
            0,
            "#440154"
           ],
           [
            0.1111111111111111,
            "#482878"
           ],
           [
            0.2222222222222222,
            "#3e4989"
           ],
           [
            0.3333333333333333,
            "#31688e"
           ],
           [
            0.4444444444444444,
            "#26828e"
           ],
           [
            0.5555555555555556,
            "#1f9e89"
           ],
           [
            0.6666666666666666,
            "#35b779"
           ],
           [
            0.7777777777777778,
            "#6ece58"
           ],
           [
            0.8888888888888888,
            "#b5de2b"
           ],
           [
            1,
            "#fde725"
           ]
          ],
          "opacity": 0.8,
          "size": 6
         },
         "mode": "lines+markers",
         "name": "Fm",
         "text": [
          "A: 241",
          "A: 242",
          "A: 243",
          "A: 244",
          "A: 245",
          "A: 246",
          "A: 247",
          "A: 248",
          "A: 249",
          "A: 250",
          "A: 251",
          "A: 252",
          "A: 253",
          "A: 254",
          "A: 255",
          "A: 256",
          "A: 257",
          "A: 258",
          "A: 259",
          "A: 260"
         ],
         "type": "scatter3d",
         "x": [
          241,
          242,
          243,
          244,
          245,
          246,
          247,
          248,
          249,
          250,
          251,
          252,
          253,
          254,
          255,
          256,
          257,
          258,
          259,
          260
         ],
         "y": [
          100,
          100,
          100,
          100,
          100,
          100,
          100,
          100,
          100,
          100,
          100,
          100,
          100,
          100,
          100,
          100,
          100,
          100,
          100,
          100
         ],
         "z": [
          7459,
          7465,
          7464,
          7468,
          7465,
          7467.9608,
          7464,
          7465.9451,
          7461.8649,
          7462.0905,
          7457.0013,
          7456.0351,
          7448.4712,
          7444.7936,
          7435.886,
          7431.7888,
          7422.1942,
          7418,
          7407,
          7402
         ]
        },
        {
         "hoverinfo": "text",
         "hovertext": [
          "Energía de Ligadura Máxima: 2827.2654 keV<br>Elemento: H",
          "Energía de Ligadura Máxima: 7073.9156 keV<br>Elemento: He",
          "Energía de Ligadura Máxima: 5606.4401 keV<br>Elemento: Li",
          "Energía de Ligadura Máxima: 7062.4356 keV<br>Elemento: Be",
          "Energía de Ligadura Máxima: 6927.7323 keV<br>Elemento: B",
          "Energía de Ligadura Máxima: 7680.1446 keV<br>Elemento: C",
          "Energía de Ligadura Máxima: 7699.4603 keV<br>Elemento: N",
          "Energía de Ligadura Máxima: 7976.2072 keV<br>Elemento: O",
          "Energía de Ligadura Máxima: 7779.0192 keV<br>Elemento: F",
          "Energía de Ligadura Máxima: 8080.4656 keV<br>Elemento: Ne",
          "Energía de Ligadura Máxima: 8111.4936 keV<br>Elemento: Na",
          "Energía de Ligadura Máxima: 8333.8711 keV<br>Elemento: Mg",
          "Energía de Ligadura Máxima: 8348.4647 keV<br>Elemento: Al",
          "Energía de Ligadura Máxima: 8520.6549 keV<br>Elemento: Si",
          "Energía de Ligadura Máxima: 8513.8073 keV<br>Elemento: P",
          "Energía de Ligadura Máxima: 8583.4986 keV<br>Elemento: S",
          "Energía de Ligadura Máxima: 8570.2816 keV<br>Elemento: Cl",
          "Energía de Ligadura Máxima: 8614.2807 keV<br>Elemento: Ar",
          "Energía de Ligadura Máxima: 8576.2204 keV<br>Elemento: K",
          "Energía de Ligadura Máxima: 8668.9848 keV<br>Elemento: Ca",
          "Energía de Ligadura Máxima: 8686.2805 keV<br>Elemento: Sc",
          "Energía de Ligadura Máxima: 8755.7227 keV<br>Elemento: Ti",
          "Energía de Ligadura Máxima: 8742.0852 keV<br>Elemento: V",
          "Energía de Ligadura Máxima: 8777.9672 keV<br>Elemento: Cr",
          "Energía de Ligadura Máxima: 8765.0247 keV<br>Elemento: Mn",
          "Energía de Ligadura Máxima: 8792.2534 keV<br>Elemento: Fe",
          "Energía de Ligadura Máxima: 8768.0379 keV<br>Elemento: Co",
          "Energía de Ligadura Máxima: 8794.5555 keV<br>Elemento: Ni",
          "Energía de Ligadura Máxima: 8757.0967 keV<br>Elemento: Cu",
          "Energía de Ligadura Máxima: 8759.6335 keV<br>Elemento: Zn",
          "Energía de Ligadura Máxima: 8724.5798 keV<br>Elemento: Ga",
          "Energía de Ligadura Máxima: 8731.7459 keV<br>Elemento: Ge",
          "Energía de Ligadura Máxima: 8700.8748 keV<br>Elemento: As",
          "Energía de Ligadura Máxima: 8717.8072 keV<br>Elemento: Se",
          "Energía de Ligadura Máxima: 8695.9465 keV<br>Elemento: Br",
          "Energía de Ligadura Máxima: 8717.4473 keV<br>Elemento: Kr",
          "Energía de Ligadura Máxima: 8710.9843 keV<br>Elemento: Rb",
          "Energía de Ligadura Máxima: 8732.5958 keV<br>Elemento: Sr",
          "Energía de Ligadura Máxima: 8714.011 keV<br>Elemento: Y",
          "Energía de Ligadura Máxima: 8709.9699 keV<br>Elemento: Zr",
          "Energía de Ligadura Máxima: 8670.8983 keV<br>Elemento: Nb",
          "Energía de Ligadura Máxima: 8662.3341 keV<br>Elemento: Mo",
          "Energía de Ligadura Máxima: 8623.7254 keV<br>Elemento: Tc",
          "Energía de Ligadura Máxima: 8620.314 keV<br>Elemento: Ru",
          "Energía de Ligadura Máxima: 8588.2172 keV<br>Elemento: Rh",
          "Energía de Ligadura Máxima: 8584.8485 keV<br>Elemento: Pd",
          "Energía de Ligadura Máxima: 8553.9012 keV<br>Elemento: Ag",
          "Energía de Ligadura Máxima: 8551.2755 keV<br>Elemento: Cd",
          "Energía de Ligadura Máxima: 8522.9297 keV<br>Elemento: In",
          "Energía de Ligadura Máxima: 8523.1166 keV<br>Elemento: Sn",
          "Energía de Ligadura Máxima: 8487.9218 keV<br>Elemento: Sb",
          "Energía de Ligadura Máxima: 8478.1315 keV<br>Elemento: Te",
          "Energía de Ligadura Máxima: 8450.2911 keV<br>Elemento: I",
          "Energía de Ligadura Máxima: 8443.5375 keV<br>Elemento: Xe",
          "Energía de Ligadura Máxima: 8416.0465 keV<br>Elemento: Cs",
          "Energía de Ligadura Máxima: 8409.3747 keV<br>Elemento: Ba",
          "Energía de Ligadura Máxima: 8382.7972 keV<br>Elemento: La",
          "Energía de Ligadura Máxima: 8377.0408 keV<br>Elemento: Ce",
          "Energía de Ligadura Máxima: 8353.9852 keV<br>Elemento: Pr",
          "Energía de Ligadura Máxima: 8346.031 keV<br>Elemento: Nd",
          "Energía de Ligadura Máxima: 8317.7341 keV<br>Elemento: Pm",
          "Energía de Ligadura Máxima: 8303.68 keV<br>Elemento: Sm",
          "Energía de Ligadura Máxima: 8269.2744 keV<br>Elemento: Eu",
          "Energía de Ligadura Máxima: 8249.5072 keV<br>Elemento: Gd",
          "Energía de Ligadura Máxima: 8209.8153 keV<br>Elemento: Tb",
          "Energía de Ligadura Máxima: 8193.1305 keV<br>Elemento: Dy",
          "Energía de Ligadura Máxima: 8165.1066 keV<br>Elemento: Ho",
          "Energía de Ligadura Máxima: 8152.3959 keV<br>Elemento: Er",
          "Energía de Ligadura Máxima: 8125.5489 keV<br>Elemento: Tm",
          "Energía de Ligadura Máxima: 8112.4591 keV<br>Elemento: Yb",
          "Energía de Ligadura Máxima: 8086.3233 keV<br>Elemento: Lu",
          "Energía de Ligadura Máxima: 8071.7439 keV<br>Elemento: Hf",
          "Energía de Ligadura Máxima: 8044.4456 keV<br>Elemento: Ta",
          "Energía de Ligadura Máxima: 8030.1131 keV<br>Elemento: W",
          "Energía de Ligadura Máxima: 8004.1434 keV<br>Elemento: Re",
          "Energía de Ligadura Máxima: 7989.7287 keV<br>Elemento: Os",
          "Energía de Ligadura Máxima: 7963.7226 keV<br>Elemento: Ir",
          "Energía de Ligadura Máxima: 7947.9027 keV<br>Elemento: Pt",
          "Energía de Ligadura Máxima: 7924.6819 keV<br>Elemento: Au",
          "Energía de Ligadura Máxima: 7914.5974 keV<br>Elemento: Hg",
          "Energía de Ligadura Máxima: 7893.8773 keV<br>Elemento: Tl",
          "Energía de Ligadura Máxima: 7882.1505 keV<br>Elemento: Pb",
          "Energía de Ligadura Máxima: 7857.4762 keV<br>Elemento: Bi",
          "Energía de Ligadura Máxima: 7840.5973 keV<br>Elemento: Po",
          "Energía de Ligadura Máxima: 7814.7835 keV<br>Elemento: At",
          "Energía de Ligadura Máxima: 7796.6653 keV<br>Elemento: Rn",
          "Energía de Ligadura Máxima: 7768.4543 keV<br>Elemento: Fr",
          "Energía de Ligadura Máxima: 7749.1719 keV<br>Elemento: Ra",
          "Energía de Ligadura Máxima: 7719.4137 keV<br>Elemento: Ac",
          "Energía de Ligadura Máxima: 7697.6617 keV<br>Elemento: Th",
          "Energía de Ligadura Máxima: 7664.6438 keV<br>Elemento: Pa",
          "Energía de Ligadura Máxima: 7640.7191 keV<br>Elemento: U",
          "Energía de Ligadura Máxima: 7607.5654 keV<br>Elemento: Np",
          "Energía de Ligadura Máxima: 7591.0016 keV<br>Elemento: Pu",
          "Energía de Ligadura Máxima: 7567.0 keV<br>Elemento: Am",
          "Energía de Ligadura Máxima: 7550.6868 keV<br>Elemento: Cm",
          "Energía de Ligadura Máxima: 7527.0 keV<br>Elemento: Bk",
          "Energía de Ligadura Máxima: 7510.24 keV<br>Elemento: Cf",
          "Energía de Ligadura Máxima: 7486.0 keV<br>Elemento: Es",
          "Energía de Ligadura Máxima: 7468.0 keV<br>Elemento: Fm"
         ],
         "marker": {
          "color": "red",
          "line": {
           "width": 2
          },
          "size": 6,
          "symbol": "circle"
         },
         "mode": "lines+markers",
         "name": "Máxima Energía de Ligadura",
         "type": "scatter3d",
         "x": [
          3,
          4,
          7,
          8,
          11,
          12,
          15,
          16,
          19,
          22,
          23,
          26,
          29,
          30,
          33,
          34,
          37,
          38,
          43,
          46,
          49,
          50,
          51,
          54,
          55,
          58,
          59,
          62,
          65,
          66,
          69,
          72,
          75,
          78,
          81,
          84,
          87,
          88,
          89,
          90,
          91,
          94,
          97,
          98,
          101,
          104,
          107,
          110,
          113,
          116,
          119,
          122,
          125,
          126,
          129,
          132,
          135,
          138,
          141,
          142,
          143,
          144,
          145,
          146,
          149,
          154,
          159,
          162,
          165,
          166,
          169,
          172,
          175,
          176,
          181,
          182,
          185,
          188,
          191,
          194,
          199,
          202,
          203,
          206,
          209,
          210,
          213,
          214,
          215,
          216,
          217,
          218,
          223,
          230,
          233,
          234,
          237,
          240,
          243,
          244
         ],
         "y": [
          1,
          2,
          3,
          4,
          5,
          6,
          7,
          8,
          9,
          10,
          11,
          12,
          13,
          14,
          15,
          16,
          17,
          18,
          19,
          20,
          21,
          22,
          23,
          24,
          25,
          26,
          27,
          28,
          29,
          30,
          31,
          32,
          33,
          34,
          35,
          36,
          37,
          38,
          39,
          40,
          41,
          42,
          43,
          44,
          45,
          46,
          47,
          48,
          49,
          50,
          51,
          52,
          53,
          54,
          55,
          56,
          57,
          58,
          59,
          60,
          61,
          62,
          63,
          64,
          65,
          66,
          67,
          68,
          69,
          70,
          71,
          72,
          73,
          74,
          75,
          76,
          77,
          78,
          79,
          80,
          81,
          82,
          83,
          84,
          85,
          86,
          87,
          88,
          89,
          90,
          91,
          92,
          93,
          94,
          95,
          96,
          97,
          98,
          99,
          100
         ],
         "z": [
          0,
          0,
          0,
          0,
          0,
          0,
          0,
          0,
          0,
          0,
          0,
          0,
          0,
          0,
          0,
          0,
          0,
          0,
          0,
          0,
          0,
          0,
          0,
          0,
          0,
          0,
          0,
          0,
          0,
          0,
          0,
          0,
          0,
          0,
          0,
          0,
          0,
          0,
          0,
          0,
          0,
          0,
          0,
          0,
          0,
          0,
          0,
          0,
          0,
          0,
          0,
          0,
          0,
          0,
          0,
          0,
          0,
          0,
          0,
          0,
          0,
          0,
          0,
          0,
          0,
          0,
          0,
          0,
          0,
          0,
          0,
          0,
          0,
          0,
          0,
          0,
          0,
          0,
          0,
          0,
          0,
          0,
          0,
          0,
          0,
          0,
          0,
          0,
          0,
          0,
          0,
          0,
          0,
          0,
          0,
          0,
          0,
          0,
          0,
          0
         ]
        }
       ],
       "layout": {
        "height": 900,
        "legend": {
         "title": {
          "text": "Elemento Químico"
         }
        },
        "scene": {
         "xaxis": {
          "title": {
           "text": "Masa Atómica (A)"
          }
         },
         "yaxis": {
          "title": {
           "text": "Número Atómico (Z)"
          }
         },
         "zaxis": {
          "title": {
           "text": "$\\epsilon$ (keV)"
          }
         }
        },
        "template": {
         "data": {
          "bar": [
           {
            "error_x": {
             "color": "#2a3f5f"
            },
            "error_y": {
             "color": "#2a3f5f"
            },
            "marker": {
             "line": {
              "color": "#E5ECF6",
              "width": 0.5
             },
             "pattern": {
              "fillmode": "overlay",
              "size": 10,
              "solidity": 0.2
             }
            },
            "type": "bar"
           }
          ],
          "barpolar": [
           {
            "marker": {
             "line": {
              "color": "#E5ECF6",
              "width": 0.5
             },
             "pattern": {
              "fillmode": "overlay",
              "size": 10,
              "solidity": 0.2
             }
            },
            "type": "barpolar"
           }
          ],
          "carpet": [
           {
            "aaxis": {
             "endlinecolor": "#2a3f5f",
             "gridcolor": "white",
             "linecolor": "white",
             "minorgridcolor": "white",
             "startlinecolor": "#2a3f5f"
            },
            "baxis": {
             "endlinecolor": "#2a3f5f",
             "gridcolor": "white",
             "linecolor": "white",
             "minorgridcolor": "white",
             "startlinecolor": "#2a3f5f"
            },
            "type": "carpet"
           }
          ],
          "choropleth": [
           {
            "colorbar": {
             "outlinewidth": 0,
             "ticks": ""
            },
            "type": "choropleth"
           }
          ],
          "contour": [
           {
            "colorbar": {
             "outlinewidth": 0,
             "ticks": ""
            },
            "colorscale": [
             [
              0,
              "#0d0887"
             ],
             [
              0.1111111111111111,
              "#46039f"
             ],
             [
              0.2222222222222222,
              "#7201a8"
             ],
             [
              0.3333333333333333,
              "#9c179e"
             ],
             [
              0.4444444444444444,
              "#bd3786"
             ],
             [
              0.5555555555555556,
              "#d8576b"
             ],
             [
              0.6666666666666666,
              "#ed7953"
             ],
             [
              0.7777777777777778,
              "#fb9f3a"
             ],
             [
              0.8888888888888888,
              "#fdca26"
             ],
             [
              1,
              "#f0f921"
             ]
            ],
            "type": "contour"
           }
          ],
          "contourcarpet": [
           {
            "colorbar": {
             "outlinewidth": 0,
             "ticks": ""
            },
            "type": "contourcarpet"
           }
          ],
          "heatmap": [
           {
            "colorbar": {
             "outlinewidth": 0,
             "ticks": ""
            },
            "colorscale": [
             [
              0,
              "#0d0887"
             ],
             [
              0.1111111111111111,
              "#46039f"
             ],
             [
              0.2222222222222222,
              "#7201a8"
             ],
             [
              0.3333333333333333,
              "#9c179e"
             ],
             [
              0.4444444444444444,
              "#bd3786"
             ],
             [
              0.5555555555555556,
              "#d8576b"
             ],
             [
              0.6666666666666666,
              "#ed7953"
             ],
             [
              0.7777777777777778,
              "#fb9f3a"
             ],
             [
              0.8888888888888888,
              "#fdca26"
             ],
             [
              1,
              "#f0f921"
             ]
            ],
            "type": "heatmap"
           }
          ],
          "heatmapgl": [
           {
            "colorbar": {
             "outlinewidth": 0,
             "ticks": ""
            },
            "colorscale": [
             [
              0,
              "#0d0887"
             ],
             [
              0.1111111111111111,
              "#46039f"
             ],
             [
              0.2222222222222222,
              "#7201a8"
             ],
             [
              0.3333333333333333,
              "#9c179e"
             ],
             [
              0.4444444444444444,
              "#bd3786"
             ],
             [
              0.5555555555555556,
              "#d8576b"
             ],
             [
              0.6666666666666666,
              "#ed7953"
             ],
             [
              0.7777777777777778,
              "#fb9f3a"
             ],
             [
              0.8888888888888888,
              "#fdca26"
             ],
             [
              1,
              "#f0f921"
             ]
            ],
            "type": "heatmapgl"
           }
          ],
          "histogram": [
           {
            "marker": {
             "pattern": {
              "fillmode": "overlay",
              "size": 10,
              "solidity": 0.2
             }
            },
            "type": "histogram"
           }
          ],
          "histogram2d": [
           {
            "colorbar": {
             "outlinewidth": 0,
             "ticks": ""
            },
            "colorscale": [
             [
              0,
              "#0d0887"
             ],
             [
              0.1111111111111111,
              "#46039f"
             ],
             [
              0.2222222222222222,
              "#7201a8"
             ],
             [
              0.3333333333333333,
              "#9c179e"
             ],
             [
              0.4444444444444444,
              "#bd3786"
             ],
             [
              0.5555555555555556,
              "#d8576b"
             ],
             [
              0.6666666666666666,
              "#ed7953"
             ],
             [
              0.7777777777777778,
              "#fb9f3a"
             ],
             [
              0.8888888888888888,
              "#fdca26"
             ],
             [
              1,
              "#f0f921"
             ]
            ],
            "type": "histogram2d"
           }
          ],
          "histogram2dcontour": [
           {
            "colorbar": {
             "outlinewidth": 0,
             "ticks": ""
            },
            "colorscale": [
             [
              0,
              "#0d0887"
             ],
             [
              0.1111111111111111,
              "#46039f"
             ],
             [
              0.2222222222222222,
              "#7201a8"
             ],
             [
              0.3333333333333333,
              "#9c179e"
             ],
             [
              0.4444444444444444,
              "#bd3786"
             ],
             [
              0.5555555555555556,
              "#d8576b"
             ],
             [
              0.6666666666666666,
              "#ed7953"
             ],
             [
              0.7777777777777778,
              "#fb9f3a"
             ],
             [
              0.8888888888888888,
              "#fdca26"
             ],
             [
              1,
              "#f0f921"
             ]
            ],
            "type": "histogram2dcontour"
           }
          ],
          "mesh3d": [
           {
            "colorbar": {
             "outlinewidth": 0,
             "ticks": ""
            },
            "type": "mesh3d"
           }
          ],
          "parcoords": [
           {
            "line": {
             "colorbar": {
              "outlinewidth": 0,
              "ticks": ""
             }
            },
            "type": "parcoords"
           }
          ],
          "pie": [
           {
            "automargin": true,
            "type": "pie"
           }
          ],
          "scatter": [
           {
            "fillpattern": {
             "fillmode": "overlay",
             "size": 10,
             "solidity": 0.2
            },
            "type": "scatter"
           }
          ],
          "scatter3d": [
           {
            "line": {
             "colorbar": {
              "outlinewidth": 0,
              "ticks": ""
             }
            },
            "marker": {
             "colorbar": {
              "outlinewidth": 0,
              "ticks": ""
             }
            },
            "type": "scatter3d"
           }
          ],
          "scattercarpet": [
           {
            "marker": {
             "colorbar": {
              "outlinewidth": 0,
              "ticks": ""
             }
            },
            "type": "scattercarpet"
           }
          ],
          "scattergeo": [
           {
            "marker": {
             "colorbar": {
              "outlinewidth": 0,
              "ticks": ""
             }
            },
            "type": "scattergeo"
           }
          ],
          "scattergl": [
           {
            "marker": {
             "colorbar": {
              "outlinewidth": 0,
              "ticks": ""
             }
            },
            "type": "scattergl"
           }
          ],
          "scattermapbox": [
           {
            "marker": {
             "colorbar": {
              "outlinewidth": 0,
              "ticks": ""
             }
            },
            "type": "scattermapbox"
           }
          ],
          "scatterpolar": [
           {
            "marker": {
             "colorbar": {
              "outlinewidth": 0,
              "ticks": ""
             }
            },
            "type": "scatterpolar"
           }
          ],
          "scatterpolargl": [
           {
            "marker": {
             "colorbar": {
              "outlinewidth": 0,
              "ticks": ""
             }
            },
            "type": "scatterpolargl"
           }
          ],
          "scatterternary": [
           {
            "marker": {
             "colorbar": {
              "outlinewidth": 0,
              "ticks": ""
             }
            },
            "type": "scatterternary"
           }
          ],
          "surface": [
           {
            "colorbar": {
             "outlinewidth": 0,
             "ticks": ""
            },
            "colorscale": [
             [
              0,
              "#0d0887"
             ],
             [
              0.1111111111111111,
              "#46039f"
             ],
             [
              0.2222222222222222,
              "#7201a8"
             ],
             [
              0.3333333333333333,
              "#9c179e"
             ],
             [
              0.4444444444444444,
              "#bd3786"
             ],
             [
              0.5555555555555556,
              "#d8576b"
             ],
             [
              0.6666666666666666,
              "#ed7953"
             ],
             [
              0.7777777777777778,
              "#fb9f3a"
             ],
             [
              0.8888888888888888,
              "#fdca26"
             ],
             [
              1,
              "#f0f921"
             ]
            ],
            "type": "surface"
           }
          ],
          "table": [
           {
            "cells": {
             "fill": {
              "color": "#EBF0F8"
             },
             "line": {
              "color": "white"
             }
            },
            "header": {
             "fill": {
              "color": "#C8D4E3"
             },
             "line": {
              "color": "white"
             }
            },
            "type": "table"
           }
          ]
         },
         "layout": {
          "annotationdefaults": {
           "arrowcolor": "#2a3f5f",
           "arrowhead": 0,
           "arrowwidth": 1
          },
          "autotypenumbers": "strict",
          "coloraxis": {
           "colorbar": {
            "outlinewidth": 0,
            "ticks": ""
           }
          },
          "colorscale": {
           "diverging": [
            [
             0,
             "#8e0152"
            ],
            [
             0.1,
             "#c51b7d"
            ],
            [
             0.2,
             "#de77ae"
            ],
            [
             0.3,
             "#f1b6da"
            ],
            [
             0.4,
             "#fde0ef"
            ],
            [
             0.5,
             "#f7f7f7"
            ],
            [
             0.6,
             "#e6f5d0"
            ],
            [
             0.7,
             "#b8e186"
            ],
            [
             0.8,
             "#7fbc41"
            ],
            [
             0.9,
             "#4d9221"
            ],
            [
             1,
             "#276419"
            ]
           ],
           "sequential": [
            [
             0,
             "#0d0887"
            ],
            [
             0.1111111111111111,
             "#46039f"
            ],
            [
             0.2222222222222222,
             "#7201a8"
            ],
            [
             0.3333333333333333,
             "#9c179e"
            ],
            [
             0.4444444444444444,
             "#bd3786"
            ],
            [
             0.5555555555555556,
             "#d8576b"
            ],
            [
             0.6666666666666666,
             "#ed7953"
            ],
            [
             0.7777777777777778,
             "#fb9f3a"
            ],
            [
             0.8888888888888888,
             "#fdca26"
            ],
            [
             1,
             "#f0f921"
            ]
           ],
           "sequentialminus": [
            [
             0,
             "#0d0887"
            ],
            [
             0.1111111111111111,
             "#46039f"
            ],
            [
             0.2222222222222222,
             "#7201a8"
            ],
            [
             0.3333333333333333,
             "#9c179e"
            ],
            [
             0.4444444444444444,
             "#bd3786"
            ],
            [
             0.5555555555555556,
             "#d8576b"
            ],
            [
             0.6666666666666666,
             "#ed7953"
            ],
            [
             0.7777777777777778,
             "#fb9f3a"
            ],
            [
             0.8888888888888888,
             "#fdca26"
            ],
            [
             1,
             "#f0f921"
            ]
           ]
          },
          "colorway": [
           "#636efa",
           "#EF553B",
           "#00cc96",
           "#ab63fa",
           "#FFA15A",
           "#19d3f3",
           "#FF6692",
           "#B6E880",
           "#FF97FF",
           "#FECB52"
          ],
          "font": {
           "color": "#2a3f5f"
          },
          "geo": {
           "bgcolor": "white",
           "lakecolor": "white",
           "landcolor": "#E5ECF6",
           "showlakes": true,
           "showland": true,
           "subunitcolor": "white"
          },
          "hoverlabel": {
           "align": "left"
          },
          "hovermode": "closest",
          "mapbox": {
           "style": "light"
          },
          "paper_bgcolor": "white",
          "plot_bgcolor": "#E5ECF6",
          "polar": {
           "angularaxis": {
            "gridcolor": "white",
            "linecolor": "white",
            "ticks": ""
           },
           "bgcolor": "#E5ECF6",
           "radialaxis": {
            "gridcolor": "white",
            "linecolor": "white",
            "ticks": ""
           }
          },
          "scene": {
           "xaxis": {
            "backgroundcolor": "#E5ECF6",
            "gridcolor": "white",
            "gridwidth": 2,
            "linecolor": "white",
            "showbackground": true,
            "ticks": "",
            "zerolinecolor": "white"
           },
           "yaxis": {
            "backgroundcolor": "#E5ECF6",
            "gridcolor": "white",
            "gridwidth": 2,
            "linecolor": "white",
            "showbackground": true,
            "ticks": "",
            "zerolinecolor": "white"
           },
           "zaxis": {
            "backgroundcolor": "#E5ECF6",
            "gridcolor": "white",
            "gridwidth": 2,
            "linecolor": "white",
            "showbackground": true,
            "ticks": "",
            "zerolinecolor": "white"
           }
          },
          "shapedefaults": {
           "line": {
            "color": "#2a3f5f"
           }
          },
          "ternary": {
           "aaxis": {
            "gridcolor": "white",
            "linecolor": "white",
            "ticks": ""
           },
           "baxis": {
            "gridcolor": "white",
            "linecolor": "white",
            "ticks": ""
           },
           "bgcolor": "#E5ECF6",
           "caxis": {
            "gridcolor": "white",
            "linecolor": "white",
            "ticks": ""
           }
          },
          "title": {
           "x": 0.05
          },
          "xaxis": {
           "automargin": true,
           "gridcolor": "white",
           "linecolor": "white",
           "ticks": "",
           "title": {
            "standoff": 15
           },
           "zerolinecolor": "white",
           "zerolinewidth": 2
          },
          "yaxis": {
           "automargin": true,
           "gridcolor": "white",
           "linecolor": "white",
           "ticks": "",
           "title": {
            "standoff": 15
           },
           "zerolinecolor": "white",
           "zerolinewidth": 2
          }
         }
        },
        "title": {
         "text": "Energía de Ligadura vs Masa Atómica y Número Atómico (Z)"
        },
        "width": 1200
       }
      }
     },
     "metadata": {},
     "output_type": "display_data"
    }
   ],
   "source": [
    "# Filtrar los datos para los 100 primeros elementos\n",
    "df_subset = df[df['z'].isin(range(1, 101))]\n",
    "\n",
    "# Crear un diccionario para mapear Z a símbolos de elementos\n",
    "z_to_symbol = {\n",
    "    1: 'H', 2: 'He', 3: 'Li', 4: 'Be', 5: 'B', 6: 'C', 7: 'N', 8: 'O', 9: 'F', 10: 'Ne',\n",
    "    11: 'Na', 12: 'Mg', 13: 'Al', 14: 'Si', 15: 'P', 16: 'S', 17: 'Cl', 18: 'Ar', 19: 'K', 20: 'Ca',\n",
    "    21: 'Sc', 22: 'Ti', 23: 'V', 24: 'Cr', 25: 'Mn', 26: 'Fe', 27: 'Co', 28: 'Ni', 29: 'Cu', 30: 'Zn',\n",
    "    31: 'Ga', 32: 'Ge', 33: 'As', 34: 'Se', 35: 'Br', 36: 'Kr', 37: 'Rb', 38: 'Sr', 39: 'Y', 40: 'Zr',\n",
    "    41: 'Nb', 42: 'Mo', 43: 'Tc', 44: 'Ru', 45: 'Rh', 46: 'Pd', 47: 'Ag', 48: 'Cd', 49: 'In', 50: 'Sn',\n",
    "    51: 'Sb', 52: 'Te', 53: 'I', 54: 'Xe', 55: 'Cs', 56: 'Ba', 57: 'La', 58: 'Ce', 59: 'Pr', 60: 'Nd',\n",
    "    61: 'Pm', 62: 'Sm', 63: 'Eu', 64: 'Gd', 65: 'Tb', 66: 'Dy', 67: 'Ho', 68: 'Er', 69: 'Tm', 70: 'Yb',\n",
    "    71: 'Lu', 72: 'Hf', 73: 'Ta', 74: 'W', 75: 'Re', 76: 'Os', 77: 'Ir', 78: 'Pt', 79: 'Au', 80: 'Hg',\n",
    "    81: 'Tl', 82: 'Pb', 83: 'Bi', 84: 'Po', 85: 'At', 86: 'Rn', 87: 'Fr', 88: 'Ra', 89: 'Ac', 90: 'Th',\n",
    "    91: 'Pa', 92: 'U', 93: 'Np', 94: 'Pu', 95: 'Am', 96: 'Cm', 97: 'Bk', 98: 'Cf', 99: 'Es', 100: 'Fm'\n",
    "}\n",
    "# Obtener los elementos únicos en df_subset\n",
    "elementos = df_subset['z'].unique()\n",
    "\n",
    "# Crear la figura 3D con un tamaño más grande\n",
    "fig = go.Figure()\n",
    "\n",
    "# Crear una lista para almacenar las coordenadas de masa (A) y número atómico (Z) de máxima energía de ligadura\n",
    "max_energy_coordinates = []\n",
    "\n",
    "# Iterar sobre los elementos y agregar las curvas\n",
    "for elemento in elementos:\n",
    "    df_elemento = df_subset[df_subset['z'] == elemento]\n",
    "    # Encontrar el índice del máximo valor de energía de ligadura\n",
    "    idx_max_energy = df_elemento['bindingEnergy(keV)'].idxmax()\n",
    "    # Obtener las coordenadas de masa (A) y Z correspondientes al máximo\n",
    "    max_A = df_elemento.loc[idx_max_energy, 'Masa_atomica']\n",
    "    max_Z = df_elemento.loc[idx_max_energy, 'z']\n",
    "    # Agregar las coordenadas a la lista\n",
    "    max_energy_coordinates.append((max_A, max_Z))\n",
    "\n",
    "    # Agregar puntos y líneas\n",
    "    fig.add_trace(go.Scatter3d(\n",
    "        x=df_elemento['Masa_atomica'],\n",
    "        y=df_elemento['z'],\n",
    "        z=df_elemento['bindingEnergy(keV)'],\n",
    "        mode='lines+markers',\n",
    "        name=f'{z_to_symbol[elemento]}',\n",
    "        marker=dict(\n",
    "            size=6,\n",
    "            color=df_elemento['bindingEnergy(keV)'],\n",
    "            colorscale='Viridis',\n",
    "            opacity=0.8\n",
    "        ),\n",
    "        line=dict(width=2),\n",
    "        text=[f\"A: {a}\" for a in df_elemento['Masa_atomica']],\n",
    "    ))\n",
    "\n",
    "# Convertir la lista en un DataFrame para visualización\n",
    "df_max_energy = pd.DataFrame(max_energy_coordinates, columns=['Masa_atomica', 'z'])\n",
    "\n",
    "# Agregar los puntos correspondientes a las coordenadas de máxima energía\n",
    "fig.add_trace(go.Scatter3d(\n",
    "    x=df_max_energy['Masa_atomica'],\n",
    "    y=df_max_energy['z'],\n",
    "    z=[0 for _ in max_energy_coordinates],  # Establecer eje z a cero para todos los puntos\n",
    "    mode='lines+markers',\n",
    "    name='Máxima Energía de Ligadura',\n",
    "    hovertext=[f'Energía de Ligadura Máxima: {df.loc[(df[\"Masa_atomica\"] == A) & (df[\"z\"] == Z), \"bindingEnergy(keV)\"].values[0]} keV<br>Elemento: {z_to_symbol[Z]}' for A, Z in max_energy_coordinates],  # Agregar texto al pasar el mouse\n",
    "    hoverinfo='text',  # Mostrar solo el texto personalizado\n",
    "    marker=dict(\n",
    "        size=6,\n",
    "        color='red',\n",
    "        symbol='circle',\n",
    "        line=dict(width=2),\n",
    "    ),\n",
    "))\n",
    "\n",
    "# Personalizar el diseño y ajustar el tamaño\n",
    "fig.update_layout(\n",
    "    scene=dict(\n",
    "        xaxis_title='Masa Atómica (A)',\n",
    "        yaxis_title='Número Atómico (Z)',\n",
    "        zaxis_title='$\\epsilon$ (keV)'\n",
    "    ),\n",
    "    title='Energía de Ligadura vs Masa Atómica y Número Atómico (Z)',\n",
    "    legend=dict(title='Elemento Químico'),\n",
    "    width=1200,  # Ancho de la figura\n",
    "    height=900  # Alto de la figura\n",
    ")\n",
    "\n",
    "# Mostrar la gráfica interactiva\n",
    "fig.show() "
   ]
  },
  {
   "cell_type": "code",
   "execution_count": 11,
   "metadata": {},
   "outputs": [
    {
     "data": {
      "image/png": "[encoded data removed]",
      "text/plain": [
       "<Figure size 640x480 with 1 Axes>"
      ]
     },
     "metadata": {},
     "output_type": "display_data"
    },
    {
     "name": "stdout",
     "output_type": "stream",
     "text": [
      "Coeficientes del ajuste: a = 2.390123142980493, b = 3037736612387.218, c = -26.61617408429338\n"
     ]
    }
   ],
   "source": [
    "import numpy as np\n",
    "from scipy.optimize import curve_fit\n",
    "Z_estable = df_max_energy['z'].astype(float).tolist()\n",
    "Masa_estable = df_max_energy['Masa_atomica'].astype(float).tolist()\n",
    "Z_estable = np.array(Z_estable)\n",
    "Masa_estable = np.array(Masa_estable)\n",
    "# Definir la función del modelo\n",
    "def modelo(A, a, b, c):\n",
    "    return A / (a+ b * (A**(c)))\n",
    "\n",
    "# Realizar el ajuste\n",
    "params, covariance = curve_fit(modelo, Masa_estable, Z_estable)\n",
    "\n",
    "# Obtener los parámetros del ajuste\n",
    "a, b, c = params\n",
    "\n",
    "# Obtener el valor de A para tu función\n",
    "A_fit = np.linspace(min(Masa_estable), max(Masa_estable), 1000)\n",
    "\n",
    "# Calcular el valor de Z usando el modelo ajustado\n",
    "Z_fit = modelo(A_fit, a, b,c)\n",
    "\n",
    "# Graficar los datos y el ajuste\n",
    "plt.plot(Masa_estable, Z_estable, '*', label='Datos')\n",
    "plt.plot(A_fit, Z_fit, label='Ajuste', color='red')\n",
    "plt.xlabel('Masa Atómica (A)')\n",
    "plt.ylabel('Número Atómico (Z)')\n",
    "plt.legend()\n",
    "plt.show()\n",
    "\n",
    "# Imprimir los coeficientes del ajuste\n",
    "print(f'Coeficientes del ajuste: a = {a}, b = {b}, c = {c}')\n"
   ]
  }
 ],
 "metadata": {
  "kernelspec": {
   "display_name": "Python 3",
   "language": "python",
   "name": "python3"
  },
  "language_info": {
   "codemirror_mode": {
    "name": "ipython",
    "version": 3
   },
   "file_extension": ".py",
   "mimetype": "text/x-python",
   "name": "python",
   "nbconvert_exporter": "python",
   "pygments_lexer": "ipython3",
   "version": "3.11.0"
  },
  "orig_nbformat": 4
 },
 "nbformat": 4,
 "nbformat_minor": 2
}
